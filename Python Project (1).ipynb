{
 "cells": [
  {
   "cell_type": "markdown",
   "id": "a1489b2d-84d8-4286-b3d9-82ee6832acb4",
   "metadata": {},
   "source": [
    "# Python Project \n",
    "Python is a versatile, high-level programming language known for its readability and ease of use. It is widely used in various fields, including web development, data analysis, artificial intelligence, scientific computing, and more.\n",
    "It was created by Guido van Rossum, and released in 1991.\n"
   ]
  },
  {
   "cell_type": "markdown",
   "id": "7508e680-ce33-4b1e-a9f6-4fafd9bc24e0",
   "metadata": {},
   "source": [
    "## 1.\tPython Operators:Operators perform operations on values and variables\n"
   ]
  },
  {
   "cell_type": "code",
   "execution_count": 1,
   "id": "406697da-5f7c-4f3a-a0df-4cf2a9d6ef72",
   "metadata": {},
   "outputs": [
    {
     "name": "stdin",
     "output_type": "stream",
     "text": [
      "Enter 1st number:  12\n",
      "Enter 2nd number:  25\n"
     ]
    },
    {
     "name": "stdout",
     "output_type": "stream",
     "text": [
      "Sum: 37\n",
      "Product: 300\n",
      "Quotient: 0.48\n",
      "Remainder: 12\n",
      "Subtraction: -13\n",
      "Exponentiation: 953962166440690129601298432\n",
      "Floor Division: 0\n"
     ]
    }
   ],
   "source": [
    "#Arithmetic Operators: Used for mathematical operations.\n",
    "\n",
    "a = int(input(\"Enter 1st number: \"))\n",
    "b = int(input(\"Enter 2nd number: \"))\n",
    "\n",
    "sum_result = a + b\n",
    "product_result = a * b\n",
    "quotient = a / b\n",
    "remainder = a % b\n",
    "Subtraction = a - b\n",
    "Exponentiation = a ** b\n",
    "Floor_division = a // b\n",
    "\n",
    "print(\"Sum:\", sum_result)\n",
    "print(\"Product:\", product_result)\n",
    "print(\"Quotient:\", quotient)\n",
    "print(\"Remainder:\", remainder)\n",
    "print(\"Subtraction:\", Subtraction)\n",
    "print(\"Exponentiation:\", Exponentiation)\n",
    "print(\"Floor Division:\", Floor_division) #he result is rounded down to the nearest integer"
   ]
  },
  {
   "cell_type": "code",
   "execution_count": 2,
   "id": "edf7adcc-19a5-426d-a85b-9b517f87294a",
   "metadata": {},
   "outputs": [
    {
     "name": "stdin",
     "output_type": "stream",
     "text": [
      "Enter 1st number:  23\n",
      "Enter 2nd number:  24\n"
     ]
    },
    {
     "name": "stdout",
     "output_type": "stream",
     "text": [
      "False\n",
      "False\n",
      "True\n",
      "True\n",
      "True\n",
      "False\n"
     ]
    }
   ],
   "source": [
    "#Comparison Operators: Used to compare values.\n",
    "x = int(input(\"Enter 1st number: \"))\n",
    "y = int(input(\"Enter 2nd number: \"))\n",
    "\n",
    "print(x == y)\n",
    "print(x > y)\n",
    "print(x <= y)\n",
    "print(x != y)\n",
    "print(x < y)\n",
    "print(x >= y)"
   ]
  },
  {
   "cell_type": "code",
   "execution_count": 3,
   "id": "b0bd8396-e5a9-4b8a-8b3e-8e5271e9c268",
   "metadata": {},
   "outputs": [
    {
     "name": "stdin",
     "output_type": "stream",
     "text": [
      "Enter 1st number:  13\n",
      "Enter 2nd number:  67\n"
     ]
    },
    {
     "name": "stdout",
     "output_type": "stream",
     "text": [
      "False\n",
      "False\n",
      "True\n"
     ]
    }
   ],
   "source": [
    "#Logical Operators: Combine multiple conditions.\n",
    "x = int(input(\"Enter 1st number: \"))\n",
    "y = int(input(\"Enter 2nd number: \"))\n",
    "\n",
    "print(x > 5 and y < 10)\n",
    "print(x < 5 or y == 5)\n",
    "print(not (x == 10))"
   ]
  },
  {
   "cell_type": "code",
   "execution_count": 4,
   "id": "154eb21f-e350-4d6d-9e85-1a34c9a716e3",
   "metadata": {},
   "outputs": [
    {
     "name": "stdout",
     "output_type": "stream",
     "text": [
      "15\n",
      "40\n",
      "27\n",
      "10.0\n"
     ]
    }
   ],
   "source": [
    "#Assignment Operators: Assign values to variables, optionally performing an operation at the same time.\n",
    "\n",
    "a,x,y,z = 10,20,30,40\n",
    "\n",
    "a += 5\n",
    "print(a)\n",
    "\n",
    "x *= 2\n",
    "print(x)\n",
    "\n",
    "y -= 3\n",
    "print(y)\n",
    "\n",
    "z /= 4\n",
    "print(z)"
   ]
  },
  {
   "cell_type": "code",
   "execution_count": 5,
   "id": "e44be87b-2e95-4988-ab54-ab4c6b3ac5a8",
   "metadata": {},
   "outputs": [
    {
     "name": "stdout",
     "output_type": "stream",
     "text": [
      "4\n",
      "15\n",
      "11\n",
      "-13\n",
      "48\n",
      "3\n"
     ]
    }
   ],
   "source": [
    "#bitwise Operator\n",
    "a = 12   # binary: 1100\n",
    "b = 7    # binary: 0111\n",
    "print(a & b)  #AND (&): Performs a bitwise AND operation. Each bit of the result is 1 if the corresponding bits of both operands are 1, otherwise 0.\n",
    "print(a | b)  #OR (|): Performs a bitwise OR operation. Each bit of the result is 1 if at least one of the corresponding bits of either operand is 1.\n",
    "print(a ^ b)  #XOR (^): Performs a bitwise XOR operation. Each bit of the result is 1 if the corresponding bits of the operands are different, otherwise 0.\n",
    "print(~a)     #Performs a bitwise NOT operation (one's complement).\n",
    "print(a << 2) #Left Shift (<<): Shifts the bits of the operand to the left by the number of positions specified.\n",
    "print(a >> 2) #Right Shift (>>): Shifts the bits of the operand to the right by the number of positions specified."
   ]
  },
  {
   "cell_type": "code",
   "execution_count": 7,
   "id": "6e96e3d0-9234-4e20-bfc1-67094a0e0702",
   "metadata": {},
   "outputs": [
    {
     "name": "stdout",
     "output_type": "stream",
     "text": [
      "31.5\n"
     ]
    }
   ],
   "source": [
    "#Operator Precedence\n",
    "#The order in which operators are evaluated in an expression.\n",
    "# Precedence Table (from highest to lowest):\n",
    "# ** (Exponentiation)\n",
    "# *, /, //, % (Multiplication, division, modulus)\n",
    "# +, - (Addition, subtraction)\n",
    "# ==, !=, >, <, >=, <= (Comparison)\n",
    "# not (Logical NOT)\n",
    "# and (Logical AND)\n",
    "# or (Logical OR)\n",
    "\n",
    "result = (5 + 2) * 3 ** 2 / 2\n",
    "print(result)"
   ]
  },
  {
   "cell_type": "markdown",
   "id": "c52d3ab5-f4d6-4382-b46f-c1f677c84828",
   "metadata": {},
   "source": [
    "## 2. Lists\n",
    "- Definition: Lists are ordered, mutable (can be changed), and allow duplicate elements.\n",
    "- Use Case: Managing a list of items such as shopping cart products, task lists, or employee names."
   ]
  },
  {
   "cell_type": "code",
   "execution_count": 8,
   "id": "5bf25198-5cdb-4848-b941-83c93e87b2ac",
   "metadata": {},
   "outputs": [
    {
     "name": "stdout",
     "output_type": "stream",
     "text": [
      "['John', 'Alice', 'Bob']\n"
     ]
    }
   ],
   "source": [
    "# Creating a list of student names\n",
    "students = [\"John\", \"Alice\", \"Bob\"]\n",
    "print(students)"
   ]
  },
  {
   "cell_type": "code",
   "execution_count": 9,
   "id": "564f9283-77cf-438f-968d-2d1c005fcef5",
   "metadata": {},
   "outputs": [
    {
     "name": "stdout",
     "output_type": "stream",
     "text": [
      "John\n",
      "Bob\n"
     ]
    }
   ],
   "source": [
    "#positive index\n",
    "print(students[0])\n",
    "\n",
    "#Negative indexing\n",
    "print(students[-1])"
   ]
  },
  {
   "cell_type": "code",
   "execution_count": 10,
   "id": "7cd5f008-3907-4eb8-8f9b-489d192c1664",
   "metadata": {},
   "outputs": [
    {
     "name": "stdout",
     "output_type": "stream",
     "text": [
      "['Tom', 'Alice', 'Bob']\n"
     ]
    }
   ],
   "source": [
    "# Changing the first element\n",
    "\n",
    "students[0] = \"Tom\"\n",
    "print(students)"
   ]
  },
  {
   "cell_type": "code",
   "execution_count": 11,
   "id": "8b6628a1-d52b-42be-ac44-59d2ce9ccd86",
   "metadata": {},
   "outputs": [
    {
     "name": "stdout",
     "output_type": "stream",
     "text": [
      "['Tom', 'Mike', 'Alice', 'Bob']\n"
     ]
    }
   ],
   "source": [
    "# Inserting a student at index 1\n",
    "students.insert(1, \"Mike\")\n",
    "print(students)"
   ]
  },
  {
   "cell_type": "code",
   "execution_count": 12,
   "id": "8080a900-ca42-41bc-b0de-6985a233acca",
   "metadata": {},
   "outputs": [
    {
     "name": "stdout",
     "output_type": "stream",
     "text": [
      "['Tom', 'Mike', 'Alice', 'Bob', 'Emma', 'James']\n"
     ]
    }
   ],
   "source": [
    "# Extending the list with another list\n",
    "students.extend([\"Emma\", \"James\"])\n",
    "print(students)"
   ]
  },
  {
   "cell_type": "code",
   "execution_count": 13,
   "id": "1db0d71b-6f65-426c-ab5d-751bd0792412",
   "metadata": {},
   "outputs": [
    {
     "name": "stdout",
     "output_type": "stream",
     "text": [
      "['Tom', 'Alice', 'Bob', 'Emma', 'James']\n",
      "['Tom', 'Alice', 'Bob', 'Emma']\n",
      "['Tom', 'Alice', 'Emma']\n",
      "[]\n"
     ]
    }
   ],
   "source": [
    "# Removing a specific student\n",
    "students.remove(\"Mike\")\n",
    "print(students)\n",
    "\n",
    "# Removing the last element\n",
    "students.pop()\n",
    "print(students)\n",
    "\n",
    "# Removing an element by index\n",
    "students.pop(2)\n",
    "print(students)\n",
    "\n",
    "# Clearing the entire list\n",
    "students.clear()\n",
    "print(students)"
   ]
  },
  {
   "cell_type": "code",
   "execution_count": 14,
   "id": "b0ece85f-21c6-4a5b-bab9-cbd1678f481a",
   "metadata": {},
   "outputs": [
    {
     "name": "stdout",
     "output_type": "stream",
     "text": [
      "[20, 30, 40]\n",
      "[10, 20, 30]\n",
      "[30, 40, 50, 60, 70]\n",
      "[10, 30, 50, 70]\n",
      "[70, 60, 50, 40, 30, 20, 10]\n"
     ]
    }
   ],
   "source": [
    "#Slicing Lists\n",
    "numbers = [10, 20, 30, 40, 50, 60, 70]\n",
    "\n",
    "# Slicing from index 1 to 4\n",
    "print(numbers[1:4])\n",
    "\n",
    "# Slicing from the start to index 3\n",
    "print(numbers[:3])\n",
    "\n",
    "# Slicing from index 2 to the end\n",
    "print(numbers[2:])\n",
    "\n",
    "# Slicing with a step (every second element)\n",
    "print(numbers[::2])\n",
    "\n",
    "# Slicing with a negative step (reversing the list)\n",
    "print(numbers[::-1])"
   ]
  },
  {
   "cell_type": "code",
   "execution_count": 16,
   "id": "2dc086be-06a6-4696-a470-7a83ad0e59ce",
   "metadata": {},
   "outputs": [
    {
     "name": "stdout",
     "output_type": "stream",
     "text": [
      "['Complete assignment', 'Attend meeting', 'Pay bills', 'Go grocery shopping']\n",
      "['Complete assignment', 'Pay bills', 'Go grocery shopping']\n"
     ]
    }
   ],
   "source": [
    "#to do list \n",
    "# List of tasks\n",
    "tasks = [\"Complete assignment\", \"Attend meeting\", \"Pay bills\"]\n",
    "\n",
    "# Adding a new task\n",
    "tasks.append(\"Go grocery shopping\")\n",
    "print(tasks)\n",
    "\n",
    "# Marking a task as done (removing from the list)\n",
    "tasks.remove(\"Attend meeting\")\n",
    "print(tasks)"
   ]
  },
  {
   "cell_type": "code",
   "execution_count": 20,
   "id": "c2fff464-462c-44f6-958d-2695537d97eb",
   "metadata": {},
   "outputs": [
    {
     "name": "stdout",
     "output_type": "stream",
     "text": [
      "[1, 2, 5, 5, 6, 9]\n",
      "[9, 6, 5, 5, 2, 1]\n",
      "['a', 'b', 'c', 'd', 'e', 'f', 'g', 'h']\n"
     ]
    }
   ],
   "source": [
    "#sort() method (which sorts in place) or the sorted() function (which returns a new sorted list).\n",
    "numbers = [5, 2, 9, 1, 5, 6]\n",
    "\n",
    "# Sort in ascending order\n",
    "numbers.sort()\n",
    "print(numbers)\n",
    "\n",
    "# Sort in descending order\n",
    "numbers.sort(reverse=True)\n",
    "print(numbers)\n",
    "\n",
    "#sorted() Function\n",
    "a = (\"b\", \"g\", \"a\", \"d\", \"f\", \"c\", \"h\", \"e\")\n",
    "x = sorted(a)\n",
    "print(x)"
   ]
  },
  {
   "cell_type": "code",
   "execution_count": 21,
   "id": "63d50839-63f2-4c0a-aeae-029a00b06249",
   "metadata": {},
   "outputs": [
    {
     "name": "stdout",
     "output_type": "stream",
     "text": [
      "['apple', 'banana', 'milk', 'bread']\n",
      "True\n",
      "['apple', 'banana', 'bread', 'milk']\n",
      "['milk', 'bread', 'banana', 'apple']\n",
      "1\n"
     ]
    }
   ],
   "source": [
    "# Shopping cart with products\n",
    "shopping_cart = [\"apple\", \"banana\", \"milk\", \"bread\"]\n",
    "print(shopping_cart)\n",
    "\n",
    "# Check if an item is in the list\n",
    "print(\"milk\" in shopping_cart)\n",
    "\n",
    "# Sorting the list alphabetically\n",
    "shopping_cart.sort()\n",
    "print(shopping_cart)\n",
    "\n",
    "# Reversing the list\n",
    "shopping_cart.reverse()\n",
    "print(shopping_cart)\n",
    "\n",
    "# Counting occurrences of an element\n",
    "print(shopping_cart.count(\"milk\"))"
   ]
  },
  {
   "cell_type": "markdown",
   "id": "2a1fe897-176f-47cb-9e8c-d97dcce33020",
   "metadata": {},
   "source": [
    "## 3. Tuples\n",
    "- Definition: Tuples are ordered, immutable (cannot be changed after creation), and allow duplicate elements.\n",
    "- Use Case: Storing fixed data like coordinates, days of the week, or configuration settings."
   ]
  },
  {
   "cell_type": "code",
   "execution_count": 22,
   "id": "52f307cd-8468-421b-96f1-b98a0fc2bb3e",
   "metadata": {},
   "outputs": [
    {
     "name": "stdout",
     "output_type": "stream",
     "text": [
      "('John', 22, 'Computer Science')\n"
     ]
    }
   ],
   "source": [
    "# Creating a tuple\n",
    "student_info = (\"John\", 22, \"Computer Science\")\n",
    "print(student_info)"
   ]
  },
  {
   "cell_type": "code",
   "execution_count": 24,
   "id": "22254265-019c-4609-b79a-a8e50b247e0c",
   "metadata": {},
   "outputs": [
    {
     "name": "stdout",
     "output_type": "stream",
     "text": [
      "John\n",
      "22\n",
      "Computer Science\n"
     ]
    }
   ],
   "source": [
    "#Positive indexing\n",
    "\n",
    "print(student_info[0])\n",
    "print(student_info[1])\n",
    "\n",
    "#Negative indexing\n",
    "print(student_info[-1])"
   ]
  },
  {
   "cell_type": "code",
   "execution_count": 25,
   "id": "862bc530-b571-477c-bd98-e80577dce93a",
   "metadata": {},
   "outputs": [
    {
     "name": "stdout",
     "output_type": "stream",
     "text": [
      "('apple', 'banana', 'apple', 'cherry')\n"
     ]
    }
   ],
   "source": [
    "# Tuple with duplicates\n",
    "fruits = (\"apple\", \"banana\", \"apple\", \"cherry\")\n",
    "print(fruits)"
   ]
  },
  {
   "cell_type": "code",
   "execution_count": 26,
   "id": "1a5e06eb-9df9-4b19-b5e7-0c9e83b12903",
   "metadata": {},
   "outputs": [
    {
     "name": "stdout",
     "output_type": "stream",
     "text": [
      "Name: Bob, Age: 25, Enrolled: True, GPA: 3.9\n"
     ]
    }
   ],
   "source": [
    "# A tuple with multiple data types\n",
    "student_data = (\"Bob\", 25, True, 3.9)\n",
    "\n",
    "# Unpacking\n",
    "name, age, is_enrolled, GPA = student_data\n",
    "print(f\"Name: {name}, Age: {age}, Enrolled: {is_enrolled}, GPA: {GPA}\")"
   ]
  },
  {
   "cell_type": "code",
   "execution_count": 27,
   "id": "16d97f4e-88db-4ba8-abb1-dfa66dfe53cb",
   "metadata": {},
   "outputs": [
    {
     "name": "stdout",
     "output_type": "stream",
     "text": [
      "Monday\n",
      "Saturday\n",
      "Saturday\n"
     ]
    }
   ],
   "source": [
    "#Storing Days of the Week\n",
    "days_of_week = (\"Monday\", \"Tuesday\", \"Wednesday\", \"Thursday\", \"Friday\", \"Saturday\", \"Sunday\")\n",
    "# Accessing a specific day\n",
    "print(days_of_week[0])\n",
    "print(days_of_week[5])\n",
    "print(days_of_week[-2])"
   ]
  },
  {
   "cell_type": "code",
   "execution_count": 28,
   "id": "d82869d9-6d23-4687-8df1-b54440e054de",
   "metadata": {},
   "outputs": [
    {
     "name": "stdout",
     "output_type": "stream",
     "text": [
      "('Math', '9 AM')\n",
      "11 AM\n"
     ]
    }
   ],
   "source": [
    "# A tuple of tuples\n",
    "class_schedule = ((\"Math\", \"9 AM\"), (\"Physics\", \"11 AM\"), (\"Chemistry\", \"1 PM\"))\n",
    "\n",
    "# Accessing nested tuples\n",
    "print(class_schedule[0])\n",
    "print(class_schedule[1][1])"
   ]
  },
  {
   "cell_type": "code",
   "execution_count": 29,
   "id": "3819999f-fc9f-495c-8554-73a12d321903",
   "metadata": {},
   "outputs": [
    {
     "name": "stdout",
     "output_type": "stream",
     "text": [
      "('apple', 'kiwi', 'cherry')\n"
     ]
    }
   ],
   "source": [
    "#Update tuple\n",
    "x = (\"apple\", \"banana\", \"cherry\")\n",
    "y = list(x)  #Tuples are unchangeable so convert the tuple into a list, change the list, and convert the list back into a tuple.\n",
    "y[1] = \"kiwi\"\n",
    "x = tuple(y)\n",
    "\n",
    "print(x)"
   ]
  },
  {
   "cell_type": "code",
   "execution_count": 30,
   "id": "55f89577-7d3f-46ca-a350-6276d20a86a5",
   "metadata": {},
   "outputs": [
    {
     "name": "stdout",
     "output_type": "stream",
     "text": [
      "3\n",
      "2\n"
     ]
    }
   ],
   "source": [
    "#Tuple Methods\n",
    "numbers = (1, 2, 3, 4, 1, 2, 1)\n",
    "print(numbers.count(1))\n",
    "print(numbers.index(3))"
   ]
  },
  {
   "cell_type": "code",
   "execution_count": 31,
   "id": "70367ee1-72ee-4af8-8b22-fb83859e5de0",
   "metadata": {},
   "outputs": [
    {
     "name": "stdout",
     "output_type": "stream",
     "text": [
      "('a', 'b', 'c', 1, 2, 3)\n"
     ]
    }
   ],
   "source": [
    "#Join Two Tuples\n",
    "tuple1 = (\"a\", \"b\" , \"c\")\n",
    "tuple2 = (1, 2, 3)\n",
    "\n",
    "tuple3 = tuple1 + tuple2 #To join two or more tuples you can use the + operator:\n",
    "print(tuple3)\n"
   ]
  },
  {
   "cell_type": "code",
   "execution_count": 32,
   "id": "bc6bea89-6d1f-427c-b6b8-f39db656e75a",
   "metadata": {},
   "outputs": [
    {
     "name": "stdout",
     "output_type": "stream",
     "text": [
      "('apple', 'banana', 'cherry', 'apple', 'banana', 'cherry', 'apple', 'banana', 'cherry', 'apple', 'banana', 'cherry')\n"
     ]
    }
   ],
   "source": [
    "#Multiply Tuples\n",
    "fruits = (\"apple\", \"banana\", \"cherry\")\n",
    "mytuple = fruits * 4 # multiply the content of a tuple a given number of times, you can use the * operator\n",
    "\n",
    "print(mytuple)"
   ]
  },
  {
   "cell_type": "code",
   "execution_count": 33,
   "id": "95d3269d-626d-4aa5-a2ec-af2f420479b7",
   "metadata": {},
   "outputs": [
    {
     "name": "stdout",
     "output_type": "stream",
     "text": [
      "apple\n",
      "banana\n",
      "cherry\n"
     ]
    }
   ],
   "source": [
    "#Unpacking a Tuple\n",
    "# in Python, we are also allowed to extract the values back into variables. This is called \"unpacking\":\n",
    "fruits = (\"apple\", \"banana\", \"cherry\")\n",
    "\n",
    "(green, yellow, red) = fruits\n",
    "\n",
    "print(green)\n",
    "print(yellow)\n",
    "print(red)"
   ]
  },
  {
   "cell_type": "code",
   "execution_count": 34,
   "id": "7e707f79-fe2d-46c0-b8c3-e15b29de59d3",
   "metadata": {},
   "outputs": [
    {
     "name": "stdout",
     "output_type": "stream",
     "text": [
      "apple\n",
      "banana\n",
      "['cherry', 'strawberry', 'raspberry']\n"
     ]
    }
   ],
   "source": [
    "#Using Asterisk*\n",
    "fruits = (\"apple\", \"banana\", \"cherry\", \"strawberry\", \"raspberry\")\n",
    "\n",
    "#variables is less than the number of values, you can add an * to the variable name and the values will be assigned to the variable as a list\n",
    "(green, yellow, *red) = fruits\n",
    "\n",
    "print(green)\n",
    "print(yellow)\n",
    "print(red)"
   ]
  },
  {
   "cell_type": "code",
   "execution_count": 35,
   "id": "16fa1116-0283-4169-97d5-82646ae67774",
   "metadata": {},
   "outputs": [
    {
     "name": "stdout",
     "output_type": "stream",
     "text": [
      "apple\n",
      "['mango', 'papaya', 'pineapple']\n",
      "cherry\n"
     ]
    }
   ],
   "source": [
    "fruits = (\"apple\", \"mango\", \"papaya\", \"pineapple\", \"cherry\")\n",
    "\n",
    "(green, *tropic, red) = fruits\n",
    "\n",
    "print(green)\n",
    "print(tropic)\n",
    "print(red)"
   ]
  },
  {
   "cell_type": "markdown",
   "id": "b87d585d-77d4-45d7-9fd2-8f9247575282",
   "metadata": {},
   "source": [
    "## 4.Sets\n",
    "- Definition: Sets are unordered, mutable (but elements themselves must be immutable), and do not allow duplicates. bold text\n",
    "- Use Case: Managing a collection of unique items like email addresses, tags, or product categories."
   ]
  },
  {
   "cell_type": "code",
   "execution_count": 36,
   "id": "7c391ef4-2773-4f73-8f16-7bacea1bc659",
   "metadata": {},
   "outputs": [
    {
     "name": "stdout",
     "output_type": "stream",
     "text": [
      "{'apple', 'banana', 'cherry'}\n"
     ]
    }
   ],
   "source": [
    "thisset = {\"apple\", \"banana\", \"cherry\"}\n",
    "print(thisset)"
   ]
  },
  {
   "cell_type": "code",
   "execution_count": 37,
   "id": "9dde3922-3d70-4f67-b321-6fcf6b3622e6",
   "metadata": {},
   "outputs": [
    {
     "name": "stdout",
     "output_type": "stream",
     "text": [
      "{'apple', 'banana', 'cherry'}\n"
     ]
    }
   ],
   "source": [
    "#Duplicates Not Allowed\n",
    "thisset = {\"apple\", \"banana\", \"cherry\", \"apple\"}\n",
    "\n",
    "print(thisset)"
   ]
  },
  {
   "cell_type": "code",
   "execution_count": 38,
   "id": "c05edd32-0387-4273-b0db-48dff25de390",
   "metadata": {},
   "outputs": [
    {
     "name": "stdout",
     "output_type": "stream",
     "text": [
      "3\n"
     ]
    }
   ],
   "source": [
    "#Length of a Set\n",
    "print(len(thisset))"
   ]
  },
  {
   "cell_type": "code",
   "execution_count": 39,
   "id": "fbeaed23-d658-4f20-89bf-bca7860b1112",
   "metadata": {},
   "outputs": [
    {
     "name": "stdout",
     "output_type": "stream",
     "text": [
      "True\n"
     ]
    }
   ],
   "source": [
    "#Access Set Items\n",
    "thisset = {\"apple\", \"banana\", \"cherry\"}\n",
    "\n",
    "print(\"banana\" in thisset)"
   ]
  },
  {
   "cell_type": "code",
   "execution_count": 40,
   "id": "c6813378-bfe5-4903-a131-a272f512b7da",
   "metadata": {},
   "outputs": [
    {
     "name": "stdout",
     "output_type": "stream",
     "text": [
      "apple\n",
      "banana\n",
      "cherry\n"
     ]
    }
   ],
   "source": [
    "#Loop Items\n",
    "thisset = {\"apple\", \"banana\", \"cherry\"}\n",
    "\n",
    "for x in thisset:\n",
    "  print(x)\n"
   ]
  },
  {
   "cell_type": "code",
   "execution_count": 41,
   "id": "96de70e2-5cbb-49a2-884a-fc71f9110487",
   "metadata": {},
   "outputs": [
    {
     "name": "stdout",
     "output_type": "stream",
     "text": [
      "{'apple', 'banana', 'cherry', 'orange'}\n"
     ]
    }
   ],
   "source": [
    "#Add Set Items\n",
    "thisset = {\"apple\", \"banana\", \"cherry\"}\n",
    "\n",
    "thisset.add(\"orange\")\n",
    "\n",
    "print(thisset)"
   ]
  },
  {
   "cell_type": "code",
   "execution_count": 42,
   "id": "758f15f0-4f00-452f-860f-7dcc70ffb501",
   "metadata": {},
   "outputs": [
    {
     "name": "stdout",
     "output_type": "stream",
     "text": [
      "{'pineapple', 'banana', 'mango', 'papaya', 'apple', 'cherry'}\n"
     ]
    }
   ],
   "source": [
    "#To add items from another set into the current set\n",
    "thisset = {\"apple\", \"banana\", \"cherry\"}\n",
    "tropical = {\"pineapple\", \"mango\", \"papaya\"}\n",
    "\n",
    "thisset.update(tropical)\n",
    "\n",
    "print(thisset)"
   ]
  },
  {
   "cell_type": "code",
   "execution_count": 43,
   "id": "6c33617b-c24b-4226-8ea6-4d842b12e90e",
   "metadata": {},
   "outputs": [
    {
     "name": "stdout",
     "output_type": "stream",
     "text": [
      "{'banana', 'apple', 'cherry', 'kiwi', 'orange'}\n"
     ]
    }
   ],
   "source": [
    "#Add Any Iterable object (tuples, lists, dictionaries etc.).\n",
    "thisset = {\"apple\", \"banana\", \"cherry\"}\n",
    "mylist = [\"kiwi\", \"orange\"]\n",
    "\n",
    "thisset.update(mylist)\n",
    "\n",
    "print(thisset)"
   ]
  },
  {
   "cell_type": "code",
   "execution_count": 44,
   "id": "715d9cde-460a-4a8d-afc5-b2e54dcbbfeb",
   "metadata": {},
   "outputs": [
    {
     "name": "stdout",
     "output_type": "stream",
     "text": [
      "{'apple', 'cherry'}\n"
     ]
    }
   ],
   "source": [
    "thisset = {\"apple\", \"banana\", \"cherry\"}\n",
    "\n",
    "thisset.remove(\"banana\")\n",
    "\n",
    "print(thisset)"
   ]
  },
  {
   "cell_type": "code",
   "execution_count": 45,
   "id": "0bfa1804-4022-45d9-a7cf-7ec7abca0183",
   "metadata": {},
   "outputs": [
    {
     "name": "stdout",
     "output_type": "stream",
     "text": [
      "{1, 2, 3, 'c', 'a', 'b'}\n"
     ]
    }
   ],
   "source": [
    "#Join Sets\n",
    "set1 = {\"a\", \"b\", \"c\"}\n",
    "set2 = {1, 2, 3}\n",
    "\n",
    "set3 = set1.union(set2)\n",
    "print(set3)"
   ]
  },
  {
   "cell_type": "code",
   "execution_count": 46,
   "id": "4901e391-56b6-47dd-830a-0ef61563dee9",
   "metadata": {},
   "outputs": [
    {
     "name": "stdout",
     "output_type": "stream",
     "text": [
      "{1, 2, 3, 'c', 'a', 'b'}\n"
     ]
    }
   ],
   "source": [
    "set1 = {\"a\", \"b\", \"c\"}\n",
    "set2 = {1, 2, 3}\n",
    "\n",
    "set3 = set1 | set2\n",
    "print(set3)"
   ]
  },
  {
   "cell_type": "code",
   "execution_count": 47,
   "id": "8536c9db-4cf5-487f-967d-b773a738e510",
   "metadata": {},
   "outputs": [
    {
     "name": "stdout",
     "output_type": "stream",
     "text": [
      "{'Elena', 1, 2, 3, 'apple', 'cherry', 'b', 'bananas', 'John', 'c', 'a'}\n"
     ]
    }
   ],
   "source": [
    "set1 = {\"a\", \"b\", \"c\"}\n",
    "set2 = {1, 2, 3}\n",
    "set3 = {\"John\", \"Elena\"}\n",
    "set4 = {\"apple\", \"bananas\", \"cherry\"}\n",
    "\n",
    "myset = set1.union(set2, set3, set4)\n",
    "print(myset)"
   ]
  },
  {
   "cell_type": "code",
   "execution_count": 48,
   "id": "0be34013-2636-4cf0-907c-08b4ce2b4dd5",
   "metadata": {},
   "outputs": [
    {
     "name": "stdout",
     "output_type": "stream",
     "text": [
      "{'Elena', 1, 2, 3, 'apple', 'cherry', 'b', 'bananas', 'John', 'c', 'a'}\n"
     ]
    }
   ],
   "source": [
    "set1 = {\"a\", \"b\", \"c\"}\n",
    "set2 = {1, 2, 3}\n",
    "set3 = {\"John\", \"Elena\"}\n",
    "set4 = {\"apple\", \"bananas\", \"cherry\"}\n",
    "\n",
    "myset = set1 | set2 | set3 |set4\n",
    "print(myset)"
   ]
  },
  {
   "cell_type": "code",
   "execution_count": 49,
   "id": "210fca63-4930-49c7-bec3-f22a478cfaa0",
   "metadata": {},
   "outputs": [
    {
     "name": "stdout",
     "output_type": "stream",
     "text": [
      "{'Cloud', 'Data Science', 'Data Engineering', 'Python', 'SQL'}\n",
      "{'SQL'}\n",
      "{'Python', 'Data Engineering'}\n"
     ]
    }
   ],
   "source": [
    "team_a_skills = {\"Python\", \"SQL\", \"Data Engineering\"}\n",
    "team_b_skills = {\"SQL\", \"Cloud\", \"Data Science\"}\n",
    "\n",
    "# Union of both sets\n",
    "all_skills = team_a_skills | team_b_skills\n",
    "print(all_skills)\n",
    "\n",
    "#Returns a set, that is the intersection of two other sets\n",
    "common_skills = team_a_skills & team_b_skills\n",
    "print(common_skills)\n",
    "\n",
    "#Returns a set containing the difference between two or more sets\n",
    "a_not_in_b = team_a_skills - team_b_skills\n",
    "print(a_not_in_b)"
   ]
  },
  {
   "cell_type": "code",
   "execution_count": 50,
   "id": "ca6d10cb-1fb5-491b-824e-3cf0fc7ef4cc",
   "metadata": {},
   "outputs": [
    {
     "name": "stdout",
     "output_type": "stream",
     "text": [
      "{'jane@example.com', 'mark@example.com', 'susan@example.com'}\n",
      "{'jane@example.com'}\n",
      "2\n"
     ]
    }
   ],
   "source": [
    "# Unique email addresses\n",
    "email_addresses = {\"john@example.com\", \"jane@example.com\", \"john@example.com\"}\n",
    "\n",
    "# Adding an element to the set\n",
    "email_addresses.add(\"mark@example.com\")\n",
    "\n",
    "# Removing an element from the set\n",
    "email_addresses.remove(\"john@example.com\")\n",
    "\n",
    "# Set operations (union, intersection)\n",
    "another_set = {\"susan@example.com\", \"jane@example.com\"}\n",
    "\n",
    "# Union: Combine two sets\n",
    "all_emails = email_addresses.union(another_set)\n",
    "print(all_emails)\n",
    "\n",
    "# Intersection: Find common elements\n",
    "common_emails = email_addresses.intersection(another_set)\n",
    "print(common_emails)\n",
    "\n",
    "# Checking the length of the set\n",
    "print(len(email_addresses))"
   ]
  },
  {
   "cell_type": "code",
   "execution_count": 51,
   "id": "37259419-3512-4de7-bf00-1fd67659d7de",
   "metadata": {},
   "outputs": [
    {
     "name": "stdout",
     "output_type": "stream",
     "text": [
      "{'smartphone', 'laptop', 'desktop'}\n"
     ]
    }
   ],
   "source": [
    "#warehouse\n",
    "# Current stock in warehouse\n",
    "stock = {\"laptop\", \"tablet\", \"smartphone\"}\n",
    "\n",
    "# New shipment arrives\n",
    "stock.add(\"desktop\")\n",
    "\n",
    "# Item sold\n",
    "stock.discard(\"tablet\")\n",
    "\n",
    "print(stock)"
   ]
  },
  {
   "cell_type": "markdown",
   "id": "5d1bcec1-b1b9-450e-93bb-3cb3401ce404",
   "metadata": {},
   "source": [
    "## 5.Dictionaries\n",
    "- Definition: Dictionaries are unordered collections of key-value pairs, where each key must be unique.\n",
    "- Use Case: Storing related data like user profiles, product details, or settings."
   ]
  },
  {
   "cell_type": "code",
   "execution_count": 52,
   "id": "57ec7a7b-c1ba-45d8-9660-f1256a552224",
   "metadata": {},
   "outputs": [
    {
     "name": "stdout",
     "output_type": "stream",
     "text": [
      "{'name': 'John', 'age': 22, 'major': 'Computer Science'}\n",
      "John\n",
      "22\n"
     ]
    }
   ],
   "source": [
    "# Creating a simple dictionary\n",
    "student = {\n",
    "    \"name\": \"John\",\n",
    "    \"age\": 22,\n",
    "    \"major\": \"Computer Science\"\n",
    "}\n",
    "print(student)\n",
    "print(student[\"name\"])\n",
    "print(student[\"age\"])"
   ]
  },
  {
   "cell_type": "code",
   "execution_count": 53,
   "id": "f32f3cad-4c50-45c3-a5a6-d51a456a7928",
   "metadata": {},
   "outputs": [
    {
     "name": "stdout",
     "output_type": "stream",
     "text": [
      "{'name': 'John', 'age': 22, 'major': 'Computer Science', 'GPA': 3.8}\n",
      "{'name': 'John', 'age': 22, 'major': 'Computer Science'}\n",
      "22\n",
      "{'name': 'John', 'major': 'Computer Science'}\n"
     ]
    }
   ],
   "source": [
    "# Adding a new key-value pair for GPA\n",
    "student[\"GPA\"] = 3.8\n",
    "print(student)\n",
    "\n",
    "# Removing an element using del\n",
    "del student[\"GPA\"]\n",
    "print(student)\n",
    "\n",
    "# Removing an element using pop\n",
    "age = student.pop(\"age\")\n",
    "print(age)\n",
    "print(student)"
   ]
  },
  {
   "cell_type": "code",
   "execution_count": 54,
   "id": "59839082-3d5d-4bf1-8485-a46da40ad435",
   "metadata": {},
   "outputs": [
    {
     "name": "stdout",
     "output_type": "stream",
     "text": [
      "name\n",
      "major\n",
      "John\n",
      "Computer Science\n",
      "name: John\n",
      "major: Computer Science\n"
     ]
    }
   ],
   "source": [
    "# Iterating through keys\n",
    "for key in student:\n",
    "    print(key)\n",
    "\n",
    "# Iterating through values\n",
    "for value in student.values():\n",
    "    print(value)\n",
    "\n",
    "# Iterating through key-value pairs\n",
    "for key, value in student.items():\n",
    "    print(f\"{key}: {value}\")"
   ]
  },
  {
   "cell_type": "code",
   "execution_count": 55,
   "id": "c3f8fc13-8698-459b-b00c-b58b09a68016",
   "metadata": {},
   "outputs": [
    {
     "name": "stdout",
     "output_type": "stream",
     "text": [
      "{'python': 2, 'is': 2, 'great': 1, 'and': 1, 'popular': 1}\n"
     ]
    }
   ],
   "source": [
    "#Counting Word Frequency\n",
    "sentence = \"python is great and python is popular\"\n",
    "words = sentence.split()\n",
    "\n",
    "word_count = {}\n",
    "\n",
    "for word in words:\n",
    "    if word in word_count:\n",
    "        word_count[word] += 1\n",
    "    else:\n",
    "        word_count[word] = 1\n",
    "\n",
    "print(word_count)"
   ]
  },
  {
   "cell_type": "code",
   "execution_count": 56,
   "id": "7931c6ea-6001-4401-b2dc-603e9d4f8b40",
   "metadata": {},
   "outputs": [
    {
     "name": "stdout",
     "output_type": "stream",
     "text": [
      "john@example.com\n"
     ]
    }
   ],
   "source": [
    "#User Profile Management:\n",
    "\n",
    "user_profile = {\n",
    "    \"username\": \"johndoe\",\n",
    "    \"email\": \"john@example.com\",\n",
    "    \"age\": 30,\n",
    "    \"is_active\": True\n",
    "}\n",
    "\n",
    "# Access user information\n",
    "print(user_profile[\"email\"])"
   ]
  },
  {
   "cell_type": "code",
   "execution_count": 58,
   "id": "cebcb557-13d5-4c24-a356-07e6cfbbc80c",
   "metadata": {},
   "outputs": [
    {
     "name": "stdout",
     "output_type": "stream",
     "text": [
      "johndoe_new@example.com\n"
     ]
    }
   ],
   "source": [
    "# Update user email\n",
    "user_profile[\"email\"] = \"johndoe_new@example.com\"\n",
    "print(user_profile[\"email\"])"
   ]
  },
  {
   "cell_type": "code",
   "execution_count": 59,
   "id": "9b2f31e6-8413-41fa-9077-e369184e7979",
   "metadata": {},
   "outputs": [
    {
     "name": "stdout",
     "output_type": "stream",
     "text": [
      "{'brand': 'Ford', 'model': 'Mustang', 'year': 1964}\n"
     ]
    }
   ],
   "source": [
    "#Copy a Dictionary\n",
    "thisdict = {\n",
    "  \"brand\": \"Ford\",\n",
    "  \"model\": \"Mustang\",\n",
    "  \"year\": 1964\n",
    "}\n",
    "mydict = thisdict.copy()\n",
    "print(mydict)"
   ]
  },
  {
   "cell_type": "code",
   "execution_count": 60,
   "id": "af5a9456-c09e-44e5-b4e1-33c828afabeb",
   "metadata": {},
   "outputs": [
    {
     "name": "stdout",
     "output_type": "stream",
     "text": [
      "{'brand': 'Ford', 'model': 'Mustang', 'year': 1964}\n"
     ]
    }
   ],
   "source": [
    "#Make a copy of a dictionary with the dict() function:\n",
    "thisdict = {\n",
    "  \"brand\": \"Ford\",\n",
    "  \"model\": \"Mustang\",\n",
    "  \"year\": 1964\n",
    "}\n",
    "mydict = dict(thisdict)\n",
    "print(mydict)"
   ]
  },
  {
   "cell_type": "code",
   "execution_count": 61,
   "id": "0c33968f-830e-41a8-9eec-5497d8b92d60",
   "metadata": {},
   "outputs": [
    {
     "name": "stdout",
     "output_type": "stream",
     "text": [
      "Tobias\n"
     ]
    }
   ],
   "source": [
    "#Nested Dictionaries\n",
    "myfamily = {\n",
    "  \"child1\" : {\n",
    "    \"name\" : \"Emil\",\n",
    "    \"year\" : 2004\n",
    "  },\n",
    "  \"child2\" : {\n",
    "    \"name\" : \"Tobias\",\n",
    "    \"year\" : 2007\n",
    "  },\n",
    "  \"child3\" : {\n",
    "    \"name\" : \"Linus\",\n",
    "    \"year\" : 2011\n",
    "  }\n",
    "}\n",
    "\n",
    "print(myfamily[\"child2\"][\"name\"])\n"
   ]
  },
  {
   "cell_type": "markdown",
   "id": "b3dc257f-3077-494b-a47d-69b5a5b6c28f",
   "metadata": {},
   "source": [
    "# 6.If ... Else"
   ]
  },
  {
   "cell_type": "code",
   "execution_count": 66,
   "id": "73430bd2-3c1f-4aa5-912e-3e4172fd5028",
   "metadata": {},
   "outputs": [
    {
     "name": "stdout",
     "output_type": "stream",
     "text": [
      "a and b are equal\n"
     ]
    }
   ],
   "source": [
    "a = 33\n",
    "b = 33\n",
    "if b > a:\n",
    "  print(\"b is greater than a\")\n",
    "elif a == b:   #if the previous conditions were not true, then try this condition\n",
    "  print(\"a and b are equal\")"
   ]
  },
  {
   "cell_type": "code",
   "execution_count": 69,
   "id": "50de61e9-5043-4477-9a81-f21277f702cf",
   "metadata": {},
   "outputs": [
    {
     "name": "stdin",
     "output_type": "stream",
     "text": [
      "Enter temperature:  20\n"
     ]
    },
    {
     "name": "stdout",
     "output_type": "stream",
     "text": [
      "It's a bit cold.\n"
     ]
    }
   ],
   "source": [
    "#Conditional Logic in Python: if, else, and elif\n",
    "\n",
    "temperature = int(input(\"Enter temperature: \"))\n",
    "\n",
    "if temperature > 35:\n",
    "    print(\"It's very hot outside!\")\n",
    "elif temperature > 25:\n",
    "    print(\"It's a pleasant day.\")\n",
    "else:\n",
    "    print(\"It's a bit cold.\")"
   ]
  },
  {
   "cell_type": "code",
   "execution_count": 63,
   "id": "d4cff58b-a14c-4ac1-9e41-92515914bd4d",
   "metadata": {},
   "outputs": [
    {
     "name": "stdin",
     "output_type": "stream",
     "text": [
      "Enter your age:  65\n"
     ]
    },
    {
     "name": "stdout",
     "output_type": "stream",
     "text": [
      "You are allowed to drive.\n"
     ]
    }
   ],
   "source": [
    "#Complex Conditional Expressions:\n",
    "\n",
    "age = input(\"Enter your age: \")\n",
    "age = int(age)\n",
    "has_license = True\n",
    "\n",
    "if age >= 18 and has_license:\n",
    "    print(\"You are allowed to drive.\")\n",
    "else:\n",
    "    print(\"You are not allowed to drive.\")"
   ]
  },
  {
   "cell_type": "code",
   "execution_count": 64,
   "id": "12d6782f-e778-436f-9eb4-23287d1b5fea",
   "metadata": {},
   "outputs": [
    {
     "name": "stdin",
     "output_type": "stream",
     "text": [
      "Enter your age:  65\n"
     ]
    },
    {
     "name": "stdout",
     "output_type": "stream",
     "text": [
      "You passed the exam.\n"
     ]
    }
   ],
   "source": [
    "#Nested if Statements:\n",
    "score = int(input(\"Enter your age: \"))\n",
    "\n",
    "if score >= 50:\n",
    "    print(\"You passed the exam.\")\n",
    "    if score >= 80:\n",
    "        print(\"You passed with distinction!\")\n",
    "else:\n",
    "    print(\"You failed the exam.\")"
   ]
  },
  {
   "cell_type": "code",
   "execution_count": 65,
   "id": "f7565997-9565-4cbf-aa8f-0185a02ec269",
   "metadata": {},
   "outputs": [
    {
     "name": "stdin",
     "output_type": "stream",
     "text": [
      "Enter your age:  34\n",
      "Enter your income:  200000\n",
      "Enter your credit score:  700\n"
     ]
    },
    {
     "name": "stdout",
     "output_type": "stream",
     "text": [
      "You are eligible for a loan.\n"
     ]
    }
   ],
   "source": [
    "#loan eligibility check\n",
    "\n",
    "age = int(input(\"Enter your age: \"))\n",
    "income = int(input(\"Enter your income: \"))\n",
    "credit_score = int(input(\"Enter your credit score: \"))\n",
    "\n",
    "if age >= 21:\n",
    "    if income >= 50000:\n",
    "        if credit_score >= 650:\n",
    "            print(\"You are eligible for a loan.\")\n",
    "        else:\n",
    "            print(\"Your credit score is too low for loan approval.\")\n",
    "    else:\n",
    "        print(\"Your income is insufficient for loan approval.\")\n",
    "else:\n",
    "    print(\"You are not old enough to apply for a loan.\")"
   ]
  },
  {
   "cell_type": "markdown",
   "id": "d58edcee-e137-468d-bc01-d930fc6df457",
   "metadata": {},
   "source": [
    "# 7. While Loop: A while loop repeats a block of code as long as a given condition is true. It checks the condition before each iteration."
   ]
  },
  {
   "cell_type": "code",
   "execution_count": 70,
   "id": "861fca90-1a7f-49fa-b06b-861c01550fe0",
   "metadata": {},
   "outputs": [
    {
     "name": "stdout",
     "output_type": "stream",
     "text": [
      "Current Balance: 10000\n",
      "Current Balance: 9000\n",
      "Current Balance: 8000\n",
      "Current Balance: 7000\n",
      "Current Balance: 6000\n",
      "Current Balance: 5000\n",
      "Current Balance: 4000\n",
      "Current Balance: 3000\n",
      "Current Balance: 2000\n",
      "Current Balance: 1000\n",
      "Your account is at the minimum balance limit.\n"
     ]
    }
   ],
   "source": [
    "#Checking Balance Until Minimum Limit\n",
    "# Check the bank balance. If you want to keep withdrawing money until you hit the minimum balance limit.\n",
    "\n",
    "balance = 10000\n",
    "min_balance = 1000\n",
    "while balance >= min_balance:\n",
    "    print(f\"Current Balance: {balance}\")\n",
    "    withdraw = 1000  # Let's assume a fixed withdrawal\n",
    "    balance -= withdraw  # Reducing balance\n",
    "\n",
    "print(\"Your account is at the minimum balance limit.\")"
   ]
  },
  {
   "cell_type": "code",
   "execution_count": 71,
   "id": "b6cb22a9-f6cc-4bf4-88da-9905452537f8",
   "metadata": {},
   "outputs": [
    {
     "name": "stdin",
     "output_type": "stream",
     "text": [
      "Enter your password:  ········\n"
     ]
    },
    {
     "name": "stdout",
     "output_type": "stream",
     "text": [
      "Incorrect password! You have 2 attempts left.\n"
     ]
    },
    {
     "name": "stdin",
     "output_type": "stream",
     "text": [
      "Enter your password:  ········\n"
     ]
    },
    {
     "name": "stdout",
     "output_type": "stream",
     "text": [
      "Incorrect password! You have 1 attempts left.\n"
     ]
    },
    {
     "name": "stdin",
     "output_type": "stream",
     "text": [
      "Enter your password:  ········\n"
     ]
    },
    {
     "name": "stdout",
     "output_type": "stream",
     "text": [
      "Login Successful!\n"
     ]
    }
   ],
   "source": [
    "#Allow a user 3 attempts to log in before locking their account.\n",
    "#The getpass module provides a secure way to handle the password prompts where programs interact with the users via the terminal.Basically getpass.getpass() is used to hide the password input.\n",
    "\n",
    "import getpass\n",
    "\n",
    "correct_password = \"correct_password123\"\n",
    "attempts = 3\n",
    "\n",
    "while attempts > 0:\n",
    "    password = getpass.getpass(\"Enter your password: \")\n",
    "\n",
    "    if password == correct_password:\n",
    "        print(\"Login Successful!\")\n",
    "        break\n",
    "    else:\n",
    "        attempts -= 1\n",
    "        print(f\"Incorrect password! You have {attempts} attempts left.\")\n",
    "\n",
    "if attempts == 0:\n",
    "    print(\"Your account is locked.\")"
   ]
  },
  {
   "cell_type": "code",
   "execution_count": 72,
   "id": "65eff16b-b462-4b7a-8889-519c7a423a1e",
   "metadata": {},
   "outputs": [
    {
     "name": "stdout",
     "output_type": "stream",
     "text": [
      "Passenger 10 boarding...\n",
      "Passenger 20 boarding...\n",
      "Passenger 30 boarding...\n",
      "Passenger 40 boarding...\n",
      "Passenger 50 boarding...\n",
      "Passenger 60 boarding...\n",
      "Passenger 70 boarding...\n",
      "Passenger 80 boarding...\n",
      "Passenger 90 boarding...\n",
      "Passenger 100 boarding...\n",
      "Passenger 110 boarding...\n",
      "Passenger 120 boarding...\n",
      "Passenger 130 boarding...\n",
      "Passenger 140 boarding...\n",
      "Passenger 150 boarding...\n",
      "Passenger 160 boarding...\n",
      "Passenger 170 boarding...\n",
      "Passenger 180 boarding...\n",
      "Boarding complete. Aircraft is at full capacity.\n"
     ]
    }
   ],
   "source": [
    "# there might be a scenario where passengers board until the aircraft reaches full capacity.\n",
    "\n",
    "aircraft_capacity = 180  # Total number of seats\n",
    "current_passengers = 0  # Starting with no passengers onboard\n",
    "\n",
    "while current_passengers < aircraft_capacity:\n",
    "    print(f\"Passenger {current_passengers + 10} boarding...\")\n",
    "    current_passengers += 10  # Increment passenger count\n",
    "\n",
    "print(\"Boarding complete. Aircraft is at full capacity.\")\n"
   ]
  },
  {
   "cell_type": "code",
   "execution_count": 73,
   "id": "484b2c9b-db57-46e1-9e75-13f43d3838bd",
   "metadata": {},
   "outputs": [
    {
     "name": "stdout",
     "output_type": "stream",
     "text": [
      "Fuel level is 10000 liters.\n",
      "Fuel level is 9500 liters.\n",
      "Fuel level is 9000 liters.\n",
      "Fuel level is 8500 liters.\n",
      "Fuel level is 8000 liters.\n",
      "Fuel level is 7500 liters.\n",
      "Fuel level is 7000 liters.\n",
      "Fuel level is 6500 liters.\n",
      "Fuel level is 6000 liters.\n",
      "Fuel level is 5500 liters.\n",
      "Fuel level is 5000 liters.\n",
      "Fuel level is 4500 liters.\n",
      "Fuel level is 4000 liters.\n",
      "Fuel level is 3500 liters.\n",
      "Fuel level is 3000 liters.\n",
      "Fuel level is 2500 liters.\n",
      "Fuel level is 2000 liters.\n",
      "Warning! Fuel level has dropped below the critical level.\n"
     ]
    }
   ],
   "source": [
    "#The fuel level is monitored during a flight, and the system needs to keep checking until the fuel level drops below a safety threshold.\n",
    "fuel_level = 10000  # Initial fuel in liters\n",
    "critical_fuel_level = 1500  # Critical fuel level in liters\n",
    "\n",
    "while fuel_level > critical_fuel_level:\n",
    "    print(f\"Fuel level is {fuel_level} liters.\")\n",
    "    # Simulate fuel consumption\n",
    "    fuel_consumed = 500  # Fuel consumption per iteration\n",
    "    fuel_level -= fuel_consumed  # Decrease fuel level\n",
    "\n",
    "print(\"Warning! Fuel level has dropped below the critical level.\")"
   ]
  },
  {
   "cell_type": "markdown",
   "id": "95199f2a-b368-4faa-ac67-472630fa4811",
   "metadata": {},
   "source": [
    "## While Loop with continue and break\n",
    "- continue: Skips to the next iteration by rechecking the condition without executing the rest of the loop body.\n",
    "- break: Exits the loop and stops further execution, regardless of the condition."
   ]
  },
  {
   "cell_type": "code",
   "execution_count": 74,
   "id": "5beb96d8-440a-4260-b025-be29e6017aae",
   "metadata": {},
   "outputs": [
    {
     "name": "stdout",
     "output_type": "stream",
     "text": [
      "Passenger 1 successfully boarded.\n",
      "Passenger 2 successfully boarded.\n",
      "Passenger 3 successfully boarded.\n",
      "Passenger 4 successfully boarded.\n",
      "Passenger 5 failed security check. Skipping...\n",
      "Passenger 6 successfully boarded.\n",
      "Passenger 7 successfully boarded.\n",
      "Security Alert! Passenger 8 poses a risk. Boarding halted.\n"
     ]
    }
   ],
   "source": [
    "#Scenario: Passenger Boarding Process with Security Check\n",
    "#During the boarding process, passengers are checked before entering the aircraft. If a passenger fails a security check, they are not allowed to board (loop skips them using continue). If a major issue occurs (e.g., a security alert), the entire boarding process is stopped (break).\n",
    "\n",
    "total_passengers = 10\n",
    "current_passenger = 1\n",
    "\n",
    "while current_passenger <= total_passengers:\n",
    "    # Simulating security check\n",
    "    if current_passenger == 5:  # Passenger 5 has failed the security check\n",
    "        print(f\"Passenger {current_passenger} failed security check. Skipping...\")\n",
    "        current_passenger += 1\n",
    "        continue  # Skip this passenger and continue to the next\n",
    "\n",
    "    if current_passenger == 8:  # A major security alert for passenger 8\n",
    "        print(f\"Security Alert! Passenger {current_passenger} poses a risk. Boarding halted.\")\n",
    "        break  # Stop the boarding process immediately\n",
    "\n",
    "    print(f\"Passenger {current_passenger} successfully boarded.\")\n",
    "    current_passenger += 1"
   ]
  },
  {
   "cell_type": "markdown",
   "id": "00026c9e-baac-4f05-9939-1b1fc59ce636",
   "metadata": {},
   "source": [
    "# 8.For Loop: A for loop is used to iterate over a sequence (such as a list, tuple, or string) and executes the block of code for each item in that sequence."
   ]
  },
  {
   "cell_type": "code",
   "execution_count": 75,
   "id": "b871b38b-7484-4700-b07d-cc17c38aa542",
   "metadata": {},
   "outputs": [
    {
     "name": "stdout",
     "output_type": "stream",
     "text": [
      "Boarding passenger: John\n",
      "Boarding passenger: Sarah\n",
      "Boarding passenger: Michael\n",
      "Boarding passenger: Alice\n",
      "Boarding passenger: David\n"
     ]
    }
   ],
   "source": [
    "passengers = [\"John\", \"Sarah\", \"Michael\", \"Alice\", \"David\"]\n",
    "\n",
    "for passenger in passengers:\n",
    "    print(f\"Boarding passenger: {passenger}\")"
   ]
  },
  {
   "cell_type": "code",
   "execution_count": 76,
   "id": "4c73edae-9dff-4943-a292-51063cf37c14",
   "metadata": {},
   "outputs": [
    {
     "name": "stdout",
     "output_type": "stream",
     "text": [
      "Processing Order 1\n",
      "Processing Order 2\n",
      "Processing Order 3\n"
     ]
    }
   ],
   "source": [
    "#Example 1: Warehouse Management Scenario - Processing Orders in a List\n",
    "#Suppose a list of customer orders in a warehouse, and you need to process each order one by one.\n",
    "\n",
    "orders = [\"Order 1\", \"Order 2\", \"Order 3\"]\n",
    "\n",
    "for order in orders:\n",
    "    print(f\"Processing {order}\")"
   ]
  },
  {
   "cell_type": "code",
   "execution_count": 77,
   "id": "488bec83-f2e7-49e6-8a07-97db9118f08b",
   "metadata": {},
   "outputs": [
    {
     "name": "stdout",
     "output_type": "stream",
     "text": [
      "Alert! High temperature recorded: 102°F\n",
      "Alert! High temperature recorded: 110°F\n"
     ]
    }
   ],
   "source": [
    "#Analyzing Sensor Data\n",
    "#You have temperature data collected every hour and want to alert if any temperature exceeds 100°F.\n",
    "temperatures = [90, 102, 97, 85, 110, 95]\n",
    "\n",
    "for temp in temperatures:\n",
    "    if temp > 100:\n",
    "        print(f\"Alert! High temperature recorded: {temp}°F\")"
   ]
  },
  {
   "cell_type": "code",
   "execution_count": 78,
   "id": "4d17b28c-92e8-49d1-8ece-7b1707bf4d8a",
   "metadata": {},
   "outputs": [
    {
     "name": "stdout",
     "output_type": "stream",
     "text": [
      "Completing task: Check engine oil levels\n",
      "Completing task: Inspect landing gear\n",
      "Completing task: Check avionics systems\n",
      "Completing task: Inspect hydraulic systems\n",
      "Completing task: Check fuel systems\n",
      "Completing task: Test emergency lighting\n",
      "All maintenance tasks completed.\n"
     ]
    }
   ],
   "source": [
    "#Iterating through a list of maintenance tasks and checking them off as completed.\n",
    "maintenance_checklist = [\n",
    "    \"Check engine oil levels\",\n",
    "    \"Inspect landing gear\",\n",
    "    \"Check avionics systems\",\n",
    "    \"Inspect hydraulic systems\",\n",
    "    \"Check fuel systems\",\n",
    "    \"Test emergency lighting\"\n",
    "]\n",
    "\n",
    "for task in maintenance_checklist:\n",
    "    print(f\"Completing task: {task}\")\n",
    "\n",
    "print(\"All maintenance tasks completed.\")"
   ]
  },
  {
   "cell_type": "code",
   "execution_count": 79,
   "id": "2ba4f3f2-dcae-411b-b1c9-556ec1590dbf",
   "metadata": {},
   "outputs": [
    {
     "name": "stdout",
     "output_type": "stream",
     "text": [
      "Assigning seat 1A to passenger\n",
      "Assigning seat 1B to passenger\n",
      "Assigning seat 1C to passenger\n",
      "Assigning seat 1D to passenger\n",
      "Assigning seat 2A to passenger\n",
      "Assigning seat 2B to passenger\n",
      "Assigning seat 2C to passenger\n",
      "Assigning seat 2D to passenger\n",
      "Assigning seat 3A to passenger\n",
      "Assigning seat 3B to passenger\n",
      "Assigning seat 3C to passenger\n",
      "Assigning seat 3D to passenger\n",
      "Assigning seat 4A to passenger\n",
      "Assigning seat 4B to passenger\n",
      "Assigning seat 4C to passenger\n",
      "Assigning seat 4D to passenger\n",
      "Assigning seat 5A to passenger\n",
      "Assigning seat 5B to passenger\n",
      "Assigning seat 5C to passenger\n",
      "Assigning seat 5D to passenger\n"
     ]
    }
   ],
   "source": [
    "#Managing Aircraft Seating by Rows and Columns\n",
    "#an aircraft with multiple rows of seats, and you want to assign passengers to their seats row by row.\n",
    "#the chr() function returns the character that corresponds to the Unicode code point\n",
    "#The expression chr(64 + seat) is adding the seat number to 64 in order to convert numbers like 1, 2, 3 into letters:\n",
    "\n",
    "# chr(64 + 1) = chr(65) = 'A'\n",
    "# chr(64 + 2) = chr(66) = 'B'\n",
    "# chr(64 + 3) = chr(67) = 'C'\n",
    "\n",
    "rows = 5\n",
    "seats_per_row = 4\n",
    "\n",
    "for row in range(1, rows + 1):\n",
    "    for seat in range(1, seats_per_row + 1):\n",
    "        print(f\"Assigning seat {row}{chr(64 + seat)} to passenger\")"
   ]
  },
  {
   "cell_type": "code",
   "execution_count": 80,
   "id": "7358fc1a-b5fd-49ab-8302-8476f9b651ac",
   "metadata": {},
   "outputs": [
    {
     "name": "stdout",
     "output_type": "stream",
     "text": [
      "Performing task: Check engine oil levels\n",
      "Performing task: Inspect landing gear\n",
      "Performing task: Check avionics systems\n",
      "Performing task: Inspect hydraulic systems\n",
      "Performing task: Check fuel systems\n",
      "Performing task: Test emergency lighting\n",
      "Performing task: Check landing gear\n",
      "Performing task: Check fuel levels\n",
      "Critical issue: Engine failure detected!\n"
     ]
    }
   ],
   "source": [
    "#The break statement is triggered if there’s an engine failure, halting the entire checklist.\n",
    "#The continue statement is triggered for a seatbelt issue, which allows the loop to skip to the next task after noting the minor issue.\n",
    "\n",
    "safety_checklist = [\n",
    "    \"Check engine oil levels\",\n",
    "    \"Inspect landing gear\",\n",
    "    \"Check avionics systems\",\n",
    "    \"Inspect hydraulic systems\",\n",
    "    \"Check fuel systems\",\n",
    "    \"Test emergency lighting\",\n",
    "    \"Check landing gear\",\n",
    "    \"Check fuel levels\",\n",
    "    \"Check engine status\",\n",
    "    \"Inspect seatbelts\",\n",
    "    \"Test emergency exits\"\n",
    "]\n",
    "\n",
    "for task in safety_checklist:\n",
    "    if task == \"Check engine status\":\n",
    "        print(\"Critical issue: Engine failure detected!\")\n",
    "        break  # Stop all checks if there's an engine issue\n",
    "    elif task == \"Inspect seatbelts\":\n",
    "        print(\"Minor issue: Seatbelt not adjusted properly. Fixing it.\")\n",
    "        continue  # Skip to the next task after fixing the seatbelt\n",
    "\n",
    "    print(f\"Performing task: {task}\")"
   ]
  },
  {
   "cell_type": "markdown",
   "id": "12e61c6b-af0d-40dc-aa2b-a671c255c3b2",
   "metadata": {},
   "source": [
    "# 9.Python Function\n",
    "\n",
    "- Functions are a fundamental concept in Python that allow you to encapsulate code into reusable blocks.\n",
    "- to create your own functions using the def keyword."
   ]
  },
  {
   "cell_type": "code",
   "execution_count": 81,
   "id": "6fe548a1-ff8f-4382-b9f2-b11368047277",
   "metadata": {},
   "outputs": [
    {
     "name": "stdout",
     "output_type": "stream",
     "text": [
      "Hello, world!\n",
      "16\n",
      "6\n"
     ]
    }
   ],
   "source": [
    "# Function with no parameters and no return value\n",
    "def greet():\n",
    "    print(\"Hello, world!\")\n",
    "\n",
    "# Function with one parameter and a return value\n",
    "def square(num):\n",
    "    return num ** 2\n",
    "\n",
    "# Function with multiple parameters and return type\n",
    "def sum_numbers(a, b, c):\n",
    "    return a + b + c\n",
    "\n",
    "greet()\n",
    "print(square(4))\n",
    "print(sum_numbers(1, 2, 3))"
   ]
  },
  {
   "cell_type": "code",
   "execution_count": 82,
   "id": "14316b26-77e0-43f7-988a-aed9a94a179d",
   "metadata": {},
   "outputs": [
    {
     "name": "stdout",
     "output_type": "stream",
     "text": [
      "Inside function: 5\n",
      "Outside function: 10\n"
     ]
    }
   ],
   "source": [
    "#local (within the function) or global (accessible everywhere). Local variables are only available within the function they are defined in.\n",
    "\n",
    "x = 10  # Global variable\n",
    "\n",
    "def change_value():\n",
    "    x = 5  # Local variable (does not affect global x)\n",
    "    print(\"Inside function:\", x)\n",
    "change_value()\n",
    "print(\"Outside function:\", x)"
   ]
  },
  {
   "cell_type": "code",
   "execution_count": 83,
   "id": "3548b5d2-b411-4fd1-a019-1ea2e18da0f9",
   "metadata": {},
   "outputs": [
    {
     "name": "stdout",
     "output_type": "stream",
     "text": [
      "Hello, Alice!\n",
      "Hello, Guest!\n"
     ]
    }
   ],
   "source": [
    "#Functions with Default Argument Values\n",
    "#If no argument is passed for a parameter, the default value is used.\n",
    "def greet(name=\"Guest\"):\n",
    "    print(f\"Hello, {name}!\")\n",
    "\n",
    "greet(\"Alice\")\n",
    "greet()"
   ]
  },
  {
   "cell_type": "code",
   "execution_count": 84,
   "id": "844d9de1-5268-41c9-b474-a7223be6ff19",
   "metadata": {},
   "outputs": [
    {
     "name": "stdout",
     "output_type": "stream",
     "text": [
      "120\n"
     ]
    }
   ],
   "source": [
    "#Recursive functions call themselves within their body. \n",
    "#They are useful for tasks like traversing hierarchical data structures or solving problems like factorials or Fibonacci numbers.\n",
    "def factorial(n):\n",
    "    if n == 1:\n",
    "        return 1\n",
    "    else:\n",
    "        return n * factorial(n - 1)\n",
    "\n",
    "print(factorial(5))"
   ]
  },
  {
   "cell_type": "code",
   "execution_count": 85,
   "id": "cd7eae36-1007-43b5-aded-2e91581715fd",
   "metadata": {},
   "outputs": [
    {
     "name": "stdout",
     "output_type": "stream",
     "text": [
      "Using __doc__:\n",
      "Demonstrates triple double quotes\n",
      "    docstrings and does nothing really.\n",
      "Using help:\n",
      "Help on function my_function in module __main__:\n",
      "\n",
      "my_function()\n",
      "    Demonstrates triple double quotes\n",
      "    docstrings and does nothing really.\n",
      "\n"
     ]
    }
   ],
   "source": [
    "#Using Docstrings to Document Functions\n",
    "def my_function():\n",
    "    '''Demonstrates triple double quotes\n",
    "    docstrings and does nothing really.'''\n",
    "\n",
    "    return None\n",
    "\n",
    "print(\"Using __doc__:\")\n",
    "print(my_function.__doc__)\n",
    "\n",
    "print(\"Using help:\")\n",
    "help(my_function)"
   ]
  },
  {
   "cell_type": "code",
   "execution_count": 86,
   "id": "44cafa9f-4a06-474b-b4b2-cc5759262010",
   "metadata": {},
   "outputs": [],
   "source": [
    "#Banking System:\n",
    "#In a banking system, different functions can handle operations like deposits, withdrawals, and balance checks. \n",
    "#Local variables inside these functions do not affect global variables like the total account balance.\n",
    "\n",
    "account_balance = 10000  # Global balance\n",
    "\n",
    "def deposit(amount):\n",
    "    global account_balance\n",
    "    account_balance += amount\n",
    "    print(f\"${amount} deposited. New balance: ${account_balance}\")\n",
    "\n",
    "def withdraw(amount):\n",
    "    global account_balance\n",
    "    if amount > account_balance:\n",
    "        print(\"Insufficient funds.\")\n",
    "    else:\n",
    "        account_balance -= amount\n",
    "        print(f\"${amount} withdrawn. New balance: ${account_balance}\")\n",
    "\n",
    "def check_balance():\n",
    "    print(f\"Current balance: ${account_balance}\")"
   ]
  },
  {
   "cell_type": "code",
   "execution_count": 87,
   "id": "a8e51866-5d22-489d-af04-f0de064ef082",
   "metadata": {},
   "outputs": [
    {
     "name": "stdout",
     "output_type": "stream",
     "text": [
      "$500 deposited. New balance: $10500\n",
      "Current balance: $10500\n",
      "$1500 withdrawn. New balance: $9000\n",
      "Current balance: $9000\n"
     ]
    }
   ],
   "source": [
    "# Banking operations\n",
    "deposit(500)\n",
    "check_balance()\n",
    "withdraw(1500)\n",
    "check_balance()"
   ]
  },
  {
   "cell_type": "code",
   "execution_count": 88,
   "id": "64dac7db-1510-438d-bee9-9ed9eb0af8a4",
   "metadata": {},
   "outputs": [
    {
     "name": "stdout",
     "output_type": "stream",
     "text": [
      "Sending email to alice@example.com\n",
      "Subject: Welcome\n",
      "Body: Hello Alice, welcome to our service!\n"
     ]
    }
   ],
   "source": [
    "#Email Automation\n",
    "def send_email(to=\"customer@example.com\", subject=\"No Subject\", body=\"\"):\n",
    "    print(f\"Sending email to {to}\")\n",
    "    print(f\"Subject: {subject}\")\n",
    "    print(f\"Body: {body}\")\n",
    "\n",
    "# Sending emails\n",
    "send_email(\"alice@example.com\", \"Welcome\", \"Hello Alice, welcome to our service!\")"
   ]
  },
  {
   "cell_type": "markdown",
   "id": "88645d78-f274-4af4-828a-1c786efe6747",
   "metadata": {},
   "source": [
    "# 10.Lambda Functions : Lambda functions are small, anonymous functions defined with the lambda keyword. "
   ]
  },
  {
   "cell_type": "code",
   "execution_count": 89,
   "id": "c5dbd87e-829f-4fc4-970b-30b67bb8b7d6",
   "metadata": {},
   "outputs": [
    {
     "name": "stdout",
     "output_type": "stream",
     "text": [
      "8\n",
      "16\n",
      "15\n"
     ]
    }
   ],
   "source": [
    "#Basic Lambda Function\n",
    "add = lambda a, b: a + b\n",
    "print(add(3, 5))\n",
    "\n",
    "square = lambda x: x ** 2\n",
    "print(square(4))\n",
    "\n",
    "#Lambda with Multiple Arguments\n",
    "maximum = lambda x, y: x if x > y else y\n",
    "print(maximum(10, 15))"
   ]
  },
  {
   "cell_type": "code",
   "execution_count": 97,
   "id": "f226784b-69c2-4c2e-84e3-dc95a8f7a30d",
   "metadata": {},
   "outputs": [
    {
     "name": "stdout",
     "output_type": "stream",
     "text": [
      "[1, 4, 9, 16]\n"
     ]
    }
   ],
   "source": [
    "# Using Lambda Functions with Built-In Functions\n",
    "\n",
    "nums = [1, 2, 3, 4]\n",
    "squared_nums = list(map(lambda x: x ** 2, nums))\n",
    "print(squared_nums)"
   ]
  },
  {
   "cell_type": "code",
   "execution_count": 98,
   "id": "80416a40-5e52-4164-958b-9a56a66861d3",
   "metadata": {},
   "outputs": [
    {
     "name": "stdout",
     "output_type": "stream",
     "text": [
      "[2, 4, 6]\n"
     ]
    }
   ],
   "source": [
    "nums = [1, 2, 3, 4, 5, 6]\n",
    "even_nums = list(filter(lambda x: x % 2 == 0, nums))\n",
    "print(even_nums)"
   ]
  },
  {
   "cell_type": "markdown",
   "id": "2903ed1e-d500-4e9b-a061-434e274c0bd9",
   "metadata": {},
   "source": [
    "### Comparing Lambda Functions with Regular Functions"
   ]
  },
  {
   "cell_type": "code",
   "execution_count": 103,
   "id": "14405736-0dca-41a0-bcd3-cec84de9c660",
   "metadata": {},
   "outputs": [
    {
     "name": "stdout",
     "output_type": "stream",
     "text": [
      "12\n"
     ]
    }
   ],
   "source": [
    "#Single-line, anonymous functions with no return statement.\n",
    "add = lambda x, y: x + y\n",
    "print(add(5, 7))"
   ]
  },
  {
   "cell_type": "code",
   "execution_count": 104,
   "id": "c0079be8-009a-438a-b187-131ed312508f",
   "metadata": {},
   "outputs": [
    {
     "name": "stdout",
     "output_type": "stream",
     "text": [
      "12\n"
     ]
    }
   ],
   "source": [
    "# Defined using the def keyword. They can have multiple lines, explicit return statements, and documentation.\n",
    "def add(x, y):\n",
    "    return x + y\n",
    "\n",
    "print(add(5, 7))"
   ]
  },
  {
   "cell_type": "markdown",
   "id": "5fda1254-f360-429d-98ff-c83a5dd0ee6c",
   "metadata": {},
   "source": [
    "# 11.Python String Methods:String methods are used for various operations on string data."
   ]
  },
  {
   "cell_type": "code",
   "execution_count": 105,
   "id": "efddf328-42ed-4631-aae8-123bb3d9b857",
   "metadata": {},
   "outputs": [
    {
     "name": "stdout",
     "output_type": "stream",
     "text": [
      "John Doe\n"
     ]
    }
   ],
   "source": [
    "#String Concatenation\n",
    "\n",
    "first_name = \"John\"\n",
    "last_name = \"Doe\"\n",
    "full_name = first_name + \" \" + last_name\n",
    "print(full_name)"
   ]
  },
  {
   "cell_type": "code",
   "execution_count": 106,
   "id": "c8035776-3daf-4ddb-93ee-7434e9a7f1a1",
   "metadata": {},
   "outputs": [
    {
     "name": "stdout",
     "output_type": "stream",
     "text": [
      "Hello\n",
      "World!\n",
      "!dlroW ,olleH\n"
     ]
    }
   ],
   "source": [
    "#String Slicing\n",
    "#Slicing allows you to extract a part of a string. It uses the syntax string[start:end:step]\n",
    "\n",
    "string = \"Hello, World!\"\n",
    "print(string[0:5]) #extracts the first 5 characters.\n",
    "print(string[7:])  #extracts from index 7 to the end.\n",
    "print(string[::-1]) #reverses the string."
   ]
  },
  {
   "cell_type": "code",
   "execution_count": 107,
   "id": "6cb356cc-3dac-4020-bc8f-10bcb8596c31",
   "metadata": {},
   "outputs": [
    {
     "name": "stdout",
     "output_type": "stream",
     "text": [
      "4\n",
      "True\n",
      "2\n",
      "True\n",
      "True\n",
      "-1\n"
     ]
    }
   ],
   "source": [
    "#Finding Substrings\n",
    "# find(substring): Returns the index of the first occurrence of the substring. Returns -1 if not found.\n",
    "# in: Checks if a substring exists and returns a boolean.\n",
    "\n",
    "sentence = \"The quick brown fox\"\n",
    "print(sentence.find(\"quick\"))\n",
    "\n",
    "print(\"fox\" in sentence)\n",
    "print(sentence.count(\"o\"))\n",
    "print(sentence.startswith(\"The\"))\n",
    "print(sentence.endswith(\"fox\"))\n",
    "print(sentence.find(\"dog\")) #returns -1 if the substring is not found."
   ]
  },
  {
   "cell_type": "code",
   "execution_count": 108,
   "id": "d7c8f863-ac50-4c60-964f-e84f58689b11",
   "metadata": {},
   "outputs": [
    {
     "name": "stdout",
     "output_type": "stream",
     "text": [
      "HELLO! HOW ARE YOU?\n",
      "hello! how are you?\n",
      "Hello! How Are You?\n",
      "Hello! how are you?\n"
     ]
    }
   ],
   "source": [
    "#Changing String Case\n",
    "\n",
    "text = \"Hello! How are you?\"\n",
    "print(text.upper()) #Converts all characters to uppercase.\n",
    "print(text.lower()) #Converts all characters to lowercase.\n",
    "print(text.title()) #Converts the first letter of each word to uppercase (title case).\n",
    "print(text.capitalize()) # Converts only the first letter of the string to uppercase."
   ]
  },
  {
   "cell_type": "code",
   "execution_count": 109,
   "id": "98fab004-8ebd-41be-9fbe-8fc5f5b4e980",
   "metadata": {},
   "outputs": [
    {
     "name": "stdout",
     "output_type": "stream",
     "text": [
      "Hello, World!\n",
      "Hello, World!  \n",
      "  Hello, World!\n"
     ]
    }
   ],
   "source": [
    "#Removing Whitespace\n",
    "\n",
    "text = \"  Hello, World!  \"\n",
    "\n",
    "print(text.strip()) #Removes leading and trailing whitespace.\n",
    "print(text.lstrip()) #Removes leading whitespace.\n",
    "print(text.rstrip()) #Removes trailing whitespace."
   ]
  },
  {
   "cell_type": "code",
   "execution_count": 112,
   "id": "da8dd377-a126-4d01-b23d-f08555b3f8dd",
   "metadata": {},
   "outputs": [
    {
     "name": "stdout",
     "output_type": "stream",
     "text": [
      "['The', 'quick', 'brown', 'fox', 'jumps', 'over', 'the', 'lazy', 'dog']\n",
      "['name:John', 'age:30', 'city:New York']\n"
     ]
    }
   ],
   "source": [
    "#Splitting and Joining Strings\n",
    "\n",
    "#split(separator): Splits a string into a list based on a specified separator.\n",
    "sentence = \"The quick brown fox jumps over the lazy dog\"\n",
    "words = sentence.split()  # Default is splitting by space\n",
    "print(words)\n",
    "\n",
    "data = \"name:John,age:30,city:New York\"\n",
    "entries = data.split(\",\")  # Split by comma\n",
    "print(entries)"
   ]
  },
  {
   "cell_type": "code",
   "execution_count": 111,
   "id": "c0f470e6-f702-48fd-b6c4-e0ad288ef71d",
   "metadata": {},
   "outputs": [
    {
     "name": "stdout",
     "output_type": "stream",
     "text": [
      "The quick brown fox jumps over the lazy dog\n"
     ]
    }
   ],
   "source": [
    "#join(iterable): Joins elements of an iterable (like a list) into a string, using a specified separator.\n",
    "joined_sentence = \" \".join(words)\n",
    "print(joined_sentence)"
   ]
  },
  {
   "cell_type": "code",
   "execution_count": 113,
   "id": "2915e89a-fa03-494e-9100-747e8bd5b8eb",
   "metadata": {},
   "outputs": [
    {
     "name": "stdout",
     "output_type": "stream",
     "text": [
      "The dog sat on the mat.\n"
     ]
    }
   ],
   "source": [
    "#Replacing Substrings\n",
    "sentence = \"The cat sat on the mat.\"\n",
    "new_sentence = sentence.replace(\"cat\", \"dog\")\n",
    "print(new_sentence)"
   ]
  },
  {
   "cell_type": "code",
   "execution_count": 114,
   "id": "4f3ce3ff-80ad-49fa-bdb7-b41740a1d0fc",
   "metadata": {},
   "outputs": [
    {
     "name": "stdout",
     "output_type": "stream",
     "text": [
      "6\n",
      "3\n"
     ]
    }
   ],
   "source": [
    "#String Length and Character Count\n",
    "\n",
    "message = \"banana\"\n",
    "print(len(message)) #Returns the number of characters in a string.\n",
    "print(message.count('a')) # Counts how many times a substring appears in a string."
   ]
  },
  {
   "cell_type": "code",
   "execution_count": 115,
   "id": "f1b2d26d-ff90-4795-94f6-38a019fff713",
   "metadata": {},
   "outputs": [
    {
     "name": "stdout",
     "output_type": "stream",
     "text": [
      "True\n",
      "True\n",
      "False\n",
      "False\n"
     ]
    }
   ],
   "source": [
    "#Checking String Properties\n",
    "\n",
    "text = \"Python3\"\n",
    "print(text.startswith(\"Py\")) #Checks if the string starts with a specified substring.\n",
    "print(text.endswith(\"3\")) #Checks if the string ends with a specified substring.\n",
    "print(text.isalpha()) #Checks if all characters are alphabetic.\n",
    "print(text.isdigit()) #Checks if all characters are numeric."
   ]
  },
  {
   "cell_type": "code",
   "execution_count": 116,
   "id": "30b94368-19da-4916-a71d-29a88971918e",
   "metadata": {},
   "outputs": [
    {
     "name": "stdin",
     "output_type": "stream",
     "text": [
      "Enter your email id: abcd@gmail.com\n"
     ]
    },
    {
     "name": "stdout",
     "output_type": "stream",
     "text": [
      "Username: Abcd, Domain: gmail.com\n"
     ]
    }
   ],
   "source": [
    "# User input\n",
    "raw_input = input(\"Enter your email id:\")\n",
    "\n",
    "# Strip whitespace and convert to lowercase\n",
    "cleaned_input = raw_input.strip().lower()\n",
    "\n",
    "# Extract the username and domain\n",
    "username, domain = cleaned_input.split(\"@\")\n",
    "\n",
    "# Convert the username to title case\n",
    "username = username.title()\n",
    "\n",
    "print(f\"Username: {username}, Domain: {domain}\")"
   ]
  },
  {
   "cell_type": "markdown",
   "id": "4cdfc781-6434-45b5-9cff-cedc4787e5b5",
   "metadata": {},
   "source": [
    "# 12.Reading CSV files"
   ]
  },
  {
   "cell_type": "code",
   "execution_count": 117,
   "id": "491c5d11-7d4a-42a9-8ce4-aac1e65359bc",
   "metadata": {},
   "outputs": [
    {
     "name": "stdout",
     "output_type": "stream",
     "text": [
      "   PassengerId  Survived  Pclass  \\\n",
      "0            1         0       3   \n",
      "1            2         1       1   \n",
      "2            3         1       3   \n",
      "3            4         1       1   \n",
      "4            5         0       3   \n",
      "\n",
      "                                                Name     Sex   Age  SibSp  \\\n",
      "0                            Braund, Mr. Owen Harris    male  22.0      1   \n",
      "1  Cumings, Mrs. John Bradley (Florence Briggs Th...  female  38.0      1   \n",
      "2                             Heikkinen, Miss. Laina  female  26.0      0   \n",
      "3       Futrelle, Mrs. Jacques Heath (Lily May Peel)  female  35.0      1   \n",
      "4                           Allen, Mr. William Henry    male  35.0      0   \n",
      "\n",
      "   Parch            Ticket     Fare Cabin Embarked  \n",
      "0      0         A/5 21171   7.2500   NaN        S  \n",
      "1      0          PC 17599  71.2833   C85        C  \n",
      "2      0  STON/O2. 3101282   7.9250   NaN        S  \n",
      "3      0            113803  53.1000  C123        S  \n",
      "4      0            373450   8.0500   NaN        S  \n"
     ]
    }
   ],
   "source": [
    "import pandas as pd\n",
    "\n",
    "#Reading CSV Files into Pandas DataFrames\n",
    "df = pd.read_csv('Titanic dataset/train.csv')\n",
    "# Display the first few rows of the DataFrame\n",
    "print(df.head())\n"
   ]
  },
  {
   "cell_type": "code",
   "execution_count": 118,
   "id": "23461733-5410-4e0a-960a-3f805a33d8b0",
   "metadata": {
    "scrolled": true
   },
   "outputs": [
    {
     "name": "stdout",
     "output_type": "stream",
     "text": [
      "['PassengerId', 'Survived', 'Pclass', 'Name', 'Sex', 'Age', 'SibSp', 'Parch', 'Ticket', 'Fare', 'Cabin', 'Embarked']\n",
      "['1', '0', '3', 'Braund, Mr. Owen Harris', 'male', '22', '1', '0', 'A/5 21171', '7.25', '', 'S']\n",
      "['2', '1', '1', 'Cumings, Mrs. John Bradley (Florence Briggs Thayer)', 'female', '38', '1', '0', 'PC 17599', '71.2833', 'C85', 'C']\n",
      "['3', '1', '3', 'Heikkinen, Miss. Laina', 'female', '26', '0', '0', 'STON/O2. 3101282', '7.925', '', 'S']\n",
      "['4', '1', '1', 'Futrelle, Mrs. Jacques Heath (Lily May Peel)', 'female', '35', '1', '0', '113803', '53.1', 'C123', 'S']\n",
      "['5', '0', '3', 'Allen, Mr. William Henry', 'male', '35', '0', '0', '373450', '8.05', '', 'S']\n",
      "['6', '0', '3', 'Moran, Mr. James', 'male', '', '0', '0', '330877', '8.4583', '', 'Q']\n",
      "['7', '0', '1', 'McCarthy, Mr. Timothy J', 'male', '54', '0', '0', '17463', '51.8625', 'E46', 'S']\n",
      "['8', '0', '3', 'Palsson, Master. Gosta Leonard', 'male', '2', '3', '1', '349909', '21.075', '', 'S']\n",
      "['9', '1', '3', 'Johnson, Mrs. Oscar W (Elisabeth Vilhelmina Berg)', 'female', '27', '0', '2', '347742', '11.1333', '', 'S']\n",
      "['10', '1', '2', 'Nasser, Mrs. Nicholas (Adele Achem)', 'female', '14', '1', '0', '237736', '30.0708', '', 'C']\n",
      "['11', '1', '3', 'Sandstrom, Miss. Marguerite Rut', 'female', '4', '1', '1', 'PP 9549', '16.7', 'G6', 'S']\n",
      "['12', '1', '1', 'Bonnell, Miss. Elizabeth', 'female', '58', '0', '0', '113783', '26.55', 'C103', 'S']\n",
      "['13', '0', '3', 'Saundercock, Mr. William Henry', 'male', '20', '0', '0', 'A/5. 2151', '8.05', '', 'S']\n",
      "['14', '0', '3', 'Andersson, Mr. Anders Johan', 'male', '39', '1', '5', '347082', '31.275', '', 'S']\n",
      "['15', '0', '3', 'Vestrom, Miss. Hulda Amanda Adolfina', 'female', '14', '0', '0', '350406', '7.8542', '', 'S']\n",
      "['16', '1', '2', 'Hewlett, Mrs. (Mary D Kingcome) ', 'female', '55', '0', '0', '248706', '16', '', 'S']\n",
      "['17', '0', '3', 'Rice, Master. Eugene', 'male', '2', '4', '1', '382652', '29.125', '', 'Q']\n",
      "['18', '1', '2', 'Williams, Mr. Charles Eugene', 'male', '', '0', '0', '244373', '13', '', 'S']\n",
      "['19', '0', '3', 'Vander Planke, Mrs. Julius (Emelia Maria Vandemoortele)', 'female', '31', '1', '0', '345763', '18', '', 'S']\n",
      "['20', '1', '3', 'Masselmani, Mrs. Fatima', 'female', '', '0', '0', '2649', '7.225', '', 'C']\n",
      "['21', '0', '2', 'Fynney, Mr. Joseph J', 'male', '35', '0', '0', '239865', '26', '', 'S']\n",
      "['22', '1', '2', 'Beesley, Mr. Lawrence', 'male', '34', '0', '0', '248698', '13', 'D56', 'S']\n",
      "['23', '1', '3', 'McGowan, Miss. Anna \"Annie\"', 'female', '15', '0', '0', '330923', '8.0292', '', 'Q']\n",
      "['24', '1', '1', 'Sloper, Mr. William Thompson', 'male', '28', '0', '0', '113788', '35.5', 'A6', 'S']\n",
      "['25', '0', '3', 'Palsson, Miss. Torborg Danira', 'female', '8', '3', '1', '349909', '21.075', '', 'S']\n",
      "['26', '1', '3', 'Asplund, Mrs. Carl Oscar (Selma Augusta Emilia Johansson)', 'female', '38', '1', '5', '347077', '31.3875', '', 'S']\n",
      "['27', '0', '3', 'Emir, Mr. Farred Chehab', 'male', '', '0', '0', '2631', '7.225', '', 'C']\n",
      "['28', '0', '1', 'Fortune, Mr. Charles Alexander', 'male', '19', '3', '2', '19950', '263', 'C23 C25 C27', 'S']\n",
      "['29', '1', '3', 'O\\'Dwyer, Miss. Ellen \"Nellie\"', 'female', '', '0', '0', '330959', '7.8792', '', 'Q']\n",
      "['30', '0', '3', 'Todoroff, Mr. Lalio', 'male', '', '0', '0', '349216', '7.8958', '', 'S']\n",
      "['31', '0', '1', 'Uruchurtu, Don. Manuel E', 'male', '40', '0', '0', 'PC 17601', '27.7208', '', 'C']\n",
      "['32', '1', '1', 'Spencer, Mrs. William Augustus (Marie Eugenie)', 'female', '', '1', '0', 'PC 17569', '146.5208', 'B78', 'C']\n",
      "['33', '1', '3', 'Glynn, Miss. Mary Agatha', 'female', '', '0', '0', '335677', '7.75', '', 'Q']\n",
      "['34', '0', '2', 'Wheadon, Mr. Edward H', 'male', '66', '0', '0', 'C.A. 24579', '10.5', '', 'S']\n",
      "['35', '0', '1', 'Meyer, Mr. Edgar Joseph', 'male', '28', '1', '0', 'PC 17604', '82.1708', '', 'C']\n",
      "['36', '0', '1', 'Holverson, Mr. Alexander Oskar', 'male', '42', '1', '0', '113789', '52', '', 'S']\n",
      "['37', '1', '3', 'Mamee, Mr. Hanna', 'male', '', '0', '0', '2677', '7.2292', '', 'C']\n",
      "['38', '0', '3', 'Cann, Mr. Ernest Charles', 'male', '21', '0', '0', 'A./5. 2152', '8.05', '', 'S']\n",
      "['39', '0', '3', 'Vander Planke, Miss. Augusta Maria', 'female', '18', '2', '0', '345764', '18', '', 'S']\n",
      "['40', '1', '3', 'Nicola-Yarred, Miss. Jamila', 'female', '14', '1', '0', '2651', '11.2417', '', 'C']\n",
      "['41', '0', '3', 'Ahlin, Mrs. Johan (Johanna Persdotter Larsson)', 'female', '40', '1', '0', '7546', '9.475', '', 'S']\n",
      "['42', '0', '2', 'Turpin, Mrs. William John Robert (Dorothy Ann Wonnacott)', 'female', '27', '1', '0', '11668', '21', '', 'S']\n",
      "['43', '0', '3', 'Kraeff, Mr. Theodor', 'male', '', '0', '0', '349253', '7.8958', '', 'C']\n",
      "['44', '1', '2', 'Laroche, Miss. Simonne Marie Anne Andree', 'female', '3', '1', '2', 'SC/Paris 2123', '41.5792', '', 'C']\n",
      "['45', '1', '3', 'Devaney, Miss. Margaret Delia', 'female', '19', '0', '0', '330958', '7.8792', '', 'Q']\n",
      "['46', '0', '3', 'Rogers, Mr. William John', 'male', '', '0', '0', 'S.C./A.4. 23567', '8.05', '', 'S']\n",
      "['47', '0', '3', 'Lennon, Mr. Denis', 'male', '', '1', '0', '370371', '15.5', '', 'Q']\n",
      "['48', '1', '3', \"O'Driscoll, Miss. Bridget\", 'female', '', '0', '0', '14311', '7.75', '', 'Q']\n",
      "['49', '0', '3', 'Samaan, Mr. Youssef', 'male', '', '2', '0', '2662', '21.6792', '', 'C']\n",
      "['50', '0', '3', 'Arnold-Franchi, Mrs. Josef (Josefine Franchi)', 'female', '18', '1', '0', '349237', '17.8', '', 'S']\n",
      "['51', '0', '3', 'Panula, Master. Juha Niilo', 'male', '7', '4', '1', '3101295', '39.6875', '', 'S']\n",
      "['52', '0', '3', 'Nosworthy, Mr. Richard Cater', 'male', '21', '0', '0', 'A/4. 39886', '7.8', '', 'S']\n",
      "['53', '1', '1', 'Harper, Mrs. Henry Sleeper (Myna Haxtun)', 'female', '49', '1', '0', 'PC 17572', '76.7292', 'D33', 'C']\n",
      "['54', '1', '2', 'Faunthorpe, Mrs. Lizzie (Elizabeth Anne Wilkinson)', 'female', '29', '1', '0', '2926', '26', '', 'S']\n",
      "['55', '0', '1', 'Ostby, Mr. Engelhart Cornelius', 'male', '65', '0', '1', '113509', '61.9792', 'B30', 'C']\n",
      "['56', '1', '1', 'Woolner, Mr. Hugh', 'male', '', '0', '0', '19947', '35.5', 'C52', 'S']\n",
      "['57', '1', '2', 'Rugg, Miss. Emily', 'female', '21', '0', '0', 'C.A. 31026', '10.5', '', 'S']\n",
      "['58', '0', '3', 'Novel, Mr. Mansouer', 'male', '28.5', '0', '0', '2697', '7.2292', '', 'C']\n",
      "['59', '1', '2', 'West, Miss. Constance Mirium', 'female', '5', '1', '2', 'C.A. 34651', '27.75', '', 'S']\n",
      "['60', '0', '3', 'Goodwin, Master. William Frederick', 'male', '11', '5', '2', 'CA 2144', '46.9', '', 'S']\n",
      "['61', '0', '3', 'Sirayanian, Mr. Orsen', 'male', '22', '0', '0', '2669', '7.2292', '', 'C']\n",
      "['62', '1', '1', 'Icard, Miss. Amelie', 'female', '38', '0', '0', '113572', '80', 'B28', '']\n",
      "['63', '0', '1', 'Harris, Mr. Henry Birkhardt', 'male', '45', '1', '0', '36973', '83.475', 'C83', 'S']\n",
      "['64', '0', '3', 'Skoog, Master. Harald', 'male', '4', '3', '2', '347088', '27.9', '', 'S']\n",
      "['65', '0', '1', 'Stewart, Mr. Albert A', 'male', '', '0', '0', 'PC 17605', '27.7208', '', 'C']\n",
      "['66', '1', '3', 'Moubarek, Master. Gerios', 'male', '', '1', '1', '2661', '15.2458', '', 'C']\n",
      "['67', '1', '2', 'Nye, Mrs. (Elizabeth Ramell)', 'female', '29', '0', '0', 'C.A. 29395', '10.5', 'F33', 'S']\n",
      "['68', '0', '3', 'Crease, Mr. Ernest James', 'male', '19', '0', '0', 'S.P. 3464', '8.1583', '', 'S']\n",
      "['69', '1', '3', 'Andersson, Miss. Erna Alexandra', 'female', '17', '4', '2', '3101281', '7.925', '', 'S']\n",
      "['70', '0', '3', 'Kink, Mr. Vincenz', 'male', '26', '2', '0', '315151', '8.6625', '', 'S']\n",
      "['71', '0', '2', 'Jenkin, Mr. Stephen Curnow', 'male', '32', '0', '0', 'C.A. 33111', '10.5', '', 'S']\n",
      "['72', '0', '3', 'Goodwin, Miss. Lillian Amy', 'female', '16', '5', '2', 'CA 2144', '46.9', '', 'S']\n",
      "['73', '0', '2', 'Hood, Mr. Ambrose Jr', 'male', '21', '0', '0', 'S.O.C. 14879', '73.5', '', 'S']\n",
      "['74', '0', '3', 'Chronopoulos, Mr. Apostolos', 'male', '26', '1', '0', '2680', '14.4542', '', 'C']\n",
      "['75', '1', '3', 'Bing, Mr. Lee', 'male', '32', '0', '0', '1601', '56.4958', '', 'S']\n",
      "['76', '0', '3', 'Moen, Mr. Sigurd Hansen', 'male', '25', '0', '0', '348123', '7.65', 'F G73', 'S']\n",
      "['77', '0', '3', 'Staneff, Mr. Ivan', 'male', '', '0', '0', '349208', '7.8958', '', 'S']\n",
      "['78', '0', '3', 'Moutal, Mr. Rahamin Haim', 'male', '', '0', '0', '374746', '8.05', '', 'S']\n",
      "['79', '1', '2', 'Caldwell, Master. Alden Gates', 'male', '0.83', '0', '2', '248738', '29', '', 'S']\n",
      "['80', '1', '3', 'Dowdell, Miss. Elizabeth', 'female', '30', '0', '0', '364516', '12.475', '', 'S']\n",
      "['81', '0', '3', 'Waelens, Mr. Achille', 'male', '22', '0', '0', '345767', '9', '', 'S']\n",
      "['82', '1', '3', 'Sheerlinck, Mr. Jan Baptist', 'male', '29', '0', '0', '345779', '9.5', '', 'S']\n",
      "['83', '1', '3', 'McDermott, Miss. Brigdet Delia', 'female', '', '0', '0', '330932', '7.7875', '', 'Q']\n",
      "['84', '0', '1', 'Carrau, Mr. Francisco M', 'male', '28', '0', '0', '113059', '47.1', '', 'S']\n",
      "['85', '1', '2', 'Ilett, Miss. Bertha', 'female', '17', '0', '0', 'SO/C 14885', '10.5', '', 'S']\n",
      "['86', '1', '3', 'Backstrom, Mrs. Karl Alfred (Maria Mathilda Gustafsson)', 'female', '33', '3', '0', '3101278', '15.85', '', 'S']\n",
      "['87', '0', '3', 'Ford, Mr. William Neal', 'male', '16', '1', '3', 'W./C. 6608', '34.375', '', 'S']\n",
      "['88', '0', '3', 'Slocovski, Mr. Selman Francis', 'male', '', '0', '0', 'SOTON/OQ 392086', '8.05', '', 'S']\n",
      "['89', '1', '1', 'Fortune, Miss. Mabel Helen', 'female', '23', '3', '2', '19950', '263', 'C23 C25 C27', 'S']\n",
      "['90', '0', '3', 'Celotti, Mr. Francesco', 'male', '24', '0', '0', '343275', '8.05', '', 'S']\n",
      "['91', '0', '3', 'Christmann, Mr. Emil', 'male', '29', '0', '0', '343276', '8.05', '', 'S']\n",
      "['92', '0', '3', 'Andreasson, Mr. Paul Edvin', 'male', '20', '0', '0', '347466', '7.8542', '', 'S']\n",
      "['93', '0', '1', 'Chaffee, Mr. Herbert Fuller', 'male', '46', '1', '0', 'W.E.P. 5734', '61.175', 'E31', 'S']\n",
      "['94', '0', '3', 'Dean, Mr. Bertram Frank', 'male', '26', '1', '2', 'C.A. 2315', '20.575', '', 'S']\n",
      "['95', '0', '3', 'Coxon, Mr. Daniel', 'male', '59', '0', '0', '364500', '7.25', '', 'S']\n",
      "['96', '0', '3', 'Shorney, Mr. Charles Joseph', 'male', '', '0', '0', '374910', '8.05', '', 'S']\n",
      "['97', '0', '1', 'Goldschmidt, Mr. George B', 'male', '71', '0', '0', 'PC 17754', '34.6542', 'A5', 'C']\n",
      "['98', '1', '1', 'Greenfield, Mr. William Bertram', 'male', '23', '0', '1', 'PC 17759', '63.3583', 'D10 D12', 'C']\n",
      "['99', '1', '2', 'Doling, Mrs. John T (Ada Julia Bone)', 'female', '34', '0', '1', '231919', '23', '', 'S']\n",
      "['100', '0', '2', 'Kantor, Mr. Sinai', 'male', '34', '1', '0', '244367', '26', '', 'S']\n",
      "['101', '0', '3', 'Petranec, Miss. Matilda', 'female', '28', '0', '0', '349245', '7.8958', '', 'S']\n",
      "['102', '0', '3', 'Petroff, Mr. Pastcho (\"Pentcho\")', 'male', '', '0', '0', '349215', '7.8958', '', 'S']\n",
      "['103', '0', '1', 'White, Mr. Richard Frasar', 'male', '21', '0', '1', '35281', '77.2875', 'D26', 'S']\n",
      "['104', '0', '3', 'Johansson, Mr. Gustaf Joel', 'male', '33', '0', '0', '7540', '8.6542', '', 'S']\n",
      "['105', '0', '3', 'Gustafsson, Mr. Anders Vilhelm', 'male', '37', '2', '0', '3101276', '7.925', '', 'S']\n",
      "['106', '0', '3', 'Mionoff, Mr. Stoytcho', 'male', '28', '0', '0', '349207', '7.8958', '', 'S']\n",
      "['107', '1', '3', 'Salkjelsvik, Miss. Anna Kristine', 'female', '21', '0', '0', '343120', '7.65', '', 'S']\n",
      "['108', '1', '3', 'Moss, Mr. Albert Johan', 'male', '', '0', '0', '312991', '7.775', '', 'S']\n",
      "['109', '0', '3', 'Rekic, Mr. Tido', 'male', '38', '0', '0', '349249', '7.8958', '', 'S']\n",
      "['110', '1', '3', 'Moran, Miss. Bertha', 'female', '', '1', '0', '371110', '24.15', '', 'Q']\n",
      "['111', '0', '1', 'Porter, Mr. Walter Chamberlain', 'male', '47', '0', '0', '110465', '52', 'C110', 'S']\n",
      "['112', '0', '3', 'Zabour, Miss. Hileni', 'female', '14.5', '1', '0', '2665', '14.4542', '', 'C']\n",
      "['113', '0', '3', 'Barton, Mr. David John', 'male', '22', '0', '0', '324669', '8.05', '', 'S']\n",
      "['114', '0', '3', 'Jussila, Miss. Katriina', 'female', '20', '1', '0', '4136', '9.825', '', 'S']\n",
      "['115', '0', '3', 'Attalah, Miss. Malake', 'female', '17', '0', '0', '2627', '14.4583', '', 'C']\n",
      "['116', '0', '3', 'Pekoniemi, Mr. Edvard', 'male', '21', '0', '0', 'STON/O 2. 3101294', '7.925', '', 'S']\n",
      "['117', '0', '3', 'Connors, Mr. Patrick', 'male', '70.5', '0', '0', '370369', '7.75', '', 'Q']\n",
      "['118', '0', '2', 'Turpin, Mr. William John Robert', 'male', '29', '1', '0', '11668', '21', '', 'S']\n",
      "['119', '0', '1', 'Baxter, Mr. Quigg Edmond', 'male', '24', '0', '1', 'PC 17558', '247.5208', 'B58 B60', 'C']\n",
      "['120', '0', '3', 'Andersson, Miss. Ellis Anna Maria', 'female', '2', '4', '2', '347082', '31.275', '', 'S']\n",
      "['121', '0', '2', 'Hickman, Mr. Stanley George', 'male', '21', '2', '0', 'S.O.C. 14879', '73.5', '', 'S']\n",
      "['122', '0', '3', 'Moore, Mr. Leonard Charles', 'male', '', '0', '0', 'A4. 54510', '8.05', '', 'S']\n",
      "['123', '0', '2', 'Nasser, Mr. Nicholas', 'male', '32.5', '1', '0', '237736', '30.0708', '', 'C']\n",
      "['124', '1', '2', 'Webber, Miss. Susan', 'female', '32.5', '0', '0', '27267', '13', 'E101', 'S']\n",
      "['125', '0', '1', 'White, Mr. Percival Wayland', 'male', '54', '0', '1', '35281', '77.2875', 'D26', 'S']\n",
      "['126', '1', '3', 'Nicola-Yarred, Master. Elias', 'male', '12', '1', '0', '2651', '11.2417', '', 'C']\n",
      "['127', '0', '3', 'McMahon, Mr. Martin', 'male', '', '0', '0', '370372', '7.75', '', 'Q']\n",
      "['128', '1', '3', 'Madsen, Mr. Fridtjof Arne', 'male', '24', '0', '0', 'C 17369', '7.1417', '', 'S']\n",
      "['129', '1', '3', 'Peter, Miss. Anna', 'female', '', '1', '1', '2668', '22.3583', 'F E69', 'C']\n",
      "['130', '0', '3', 'Ekstrom, Mr. Johan', 'male', '45', '0', '0', '347061', '6.975', '', 'S']\n",
      "['131', '0', '3', 'Drazenoic, Mr. Jozef', 'male', '33', '0', '0', '349241', '7.8958', '', 'C']\n",
      "['132', '0', '3', 'Coelho, Mr. Domingos Fernandeo', 'male', '20', '0', '0', 'SOTON/O.Q. 3101307', '7.05', '', 'S']\n",
      "['133', '0', '3', 'Robins, Mrs. Alexander A (Grace Charity Laury)', 'female', '47', '1', '0', 'A/5. 3337', '14.5', '', 'S']\n",
      "['134', '1', '2', 'Weisz, Mrs. Leopold (Mathilde Francoise Pede)', 'female', '29', '1', '0', '228414', '26', '', 'S']\n",
      "['135', '0', '2', 'Sobey, Mr. Samuel James Hayden', 'male', '25', '0', '0', 'C.A. 29178', '13', '', 'S']\n",
      "['136', '0', '2', 'Richard, Mr. Emile', 'male', '23', '0', '0', 'SC/PARIS 2133', '15.0458', '', 'C']\n",
      "['137', '1', '1', 'Newsom, Miss. Helen Monypeny', 'female', '19', '0', '2', '11752', '26.2833', 'D47', 'S']\n",
      "['138', '0', '1', 'Futrelle, Mr. Jacques Heath', 'male', '37', '1', '0', '113803', '53.1', 'C123', 'S']\n",
      "['139', '0', '3', 'Osen, Mr. Olaf Elon', 'male', '16', '0', '0', '7534', '9.2167', '', 'S']\n",
      "['140', '0', '1', 'Giglio, Mr. Victor', 'male', '24', '0', '0', 'PC 17593', '79.2', 'B86', 'C']\n",
      "['141', '0', '3', 'Boulos, Mrs. Joseph (Sultana)', 'female', '', '0', '2', '2678', '15.2458', '', 'C']\n",
      "['142', '1', '3', 'Nysten, Miss. Anna Sofia', 'female', '22', '0', '0', '347081', '7.75', '', 'S']\n",
      "['143', '1', '3', 'Hakkarainen, Mrs. Pekka Pietari (Elin Matilda Dolck)', 'female', '24', '1', '0', 'STON/O2. 3101279', '15.85', '', 'S']\n",
      "['144', '0', '3', 'Burke, Mr. Jeremiah', 'male', '19', '0', '0', '365222', '6.75', '', 'Q']\n",
      "['145', '0', '2', 'Andrew, Mr. Edgardo Samuel', 'male', '18', '0', '0', '231945', '11.5', '', 'S']\n",
      "['146', '0', '2', 'Nicholls, Mr. Joseph Charles', 'male', '19', '1', '1', 'C.A. 33112', '36.75', '', 'S']\n",
      "['147', '1', '3', 'Andersson, Mr. August Edvard (\"Wennerstrom\")', 'male', '27', '0', '0', '350043', '7.7958', '', 'S']\n",
      "['148', '0', '3', 'Ford, Miss. Robina Maggie \"Ruby\"', 'female', '9', '2', '2', 'W./C. 6608', '34.375', '', 'S']\n",
      "['149', '0', '2', 'Navratil, Mr. Michel (\"Louis M Hoffman\")', 'male', '36.5', '0', '2', '230080', '26', 'F2', 'S']\n",
      "['150', '0', '2', 'Byles, Rev. Thomas Roussel Davids', 'male', '42', '0', '0', '244310', '13', '', 'S']\n",
      "['151', '0', '2', 'Bateman, Rev. Robert James', 'male', '51', '0', '0', 'S.O.P. 1166', '12.525', '', 'S']\n",
      "['152', '1', '1', 'Pears, Mrs. Thomas (Edith Wearne)', 'female', '22', '1', '0', '113776', '66.6', 'C2', 'S']\n",
      "['153', '0', '3', 'Meo, Mr. Alfonzo', 'male', '55.5', '0', '0', 'A.5. 11206', '8.05', '', 'S']\n",
      "['154', '0', '3', 'van Billiard, Mr. Austin Blyler', 'male', '40.5', '0', '2', 'A/5. 851', '14.5', '', 'S']\n",
      "['155', '0', '3', 'Olsen, Mr. Ole Martin', 'male', '', '0', '0', 'Fa 265302', '7.3125', '', 'S']\n",
      "['156', '0', '1', 'Williams, Mr. Charles Duane', 'male', '51', '0', '1', 'PC 17597', '61.3792', '', 'C']\n",
      "['157', '1', '3', 'Gilnagh, Miss. Katherine \"Katie\"', 'female', '16', '0', '0', '35851', '7.7333', '', 'Q']\n",
      "['158', '0', '3', 'Corn, Mr. Harry', 'male', '30', '0', '0', 'SOTON/OQ 392090', '8.05', '', 'S']\n",
      "['159', '0', '3', 'Smiljanic, Mr. Mile', 'male', '', '0', '0', '315037', '8.6625', '', 'S']\n",
      "['160', '0', '3', 'Sage, Master. Thomas Henry', 'male', '', '8', '2', 'CA. 2343', '69.55', '', 'S']\n",
      "['161', '0', '3', 'Cribb, Mr. John Hatfield', 'male', '44', '0', '1', '371362', '16.1', '', 'S']\n",
      "['162', '1', '2', 'Watt, Mrs. James (Elizabeth \"Bessie\" Inglis Milne)', 'female', '40', '0', '0', 'C.A. 33595', '15.75', '', 'S']\n",
      "['163', '0', '3', 'Bengtsson, Mr. John Viktor', 'male', '26', '0', '0', '347068', '7.775', '', 'S']\n",
      "['164', '0', '3', 'Calic, Mr. Jovo', 'male', '17', '0', '0', '315093', '8.6625', '', 'S']\n",
      "['165', '0', '3', 'Panula, Master. Eino Viljami', 'male', '1', '4', '1', '3101295', '39.6875', '', 'S']\n",
      "['166', '1', '3', 'Goldsmith, Master. Frank John William \"Frankie\"', 'male', '9', '0', '2', '363291', '20.525', '', 'S']\n",
      "['167', '1', '1', 'Chibnall, Mrs. (Edith Martha Bowerman)', 'female', '', '0', '1', '113505', '55', 'E33', 'S']\n",
      "['168', '0', '3', 'Skoog, Mrs. William (Anna Bernhardina Karlsson)', 'female', '45', '1', '4', '347088', '27.9', '', 'S']\n",
      "['169', '0', '1', 'Baumann, Mr. John D', 'male', '', '0', '0', 'PC 17318', '25.925', '', 'S']\n",
      "['170', '0', '3', 'Ling, Mr. Lee', 'male', '28', '0', '0', '1601', '56.4958', '', 'S']\n",
      "['171', '0', '1', 'Van der hoef, Mr. Wyckoff', 'male', '61', '0', '0', '111240', '33.5', 'B19', 'S']\n",
      "['172', '0', '3', 'Rice, Master. Arthur', 'male', '4', '4', '1', '382652', '29.125', '', 'Q']\n",
      "['173', '1', '3', 'Johnson, Miss. Eleanor Ileen', 'female', '1', '1', '1', '347742', '11.1333', '', 'S']\n",
      "['174', '0', '3', 'Sivola, Mr. Antti Wilhelm', 'male', '21', '0', '0', 'STON/O 2. 3101280', '7.925', '', 'S']\n",
      "['175', '0', '1', 'Smith, Mr. James Clinch', 'male', '56', '0', '0', '17764', '30.6958', 'A7', 'C']\n",
      "['176', '0', '3', 'Klasen, Mr. Klas Albin', 'male', '18', '1', '1', '350404', '7.8542', '', 'S']\n",
      "['177', '0', '3', 'Lefebre, Master. Henry Forbes', 'male', '', '3', '1', '4133', '25.4667', '', 'S']\n",
      "['178', '0', '1', 'Isham, Miss. Ann Elizabeth', 'female', '50', '0', '0', 'PC 17595', '28.7125', 'C49', 'C']\n",
      "['179', '0', '2', 'Hale, Mr. Reginald', 'male', '30', '0', '0', '250653', '13', '', 'S']\n",
      "['180', '0', '3', 'Leonard, Mr. Lionel', 'male', '36', '0', '0', 'LINE', '0', '', 'S']\n",
      "['181', '0', '3', 'Sage, Miss. Constance Gladys', 'female', '', '8', '2', 'CA. 2343', '69.55', '', 'S']\n",
      "['182', '0', '2', 'Pernot, Mr. Rene', 'male', '', '0', '0', 'SC/PARIS 2131', '15.05', '', 'C']\n",
      "['183', '0', '3', 'Asplund, Master. Clarence Gustaf Hugo', 'male', '9', '4', '2', '347077', '31.3875', '', 'S']\n",
      "['184', '1', '2', 'Becker, Master. Richard F', 'male', '1', '2', '1', '230136', '39', 'F4', 'S']\n",
      "['185', '1', '3', 'Kink-Heilmann, Miss. Luise Gretchen', 'female', '4', '0', '2', '315153', '22.025', '', 'S']\n",
      "['186', '0', '1', 'Rood, Mr. Hugh Roscoe', 'male', '', '0', '0', '113767', '50', 'A32', 'S']\n",
      "['187', '1', '3', 'O\\'Brien, Mrs. Thomas (Johanna \"Hannah\" Godfrey)', 'female', '', '1', '0', '370365', '15.5', '', 'Q']\n",
      "['188', '1', '1', 'Romaine, Mr. Charles Hallace (\"Mr C Rolmane\")', 'male', '45', '0', '0', '111428', '26.55', '', 'S']\n",
      "['189', '0', '3', 'Bourke, Mr. John', 'male', '40', '1', '1', '364849', '15.5', '', 'Q']\n",
      "['190', '0', '3', 'Turcin, Mr. Stjepan', 'male', '36', '0', '0', '349247', '7.8958', '', 'S']\n",
      "['191', '1', '2', 'Pinsky, Mrs. (Rosa)', 'female', '32', '0', '0', '234604', '13', '', 'S']\n",
      "['192', '0', '2', 'Carbines, Mr. William', 'male', '19', '0', '0', '28424', '13', '', 'S']\n",
      "['193', '1', '3', 'Andersen-Jensen, Miss. Carla Christine Nielsine', 'female', '19', '1', '0', '350046', '7.8542', '', 'S']\n",
      "['194', '1', '2', 'Navratil, Master. Michel M', 'male', '3', '1', '1', '230080', '26', 'F2', 'S']\n",
      "['195', '1', '1', 'Brown, Mrs. James Joseph (Margaret Tobin)', 'female', '44', '0', '0', 'PC 17610', '27.7208', 'B4', 'C']\n",
      "['196', '1', '1', 'Lurette, Miss. Elise', 'female', '58', '0', '0', 'PC 17569', '146.5208', 'B80', 'C']\n",
      "['197', '0', '3', 'Mernagh, Mr. Robert', 'male', '', '0', '0', '368703', '7.75', '', 'Q']\n",
      "['198', '0', '3', 'Olsen, Mr. Karl Siegwart Andreas', 'male', '42', '0', '1', '4579', '8.4042', '', 'S']\n",
      "['199', '1', '3', 'Madigan, Miss. Margaret \"Maggie\"', 'female', '', '0', '0', '370370', '7.75', '', 'Q']\n",
      "['200', '0', '2', 'Yrois, Miss. Henriette (\"Mrs Harbeck\")', 'female', '24', '0', '0', '248747', '13', '', 'S']\n",
      "['201', '0', '3', 'Vande Walle, Mr. Nestor Cyriel', 'male', '28', '0', '0', '345770', '9.5', '', 'S']\n",
      "['202', '0', '3', 'Sage, Mr. Frederick', 'male', '', '8', '2', 'CA. 2343', '69.55', '', 'S']\n",
      "['203', '0', '3', 'Johanson, Mr. Jakob Alfred', 'male', '34', '0', '0', '3101264', '6.4958', '', 'S']\n",
      "['204', '0', '3', 'Youseff, Mr. Gerious', 'male', '45.5', '0', '0', '2628', '7.225', '', 'C']\n",
      "['205', '1', '3', 'Cohen, Mr. Gurshon \"Gus\"', 'male', '18', '0', '0', 'A/5 3540', '8.05', '', 'S']\n",
      "['206', '0', '3', 'Strom, Miss. Telma Matilda', 'female', '2', '0', '1', '347054', '10.4625', 'G6', 'S']\n",
      "['207', '0', '3', 'Backstrom, Mr. Karl Alfred', 'male', '32', '1', '0', '3101278', '15.85', '', 'S']\n",
      "['208', '1', '3', 'Albimona, Mr. Nassef Cassem', 'male', '26', '0', '0', '2699', '18.7875', '', 'C']\n",
      "['209', '1', '3', 'Carr, Miss. Helen \"Ellen\"', 'female', '16', '0', '0', '367231', '7.75', '', 'Q']\n",
      "['210', '1', '1', 'Blank, Mr. Henry', 'male', '40', '0', '0', '112277', '31', 'A31', 'C']\n",
      "['211', '0', '3', 'Ali, Mr. Ahmed', 'male', '24', '0', '0', 'SOTON/O.Q. 3101311', '7.05', '', 'S']\n",
      "['212', '1', '2', 'Cameron, Miss. Clear Annie', 'female', '35', '0', '0', 'F.C.C. 13528', '21', '', 'S']\n",
      "['213', '0', '3', 'Perkin, Mr. John Henry', 'male', '22', '0', '0', 'A/5 21174', '7.25', '', 'S']\n",
      "['214', '0', '2', 'Givard, Mr. Hans Kristensen', 'male', '30', '0', '0', '250646', '13', '', 'S']\n",
      "['215', '0', '3', 'Kiernan, Mr. Philip', 'male', '', '1', '0', '367229', '7.75', '', 'Q']\n",
      "['216', '1', '1', 'Newell, Miss. Madeleine', 'female', '31', '1', '0', '35273', '113.275', 'D36', 'C']\n",
      "['217', '1', '3', 'Honkanen, Miss. Eliina', 'female', '27', '0', '0', 'STON/O2. 3101283', '7.925', '', 'S']\n",
      "['218', '0', '2', 'Jacobsohn, Mr. Sidney Samuel', 'male', '42', '1', '0', '243847', '27', '', 'S']\n",
      "['219', '1', '1', 'Bazzani, Miss. Albina', 'female', '32', '0', '0', '11813', '76.2917', 'D15', 'C']\n",
      "['220', '0', '2', 'Harris, Mr. Walter', 'male', '30', '0', '0', 'W/C 14208', '10.5', '', 'S']\n",
      "['221', '1', '3', 'Sunderland, Mr. Victor Francis', 'male', '16', '0', '0', 'SOTON/OQ 392089', '8.05', '', 'S']\n",
      "['222', '0', '2', 'Bracken, Mr. James H', 'male', '27', '0', '0', '220367', '13', '', 'S']\n",
      "['223', '0', '3', 'Green, Mr. George Henry', 'male', '51', '0', '0', '21440', '8.05', '', 'S']\n",
      "['224', '0', '3', 'Nenkoff, Mr. Christo', 'male', '', '0', '0', '349234', '7.8958', '', 'S']\n",
      "['225', '1', '1', 'Hoyt, Mr. Frederick Maxfield', 'male', '38', '1', '0', '19943', '90', 'C93', 'S']\n",
      "['226', '0', '3', 'Berglund, Mr. Karl Ivar Sven', 'male', '22', '0', '0', 'PP 4348', '9.35', '', 'S']\n",
      "['227', '1', '2', 'Mellors, Mr. William John', 'male', '19', '0', '0', 'SW/PP 751', '10.5', '', 'S']\n",
      "['228', '0', '3', 'Lovell, Mr. John Hall (\"Henry\")', 'male', '20.5', '0', '0', 'A/5 21173', '7.25', '', 'S']\n",
      "['229', '0', '2', 'Fahlstrom, Mr. Arne Jonas', 'male', '18', '0', '0', '236171', '13', '', 'S']\n",
      "['230', '0', '3', 'Lefebre, Miss. Mathilde', 'female', '', '3', '1', '4133', '25.4667', '', 'S']\n",
      "['231', '1', '1', 'Harris, Mrs. Henry Birkhardt (Irene Wallach)', 'female', '35', '1', '0', '36973', '83.475', 'C83', 'S']\n",
      "['232', '0', '3', 'Larsson, Mr. Bengt Edvin', 'male', '29', '0', '0', '347067', '7.775', '', 'S']\n",
      "['233', '0', '2', 'Sjostedt, Mr. Ernst Adolf', 'male', '59', '0', '0', '237442', '13.5', '', 'S']\n",
      "['234', '1', '3', 'Asplund, Miss. Lillian Gertrud', 'female', '5', '4', '2', '347077', '31.3875', '', 'S']\n",
      "['235', '0', '2', 'Leyson, Mr. Robert William Norman', 'male', '24', '0', '0', 'C.A. 29566', '10.5', '', 'S']\n",
      "['236', '0', '3', 'Harknett, Miss. Alice Phoebe', 'female', '', '0', '0', 'W./C. 6609', '7.55', '', 'S']\n",
      "['237', '0', '2', 'Hold, Mr. Stephen', 'male', '44', '1', '0', '26707', '26', '', 'S']\n",
      "['238', '1', '2', 'Collyer, Miss. Marjorie \"Lottie\"', 'female', '8', '0', '2', 'C.A. 31921', '26.25', '', 'S']\n",
      "['239', '0', '2', 'Pengelly, Mr. Frederick William', 'male', '19', '0', '0', '28665', '10.5', '', 'S']\n",
      "['240', '0', '2', 'Hunt, Mr. George Henry', 'male', '33', '0', '0', 'SCO/W 1585', '12.275', '', 'S']\n",
      "['241', '0', '3', 'Zabour, Miss. Thamine', 'female', '', '1', '0', '2665', '14.4542', '', 'C']\n",
      "['242', '1', '3', 'Murphy, Miss. Katherine \"Kate\"', 'female', '', '1', '0', '367230', '15.5', '', 'Q']\n",
      "['243', '0', '2', 'Coleridge, Mr. Reginald Charles', 'male', '29', '0', '0', 'W./C. 14263', '10.5', '', 'S']\n",
      "['244', '0', '3', 'Maenpaa, Mr. Matti Alexanteri', 'male', '22', '0', '0', 'STON/O 2. 3101275', '7.125', '', 'S']\n",
      "['245', '0', '3', 'Attalah, Mr. Sleiman', 'male', '30', '0', '0', '2694', '7.225', '', 'C']\n",
      "['246', '0', '1', 'Minahan, Dr. William Edward', 'male', '44', '2', '0', '19928', '90', 'C78', 'Q']\n",
      "['247', '0', '3', 'Lindahl, Miss. Agda Thorilda Viktoria', 'female', '25', '0', '0', '347071', '7.775', '', 'S']\n",
      "['248', '1', '2', 'Hamalainen, Mrs. William (Anna)', 'female', '24', '0', '2', '250649', '14.5', '', 'S']\n",
      "['249', '1', '1', 'Beckwith, Mr. Richard Leonard', 'male', '37', '1', '1', '11751', '52.5542', 'D35', 'S']\n",
      "['250', '0', '2', 'Carter, Rev. Ernest Courtenay', 'male', '54', '1', '0', '244252', '26', '', 'S']\n",
      "['251', '0', '3', 'Reed, Mr. James George', 'male', '', '0', '0', '362316', '7.25', '', 'S']\n",
      "['252', '0', '3', 'Strom, Mrs. Wilhelm (Elna Matilda Persson)', 'female', '29', '1', '1', '347054', '10.4625', 'G6', 'S']\n",
      "['253', '0', '1', 'Stead, Mr. William Thomas', 'male', '62', '0', '0', '113514', '26.55', 'C87', 'S']\n",
      "['254', '0', '3', 'Lobb, Mr. William Arthur', 'male', '30', '1', '0', 'A/5. 3336', '16.1', '', 'S']\n",
      "['255', '0', '3', 'Rosblom, Mrs. Viktor (Helena Wilhelmina)', 'female', '41', '0', '2', '370129', '20.2125', '', 'S']\n",
      "['256', '1', '3', 'Touma, Mrs. Darwis (Hanne Youssef Razi)', 'female', '29', '0', '2', '2650', '15.2458', '', 'C']\n",
      "['257', '1', '1', 'Thorne, Mrs. Gertrude Maybelle', 'female', '', '0', '0', 'PC 17585', '79.2', '', 'C']\n",
      "['258', '1', '1', 'Cherry, Miss. Gladys', 'female', '30', '0', '0', '110152', '86.5', 'B77', 'S']\n",
      "['259', '1', '1', 'Ward, Miss. Anna', 'female', '35', '0', '0', 'PC 17755', '512.3292', '', 'C']\n",
      "['260', '1', '2', 'Parrish, Mrs. (Lutie Davis)', 'female', '50', '0', '1', '230433', '26', '', 'S']\n",
      "['261', '0', '3', 'Smith, Mr. Thomas', 'male', '', '0', '0', '384461', '7.75', '', 'Q']\n",
      "['262', '1', '3', 'Asplund, Master. Edvin Rojj Felix', 'male', '3', '4', '2', '347077', '31.3875', '', 'S']\n",
      "['263', '0', '1', 'Taussig, Mr. Emil', 'male', '52', '1', '1', '110413', '79.65', 'E67', 'S']\n",
      "['264', '0', '1', 'Harrison, Mr. William', 'male', '40', '0', '0', '112059', '0', 'B94', 'S']\n",
      "['265', '0', '3', 'Henry, Miss. Delia', 'female', '', '0', '0', '382649', '7.75', '', 'Q']\n",
      "['266', '0', '2', 'Reeves, Mr. David', 'male', '36', '0', '0', 'C.A. 17248', '10.5', '', 'S']\n",
      "['267', '0', '3', 'Panula, Mr. Ernesti Arvid', 'male', '16', '4', '1', '3101295', '39.6875', '', 'S']\n",
      "['268', '1', '3', 'Persson, Mr. Ernst Ulrik', 'male', '25', '1', '0', '347083', '7.775', '', 'S']\n",
      "['269', '1', '1', 'Graham, Mrs. William Thompson (Edith Junkins)', 'female', '58', '0', '1', 'PC 17582', '153.4625', 'C125', 'S']\n",
      "['270', '1', '1', 'Bissette, Miss. Amelia', 'female', '35', '0', '0', 'PC 17760', '135.6333', 'C99', 'S']\n",
      "['271', '0', '1', 'Cairns, Mr. Alexander', 'male', '', '0', '0', '113798', '31', '', 'S']\n",
      "['272', '1', '3', 'Tornquist, Mr. William Henry', 'male', '25', '0', '0', 'LINE', '0', '', 'S']\n",
      "['273', '1', '2', 'Mellinger, Mrs. (Elizabeth Anne Maidment)', 'female', '41', '0', '1', '250644', '19.5', '', 'S']\n",
      "['274', '0', '1', 'Natsch, Mr. Charles H', 'male', '37', '0', '1', 'PC 17596', '29.7', 'C118', 'C']\n",
      "['275', '1', '3', 'Healy, Miss. Hanora \"Nora\"', 'female', '', '0', '0', '370375', '7.75', '', 'Q']\n",
      "['276', '1', '1', 'Andrews, Miss. Kornelia Theodosia', 'female', '63', '1', '0', '13502', '77.9583', 'D7', 'S']\n",
      "['277', '0', '3', 'Lindblom, Miss. Augusta Charlotta', 'female', '45', '0', '0', '347073', '7.75', '', 'S']\n",
      "['278', '0', '2', 'Parkes, Mr. Francis \"Frank\"', 'male', '', '0', '0', '239853', '0', '', 'S']\n",
      "['279', '0', '3', 'Rice, Master. Eric', 'male', '7', '4', '1', '382652', '29.125', '', 'Q']\n",
      "['280', '1', '3', 'Abbott, Mrs. Stanton (Rosa Hunt)', 'female', '35', '1', '1', 'C.A. 2673', '20.25', '', 'S']\n",
      "['281', '0', '3', 'Duane, Mr. Frank', 'male', '65', '0', '0', '336439', '7.75', '', 'Q']\n",
      "['282', '0', '3', 'Olsson, Mr. Nils Johan Goransson', 'male', '28', '0', '0', '347464', '7.8542', '', 'S']\n",
      "['283', '0', '3', 'de Pelsmaeker, Mr. Alfons', 'male', '16', '0', '0', '345778', '9.5', '', 'S']\n",
      "['284', '1', '3', 'Dorking, Mr. Edward Arthur', 'male', '19', '0', '0', 'A/5. 10482', '8.05', '', 'S']\n",
      "['285', '0', '1', 'Smith, Mr. Richard William', 'male', '', '0', '0', '113056', '26', 'A19', 'S']\n",
      "['286', '0', '3', 'Stankovic, Mr. Ivan', 'male', '33', '0', '0', '349239', '8.6625', '', 'C']\n",
      "['287', '1', '3', 'de Mulder, Mr. Theodore', 'male', '30', '0', '0', '345774', '9.5', '', 'S']\n",
      "['288', '0', '3', 'Naidenoff, Mr. Penko', 'male', '22', '0', '0', '349206', '7.8958', '', 'S']\n",
      "['289', '1', '2', 'Hosono, Mr. Masabumi', 'male', '42', '0', '0', '237798', '13', '', 'S']\n",
      "['290', '1', '3', 'Connolly, Miss. Kate', 'female', '22', '0', '0', '370373', '7.75', '', 'Q']\n",
      "['291', '1', '1', 'Barber, Miss. Ellen \"Nellie\"', 'female', '26', '0', '0', '19877', '78.85', '', 'S']\n",
      "['292', '1', '1', 'Bishop, Mrs. Dickinson H (Helen Walton)', 'female', '19', '1', '0', '11967', '91.0792', 'B49', 'C']\n",
      "['293', '0', '2', 'Levy, Mr. Rene Jacques', 'male', '36', '0', '0', 'SC/Paris 2163', '12.875', 'D', 'C']\n",
      "['294', '0', '3', 'Haas, Miss. Aloisia', 'female', '24', '0', '0', '349236', '8.85', '', 'S']\n",
      "['295', '0', '3', 'Mineff, Mr. Ivan', 'male', '24', '0', '0', '349233', '7.8958', '', 'S']\n",
      "['296', '0', '1', 'Lewy, Mr. Ervin G', 'male', '', '0', '0', 'PC 17612', '27.7208', '', 'C']\n",
      "['297', '0', '3', 'Hanna, Mr. Mansour', 'male', '23.5', '0', '0', '2693', '7.2292', '', 'C']\n",
      "['298', '0', '1', 'Allison, Miss. Helen Loraine', 'female', '2', '1', '2', '113781', '151.55', 'C22 C26', 'S']\n",
      "['299', '1', '1', 'Saalfeld, Mr. Adolphe', 'male', '', '0', '0', '19988', '30.5', 'C106', 'S']\n",
      "['300', '1', '1', 'Baxter, Mrs. James (Helene DeLaudeniere Chaput)', 'female', '50', '0', '1', 'PC 17558', '247.5208', 'B58 B60', 'C']\n",
      "['301', '1', '3', 'Kelly, Miss. Anna Katherine \"Annie Kate\"', 'female', '', '0', '0', '9234', '7.75', '', 'Q']\n",
      "['302', '1', '3', 'McCoy, Mr. Bernard', 'male', '', '2', '0', '367226', '23.25', '', 'Q']\n",
      "['303', '0', '3', 'Johnson, Mr. William Cahoone Jr', 'male', '19', '0', '0', 'LINE', '0', '', 'S']\n",
      "['304', '1', '2', 'Keane, Miss. Nora A', 'female', '', '0', '0', '226593', '12.35', 'E101', 'Q']\n",
      "['305', '0', '3', 'Williams, Mr. Howard Hugh \"Harry\"', 'male', '', '0', '0', 'A/5 2466', '8.05', '', 'S']\n",
      "['306', '1', '1', 'Allison, Master. Hudson Trevor', 'male', '0.92', '1', '2', '113781', '151.55', 'C22 C26', 'S']\n",
      "['307', '1', '1', 'Fleming, Miss. Margaret', 'female', '', '0', '0', '17421', '110.8833', '', 'C']\n",
      "['308', '1', '1', 'Penasco y Castellana, Mrs. Victor de Satode (Maria Josefa Perez de Soto y Vallejo)', 'female', '17', '1', '0', 'PC 17758', '108.9', 'C65', 'C']\n",
      "['309', '0', '2', 'Abelson, Mr. Samuel', 'male', '30', '1', '0', 'P/PP 3381', '24', '', 'C']\n",
      "['310', '1', '1', 'Francatelli, Miss. Laura Mabel', 'female', '30', '0', '0', 'PC 17485', '56.9292', 'E36', 'C']\n",
      "['311', '1', '1', 'Hays, Miss. Margaret Bechstein', 'female', '24', '0', '0', '11767', '83.1583', 'C54', 'C']\n",
      "['312', '1', '1', 'Ryerson, Miss. Emily Borie', 'female', '18', '2', '2', 'PC 17608', '262.375', 'B57 B59 B63 B66', 'C']\n",
      "['313', '0', '2', 'Lahtinen, Mrs. William (Anna Sylfven)', 'female', '26', '1', '1', '250651', '26', '', 'S']\n",
      "['314', '0', '3', 'Hendekovic, Mr. Ignjac', 'male', '28', '0', '0', '349243', '7.8958', '', 'S']\n",
      "['315', '0', '2', 'Hart, Mr. Benjamin', 'male', '43', '1', '1', 'F.C.C. 13529', '26.25', '', 'S']\n",
      "['316', '1', '3', 'Nilsson, Miss. Helmina Josefina', 'female', '26', '0', '0', '347470', '7.8542', '', 'S']\n",
      "['317', '1', '2', 'Kantor, Mrs. Sinai (Miriam Sternin)', 'female', '24', '1', '0', '244367', '26', '', 'S']\n",
      "['318', '0', '2', 'Moraweck, Dr. Ernest', 'male', '54', '0', '0', '29011', '14', '', 'S']\n",
      "['319', '1', '1', 'Wick, Miss. Mary Natalie', 'female', '31', '0', '2', '36928', '164.8667', 'C7', 'S']\n",
      "['320', '1', '1', 'Spedden, Mrs. Frederic Oakley (Margaretta Corning Stone)', 'female', '40', '1', '1', '16966', '134.5', 'E34', 'C']\n",
      "['321', '0', '3', 'Dennis, Mr. Samuel', 'male', '22', '0', '0', 'A/5 21172', '7.25', '', 'S']\n",
      "['322', '0', '3', 'Danoff, Mr. Yoto', 'male', '27', '0', '0', '349219', '7.8958', '', 'S']\n",
      "['323', '1', '2', 'Slayter, Miss. Hilda Mary', 'female', '30', '0', '0', '234818', '12.35', '', 'Q']\n",
      "['324', '1', '2', 'Caldwell, Mrs. Albert Francis (Sylvia Mae Harbaugh)', 'female', '22', '1', '1', '248738', '29', '', 'S']\n",
      "['325', '0', '3', 'Sage, Mr. George John Jr', 'male', '', '8', '2', 'CA. 2343', '69.55', '', 'S']\n",
      "['326', '1', '1', 'Young, Miss. Marie Grice', 'female', '36', '0', '0', 'PC 17760', '135.6333', 'C32', 'C']\n",
      "['327', '0', '3', 'Nysveen, Mr. Johan Hansen', 'male', '61', '0', '0', '345364', '6.2375', '', 'S']\n",
      "['328', '1', '2', 'Ball, Mrs. (Ada E Hall)', 'female', '36', '0', '0', '28551', '13', 'D', 'S']\n",
      "['329', '1', '3', 'Goldsmith, Mrs. Frank John (Emily Alice Brown)', 'female', '31', '1', '1', '363291', '20.525', '', 'S']\n",
      "['330', '1', '1', 'Hippach, Miss. Jean Gertrude', 'female', '16', '0', '1', '111361', '57.9792', 'B18', 'C']\n",
      "['331', '1', '3', 'McCoy, Miss. Agnes', 'female', '', '2', '0', '367226', '23.25', '', 'Q']\n",
      "['332', '0', '1', 'Partner, Mr. Austen', 'male', '45.5', '0', '0', '113043', '28.5', 'C124', 'S']\n",
      "['333', '0', '1', 'Graham, Mr. George Edward', 'male', '38', '0', '1', 'PC 17582', '153.4625', 'C91', 'S']\n",
      "['334', '0', '3', 'Vander Planke, Mr. Leo Edmondus', 'male', '16', '2', '0', '345764', '18', '', 'S']\n",
      "['335', '1', '1', 'Frauenthal, Mrs. Henry William (Clara Heinsheimer)', 'female', '', '1', '0', 'PC 17611', '133.65', '', 'S']\n",
      "['336', '0', '3', 'Denkoff, Mr. Mitto', 'male', '', '0', '0', '349225', '7.8958', '', 'S']\n",
      "['337', '0', '1', 'Pears, Mr. Thomas Clinton', 'male', '29', '1', '0', '113776', '66.6', 'C2', 'S']\n",
      "['338', '1', '1', 'Burns, Miss. Elizabeth Margaret', 'female', '41', '0', '0', '16966', '134.5', 'E40', 'C']\n",
      "['339', '1', '3', 'Dahl, Mr. Karl Edwart', 'male', '45', '0', '0', '7598', '8.05', '', 'S']\n",
      "['340', '0', '1', 'Blackwell, Mr. Stephen Weart', 'male', '45', '0', '0', '113784', '35.5', 'T', 'S']\n",
      "['341', '1', '2', 'Navratil, Master. Edmond Roger', 'male', '2', '1', '1', '230080', '26', 'F2', 'S']\n",
      "['342', '1', '1', 'Fortune, Miss. Alice Elizabeth', 'female', '24', '3', '2', '19950', '263', 'C23 C25 C27', 'S']\n",
      "['343', '0', '2', 'Collander, Mr. Erik Gustaf', 'male', '28', '0', '0', '248740', '13', '', 'S']\n",
      "['344', '0', '2', 'Sedgwick, Mr. Charles Frederick Waddington', 'male', '25', '0', '0', '244361', '13', '', 'S']\n",
      "['345', '0', '2', 'Fox, Mr. Stanley Hubert', 'male', '36', '0', '0', '229236', '13', '', 'S']\n",
      "['346', '1', '2', 'Brown, Miss. Amelia \"Mildred\"', 'female', '24', '0', '0', '248733', '13', 'F33', 'S']\n",
      "['347', '1', '2', 'Smith, Miss. Marion Elsie', 'female', '40', '0', '0', '31418', '13', '', 'S']\n",
      "['348', '1', '3', 'Davison, Mrs. Thomas Henry (Mary E Finck)', 'female', '', '1', '0', '386525', '16.1', '', 'S']\n",
      "['349', '1', '3', 'Coutts, Master. William Loch \"William\"', 'male', '3', '1', '1', 'C.A. 37671', '15.9', '', 'S']\n",
      "['350', '0', '3', 'Dimic, Mr. Jovan', 'male', '42', '0', '0', '315088', '8.6625', '', 'S']\n",
      "['351', '0', '3', 'Odahl, Mr. Nils Martin', 'male', '23', '0', '0', '7267', '9.225', '', 'S']\n",
      "['352', '0', '1', 'Williams-Lambert, Mr. Fletcher Fellows', 'male', '', '0', '0', '113510', '35', 'C128', 'S']\n",
      "['353', '0', '3', 'Elias, Mr. Tannous', 'male', '15', '1', '1', '2695', '7.2292', '', 'C']\n",
      "['354', '0', '3', 'Arnold-Franchi, Mr. Josef', 'male', '25', '1', '0', '349237', '17.8', '', 'S']\n",
      "['355', '0', '3', 'Yousif, Mr. Wazli', 'male', '', '0', '0', '2647', '7.225', '', 'C']\n",
      "['356', '0', '3', 'Vanden Steen, Mr. Leo Peter', 'male', '28', '0', '0', '345783', '9.5', '', 'S']\n",
      "['357', '1', '1', 'Bowerman, Miss. Elsie Edith', 'female', '22', '0', '1', '113505', '55', 'E33', 'S']\n",
      "['358', '0', '2', 'Funk, Miss. Annie Clemmer', 'female', '38', '0', '0', '237671', '13', '', 'S']\n",
      "['359', '1', '3', 'McGovern, Miss. Mary', 'female', '', '0', '0', '330931', '7.8792', '', 'Q']\n",
      "['360', '1', '3', 'Mockler, Miss. Helen Mary \"Ellie\"', 'female', '', '0', '0', '330980', '7.8792', '', 'Q']\n",
      "['361', '0', '3', 'Skoog, Mr. Wilhelm', 'male', '40', '1', '4', '347088', '27.9', '', 'S']\n",
      "['362', '0', '2', 'del Carlo, Mr. Sebastiano', 'male', '29', '1', '0', 'SC/PARIS 2167', '27.7208', '', 'C']\n",
      "['363', '0', '3', 'Barbara, Mrs. (Catherine David)', 'female', '45', '0', '1', '2691', '14.4542', '', 'C']\n",
      "['364', '0', '3', 'Asim, Mr. Adola', 'male', '35', '0', '0', 'SOTON/O.Q. 3101310', '7.05', '', 'S']\n",
      "['365', '0', '3', \"O'Brien, Mr. Thomas\", 'male', '', '1', '0', '370365', '15.5', '', 'Q']\n",
      "['366', '0', '3', 'Adahl, Mr. Mauritz Nils Martin', 'male', '30', '0', '0', 'C 7076', '7.25', '', 'S']\n",
      "['367', '1', '1', 'Warren, Mrs. Frank Manley (Anna Sophia Atkinson)', 'female', '60', '1', '0', '110813', '75.25', 'D37', 'C']\n",
      "['368', '1', '3', 'Moussa, Mrs. (Mantoura Boulos)', 'female', '', '0', '0', '2626', '7.2292', '', 'C']\n",
      "['369', '1', '3', 'Jermyn, Miss. Annie', 'female', '', '0', '0', '14313', '7.75', '', 'Q']\n",
      "['370', '1', '1', 'Aubart, Mme. Leontine Pauline', 'female', '24', '0', '0', 'PC 17477', '69.3', 'B35', 'C']\n",
      "['371', '1', '1', 'Harder, Mr. George Achilles', 'male', '25', '1', '0', '11765', '55.4417', 'E50', 'C']\n",
      "['372', '0', '3', 'Wiklund, Mr. Jakob Alfred', 'male', '18', '1', '0', '3101267', '6.4958', '', 'S']\n",
      "['373', '0', '3', 'Beavan, Mr. William Thomas', 'male', '19', '0', '0', '323951', '8.05', '', 'S']\n",
      "['374', '0', '1', 'Ringhini, Mr. Sante', 'male', '22', '0', '0', 'PC 17760', '135.6333', '', 'C']\n",
      "['375', '0', '3', 'Palsson, Miss. Stina Viola', 'female', '3', '3', '1', '349909', '21.075', '', 'S']\n",
      "['376', '1', '1', 'Meyer, Mrs. Edgar Joseph (Leila Saks)', 'female', '', '1', '0', 'PC 17604', '82.1708', '', 'C']\n",
      "['377', '1', '3', 'Landergren, Miss. Aurora Adelia', 'female', '22', '0', '0', 'C 7077', '7.25', '', 'S']\n",
      "['378', '0', '1', 'Widener, Mr. Harry Elkins', 'male', '27', '0', '2', '113503', '211.5', 'C82', 'C']\n",
      "['379', '0', '3', 'Betros, Mr. Tannous', 'male', '20', '0', '0', '2648', '4.0125', '', 'C']\n",
      "['380', '0', '3', 'Gustafsson, Mr. Karl Gideon', 'male', '19', '0', '0', '347069', '7.775', '', 'S']\n",
      "['381', '1', '1', 'Bidois, Miss. Rosalie', 'female', '42', '0', '0', 'PC 17757', '227.525', '', 'C']\n",
      "['382', '1', '3', 'Nakid, Miss. Maria (\"Mary\")', 'female', '1', '0', '2', '2653', '15.7417', '', 'C']\n",
      "['383', '0', '3', 'Tikkanen, Mr. Juho', 'male', '32', '0', '0', 'STON/O 2. 3101293', '7.925', '', 'S']\n",
      "['384', '1', '1', 'Holverson, Mrs. Alexander Oskar (Mary Aline Towner)', 'female', '35', '1', '0', '113789', '52', '', 'S']\n",
      "['385', '0', '3', 'Plotcharsky, Mr. Vasil', 'male', '', '0', '0', '349227', '7.8958', '', 'S']\n",
      "['386', '0', '2', 'Davies, Mr. Charles Henry', 'male', '18', '0', '0', 'S.O.C. 14879', '73.5', '', 'S']\n",
      "['387', '0', '3', 'Goodwin, Master. Sidney Leonard', 'male', '1', '5', '2', 'CA 2144', '46.9', '', 'S']\n",
      "['388', '1', '2', 'Buss, Miss. Kate', 'female', '36', '0', '0', '27849', '13', '', 'S']\n",
      "['389', '0', '3', 'Sadlier, Mr. Matthew', 'male', '', '0', '0', '367655', '7.7292', '', 'Q']\n",
      "['390', '1', '2', 'Lehmann, Miss. Bertha', 'female', '17', '0', '0', 'SC 1748', '12', '', 'C']\n",
      "['391', '1', '1', 'Carter, Mr. William Ernest', 'male', '36', '1', '2', '113760', '120', 'B96 B98', 'S']\n",
      "['392', '1', '3', 'Jansson, Mr. Carl Olof', 'male', '21', '0', '0', '350034', '7.7958', '', 'S']\n",
      "['393', '0', '3', 'Gustafsson, Mr. Johan Birger', 'male', '28', '2', '0', '3101277', '7.925', '', 'S']\n",
      "['394', '1', '1', 'Newell, Miss. Marjorie', 'female', '23', '1', '0', '35273', '113.275', 'D36', 'C']\n",
      "['395', '1', '3', 'Sandstrom, Mrs. Hjalmar (Agnes Charlotta Bengtsson)', 'female', '24', '0', '2', 'PP 9549', '16.7', 'G6', 'S']\n",
      "['396', '0', '3', 'Johansson, Mr. Erik', 'male', '22', '0', '0', '350052', '7.7958', '', 'S']\n",
      "['397', '0', '3', 'Olsson, Miss. Elina', 'female', '31', '0', '0', '350407', '7.8542', '', 'S']\n",
      "['398', '0', '2', 'McKane, Mr. Peter David', 'male', '46', '0', '0', '28403', '26', '', 'S']\n",
      "['399', '0', '2', 'Pain, Dr. Alfred', 'male', '23', '0', '0', '244278', '10.5', '', 'S']\n",
      "['400', '1', '2', 'Trout, Mrs. William H (Jessie L)', 'female', '28', '0', '0', '240929', '12.65', '', 'S']\n",
      "['401', '1', '3', 'Niskanen, Mr. Juha', 'male', '39', '0', '0', 'STON/O 2. 3101289', '7.925', '', 'S']\n",
      "['402', '0', '3', 'Adams, Mr. John', 'male', '26', '0', '0', '341826', '8.05', '', 'S']\n",
      "['403', '0', '3', 'Jussila, Miss. Mari Aina', 'female', '21', '1', '0', '4137', '9.825', '', 'S']\n",
      "['404', '0', '3', 'Hakkarainen, Mr. Pekka Pietari', 'male', '28', '1', '0', 'STON/O2. 3101279', '15.85', '', 'S']\n",
      "['405', '0', '3', 'Oreskovic, Miss. Marija', 'female', '20', '0', '0', '315096', '8.6625', '', 'S']\n",
      "['406', '0', '2', 'Gale, Mr. Shadrach', 'male', '34', '1', '0', '28664', '21', '', 'S']\n",
      "['407', '0', '3', 'Widegren, Mr. Carl/Charles Peter', 'male', '51', '0', '0', '347064', '7.75', '', 'S']\n",
      "['408', '1', '2', 'Richards, Master. William Rowe', 'male', '3', '1', '1', '29106', '18.75', '', 'S']\n",
      "['409', '0', '3', 'Birkeland, Mr. Hans Martin Monsen', 'male', '21', '0', '0', '312992', '7.775', '', 'S']\n",
      "['410', '0', '3', 'Lefebre, Miss. Ida', 'female', '', '3', '1', '4133', '25.4667', '', 'S']\n",
      "['411', '0', '3', 'Sdycoff, Mr. Todor', 'male', '', '0', '0', '349222', '7.8958', '', 'S']\n",
      "['412', '0', '3', 'Hart, Mr. Henry', 'male', '', '0', '0', '394140', '6.8583', '', 'Q']\n",
      "['413', '1', '1', 'Minahan, Miss. Daisy E', 'female', '33', '1', '0', '19928', '90', 'C78', 'Q']\n",
      "['414', '0', '2', 'Cunningham, Mr. Alfred Fleming', 'male', '', '0', '0', '239853', '0', '', 'S']\n",
      "['415', '1', '3', 'Sundman, Mr. Johan Julian', 'male', '44', '0', '0', 'STON/O 2. 3101269', '7.925', '', 'S']\n",
      "['416', '0', '3', 'Meek, Mrs. Thomas (Annie Louise Rowley)', 'female', '', '0', '0', '343095', '8.05', '', 'S']\n",
      "['417', '1', '2', 'Drew, Mrs. James Vivian (Lulu Thorne Christian)', 'female', '34', '1', '1', '28220', '32.5', '', 'S']\n",
      "['418', '1', '2', 'Silven, Miss. Lyyli Karoliina', 'female', '18', '0', '2', '250652', '13', '', 'S']\n",
      "['419', '0', '2', 'Matthews, Mr. William John', 'male', '30', '0', '0', '28228', '13', '', 'S']\n",
      "['420', '0', '3', 'Van Impe, Miss. Catharina', 'female', '10', '0', '2', '345773', '24.15', '', 'S']\n",
      "['421', '0', '3', 'Gheorgheff, Mr. Stanio', 'male', '', '0', '0', '349254', '7.8958', '', 'C']\n",
      "['422', '0', '3', 'Charters, Mr. David', 'male', '21', '0', '0', 'A/5. 13032', '7.7333', '', 'Q']\n",
      "['423', '0', '3', 'Zimmerman, Mr. Leo', 'male', '29', '0', '0', '315082', '7.875', '', 'S']\n",
      "['424', '0', '3', 'Danbom, Mrs. Ernst Gilbert (Anna Sigrid Maria Brogren)', 'female', '28', '1', '1', '347080', '14.4', '', 'S']\n",
      "['425', '0', '3', 'Rosblom, Mr. Viktor Richard', 'male', '18', '1', '1', '370129', '20.2125', '', 'S']\n",
      "['426', '0', '3', 'Wiseman, Mr. Phillippe', 'male', '', '0', '0', 'A/4. 34244', '7.25', '', 'S']\n",
      "['427', '1', '2', 'Clarke, Mrs. Charles V (Ada Maria Winfield)', 'female', '28', '1', '0', '2003', '26', '', 'S']\n",
      "['428', '1', '2', 'Phillips, Miss. Kate Florence (\"Mrs Kate Louise Phillips Marshall\")', 'female', '19', '0', '0', '250655', '26', '', 'S']\n",
      "['429', '0', '3', 'Flynn, Mr. James', 'male', '', '0', '0', '364851', '7.75', '', 'Q']\n",
      "['430', '1', '3', 'Pickard, Mr. Berk (Berk Trembisky)', 'male', '32', '0', '0', 'SOTON/O.Q. 392078', '8.05', 'E10', 'S']\n",
      "['431', '1', '1', 'Bjornstrom-Steffansson, Mr. Mauritz Hakan', 'male', '28', '0', '0', '110564', '26.55', 'C52', 'S']\n",
      "['432', '1', '3', 'Thorneycroft, Mrs. Percival (Florence Kate White)', 'female', '', '1', '0', '376564', '16.1', '', 'S']\n",
      "['433', '1', '2', 'Louch, Mrs. Charles Alexander (Alice Adelaide Slow)', 'female', '42', '1', '0', 'SC/AH 3085', '26', '', 'S']\n",
      "['434', '0', '3', 'Kallio, Mr. Nikolai Erland', 'male', '17', '0', '0', 'STON/O 2. 3101274', '7.125', '', 'S']\n",
      "['435', '0', '1', 'Silvey, Mr. William Baird', 'male', '50', '1', '0', '13507', '55.9', 'E44', 'S']\n",
      "['436', '1', '1', 'Carter, Miss. Lucile Polk', 'female', '14', '1', '2', '113760', '120', 'B96 B98', 'S']\n",
      "['437', '0', '3', 'Ford, Miss. Doolina Margaret \"Daisy\"', 'female', '21', '2', '2', 'W./C. 6608', '34.375', '', 'S']\n",
      "['438', '1', '2', 'Richards, Mrs. Sidney (Emily Hocking)', 'female', '24', '2', '3', '29106', '18.75', '', 'S']\n",
      "['439', '0', '1', 'Fortune, Mr. Mark', 'male', '64', '1', '4', '19950', '263', 'C23 C25 C27', 'S']\n",
      "['440', '0', '2', 'Kvillner, Mr. Johan Henrik Johannesson', 'male', '31', '0', '0', 'C.A. 18723', '10.5', '', 'S']\n",
      "['441', '1', '2', 'Hart, Mrs. Benjamin (Esther Ada Bloomfield)', 'female', '45', '1', '1', 'F.C.C. 13529', '26.25', '', 'S']\n",
      "['442', '0', '3', 'Hampe, Mr. Leon', 'male', '20', '0', '0', '345769', '9.5', '', 'S']\n",
      "['443', '0', '3', 'Petterson, Mr. Johan Emil', 'male', '25', '1', '0', '347076', '7.775', '', 'S']\n",
      "['444', '1', '2', 'Reynaldo, Ms. Encarnacion', 'female', '28', '0', '0', '230434', '13', '', 'S']\n",
      "['445', '1', '3', 'Johannesen-Bratthammer, Mr. Bernt', 'male', '', '0', '0', '65306', '8.1125', '', 'S']\n",
      "['446', '1', '1', 'Dodge, Master. Washington', 'male', '4', '0', '2', '33638', '81.8583', 'A34', 'S']\n",
      "['447', '1', '2', 'Mellinger, Miss. Madeleine Violet', 'female', '13', '0', '1', '250644', '19.5', '', 'S']\n",
      "['448', '1', '1', 'Seward, Mr. Frederic Kimber', 'male', '34', '0', '0', '113794', '26.55', '', 'S']\n",
      "['449', '1', '3', 'Baclini, Miss. Marie Catherine', 'female', '5', '2', '1', '2666', '19.2583', '', 'C']\n",
      "['450', '1', '1', 'Peuchen, Major. Arthur Godfrey', 'male', '52', '0', '0', '113786', '30.5', 'C104', 'S']\n",
      "['451', '0', '2', 'West, Mr. Edwy Arthur', 'male', '36', '1', '2', 'C.A. 34651', '27.75', '', 'S']\n",
      "['452', '0', '3', 'Hagland, Mr. Ingvald Olai Olsen', 'male', '', '1', '0', '65303', '19.9667', '', 'S']\n",
      "['453', '0', '1', 'Foreman, Mr. Benjamin Laventall', 'male', '30', '0', '0', '113051', '27.75', 'C111', 'C']\n",
      "['454', '1', '1', 'Goldenberg, Mr. Samuel L', 'male', '49', '1', '0', '17453', '89.1042', 'C92', 'C']\n",
      "['455', '0', '3', 'Peduzzi, Mr. Joseph', 'male', '', '0', '0', 'A/5 2817', '8.05', '', 'S']\n",
      "['456', '1', '3', 'Jalsevac, Mr. Ivan', 'male', '29', '0', '0', '349240', '7.8958', '', 'C']\n",
      "['457', '0', '1', 'Millet, Mr. Francis Davis', 'male', '65', '0', '0', '13509', '26.55', 'E38', 'S']\n",
      "['458', '1', '1', 'Kenyon, Mrs. Frederick R (Marion)', 'female', '', '1', '0', '17464', '51.8625', 'D21', 'S']\n",
      "['459', '1', '2', 'Toomey, Miss. Ellen', 'female', '50', '0', '0', 'F.C.C. 13531', '10.5', '', 'S']\n",
      "['460', '0', '3', \"O'Connor, Mr. Maurice\", 'male', '', '0', '0', '371060', '7.75', '', 'Q']\n",
      "['461', '1', '1', 'Anderson, Mr. Harry', 'male', '48', '0', '0', '19952', '26.55', 'E12', 'S']\n",
      "['462', '0', '3', 'Morley, Mr. William', 'male', '34', '0', '0', '364506', '8.05', '', 'S']\n",
      "['463', '0', '1', 'Gee, Mr. Arthur H', 'male', '47', '0', '0', '111320', '38.5', 'E63', 'S']\n",
      "['464', '0', '2', 'Milling, Mr. Jacob Christian', 'male', '48', '0', '0', '234360', '13', '', 'S']\n",
      "['465', '0', '3', 'Maisner, Mr. Simon', 'male', '', '0', '0', 'A/S 2816', '8.05', '', 'S']\n",
      "['466', '0', '3', 'Goncalves, Mr. Manuel Estanslas', 'male', '38', '0', '0', 'SOTON/O.Q. 3101306', '7.05', '', 'S']\n",
      "['467', '0', '2', 'Campbell, Mr. William', 'male', '', '0', '0', '239853', '0', '', 'S']\n",
      "['468', '0', '1', 'Smart, Mr. John Montgomery', 'male', '56', '0', '0', '113792', '26.55', '', 'S']\n",
      "['469', '0', '3', 'Scanlan, Mr. James', 'male', '', '0', '0', '36209', '7.725', '', 'Q']\n",
      "['470', '1', '3', 'Baclini, Miss. Helene Barbara', 'female', '0.75', '2', '1', '2666', '19.2583', '', 'C']\n",
      "['471', '0', '3', 'Keefe, Mr. Arthur', 'male', '', '0', '0', '323592', '7.25', '', 'S']\n",
      "['472', '0', '3', 'Cacic, Mr. Luka', 'male', '38', '0', '0', '315089', '8.6625', '', 'S']\n",
      "['473', '1', '2', 'West, Mrs. Edwy Arthur (Ada Mary Worth)', 'female', '33', '1', '2', 'C.A. 34651', '27.75', '', 'S']\n",
      "['474', '1', '2', 'Jerwan, Mrs. Amin S (Marie Marthe Thuillard)', 'female', '23', '0', '0', 'SC/AH Basle 541', '13.7917', 'D', 'C']\n",
      "['475', '0', '3', 'Strandberg, Miss. Ida Sofia', 'female', '22', '0', '0', '7553', '9.8375', '', 'S']\n",
      "['476', '0', '1', 'Clifford, Mr. George Quincy', 'male', '', '0', '0', '110465', '52', 'A14', 'S']\n",
      "['477', '0', '2', 'Renouf, Mr. Peter Henry', 'male', '34', '1', '0', '31027', '21', '', 'S']\n",
      "['478', '0', '3', 'Braund, Mr. Lewis Richard', 'male', '29', '1', '0', '3460', '7.0458', '', 'S']\n",
      "['479', '0', '3', 'Karlsson, Mr. Nils August', 'male', '22', '0', '0', '350060', '7.5208', '', 'S']\n",
      "['480', '1', '3', 'Hirvonen, Miss. Hildur E', 'female', '2', '0', '1', '3101298', '12.2875', '', 'S']\n",
      "['481', '0', '3', 'Goodwin, Master. Harold Victor', 'male', '9', '5', '2', 'CA 2144', '46.9', '', 'S']\n",
      "['482', '0', '2', 'Frost, Mr. Anthony Wood \"Archie\"', 'male', '', '0', '0', '239854', '0', '', 'S']\n",
      "['483', '0', '3', 'Rouse, Mr. Richard Henry', 'male', '50', '0', '0', 'A/5 3594', '8.05', '', 'S']\n",
      "['484', '1', '3', 'Turkula, Mrs. (Hedwig)', 'female', '63', '0', '0', '4134', '9.5875', '', 'S']\n",
      "['485', '1', '1', 'Bishop, Mr. Dickinson H', 'male', '25', '1', '0', '11967', '91.0792', 'B49', 'C']\n",
      "['486', '0', '3', 'Lefebre, Miss. Jeannie', 'female', '', '3', '1', '4133', '25.4667', '', 'S']\n",
      "['487', '1', '1', 'Hoyt, Mrs. Frederick Maxfield (Jane Anne Forby)', 'female', '35', '1', '0', '19943', '90', 'C93', 'S']\n",
      "['488', '0', '1', 'Kent, Mr. Edward Austin', 'male', '58', '0', '0', '11771', '29.7', 'B37', 'C']\n",
      "['489', '0', '3', 'Somerton, Mr. Francis William', 'male', '30', '0', '0', 'A.5. 18509', '8.05', '', 'S']\n",
      "['490', '1', '3', 'Coutts, Master. Eden Leslie \"Neville\"', 'male', '9', '1', '1', 'C.A. 37671', '15.9', '', 'S']\n",
      "['491', '0', '3', 'Hagland, Mr. Konrad Mathias Reiersen', 'male', '', '1', '0', '65304', '19.9667', '', 'S']\n",
      "['492', '0', '3', 'Windelov, Mr. Einar', 'male', '21', '0', '0', 'SOTON/OQ 3101317', '7.25', '', 'S']\n",
      "['493', '0', '1', 'Molson, Mr. Harry Markland', 'male', '55', '0', '0', '113787', '30.5', 'C30', 'S']\n",
      "['494', '0', '1', 'Artagaveytia, Mr. Ramon', 'male', '71', '0', '0', 'PC 17609', '49.5042', '', 'C']\n",
      "['495', '0', '3', 'Stanley, Mr. Edward Roland', 'male', '21', '0', '0', 'A/4 45380', '8.05', '', 'S']\n",
      "['496', '0', '3', 'Yousseff, Mr. Gerious', 'male', '', '0', '0', '2627', '14.4583', '', 'C']\n",
      "['497', '1', '1', 'Eustis, Miss. Elizabeth Mussey', 'female', '54', '1', '0', '36947', '78.2667', 'D20', 'C']\n",
      "['498', '0', '3', 'Shellard, Mr. Frederick William', 'male', '', '0', '0', 'C.A. 6212', '15.1', '', 'S']\n",
      "['499', '0', '1', 'Allison, Mrs. Hudson J C (Bessie Waldo Daniels)', 'female', '25', '1', '2', '113781', '151.55', 'C22 C26', 'S']\n",
      "['500', '0', '3', 'Svensson, Mr. Olof', 'male', '24', '0', '0', '350035', '7.7958', '', 'S']\n",
      "['501', '0', '3', 'Calic, Mr. Petar', 'male', '17', '0', '0', '315086', '8.6625', '', 'S']\n",
      "['502', '0', '3', 'Canavan, Miss. Mary', 'female', '21', '0', '0', '364846', '7.75', '', 'Q']\n",
      "['503', '0', '3', \"O'Sullivan, Miss. Bridget Mary\", 'female', '', '0', '0', '330909', '7.6292', '', 'Q']\n",
      "['504', '0', '3', 'Laitinen, Miss. Kristina Sofia', 'female', '37', '0', '0', '4135', '9.5875', '', 'S']\n",
      "['505', '1', '1', 'Maioni, Miss. Roberta', 'female', '16', '0', '0', '110152', '86.5', 'B79', 'S']\n",
      "['506', '0', '1', 'Penasco y Castellana, Mr. Victor de Satode', 'male', '18', '1', '0', 'PC 17758', '108.9', 'C65', 'C']\n",
      "['507', '1', '2', 'Quick, Mrs. Frederick Charles (Jane Richards)', 'female', '33', '0', '2', '26360', '26', '', 'S']\n",
      "['508', '1', '1', 'Bradley, Mr. George (\"George Arthur Brayton\")', 'male', '', '0', '0', '111427', '26.55', '', 'S']\n",
      "['509', '0', '3', 'Olsen, Mr. Henry Margido', 'male', '28', '0', '0', 'C 4001', '22.525', '', 'S']\n",
      "['510', '1', '3', 'Lang, Mr. Fang', 'male', '26', '0', '0', '1601', '56.4958', '', 'S']\n",
      "['511', '1', '3', 'Daly, Mr. Eugene Patrick', 'male', '29', '0', '0', '382651', '7.75', '', 'Q']\n",
      "['512', '0', '3', 'Webber, Mr. James', 'male', '', '0', '0', 'SOTON/OQ 3101316', '8.05', '', 'S']\n",
      "['513', '1', '1', 'McGough, Mr. James Robert', 'male', '36', '0', '0', 'PC 17473', '26.2875', 'E25', 'S']\n",
      "['514', '1', '1', 'Rothschild, Mrs. Martin (Elizabeth L. Barrett)', 'female', '54', '1', '0', 'PC 17603', '59.4', '', 'C']\n",
      "['515', '0', '3', 'Coleff, Mr. Satio', 'male', '24', '0', '0', '349209', '7.4958', '', 'S']\n",
      "['516', '0', '1', 'Walker, Mr. William Anderson', 'male', '47', '0', '0', '36967', '34.0208', 'D46', 'S']\n",
      "['517', '1', '2', 'Lemore, Mrs. (Amelia Milley)', 'female', '34', '0', '0', 'C.A. 34260', '10.5', 'F33', 'S']\n",
      "['518', '0', '3', 'Ryan, Mr. Patrick', 'male', '', '0', '0', '371110', '24.15', '', 'Q']\n",
      "['519', '1', '2', 'Angle, Mrs. William A (Florence \"Mary\" Agnes Hughes)', 'female', '36', '1', '0', '226875', '26', '', 'S']\n",
      "['520', '0', '3', 'Pavlovic, Mr. Stefo', 'male', '32', '0', '0', '349242', '7.8958', '', 'S']\n",
      "['521', '1', '1', 'Perreault, Miss. Anne', 'female', '30', '0', '0', '12749', '93.5', 'B73', 'S']\n",
      "['522', '0', '3', 'Vovk, Mr. Janko', 'male', '22', '0', '0', '349252', '7.8958', '', 'S']\n",
      "['523', '0', '3', 'Lahoud, Mr. Sarkis', 'male', '', '0', '0', '2624', '7.225', '', 'C']\n",
      "['524', '1', '1', 'Hippach, Mrs. Louis Albert (Ida Sophia Fischer)', 'female', '44', '0', '1', '111361', '57.9792', 'B18', 'C']\n",
      "['525', '0', '3', 'Kassem, Mr. Fared', 'male', '', '0', '0', '2700', '7.2292', '', 'C']\n",
      "['526', '0', '3', 'Farrell, Mr. James', 'male', '40.5', '0', '0', '367232', '7.75', '', 'Q']\n",
      "['527', '1', '2', 'Ridsdale, Miss. Lucy', 'female', '50', '0', '0', 'W./C. 14258', '10.5', '', 'S']\n",
      "['528', '0', '1', 'Farthing, Mr. John', 'male', '', '0', '0', 'PC 17483', '221.7792', 'C95', 'S']\n",
      "['529', '0', '3', 'Salonen, Mr. Johan Werner', 'male', '39', '0', '0', '3101296', '7.925', '', 'S']\n",
      "['530', '0', '2', 'Hocking, Mr. Richard George', 'male', '23', '2', '1', '29104', '11.5', '', 'S']\n",
      "['531', '1', '2', 'Quick, Miss. Phyllis May', 'female', '2', '1', '1', '26360', '26', '', 'S']\n",
      "['532', '0', '3', 'Toufik, Mr. Nakli', 'male', '', '0', '0', '2641', '7.2292', '', 'C']\n",
      "['533', '0', '3', 'Elias, Mr. Joseph Jr', 'male', '17', '1', '1', '2690', '7.2292', '', 'C']\n",
      "['534', '1', '3', 'Peter, Mrs. Catherine (Catherine Rizk)', 'female', '', '0', '2', '2668', '22.3583', '', 'C']\n",
      "['535', '0', '3', 'Cacic, Miss. Marija', 'female', '30', '0', '0', '315084', '8.6625', '', 'S']\n",
      "['536', '1', '2', 'Hart, Miss. Eva Miriam', 'female', '7', '0', '2', 'F.C.C. 13529', '26.25', '', 'S']\n",
      "['537', '0', '1', 'Butt, Major. Archibald Willingham', 'male', '45', '0', '0', '113050', '26.55', 'B38', 'S']\n",
      "['538', '1', '1', 'LeRoy, Miss. Bertha', 'female', '30', '0', '0', 'PC 17761', '106.425', '', 'C']\n",
      "['539', '0', '3', 'Risien, Mr. Samuel Beard', 'male', '', '0', '0', '364498', '14.5', '', 'S']\n",
      "['540', '1', '1', 'Frolicher, Miss. Hedwig Margaritha', 'female', '22', '0', '2', '13568', '49.5', 'B39', 'C']\n",
      "['541', '1', '1', 'Crosby, Miss. Harriet R', 'female', '36', '0', '2', 'WE/P 5735', '71', 'B22', 'S']\n",
      "['542', '0', '3', 'Andersson, Miss. Ingeborg Constanzia', 'female', '9', '4', '2', '347082', '31.275', '', 'S']\n",
      "['543', '0', '3', 'Andersson, Miss. Sigrid Elisabeth', 'female', '11', '4', '2', '347082', '31.275', '', 'S']\n",
      "['544', '1', '2', 'Beane, Mr. Edward', 'male', '32', '1', '0', '2908', '26', '', 'S']\n",
      "['545', '0', '1', 'Douglas, Mr. Walter Donald', 'male', '50', '1', '0', 'PC 17761', '106.425', 'C86', 'C']\n",
      "['546', '0', '1', 'Nicholson, Mr. Arthur Ernest', 'male', '64', '0', '0', '693', '26', '', 'S']\n",
      "['547', '1', '2', 'Beane, Mrs. Edward (Ethel Clarke)', 'female', '19', '1', '0', '2908', '26', '', 'S']\n",
      "['548', '1', '2', 'Padro y Manent, Mr. Julian', 'male', '', '0', '0', 'SC/PARIS 2146', '13.8625', '', 'C']\n",
      "['549', '0', '3', 'Goldsmith, Mr. Frank John', 'male', '33', '1', '1', '363291', '20.525', '', 'S']\n",
      "['550', '1', '2', 'Davies, Master. John Morgan Jr', 'male', '8', '1', '1', 'C.A. 33112', '36.75', '', 'S']\n",
      "['551', '1', '1', 'Thayer, Mr. John Borland Jr', 'male', '17', '0', '2', '17421', '110.8833', 'C70', 'C']\n",
      "['552', '0', '2', 'Sharp, Mr. Percival James R', 'male', '27', '0', '0', '244358', '26', '', 'S']\n",
      "['553', '0', '3', \"O'Brien, Mr. Timothy\", 'male', '', '0', '0', '330979', '7.8292', '', 'Q']\n",
      "['554', '1', '3', 'Leeni, Mr. Fahim (\"Philip Zenni\")', 'male', '22', '0', '0', '2620', '7.225', '', 'C']\n",
      "['555', '1', '3', 'Ohman, Miss. Velin', 'female', '22', '0', '0', '347085', '7.775', '', 'S']\n",
      "['556', '0', '1', 'Wright, Mr. George', 'male', '62', '0', '0', '113807', '26.55', '', 'S']\n",
      "['557', '1', '1', 'Duff Gordon, Lady. (Lucille Christiana Sutherland) (\"Mrs Morgan\")', 'female', '48', '1', '0', '11755', '39.6', 'A16', 'C']\n",
      "['558', '0', '1', 'Robbins, Mr. Victor', 'male', '', '0', '0', 'PC 17757', '227.525', '', 'C']\n",
      "['559', '1', '1', 'Taussig, Mrs. Emil (Tillie Mandelbaum)', 'female', '39', '1', '1', '110413', '79.65', 'E67', 'S']\n",
      "['560', '1', '3', 'de Messemaeker, Mrs. Guillaume Joseph (Emma)', 'female', '36', '1', '0', '345572', '17.4', '', 'S']\n",
      "['561', '0', '3', 'Morrow, Mr. Thomas Rowan', 'male', '', '0', '0', '372622', '7.75', '', 'Q']\n",
      "['562', '0', '3', 'Sivic, Mr. Husein', 'male', '40', '0', '0', '349251', '7.8958', '', 'S']\n",
      "['563', '0', '2', 'Norman, Mr. Robert Douglas', 'male', '28', '0', '0', '218629', '13.5', '', 'S']\n",
      "['564', '0', '3', 'Simmons, Mr. John', 'male', '', '0', '0', 'SOTON/OQ 392082', '8.05', '', 'S']\n",
      "['565', '0', '3', 'Meanwell, Miss. (Marion Ogden)', 'female', '', '0', '0', 'SOTON/O.Q. 392087', '8.05', '', 'S']\n",
      "['566', '0', '3', 'Davies, Mr. Alfred J', 'male', '24', '2', '0', 'A/4 48871', '24.15', '', 'S']\n",
      "['567', '0', '3', 'Stoytcheff, Mr. Ilia', 'male', '19', '0', '0', '349205', '7.8958', '', 'S']\n",
      "['568', '0', '3', 'Palsson, Mrs. Nils (Alma Cornelia Berglund)', 'female', '29', '0', '4', '349909', '21.075', '', 'S']\n",
      "['569', '0', '3', 'Doharr, Mr. Tannous', 'male', '', '0', '0', '2686', '7.2292', '', 'C']\n",
      "['570', '1', '3', 'Jonsson, Mr. Carl', 'male', '32', '0', '0', '350417', '7.8542', '', 'S']\n",
      "['571', '1', '2', 'Harris, Mr. George', 'male', '62', '0', '0', 'S.W./PP 752', '10.5', '', 'S']\n",
      "['572', '1', '1', 'Appleton, Mrs. Edward Dale (Charlotte Lamson)', 'female', '53', '2', '0', '11769', '51.4792', 'C101', 'S']\n",
      "['573', '1', '1', 'Flynn, Mr. John Irwin (\"Irving\")', 'male', '36', '0', '0', 'PC 17474', '26.3875', 'E25', 'S']\n",
      "['574', '1', '3', 'Kelly, Miss. Mary', 'female', '', '0', '0', '14312', '7.75', '', 'Q']\n",
      "['575', '0', '3', 'Rush, Mr. Alfred George John', 'male', '16', '0', '0', 'A/4. 20589', '8.05', '', 'S']\n",
      "['576', '0', '3', 'Patchett, Mr. George', 'male', '19', '0', '0', '358585', '14.5', '', 'S']\n",
      "['577', '1', '2', 'Garside, Miss. Ethel', 'female', '34', '0', '0', '243880', '13', '', 'S']\n",
      "['578', '1', '1', 'Silvey, Mrs. William Baird (Alice Munger)', 'female', '39', '1', '0', '13507', '55.9', 'E44', 'S']\n",
      "['579', '0', '3', 'Caram, Mrs. Joseph (Maria Elias)', 'female', '', '1', '0', '2689', '14.4583', '', 'C']\n",
      "['580', '1', '3', 'Jussila, Mr. Eiriik', 'male', '32', '0', '0', 'STON/O 2. 3101286', '7.925', '', 'S']\n",
      "['581', '1', '2', 'Christy, Miss. Julie Rachel', 'female', '25', '1', '1', '237789', '30', '', 'S']\n",
      "['582', '1', '1', 'Thayer, Mrs. John Borland (Marian Longstreth Morris)', 'female', '39', '1', '1', '17421', '110.8833', 'C68', 'C']\n",
      "['583', '0', '2', 'Downton, Mr. William James', 'male', '54', '0', '0', '28403', '26', '', 'S']\n",
      "['584', '0', '1', 'Ross, Mr. John Hugo', 'male', '36', '0', '0', '13049', '40.125', 'A10', 'C']\n",
      "['585', '0', '3', 'Paulner, Mr. Uscher', 'male', '', '0', '0', '3411', '8.7125', '', 'C']\n",
      "['586', '1', '1', 'Taussig, Miss. Ruth', 'female', '18', '0', '2', '110413', '79.65', 'E68', 'S']\n",
      "['587', '0', '2', 'Jarvis, Mr. John Denzil', 'male', '47', '0', '0', '237565', '15', '', 'S']\n",
      "['588', '1', '1', 'Frolicher-Stehli, Mr. Maxmillian', 'male', '60', '1', '1', '13567', '79.2', 'B41', 'C']\n",
      "['589', '0', '3', 'Gilinski, Mr. Eliezer', 'male', '22', '0', '0', '14973', '8.05', '', 'S']\n",
      "['590', '0', '3', 'Murdlin, Mr. Joseph', 'male', '', '0', '0', 'A./5. 3235', '8.05', '', 'S']\n",
      "['591', '0', '3', 'Rintamaki, Mr. Matti', 'male', '35', '0', '0', 'STON/O 2. 3101273', '7.125', '', 'S']\n",
      "['592', '1', '1', 'Stephenson, Mrs. Walter Bertram (Martha Eustis)', 'female', '52', '1', '0', '36947', '78.2667', 'D20', 'C']\n",
      "['593', '0', '3', 'Elsbury, Mr. William James', 'male', '47', '0', '0', 'A/5 3902', '7.25', '', 'S']\n",
      "['594', '0', '3', 'Bourke, Miss. Mary', 'female', '', '0', '2', '364848', '7.75', '', 'Q']\n",
      "['595', '0', '2', 'Chapman, Mr. John Henry', 'male', '37', '1', '0', 'SC/AH 29037', '26', '', 'S']\n",
      "['596', '0', '3', 'Van Impe, Mr. Jean Baptiste', 'male', '36', '1', '1', '345773', '24.15', '', 'S']\n",
      "['597', '1', '2', 'Leitch, Miss. Jessie Wills', 'female', '', '0', '0', '248727', '33', '', 'S']\n",
      "['598', '0', '3', 'Johnson, Mr. Alfred', 'male', '49', '0', '0', 'LINE', '0', '', 'S']\n",
      "['599', '0', '3', 'Boulos, Mr. Hanna', 'male', '', '0', '0', '2664', '7.225', '', 'C']\n",
      "['600', '1', '1', 'Duff Gordon, Sir. Cosmo Edmund (\"Mr Morgan\")', 'male', '49', '1', '0', 'PC 17485', '56.9292', 'A20', 'C']\n",
      "['601', '1', '2', 'Jacobsohn, Mrs. Sidney Samuel (Amy Frances Christy)', 'female', '24', '2', '1', '243847', '27', '', 'S']\n",
      "['602', '0', '3', 'Slabenoff, Mr. Petco', 'male', '', '0', '0', '349214', '7.8958', '', 'S']\n",
      "['603', '0', '1', 'Harrington, Mr. Charles H', 'male', '', '0', '0', '113796', '42.4', '', 'S']\n",
      "['604', '0', '3', 'Torber, Mr. Ernst William', 'male', '44', '0', '0', '364511', '8.05', '', 'S']\n",
      "['605', '1', '1', 'Homer, Mr. Harry (\"Mr E Haven\")', 'male', '35', '0', '0', '111426', '26.55', '', 'C']\n",
      "['606', '0', '3', 'Lindell, Mr. Edvard Bengtsson', 'male', '36', '1', '0', '349910', '15.55', '', 'S']\n",
      "['607', '0', '3', 'Karaic, Mr. Milan', 'male', '30', '0', '0', '349246', '7.8958', '', 'S']\n",
      "['608', '1', '1', 'Daniel, Mr. Robert Williams', 'male', '27', '0', '0', '113804', '30.5', '', 'S']\n",
      "['609', '1', '2', 'Laroche, Mrs. Joseph (Juliette Marie Louise Lafargue)', 'female', '22', '1', '2', 'SC/Paris 2123', '41.5792', '', 'C']\n",
      "['610', '1', '1', 'Shutes, Miss. Elizabeth W', 'female', '40', '0', '0', 'PC 17582', '153.4625', 'C125', 'S']\n",
      "['611', '0', '3', 'Andersson, Mrs. Anders Johan (Alfrida Konstantia Brogren)', 'female', '39', '1', '5', '347082', '31.275', '', 'S']\n",
      "['612', '0', '3', 'Jardin, Mr. Jose Neto', 'male', '', '0', '0', 'SOTON/O.Q. 3101305', '7.05', '', 'S']\n",
      "['613', '1', '3', 'Murphy, Miss. Margaret Jane', 'female', '', '1', '0', '367230', '15.5', '', 'Q']\n",
      "['614', '0', '3', 'Horgan, Mr. John', 'male', '', '0', '0', '370377', '7.75', '', 'Q']\n",
      "['615', '0', '3', 'Brocklebank, Mr. William Alfred', 'male', '35', '0', '0', '364512', '8.05', '', 'S']\n",
      "['616', '1', '2', 'Herman, Miss. Alice', 'female', '24', '1', '2', '220845', '65', '', 'S']\n",
      "['617', '0', '3', 'Danbom, Mr. Ernst Gilbert', 'male', '34', '1', '1', '347080', '14.4', '', 'S']\n",
      "['618', '0', '3', 'Lobb, Mrs. William Arthur (Cordelia K Stanlick)', 'female', '26', '1', '0', 'A/5. 3336', '16.1', '', 'S']\n",
      "['619', '1', '2', 'Becker, Miss. Marion Louise', 'female', '4', '2', '1', '230136', '39', 'F4', 'S']\n",
      "['620', '0', '2', 'Gavey, Mr. Lawrence', 'male', '26', '0', '0', '31028', '10.5', '', 'S']\n",
      "['621', '0', '3', 'Yasbeck, Mr. Antoni', 'male', '27', '1', '0', '2659', '14.4542', '', 'C']\n",
      "['622', '1', '1', 'Kimball, Mr. Edwin Nelson Jr', 'male', '42', '1', '0', '11753', '52.5542', 'D19', 'S']\n",
      "['623', '1', '3', 'Nakid, Mr. Sahid', 'male', '20', '1', '1', '2653', '15.7417', '', 'C']\n",
      "['624', '0', '3', 'Hansen, Mr. Henry Damsgaard', 'male', '21', '0', '0', '350029', '7.8542', '', 'S']\n",
      "['625', '0', '3', 'Bowen, Mr. David John \"Dai\"', 'male', '21', '0', '0', '54636', '16.1', '', 'S']\n",
      "['626', '0', '1', 'Sutton, Mr. Frederick', 'male', '61', '0', '0', '36963', '32.3208', 'D50', 'S']\n",
      "['627', '0', '2', 'Kirkland, Rev. Charles Leonard', 'male', '57', '0', '0', '219533', '12.35', '', 'Q']\n",
      "['628', '1', '1', 'Longley, Miss. Gretchen Fiske', 'female', '21', '0', '0', '13502', '77.9583', 'D9', 'S']\n",
      "['629', '0', '3', 'Bostandyeff, Mr. Guentcho', 'male', '26', '0', '0', '349224', '7.8958', '', 'S']\n",
      "['630', '0', '3', \"O'Connell, Mr. Patrick D\", 'male', '', '0', '0', '334912', '7.7333', '', 'Q']\n",
      "['631', '1', '1', 'Barkworth, Mr. Algernon Henry Wilson', 'male', '80', '0', '0', '27042', '30', 'A23', 'S']\n",
      "['632', '0', '3', 'Lundahl, Mr. Johan Svensson', 'male', '51', '0', '0', '347743', '7.0542', '', 'S']\n",
      "['633', '1', '1', 'Stahelin-Maeglin, Dr. Max', 'male', '32', '0', '0', '13214', '30.5', 'B50', 'C']\n",
      "['634', '0', '1', 'Parr, Mr. William Henry Marsh', 'male', '', '0', '0', '112052', '0', '', 'S']\n",
      "['635', '0', '3', 'Skoog, Miss. Mabel', 'female', '9', '3', '2', '347088', '27.9', '', 'S']\n",
      "['636', '1', '2', 'Davis, Miss. Mary', 'female', '28', '0', '0', '237668', '13', '', 'S']\n",
      "['637', '0', '3', 'Leinonen, Mr. Antti Gustaf', 'male', '32', '0', '0', 'STON/O 2. 3101292', '7.925', '', 'S']\n",
      "['638', '0', '2', 'Collyer, Mr. Harvey', 'male', '31', '1', '1', 'C.A. 31921', '26.25', '', 'S']\n",
      "['639', '0', '3', 'Panula, Mrs. Juha (Maria Emilia Ojala)', 'female', '41', '0', '5', '3101295', '39.6875', '', 'S']\n",
      "['640', '0', '3', 'Thorneycroft, Mr. Percival', 'male', '', '1', '0', '376564', '16.1', '', 'S']\n",
      "['641', '0', '3', 'Jensen, Mr. Hans Peder', 'male', '20', '0', '0', '350050', '7.8542', '', 'S']\n",
      "['642', '1', '1', 'Sagesser, Mlle. Emma', 'female', '24', '0', '0', 'PC 17477', '69.3', 'B35', 'C']\n",
      "['643', '0', '3', 'Skoog, Miss. Margit Elizabeth', 'female', '2', '3', '2', '347088', '27.9', '', 'S']\n",
      "['644', '1', '3', 'Foo, Mr. Choong', 'male', '', '0', '0', '1601', '56.4958', '', 'S']\n",
      "['645', '1', '3', 'Baclini, Miss. Eugenie', 'female', '0.75', '2', '1', '2666', '19.2583', '', 'C']\n",
      "['646', '1', '1', 'Harper, Mr. Henry Sleeper', 'male', '48', '1', '0', 'PC 17572', '76.7292', 'D33', 'C']\n",
      "['647', '0', '3', 'Cor, Mr. Liudevit', 'male', '19', '0', '0', '349231', '7.8958', '', 'S']\n",
      "['648', '1', '1', 'Simonius-Blumer, Col. Oberst Alfons', 'male', '56', '0', '0', '13213', '35.5', 'A26', 'C']\n",
      "['649', '0', '3', 'Willey, Mr. Edward', 'male', '', '0', '0', 'S.O./P.P. 751', '7.55', '', 'S']\n",
      "['650', '1', '3', 'Stanley, Miss. Amy Zillah Elsie', 'female', '23', '0', '0', 'CA. 2314', '7.55', '', 'S']\n",
      "['651', '0', '3', 'Mitkoff, Mr. Mito', 'male', '', '0', '0', '349221', '7.8958', '', 'S']\n",
      "['652', '1', '2', 'Doling, Miss. Elsie', 'female', '18', '0', '1', '231919', '23', '', 'S']\n",
      "['653', '0', '3', 'Kalvik, Mr. Johannes Halvorsen', 'male', '21', '0', '0', '8475', '8.4333', '', 'S']\n",
      "['654', '1', '3', 'O\\'Leary, Miss. Hanora \"Norah\"', 'female', '', '0', '0', '330919', '7.8292', '', 'Q']\n",
      "['655', '0', '3', 'Hegarty, Miss. Hanora \"Nora\"', 'female', '18', '0', '0', '365226', '6.75', '', 'Q']\n",
      "['656', '0', '2', 'Hickman, Mr. Leonard Mark', 'male', '24', '2', '0', 'S.O.C. 14879', '73.5', '', 'S']\n",
      "['657', '0', '3', 'Radeff, Mr. Alexander', 'male', '', '0', '0', '349223', '7.8958', '', 'S']\n",
      "['658', '0', '3', 'Bourke, Mrs. John (Catherine)', 'female', '32', '1', '1', '364849', '15.5', '', 'Q']\n",
      "['659', '0', '2', 'Eitemiller, Mr. George Floyd', 'male', '23', '0', '0', '29751', '13', '', 'S']\n",
      "['660', '0', '1', 'Newell, Mr. Arthur Webster', 'male', '58', '0', '2', '35273', '113.275', 'D48', 'C']\n",
      "['661', '1', '1', 'Frauenthal, Dr. Henry William', 'male', '50', '2', '0', 'PC 17611', '133.65', '', 'S']\n",
      "['662', '0', '3', 'Badt, Mr. Mohamed', 'male', '40', '0', '0', '2623', '7.225', '', 'C']\n",
      "['663', '0', '1', 'Colley, Mr. Edward Pomeroy', 'male', '47', '0', '0', '5727', '25.5875', 'E58', 'S']\n",
      "['664', '0', '3', 'Coleff, Mr. Peju', 'male', '36', '0', '0', '349210', '7.4958', '', 'S']\n",
      "['665', '1', '3', 'Lindqvist, Mr. Eino William', 'male', '20', '1', '0', 'STON/O 2. 3101285', '7.925', '', 'S']\n",
      "['666', '0', '2', 'Hickman, Mr. Lewis', 'male', '32', '2', '0', 'S.O.C. 14879', '73.5', '', 'S']\n",
      "['667', '0', '2', 'Butler, Mr. Reginald Fenton', 'male', '25', '0', '0', '234686', '13', '', 'S']\n",
      "['668', '0', '3', 'Rommetvedt, Mr. Knud Paust', 'male', '', '0', '0', '312993', '7.775', '', 'S']\n",
      "['669', '0', '3', 'Cook, Mr. Jacob', 'male', '43', '0', '0', 'A/5 3536', '8.05', '', 'S']\n",
      "['670', '1', '1', 'Taylor, Mrs. Elmer Zebley (Juliet Cummins Wright)', 'female', '', '1', '0', '19996', '52', 'C126', 'S']\n",
      "['671', '1', '2', 'Brown, Mrs. Thomas William Solomon (Elizabeth Catherine Ford)', 'female', '40', '1', '1', '29750', '39', '', 'S']\n",
      "['672', '0', '1', 'Davidson, Mr. Thornton', 'male', '31', '1', '0', 'F.C. 12750', '52', 'B71', 'S']\n",
      "['673', '0', '2', 'Mitchell, Mr. Henry Michael', 'male', '70', '0', '0', 'C.A. 24580', '10.5', '', 'S']\n",
      "['674', '1', '2', 'Wilhelms, Mr. Charles', 'male', '31', '0', '0', '244270', '13', '', 'S']\n",
      "['675', '0', '2', 'Watson, Mr. Ennis Hastings', 'male', '', '0', '0', '239856', '0', '', 'S']\n",
      "['676', '0', '3', 'Edvardsson, Mr. Gustaf Hjalmar', 'male', '18', '0', '0', '349912', '7.775', '', 'S']\n",
      "['677', '0', '3', 'Sawyer, Mr. Frederick Charles', 'male', '24.5', '0', '0', '342826', '8.05', '', 'S']\n",
      "['678', '1', '3', 'Turja, Miss. Anna Sofia', 'female', '18', '0', '0', '4138', '9.8417', '', 'S']\n",
      "['679', '0', '3', 'Goodwin, Mrs. Frederick (Augusta Tyler)', 'female', '43', '1', '6', 'CA 2144', '46.9', '', 'S']\n",
      "['680', '1', '1', 'Cardeza, Mr. Thomas Drake Martinez', 'male', '36', '0', '1', 'PC 17755', '512.3292', 'B51 B53 B55', 'C']\n",
      "['681', '0', '3', 'Peters, Miss. Katie', 'female', '', '0', '0', '330935', '8.1375', '', 'Q']\n",
      "['682', '1', '1', 'Hassab, Mr. Hammad', 'male', '27', '0', '0', 'PC 17572', '76.7292', 'D49', 'C']\n",
      "['683', '0', '3', 'Olsvigen, Mr. Thor Anderson', 'male', '20', '0', '0', '6563', '9.225', '', 'S']\n",
      "['684', '0', '3', 'Goodwin, Mr. Charles Edward', 'male', '14', '5', '2', 'CA 2144', '46.9', '', 'S']\n",
      "['685', '0', '2', 'Brown, Mr. Thomas William Solomon', 'male', '60', '1', '1', '29750', '39', '', 'S']\n",
      "['686', '0', '2', 'Laroche, Mr. Joseph Philippe Lemercier', 'male', '25', '1', '2', 'SC/Paris 2123', '41.5792', '', 'C']\n",
      "['687', '0', '3', 'Panula, Mr. Jaako Arnold', 'male', '14', '4', '1', '3101295', '39.6875', '', 'S']\n",
      "['688', '0', '3', 'Dakic, Mr. Branko', 'male', '19', '0', '0', '349228', '10.1708', '', 'S']\n",
      "['689', '0', '3', 'Fischer, Mr. Eberhard Thelander', 'male', '18', '0', '0', '350036', '7.7958', '', 'S']\n",
      "['690', '1', '1', 'Madill, Miss. Georgette Alexandra', 'female', '15', '0', '1', '24160', '211.3375', 'B5', 'S']\n",
      "['691', '1', '1', 'Dick, Mr. Albert Adrian', 'male', '31', '1', '0', '17474', '57', 'B20', 'S']\n",
      "['692', '1', '3', 'Karun, Miss. Manca', 'female', '4', '0', '1', '349256', '13.4167', '', 'C']\n",
      "['693', '1', '3', 'Lam, Mr. Ali', 'male', '', '0', '0', '1601', '56.4958', '', 'S']\n",
      "['694', '0', '3', 'Saad, Mr. Khalil', 'male', '25', '0', '0', '2672', '7.225', '', 'C']\n",
      "['695', '0', '1', 'Weir, Col. John', 'male', '60', '0', '0', '113800', '26.55', '', 'S']\n",
      "['696', '0', '2', 'Chapman, Mr. Charles Henry', 'male', '52', '0', '0', '248731', '13.5', '', 'S']\n",
      "['697', '0', '3', 'Kelly, Mr. James', 'male', '44', '0', '0', '363592', '8.05', '', 'S']\n",
      "['698', '1', '3', 'Mullens, Miss. Katherine \"Katie\"', 'female', '', '0', '0', '35852', '7.7333', '', 'Q']\n",
      "['699', '0', '1', 'Thayer, Mr. John Borland', 'male', '49', '1', '1', '17421', '110.8833', 'C68', 'C']\n",
      "['700', '0', '3', 'Humblen, Mr. Adolf Mathias Nicolai Olsen', 'male', '42', '0', '0', '348121', '7.65', 'F G63', 'S']\n",
      "['701', '1', '1', 'Astor, Mrs. John Jacob (Madeleine Talmadge Force)', 'female', '18', '1', '0', 'PC 17757', '227.525', 'C62 C64', 'C']\n",
      "['702', '1', '1', 'Silverthorne, Mr. Spencer Victor', 'male', '35', '0', '0', 'PC 17475', '26.2875', 'E24', 'S']\n",
      "['703', '0', '3', 'Barbara, Miss. Saiide', 'female', '18', '0', '1', '2691', '14.4542', '', 'C']\n",
      "['704', '0', '3', 'Gallagher, Mr. Martin', 'male', '25', '0', '0', '36864', '7.7417', '', 'Q']\n",
      "['705', '0', '3', 'Hansen, Mr. Henrik Juul', 'male', '26', '1', '0', '350025', '7.8542', '', 'S']\n",
      "['706', '0', '2', 'Morley, Mr. Henry Samuel (\"Mr Henry Marshall\")', 'male', '39', '0', '0', '250655', '26', '', 'S']\n",
      "['707', '1', '2', 'Kelly, Mrs. Florence \"Fannie\"', 'female', '45', '0', '0', '223596', '13.5', '', 'S']\n",
      "['708', '1', '1', 'Calderhead, Mr. Edward Pennington', 'male', '42', '0', '0', 'PC 17476', '26.2875', 'E24', 'S']\n",
      "['709', '1', '1', 'Cleaver, Miss. Alice', 'female', '22', '0', '0', '113781', '151.55', '', 'S']\n",
      "['710', '1', '3', 'Moubarek, Master. Halim Gonios (\"William George\")', 'male', '', '1', '1', '2661', '15.2458', '', 'C']\n",
      "['711', '1', '1', 'Mayne, Mlle. Berthe Antonine (\"Mrs de Villiers\")', 'female', '24', '0', '0', 'PC 17482', '49.5042', 'C90', 'C']\n",
      "['712', '0', '1', 'Klaber, Mr. Herman', 'male', '', '0', '0', '113028', '26.55', 'C124', 'S']\n",
      "['713', '1', '1', 'Taylor, Mr. Elmer Zebley', 'male', '48', '1', '0', '19996', '52', 'C126', 'S']\n",
      "['714', '0', '3', 'Larsson, Mr. August Viktor', 'male', '29', '0', '0', '7545', '9.4833', '', 'S']\n",
      "['715', '0', '2', 'Greenberg, Mr. Samuel', 'male', '52', '0', '0', '250647', '13', '', 'S']\n",
      "['716', '0', '3', 'Soholt, Mr. Peter Andreas Lauritz Andersen', 'male', '19', '0', '0', '348124', '7.65', 'F G73', 'S']\n",
      "['717', '1', '1', 'Endres, Miss. Caroline Louise', 'female', '38', '0', '0', 'PC 17757', '227.525', 'C45', 'C']\n",
      "['718', '1', '2', 'Troutt, Miss. Edwina Celia \"Winnie\"', 'female', '27', '0', '0', '34218', '10.5', 'E101', 'S']\n",
      "['719', '0', '3', 'McEvoy, Mr. Michael', 'male', '', '0', '0', '36568', '15.5', '', 'Q']\n",
      "['720', '0', '3', 'Johnson, Mr. Malkolm Joackim', 'male', '33', '0', '0', '347062', '7.775', '', 'S']\n",
      "['721', '1', '2', 'Harper, Miss. Annie Jessie \"Nina\"', 'female', '6', '0', '1', '248727', '33', '', 'S']\n",
      "['722', '0', '3', 'Jensen, Mr. Svend Lauritz', 'male', '17', '1', '0', '350048', '7.0542', '', 'S']\n",
      "['723', '0', '2', 'Gillespie, Mr. William Henry', 'male', '34', '0', '0', '12233', '13', '', 'S']\n",
      "['724', '0', '2', 'Hodges, Mr. Henry Price', 'male', '50', '0', '0', '250643', '13', '', 'S']\n",
      "['725', '1', '1', 'Chambers, Mr. Norman Campbell', 'male', '27', '1', '0', '113806', '53.1', 'E8', 'S']\n",
      "['726', '0', '3', 'Oreskovic, Mr. Luka', 'male', '20', '0', '0', '315094', '8.6625', '', 'S']\n",
      "['727', '1', '2', 'Renouf, Mrs. Peter Henry (Lillian Jefferys)', 'female', '30', '3', '0', '31027', '21', '', 'S']\n",
      "['728', '1', '3', 'Mannion, Miss. Margareth', 'female', '', '0', '0', '36866', '7.7375', '', 'Q']\n",
      "['729', '0', '2', 'Bryhl, Mr. Kurt Arnold Gottfrid', 'male', '25', '1', '0', '236853', '26', '', 'S']\n",
      "['730', '0', '3', 'Ilmakangas, Miss. Pieta Sofia', 'female', '25', '1', '0', 'STON/O2. 3101271', '7.925', '', 'S']\n",
      "['731', '1', '1', 'Allen, Miss. Elisabeth Walton', 'female', '29', '0', '0', '24160', '211.3375', 'B5', 'S']\n",
      "['732', '0', '3', 'Hassan, Mr. Houssein G N', 'male', '11', '0', '0', '2699', '18.7875', '', 'C']\n",
      "['733', '0', '2', 'Knight, Mr. Robert J', 'male', '', '0', '0', '239855', '0', '', 'S']\n",
      "['734', '0', '2', 'Berriman, Mr. William John', 'male', '23', '0', '0', '28425', '13', '', 'S']\n",
      "['735', '0', '2', 'Troupiansky, Mr. Moses Aaron', 'male', '23', '0', '0', '233639', '13', '', 'S']\n",
      "['736', '0', '3', 'Williams, Mr. Leslie', 'male', '28.5', '0', '0', '54636', '16.1', '', 'S']\n",
      "['737', '0', '3', 'Ford, Mrs. Edward (Margaret Ann Watson)', 'female', '48', '1', '3', 'W./C. 6608', '34.375', '', 'S']\n",
      "['738', '1', '1', 'Lesurer, Mr. Gustave J', 'male', '35', '0', '0', 'PC 17755', '512.3292', 'B101', 'C']\n",
      "['739', '0', '3', 'Ivanoff, Mr. Kanio', 'male', '', '0', '0', '349201', '7.8958', '', 'S']\n",
      "['740', '0', '3', 'Nankoff, Mr. Minko', 'male', '', '0', '0', '349218', '7.8958', '', 'S']\n",
      "['741', '1', '1', 'Hawksford, Mr. Walter James', 'male', '', '0', '0', '16988', '30', 'D45', 'S']\n",
      "['742', '0', '1', 'Cavendish, Mr. Tyrell William', 'male', '36', '1', '0', '19877', '78.85', 'C46', 'S']\n",
      "['743', '1', '1', 'Ryerson, Miss. Susan Parker \"Suzette\"', 'female', '21', '2', '2', 'PC 17608', '262.375', 'B57 B59 B63 B66', 'C']\n",
      "['744', '0', '3', 'McNamee, Mr. Neal', 'male', '24', '1', '0', '376566', '16.1', '', 'S']\n",
      "['745', '1', '3', 'Stranden, Mr. Juho', 'male', '31', '0', '0', 'STON/O 2. 3101288', '7.925', '', 'S']\n",
      "['746', '0', '1', 'Crosby, Capt. Edward Gifford', 'male', '70', '1', '1', 'WE/P 5735', '71', 'B22', 'S']\n",
      "['747', '0', '3', 'Abbott, Mr. Rossmore Edward', 'male', '16', '1', '1', 'C.A. 2673', '20.25', '', 'S']\n",
      "['748', '1', '2', 'Sinkkonen, Miss. Anna', 'female', '30', '0', '0', '250648', '13', '', 'S']\n",
      "['749', '0', '1', 'Marvin, Mr. Daniel Warner', 'male', '19', '1', '0', '113773', '53.1', 'D30', 'S']\n",
      "['750', '0', '3', 'Connaghton, Mr. Michael', 'male', '31', '0', '0', '335097', '7.75', '', 'Q']\n",
      "['751', '1', '2', 'Wells, Miss. Joan', 'female', '4', '1', '1', '29103', '23', '', 'S']\n",
      "['752', '1', '3', 'Moor, Master. Meier', 'male', '6', '0', '1', '392096', '12.475', 'E121', 'S']\n",
      "['753', '0', '3', 'Vande Velde, Mr. Johannes Joseph', 'male', '33', '0', '0', '345780', '9.5', '', 'S']\n",
      "['754', '0', '3', 'Jonkoff, Mr. Lalio', 'male', '23', '0', '0', '349204', '7.8958', '', 'S']\n",
      "['755', '1', '2', 'Herman, Mrs. Samuel (Jane Laver)', 'female', '48', '1', '2', '220845', '65', '', 'S']\n",
      "['756', '1', '2', 'Hamalainen, Master. Viljo', 'male', '0.67', '1', '1', '250649', '14.5', '', 'S']\n",
      "['757', '0', '3', 'Carlsson, Mr. August Sigfrid', 'male', '28', '0', '0', '350042', '7.7958', '', 'S']\n",
      "['758', '0', '2', 'Bailey, Mr. Percy Andrew', 'male', '18', '0', '0', '29108', '11.5', '', 'S']\n",
      "['759', '0', '3', 'Theobald, Mr. Thomas Leonard', 'male', '34', '0', '0', '363294', '8.05', '', 'S']\n",
      "['760', '1', '1', 'Rothes, the Countess. of (Lucy Noel Martha Dyer-Edwards)', 'female', '33', '0', '0', '110152', '86.5', 'B77', 'S']\n",
      "['761', '0', '3', 'Garfirth, Mr. John', 'male', '', '0', '0', '358585', '14.5', '', 'S']\n",
      "['762', '0', '3', 'Nirva, Mr. Iisakki Antino Aijo', 'male', '41', '0', '0', 'SOTON/O2 3101272', '7.125', '', 'S']\n",
      "['763', '1', '3', 'Barah, Mr. Hanna Assi', 'male', '20', '0', '0', '2663', '7.2292', '', 'C']\n",
      "['764', '1', '1', 'Carter, Mrs. William Ernest (Lucile Polk)', 'female', '36', '1', '2', '113760', '120', 'B96 B98', 'S']\n",
      "['765', '0', '3', 'Eklund, Mr. Hans Linus', 'male', '16', '0', '0', '347074', '7.775', '', 'S']\n",
      "['766', '1', '1', 'Hogeboom, Mrs. John C (Anna Andrews)', 'female', '51', '1', '0', '13502', '77.9583', 'D11', 'S']\n",
      "['767', '0', '1', 'Brewe, Dr. Arthur Jackson', 'male', '', '0', '0', '112379', '39.6', '', 'C']\n",
      "['768', '0', '3', 'Mangan, Miss. Mary', 'female', '30.5', '0', '0', '364850', '7.75', '', 'Q']\n",
      "['769', '0', '3', 'Moran, Mr. Daniel J', 'male', '', '1', '0', '371110', '24.15', '', 'Q']\n",
      "['770', '0', '3', 'Gronnestad, Mr. Daniel Danielsen', 'male', '32', '0', '0', '8471', '8.3625', '', 'S']\n",
      "['771', '0', '3', 'Lievens, Mr. Rene Aime', 'male', '24', '0', '0', '345781', '9.5', '', 'S']\n",
      "['772', '0', '3', 'Jensen, Mr. Niels Peder', 'male', '48', '0', '0', '350047', '7.8542', '', 'S']\n",
      "['773', '0', '2', 'Mack, Mrs. (Mary)', 'female', '57', '0', '0', 'S.O./P.P. 3', '10.5', 'E77', 'S']\n",
      "['774', '0', '3', 'Elias, Mr. Dibo', 'male', '', '0', '0', '2674', '7.225', '', 'C']\n",
      "['775', '1', '2', 'Hocking, Mrs. Elizabeth (Eliza Needs)', 'female', '54', '1', '3', '29105', '23', '', 'S']\n",
      "['776', '0', '3', 'Myhrman, Mr. Pehr Fabian Oliver Malkolm', 'male', '18', '0', '0', '347078', '7.75', '', 'S']\n",
      "['777', '0', '3', 'Tobin, Mr. Roger', 'male', '', '0', '0', '383121', '7.75', 'F38', 'Q']\n",
      "['778', '1', '3', 'Emanuel, Miss. Virginia Ethel', 'female', '5', '0', '0', '364516', '12.475', '', 'S']\n",
      "['779', '0', '3', 'Kilgannon, Mr. Thomas J', 'male', '', '0', '0', '36865', '7.7375', '', 'Q']\n",
      "['780', '1', '1', 'Robert, Mrs. Edward Scott (Elisabeth Walton McMillan)', 'female', '43', '0', '1', '24160', '211.3375', 'B3', 'S']\n",
      "['781', '1', '3', 'Ayoub, Miss. Banoura', 'female', '13', '0', '0', '2687', '7.2292', '', 'C']\n",
      "['782', '1', '1', 'Dick, Mrs. Albert Adrian (Vera Gillespie)', 'female', '17', '1', '0', '17474', '57', 'B20', 'S']\n",
      "['783', '0', '1', 'Long, Mr. Milton Clyde', 'male', '29', '0', '0', '113501', '30', 'D6', 'S']\n",
      "['784', '0', '3', 'Johnston, Mr. Andrew G', 'male', '', '1', '2', 'W./C. 6607', '23.45', '', 'S']\n",
      "['785', '0', '3', 'Ali, Mr. William', 'male', '25', '0', '0', 'SOTON/O.Q. 3101312', '7.05', '', 'S']\n",
      "['786', '0', '3', 'Harmer, Mr. Abraham (David Lishin)', 'male', '25', '0', '0', '374887', '7.25', '', 'S']\n",
      "['787', '1', '3', 'Sjoblom, Miss. Anna Sofia', 'female', '18', '0', '0', '3101265', '7.4958', '', 'S']\n",
      "['788', '0', '3', 'Rice, Master. George Hugh', 'male', '8', '4', '1', '382652', '29.125', '', 'Q']\n",
      "['789', '1', '3', 'Dean, Master. Bertram Vere', 'male', '1', '1', '2', 'C.A. 2315', '20.575', '', 'S']\n",
      "['790', '0', '1', 'Guggenheim, Mr. Benjamin', 'male', '46', '0', '0', 'PC 17593', '79.2', 'B82 B84', 'C']\n",
      "['791', '0', '3', 'Keane, Mr. Andrew \"Andy\"', 'male', '', '0', '0', '12460', '7.75', '', 'Q']\n",
      "['792', '0', '2', 'Gaskell, Mr. Alfred', 'male', '16', '0', '0', '239865', '26', '', 'S']\n",
      "['793', '0', '3', 'Sage, Miss. Stella Anna', 'female', '', '8', '2', 'CA. 2343', '69.55', '', 'S']\n",
      "['794', '0', '1', 'Hoyt, Mr. William Fisher', 'male', '', '0', '0', 'PC 17600', '30.6958', '', 'C']\n",
      "['795', '0', '3', 'Dantcheff, Mr. Ristiu', 'male', '25', '0', '0', '349203', '7.8958', '', 'S']\n",
      "['796', '0', '2', 'Otter, Mr. Richard', 'male', '39', '0', '0', '28213', '13', '', 'S']\n",
      "['797', '1', '1', 'Leader, Dr. Alice (Farnham)', 'female', '49', '0', '0', '17465', '25.9292', 'D17', 'S']\n",
      "['798', '1', '3', 'Osman, Mrs. Mara', 'female', '31', '0', '0', '349244', '8.6833', '', 'S']\n",
      "['799', '0', '3', 'Ibrahim Shawah, Mr. Yousseff', 'male', '30', '0', '0', '2685', '7.2292', '', 'C']\n",
      "['800', '0', '3', 'Van Impe, Mrs. Jean Baptiste (Rosalie Paula Govaert)', 'female', '30', '1', '1', '345773', '24.15', '', 'S']\n",
      "['801', '0', '2', 'Ponesell, Mr. Martin', 'male', '34', '0', '0', '250647', '13', '', 'S']\n",
      "['802', '1', '2', 'Collyer, Mrs. Harvey (Charlotte Annie Tate)', 'female', '31', '1', '1', 'C.A. 31921', '26.25', '', 'S']\n",
      "['803', '1', '1', 'Carter, Master. William Thornton II', 'male', '11', '1', '2', '113760', '120', 'B96 B98', 'S']\n",
      "['804', '1', '3', 'Thomas, Master. Assad Alexander', 'male', '0.42', '0', '1', '2625', '8.5167', '', 'C']\n",
      "['805', '1', '3', 'Hedman, Mr. Oskar Arvid', 'male', '27', '0', '0', '347089', '6.975', '', 'S']\n",
      "['806', '0', '3', 'Johansson, Mr. Karl Johan', 'male', '31', '0', '0', '347063', '7.775', '', 'S']\n",
      "['807', '0', '1', 'Andrews, Mr. Thomas Jr', 'male', '39', '0', '0', '112050', '0', 'A36', 'S']\n",
      "['808', '0', '3', 'Pettersson, Miss. Ellen Natalia', 'female', '18', '0', '0', '347087', '7.775', '', 'S']\n",
      "['809', '0', '2', 'Meyer, Mr. August', 'male', '39', '0', '0', '248723', '13', '', 'S']\n",
      "['810', '1', '1', 'Chambers, Mrs. Norman Campbell (Bertha Griggs)', 'female', '33', '1', '0', '113806', '53.1', 'E8', 'S']\n",
      "['811', '0', '3', 'Alexander, Mr. William', 'male', '26', '0', '0', '3474', '7.8875', '', 'S']\n",
      "['812', '0', '3', 'Lester, Mr. James', 'male', '39', '0', '0', 'A/4 48871', '24.15', '', 'S']\n",
      "['813', '0', '2', 'Slemen, Mr. Richard James', 'male', '35', '0', '0', '28206', '10.5', '', 'S']\n",
      "['814', '0', '3', 'Andersson, Miss. Ebba Iris Alfrida', 'female', '6', '4', '2', '347082', '31.275', '', 'S']\n",
      "['815', '0', '3', 'Tomlin, Mr. Ernest Portage', 'male', '30.5', '0', '0', '364499', '8.05', '', 'S']\n",
      "['816', '0', '1', 'Fry, Mr. Richard', 'male', '', '0', '0', '112058', '0', 'B102', 'S']\n",
      "['817', '0', '3', 'Heininen, Miss. Wendla Maria', 'female', '23', '0', '0', 'STON/O2. 3101290', '7.925', '', 'S']\n",
      "['818', '0', '2', 'Mallet, Mr. Albert', 'male', '31', '1', '1', 'S.C./PARIS 2079', '37.0042', '', 'C']\n",
      "['819', '0', '3', 'Holm, Mr. John Fredrik Alexander', 'male', '43', '0', '0', 'C 7075', '6.45', '', 'S']\n",
      "['820', '0', '3', 'Skoog, Master. Karl Thorsten', 'male', '10', '3', '2', '347088', '27.9', '', 'S']\n",
      "['821', '1', '1', 'Hays, Mrs. Charles Melville (Clara Jennings Gregg)', 'female', '52', '1', '1', '12749', '93.5', 'B69', 'S']\n",
      "['822', '1', '3', 'Lulic, Mr. Nikola', 'male', '27', '0', '0', '315098', '8.6625', '', 'S']\n",
      "['823', '0', '1', 'Reuchlin, Jonkheer. John George', 'male', '38', '0', '0', '19972', '0', '', 'S']\n",
      "['824', '1', '3', 'Moor, Mrs. (Beila)', 'female', '27', '0', '1', '392096', '12.475', 'E121', 'S']\n",
      "['825', '0', '3', 'Panula, Master. Urho Abraham', 'male', '2', '4', '1', '3101295', '39.6875', '', 'S']\n",
      "['826', '0', '3', 'Flynn, Mr. John', 'male', '', '0', '0', '368323', '6.95', '', 'Q']\n",
      "['827', '0', '3', 'Lam, Mr. Len', 'male', '', '0', '0', '1601', '56.4958', '', 'S']\n",
      "['828', '1', '2', 'Mallet, Master. Andre', 'male', '1', '0', '2', 'S.C./PARIS 2079', '37.0042', '', 'C']\n",
      "['829', '1', '3', 'McCormack, Mr. Thomas Joseph', 'male', '', '0', '0', '367228', '7.75', '', 'Q']\n",
      "['830', '1', '1', 'Stone, Mrs. George Nelson (Martha Evelyn)', 'female', '62', '0', '0', '113572', '80', 'B28', '']\n",
      "['831', '1', '3', 'Yasbeck, Mrs. Antoni (Selini Alexander)', 'female', '15', '1', '0', '2659', '14.4542', '', 'C']\n",
      "['832', '1', '2', 'Richards, Master. George Sibley', 'male', '0.83', '1', '1', '29106', '18.75', '', 'S']\n",
      "['833', '0', '3', 'Saad, Mr. Amin', 'male', '', '0', '0', '2671', '7.2292', '', 'C']\n",
      "['834', '0', '3', 'Augustsson, Mr. Albert', 'male', '23', '0', '0', '347468', '7.8542', '', 'S']\n",
      "['835', '0', '3', 'Allum, Mr. Owen George', 'male', '18', '0', '0', '2223', '8.3', '', 'S']\n",
      "['836', '1', '1', 'Compton, Miss. Sara Rebecca', 'female', '39', '1', '1', 'PC 17756', '83.1583', 'E49', 'C']\n",
      "['837', '0', '3', 'Pasic, Mr. Jakob', 'male', '21', '0', '0', '315097', '8.6625', '', 'S']\n",
      "['838', '0', '3', 'Sirota, Mr. Maurice', 'male', '', '0', '0', '392092', '8.05', '', 'S']\n",
      "['839', '1', '3', 'Chip, Mr. Chang', 'male', '32', '0', '0', '1601', '56.4958', '', 'S']\n",
      "['840', '1', '1', 'Marechal, Mr. Pierre', 'male', '', '0', '0', '11774', '29.7', 'C47', 'C']\n",
      "['841', '0', '3', 'Alhomaki, Mr. Ilmari Rudolf', 'male', '20', '0', '0', 'SOTON/O2 3101287', '7.925', '', 'S']\n",
      "['842', '0', '2', 'Mudd, Mr. Thomas Charles', 'male', '16', '0', '0', 'S.O./P.P. 3', '10.5', '', 'S']\n",
      "['843', '1', '1', 'Serepeca, Miss. Augusta', 'female', '30', '0', '0', '113798', '31', '', 'C']\n",
      "['844', '0', '3', 'Lemberopolous, Mr. Peter L', 'male', '34.5', '0', '0', '2683', '6.4375', '', 'C']\n",
      "['845', '0', '3', 'Culumovic, Mr. Jeso', 'male', '17', '0', '0', '315090', '8.6625', '', 'S']\n",
      "['846', '0', '3', 'Abbing, Mr. Anthony', 'male', '42', '0', '0', 'C.A. 5547', '7.55', '', 'S']\n",
      "['847', '0', '3', 'Sage, Mr. Douglas Bullen', 'male', '', '8', '2', 'CA. 2343', '69.55', '', 'S']\n",
      "['848', '0', '3', 'Markoff, Mr. Marin', 'male', '35', '0', '0', '349213', '7.8958', '', 'C']\n",
      "['849', '0', '2', 'Harper, Rev. John', 'male', '28', '0', '1', '248727', '33', '', 'S']\n",
      "['850', '1', '1', 'Goldenberg, Mrs. Samuel L (Edwiga Grabowska)', 'female', '', '1', '0', '17453', '89.1042', 'C92', 'C']\n",
      "['851', '0', '3', 'Andersson, Master. Sigvard Harald Elias', 'male', '4', '4', '2', '347082', '31.275', '', 'S']\n",
      "['852', '0', '3', 'Svensson, Mr. Johan', 'male', '74', '0', '0', '347060', '7.775', '', 'S']\n",
      "['853', '0', '3', 'Boulos, Miss. Nourelain', 'female', '9', '1', '1', '2678', '15.2458', '', 'C']\n",
      "['854', '1', '1', 'Lines, Miss. Mary Conover', 'female', '16', '0', '1', 'PC 17592', '39.4', 'D28', 'S']\n",
      "['855', '0', '2', 'Carter, Mrs. Ernest Courtenay (Lilian Hughes)', 'female', '44', '1', '0', '244252', '26', '', 'S']\n",
      "['856', '1', '3', 'Aks, Mrs. Sam (Leah Rosen)', 'female', '18', '0', '1', '392091', '9.35', '', 'S']\n",
      "['857', '1', '1', 'Wick, Mrs. George Dennick (Mary Hitchcock)', 'female', '45', '1', '1', '36928', '164.8667', '', 'S']\n",
      "['858', '1', '1', 'Daly, Mr. Peter Denis ', 'male', '51', '0', '0', '113055', '26.55', 'E17', 'S']\n",
      "['859', '1', '3', 'Baclini, Mrs. Solomon (Latifa Qurban)', 'female', '24', '0', '3', '2666', '19.2583', '', 'C']\n",
      "['860', '0', '3', 'Razi, Mr. Raihed', 'male', '', '0', '0', '2629', '7.2292', '', 'C']\n",
      "['861', '0', '3', 'Hansen, Mr. Claus Peter', 'male', '41', '2', '0', '350026', '14.1083', '', 'S']\n",
      "['862', '0', '2', 'Giles, Mr. Frederick Edward', 'male', '21', '1', '0', '28134', '11.5', '', 'S']\n",
      "['863', '1', '1', 'Swift, Mrs. Frederick Joel (Margaret Welles Barron)', 'female', '48', '0', '0', '17466', '25.9292', 'D17', 'S']\n",
      "['864', '0', '3', 'Sage, Miss. Dorothy Edith \"Dolly\"', 'female', '', '8', '2', 'CA. 2343', '69.55', '', 'S']\n",
      "['865', '0', '2', 'Gill, Mr. John William', 'male', '24', '0', '0', '233866', '13', '', 'S']\n",
      "['866', '1', '2', 'Bystrom, Mrs. (Karolina)', 'female', '42', '0', '0', '236852', '13', '', 'S']\n",
      "['867', '1', '2', 'Duran y More, Miss. Asuncion', 'female', '27', '1', '0', 'SC/PARIS 2149', '13.8583', '', 'C']\n",
      "['868', '0', '1', 'Roebling, Mr. Washington Augustus II', 'male', '31', '0', '0', 'PC 17590', '50.4958', 'A24', 'S']\n",
      "['869', '0', '3', 'van Melkebeke, Mr. Philemon', 'male', '', '0', '0', '345777', '9.5', '', 'S']\n",
      "['870', '1', '3', 'Johnson, Master. Harold Theodor', 'male', '4', '1', '1', '347742', '11.1333', '', 'S']\n",
      "['871', '0', '3', 'Balkic, Mr. Cerin', 'male', '26', '0', '0', '349248', '7.8958', '', 'S']\n",
      "['872', '1', '1', 'Beckwith, Mrs. Richard Leonard (Sallie Monypeny)', 'female', '47', '1', '1', '11751', '52.5542', 'D35', 'S']\n",
      "['873', '0', '1', 'Carlsson, Mr. Frans Olof', 'male', '33', '0', '0', '695', '5', 'B51 B53 B55', 'S']\n",
      "['874', '0', '3', 'Vander Cruyssen, Mr. Victor', 'male', '47', '0', '0', '345765', '9', '', 'S']\n",
      "['875', '1', '2', 'Abelson, Mrs. Samuel (Hannah Wizosky)', 'female', '28', '1', '0', 'P/PP 3381', '24', '', 'C']\n",
      "['876', '1', '3', 'Najib, Miss. Adele Kiamie \"Jane\"', 'female', '15', '0', '0', '2667', '7.225', '', 'C']\n",
      "['877', '0', '3', 'Gustafsson, Mr. Alfred Ossian', 'male', '20', '0', '0', '7534', '9.8458', '', 'S']\n",
      "['878', '0', '3', 'Petroff, Mr. Nedelio', 'male', '19', '0', '0', '349212', '7.8958', '', 'S']\n",
      "['879', '0', '3', 'Laleff, Mr. Kristo', 'male', '', '0', '0', '349217', '7.8958', '', 'S']\n",
      "['880', '1', '1', 'Potter, Mrs. Thomas Jr (Lily Alexenia Wilson)', 'female', '56', '0', '1', '11767', '83.1583', 'C50', 'C']\n",
      "['881', '1', '2', 'Shelley, Mrs. William (Imanita Parrish Hall)', 'female', '25', '0', '1', '230433', '26', '', 'S']\n",
      "['882', '0', '3', 'Markun, Mr. Johann', 'male', '33', '0', '0', '349257', '7.8958', '', 'S']\n",
      "['883', '0', '3', 'Dahlberg, Miss. Gerda Ulrika', 'female', '22', '0', '0', '7552', '10.5167', '', 'S']\n",
      "['884', '0', '2', 'Banfield, Mr. Frederick James', 'male', '28', '0', '0', 'C.A./SOTON 34068', '10.5', '', 'S']\n",
      "['885', '0', '3', 'Sutehall, Mr. Henry Jr', 'male', '25', '0', '0', 'SOTON/OQ 392076', '7.05', '', 'S']\n",
      "['886', '0', '3', 'Rice, Mrs. William (Margaret Norton)', 'female', '39', '0', '5', '382652', '29.125', '', 'Q']\n",
      "['887', '0', '2', 'Montvila, Rev. Juozas', 'male', '27', '0', '0', '211536', '13', '', 'S']\n",
      "['888', '1', '1', 'Graham, Miss. Margaret Edith', 'female', '19', '0', '0', '112053', '30', 'B42', 'S']\n",
      "['889', '0', '3', 'Johnston, Miss. Catherine Helen \"Carrie\"', 'female', '', '1', '2', 'W./C. 6607', '23.45', '', 'S']\n",
      "['890', '1', '1', 'Behr, Mr. Karl Howell', 'male', '26', '0', '0', '111369', '30', 'C148', 'C']\n",
      "['891', '0', '3', 'Dooley, Mr. Patrick', 'male', '32', '0', '0', '370376', '7.75', '', 'Q']\n"
     ]
    }
   ],
   "source": [
    "#Reading CSV with CSV Module\n",
    "\n",
    "import csv\n",
    "\n",
    "#This code reads a CSV file using the csv module and prints each row.\n",
    "\n",
    "with open('Titanic dataset/train.csv', mode='r') as file:\n",
    "    reader = csv.reader(file)\n",
    "    for row in reader:\n",
    "        print(row)"
   ]
  },
  {
   "cell_type": "code",
   "execution_count": 119,
   "id": "feea599e-7342-4ac6-b68e-04dd16a72b46",
   "metadata": {
    "scrolled": true
   },
   "outputs": [
    {
     "name": "stdout",
     "output_type": "stream",
     "text": [
      "     PassengerId                                               Name\n",
      "0              1                            Braund, Mr. Owen Harris\n",
      "1              2  Cumings, Mrs. John Bradley (Florence Briggs Th...\n",
      "2              3                             Heikkinen, Miss. Laina\n",
      "3              4       Futrelle, Mrs. Jacques Heath (Lily May Peel)\n",
      "4              5                           Allen, Mr. William Henry\n",
      "..           ...                                                ...\n",
      "886          887                              Montvila, Rev. Juozas\n",
      "887          888                       Graham, Miss. Margaret Edith\n",
      "888          889           Johnston, Miss. Catherine Helen \"Carrie\"\n",
      "889          890                              Behr, Mr. Karl Howell\n",
      "890          891                                Dooley, Mr. Patrick\n",
      "\n",
      "[891 rows x 2 columns]\n"
     ]
    }
   ],
   "source": [
    "#Reading Specific Columns\n",
    "import pandas as pd\n",
    "\n",
    "df = pd.read_csv('Titanic dataset/train.csv', usecols=['PassengerId', 'Name'])\n",
    "print(df)"
   ]
  },
  {
   "cell_type": "code",
   "execution_count": 120,
   "id": "45dbd954-2fcc-480b-95cf-d6e47f1c6d9f",
   "metadata": {},
   "outputs": [
    {
     "name": "stdout",
     "output_type": "stream",
     "text": [
      "     PassengerId  Survived  Pclass  \\\n",
      "0              1         0       3   \n",
      "1              2         1       1   \n",
      "2              3         1       3   \n",
      "3              4         1       1   \n",
      "4              5         0       3   \n",
      "..           ...       ...     ...   \n",
      "886          887         0       2   \n",
      "887          888         1       1   \n",
      "888          889         0       3   \n",
      "889          890         1       1   \n",
      "890          891         0       3   \n",
      "\n",
      "                                                  Name     Sex      Age  \\\n",
      "0                              Braund, Mr. Owen Harris    male     22.0   \n",
      "1    Cumings, Mrs. John Bradley (Florence Briggs Th...  female     38.0   \n",
      "2                               Heikkinen, Miss. Laina  female     26.0   \n",
      "3         Futrelle, Mrs. Jacques Heath (Lily May Peel)  female     35.0   \n",
      "4                             Allen, Mr. William Henry    male     35.0   \n",
      "..                                                 ...     ...      ...   \n",
      "886                              Montvila, Rev. Juozas    male     27.0   \n",
      "887                       Graham, Miss. Margaret Edith  female     19.0   \n",
      "888           Johnston, Miss. Catherine Helen \"Carrie\"  female  Unknown   \n",
      "889                              Behr, Mr. Karl Howell    male     26.0   \n",
      "890                                Dooley, Mr. Patrick    male     32.0   \n",
      "\n",
      "     SibSp  Parch            Ticket     Fare    Cabin Embarked  \n",
      "0        1      0         A/5 21171   7.2500  Unknown        S  \n",
      "1        1      0          PC 17599  71.2833      C85        C  \n",
      "2        0      0  STON/O2. 3101282   7.9250  Unknown        S  \n",
      "3        1      0            113803  53.1000     C123        S  \n",
      "4        0      0            373450   8.0500  Unknown        S  \n",
      "..     ...    ...               ...      ...      ...      ...  \n",
      "886      0      0            211536  13.0000  Unknown        S  \n",
      "887      0      0            112053  30.0000      B42        S  \n",
      "888      1      2        W./C. 6607  23.4500  Unknown        S  \n",
      "889      0      0            111369  30.0000     C148        C  \n",
      "890      0      0            370376   7.7500  Unknown        Q  \n",
      "\n",
      "[891 rows x 12 columns]\n"
     ]
    }
   ],
   "source": [
    "#Handling Missing Values\n",
    "#handles missing values in a CSV file by filling them with 'Unknown'.\n",
    "\n",
    "import pandas as pd\n",
    "\n",
    "df = pd.read_csv('Titanic dataset/train.csv')\n",
    "df = df.fillna('Unknown')\n",
    "print(df)\n",
    "    "
   ]
  },
  {
   "cell_type": "code",
   "execution_count": 122,
   "id": "f443cab5-d190-4176-8b13-526e9f7a3f8d",
   "metadata": {},
   "outputs": [
    {
     "name": "stdout",
     "output_type": "stream",
     "text": [
      "             Survived  Pclass  \\\n",
      "PassengerId                     \n",
      "1                   0       3   \n",
      "2                   1       1   \n",
      "3                   1       3   \n",
      "4                   1       1   \n",
      "5                   0       3   \n",
      "...               ...     ...   \n",
      "887                 0       2   \n",
      "888                 1       1   \n",
      "889                 0       3   \n",
      "890                 1       1   \n",
      "891                 0       3   \n",
      "\n",
      "                                                          Name     Sex   Age  \\\n",
      "PassengerId                                                                    \n",
      "1                                      Braund, Mr. Owen Harris    male  22.0   \n",
      "2            Cumings, Mrs. John Bradley (Florence Briggs Th...  female  38.0   \n",
      "3                                       Heikkinen, Miss. Laina  female  26.0   \n",
      "4                 Futrelle, Mrs. Jacques Heath (Lily May Peel)  female  35.0   \n",
      "5                                     Allen, Mr. William Henry    male  35.0   \n",
      "...                                                        ...     ...   ...   \n",
      "887                                      Montvila, Rev. Juozas    male  27.0   \n",
      "888                               Graham, Miss. Margaret Edith  female  19.0   \n",
      "889                   Johnston, Miss. Catherine Helen \"Carrie\"  female   NaN   \n",
      "890                                      Behr, Mr. Karl Howell    male  26.0   \n",
      "891                                        Dooley, Mr. Patrick    male  32.0   \n",
      "\n",
      "             SibSp  Parch            Ticket     Fare Cabin Embarked  \n",
      "PassengerId                                                          \n",
      "1                1      0         A/5 21171   7.2500   NaN        S  \n",
      "2                1      0          PC 17599  71.2833   C85        C  \n",
      "3                0      0  STON/O2. 3101282   7.9250   NaN        S  \n",
      "4                1      0            113803  53.1000  C123        S  \n",
      "5                0      0            373450   8.0500   NaN        S  \n",
      "...            ...    ...               ...      ...   ...      ...  \n",
      "887              0      0            211536  13.0000   NaN        S  \n",
      "888              0      0            112053  30.0000   B42        S  \n",
      "889              1      2        W./C. 6607  23.4500   NaN        S  \n",
      "890              0      0            111369  30.0000  C148        C  \n",
      "891              0      0            370376   7.7500   NaN        Q  \n",
      "\n",
      "[891 rows x 11 columns]\n"
     ]
    }
   ],
   "source": [
    "#Reading CSV with Index Column\n",
    "#This code reads a CSV file and sets a specific column as the index.\n",
    "\n",
    "import pandas as pd\n",
    "\n",
    "df = pd.read_csv('Titanic dataset/train.csv', index_col='PassengerId')\n",
    "print(df)"
   ]
  },
  {
   "cell_type": "markdown",
   "id": "4c930523-2ad2-4a67-8ef4-7969709348ab",
   "metadata": {},
   "source": [
    "# 13. Numpy\n",
    "- NumPy is a powerful library for numerical computing in Python. It provides support for arrays and mathematical operations. "
   ]
  },
  {
   "cell_type": "code",
   "execution_count": 123,
   "id": "e82b0eed-b476-448b-a553-c0534baaf598",
   "metadata": {},
   "outputs": [],
   "source": [
    "import numpy as np"
   ]
  },
  {
   "cell_type": "code",
   "execution_count": 132,
   "id": "f84543fc-f1c5-4172-b013-5f02d70a71ec",
   "metadata": {},
   "outputs": [
    {
     "name": "stdout",
     "output_type": "stream",
     "text": [
      "1-D array containing the values\n",
      " [1 2 3 4 5]\n",
      "2-D array containing the values\n",
      " [[1 2 3]\n",
      " [4 5 6]]\n",
      "3-D array containing the values\n",
      " [[1 2 3]\n",
      " [4 5 6]\n",
      " [1 2 3]]\n"
     ]
    }
   ],
   "source": [
    "#1-D Arrays\n",
    "arr1 = np.array([1, 2, 3, 4, 5])\n",
    "print('1-D array containing the values\\n',arr1)\n",
    "\n",
    "#2-D Arrays\n",
    "arr2 = np.array([[1, 2, 3], [4, 5, 6]])\n",
    "print('2-D array containing the values\\n',arr2)\n",
    "\n",
    "#3-D arrays\n",
    "arr3 = np.array([[1, 2, 3], [4, 5, 6], [1, 2, 3]])\n",
    "print('3-D array containing the values\\n',arr3)"
   ]
  },
  {
   "cell_type": "code",
   "execution_count": 140,
   "id": "ec4d5bee-a27a-4407-be0f-16ffb58d037f",
   "metadata": {},
   "outputs": [
    {
     "data": {
      "text/plain": [
       "array([ 3,  6, 32,  7])"
      ]
     },
     "execution_count": 140,
     "metadata": {},
     "output_type": "execute_result"
    }
   ],
   "source": [
    "myarr = np.array([3,6,32,7])\n",
    "\n",
    "myarr"
   ]
  },
  {
   "cell_type": "code",
   "execution_count": 142,
   "id": "c3c2653e-5a4f-48e8-aa42-dd1168dcfd9f",
   "metadata": {},
   "outputs": [
    {
     "name": "stdout",
     "output_type": "stream",
     "text": [
      "number of dimensions : 1\n",
      "Shape of array : (4,)\n",
      "Type of array : int32\n",
      "size of array : 4\n",
      "total size of array : 16\n",
      "number of elements : 4\n"
     ]
    }
   ],
   "source": [
    "# Get Dimension\n",
    "print('number of dimensions :', myarr.ndim)\n",
    "\n",
    "# Get Shape\n",
    "print('Shape of array :', myarr.shape)\n",
    "\n",
    "# Get Type\n",
    "print('Type of array :', myarr.dtype)\n",
    "\n",
    "# Get Size\n",
    "myarr.itemsize\n",
    "print('size of array :', myarr.itemsize)\n",
    "\n",
    "# Get total size\n",
    "print('total size of array :', myarr.nbytes)\n",
    "\n",
    "# Get number of elements\n",
    "print('number of elements :', myarr.size)"
   ]
  },
  {
   "cell_type": "code",
   "execution_count": 143,
   "id": "4852b4ca-d97e-46aa-9bea-145a8c6a3955",
   "metadata": {},
   "outputs": [
    {
     "name": "stdout",
     "output_type": "stream",
     "text": [
      "[[ 1  2  3  4  5  6  7]\n",
      " [ 8  9 10 11 12 13 14]]\n"
     ]
    }
   ],
   "source": [
    "#Accessing/Changing specific elements, rows, columns, etc\n",
    "a = np.array([[1,2,3,4,5,6,7],[8,9,10,11,12,13,14]])\n",
    "print(a)"
   ]
  },
  {
   "cell_type": "code",
   "execution_count": 148,
   "id": "60d71e74-93cb-43ab-a40f-786de22b632f",
   "metadata": {},
   "outputs": [
    {
     "name": "stdout",
     "output_type": "stream",
     "text": [
      "specific element: 13\n",
      "specific row: [1 2 3 4 5 6 7]\n",
      "specific column: [ 3 10]\n",
      "Slicing array result1 \n",
      " [ 9 10 11]\n",
      "Slicing array result2 \n",
      " [ 3 10]\n",
      "Slicing array result3 \n",
      " [[ 2  3  4]\n",
      " [ 9 10 11]]\n"
     ]
    }
   ],
   "source": [
    "# Get a specific element [r, c]\n",
    "print('specific element:',a[1, 5])\n",
    "\n",
    "# Get a specific row\n",
    "print('specific row:',a[0, :])\n",
    "\n",
    "# Get a specific column\n",
    "print('specific column:',a[:, 2])\n",
    "\n",
    "# Slicing arrays [startindex:endindex:stepsize]\n",
    "print('Slicing array result1 \\n',a[1, 1:4]) #From the second element, slice elements from index 1 to index 4 (not included)\n",
    "print('Slicing array result2 \\n',a[0:2, 2]) #From both elements, return index 2\n",
    "print('Slicing array result3 \\n',a[0:2, 1:4]) #From both elements, slice index 1 to index 4 (not included)"
   ]
  },
  {
   "cell_type": "code",
   "execution_count": 149,
   "id": "f39ea7ba-a14a-4014-a110-51b4333c8734",
   "metadata": {},
   "outputs": [
    {
     "data": {
      "text/plain": [
       "array([[0., 0., 0., 0., 0.],\n",
       "       [0., 0., 0., 0., 0.]])"
      ]
     },
     "execution_count": 149,
     "metadata": {},
     "output_type": "execute_result"
    }
   ],
   "source": [
    "#zeros\n",
    "zeros = np.zeros((2,5))\n",
    "zeros"
   ]
  },
  {
   "cell_type": "code",
   "execution_count": 150,
   "id": "3405d6c1-935e-4464-bcdc-9698dfc00c6a",
   "metadata": {},
   "outputs": [
    {
     "data": {
      "text/plain": [
       "array([ 0,  1,  2,  3,  4,  5,  6,  7,  8,  9, 10, 11, 12, 13, 14])"
      ]
     },
     "execution_count": 150,
     "metadata": {},
     "output_type": "execute_result"
    }
   ],
   "source": [
    "rng = np.arange(15)\n",
    "rng"
   ]
  },
  {
   "cell_type": "code",
   "execution_count": 151,
   "id": "1beecbb8-98cb-403e-ada3-eb6a8a6a3d8c",
   "metadata": {},
   "outputs": [
    {
     "data": {
      "text/plain": [
       "array([ 1.        ,  6.44444444, 11.88888889, 17.33333333, 22.77777778,\n",
       "       28.22222222, 33.66666667, 39.11111111, 44.55555556, 50.        ])"
      ]
     },
     "execution_count": 151,
     "metadata": {},
     "output_type": "execute_result"
    }
   ],
   "source": [
    "#linspace\n",
    "lspace = np.linspace(1,50,10) # (1st element,last element and how many number I need)\n",
    "lspace"
   ]
  },
  {
   "cell_type": "code",
   "execution_count": 152,
   "id": "a07649e1-0917-4433-89a9-c1e13a99bf68",
   "metadata": {},
   "outputs": [
    {
     "data": {
      "text/plain": [
       "array([[1., 0., 0., ..., 0., 0., 0.],\n",
       "       [0., 1., 0., ..., 0., 0., 0.],\n",
       "       [0., 0., 1., ..., 0., 0., 0.],\n",
       "       ...,\n",
       "       [0., 0., 0., ..., 1., 0., 0.],\n",
       "       [0., 0., 0., ..., 0., 1., 0.],\n",
       "       [0., 0., 0., ..., 0., 0., 1.]])"
      ]
     },
     "execution_count": 152,
     "metadata": {},
     "output_type": "execute_result"
    }
   ],
   "source": [
    "ide= np.identity(45) #identity matrix\n",
    "ide"
   ]
  },
  {
   "cell_type": "code",
   "execution_count": 158,
   "id": "bfd089ee-8f8b-4554-81a6-3b59e814f7ba",
   "metadata": {},
   "outputs": [
    {
     "name": "stdout",
     "output_type": "stream",
     "text": [
      "original array [1 2 3 4 5]\n",
      "copy array: [1 2 3 4 5]\n"
     ]
    }
   ],
   "source": [
    "#Array copy\n",
    "\n",
    "arr = np.array([1, 2, 3, 4, 5])\n",
    "x = arr.copy()\n",
    "\n",
    "\n",
    "print('original array',arr)\n",
    "print('copy array:',x)"
   ]
  },
  {
   "cell_type": "code",
   "execution_count": 157,
   "id": "3ec3b428-d855-4ea9-a322-d13e7a405403",
   "metadata": {},
   "outputs": [
    {
     "name": "stdout",
     "output_type": "stream",
     "text": [
      "original array [1 2 3 4 5]\n",
      "view array: [1 2 3 4 5]\n"
     ]
    }
   ],
   "source": [
    "#view\n",
    "arr = np.array([1, 2, 3, 4, 5])\n",
    "x = arr.view()\n",
    "\n",
    "print('original array',arr)\n",
    "print('view array:',x)"
   ]
  },
  {
   "cell_type": "code",
   "execution_count": 159,
   "id": "93f413b7-0ea4-4bca-80c5-1296b5b8e332",
   "metadata": {},
   "outputs": [
    {
     "name": "stdout",
     "output_type": "stream",
     "text": [
      "[1 4 9]\n"
     ]
    }
   ],
   "source": [
    "#Array Operations\n",
    "array = np.array([1, 2, 3])\n",
    "array_squared = array ** 2\n",
    "print(array_squared) "
   ]
  },
  {
   "cell_type": "code",
   "execution_count": 160,
   "id": "5f9e5a5a-9f8e-46ba-94a7-a6b80976b770",
   "metadata": {},
   "outputs": [
    {
     "name": "stdout",
     "output_type": "stream",
     "text": [
      "[[ 4  6]\n",
      " [10 12]]\n"
     ]
    }
   ],
   "source": [
    "#Matrix Multiplication\n",
    "matrix1 = np.array([[1, 2], [3, 4]])\n",
    "matrix2 = np.array([[2, 0], [1, 3]])\n",
    "product = np.dot(matrix1, matrix2)\n",
    "print(product)"
   ]
  },
  {
   "cell_type": "code",
   "execution_count": 161,
   "id": "411acef2-ae54-4f4c-912c-eb34e014fb68",
   "metadata": {},
   "outputs": [
    {
     "name": "stdout",
     "output_type": "stream",
     "text": [
      "Mean: 3.0, Std Dev: 1.4142135623730951\n"
     ]
    }
   ],
   "source": [
    "#statistical Operations\n",
    "\n",
    "data = np.array([1, 2, 3, 4, 5])\n",
    "mean = np.mean(data)\n",
    "std_dev = np.std(data)\n",
    "print(f\"Mean: {mean}, Std Dev: {std_dev}\")  # This code calculates the mean and standard deviation of a NumPy array.\n"
   ]
  },
  {
   "cell_type": "code",
   "execution_count": 162,
   "id": "a4a594a4-d049-4194-9fba-bd91d2bb9ef0",
   "metadata": {},
   "outputs": [
    {
     "name": "stdout",
     "output_type": "stream",
     "text": [
      "[[ 0  1  2  3]\n",
      " [ 4  5  6  7]\n",
      " [ 8  9 10 11]]\n"
     ]
    }
   ],
   "source": [
    "#Array Reshaping\n",
    "#This code reshapes a NumPy array from a 1D array to a 2D array.\n",
    "\n",
    "array = np.arange(12)\n",
    "reshaped_array = array.reshape(3, 4)\n",
    "print(reshaped_array)"
   ]
  },
  {
   "cell_type": "markdown",
   "id": "0dfd529e-a223-460a-a733-1ca056be1347",
   "metadata": {},
   "source": [
    "# 14.Pandas: Pandas is a library used for data manipulation and analysis. It provides data structures like DataFrames for handling structured data. "
   ]
  },
  {
   "cell_type": "code",
   "execution_count": 165,
   "id": "1a813283-1e10-4186-af0a-505d09857f8a",
   "metadata": {},
   "outputs": [],
   "source": [
    "import pandas as pd"
   ]
  },
  {
   "cell_type": "code",
   "execution_count": 166,
   "id": "98b2f51b-3d7b-47ac-b0cb-54fd046c3524",
   "metadata": {},
   "outputs": [
    {
     "name": "stdout",
     "output_type": "stream",
     "text": [
      "0    10\n",
      "1    20\n",
      "2    30\n",
      "3    40\n",
      "4    50\n",
      "Name: Numbers, dtype: int64\n"
     ]
    }
   ],
   "source": [
    "# Creating a Series\n",
    "data = pd.Series([10, 20, 30, 40, 50], name='Numbers')\n",
    "print(data)"
   ]
  },
  {
   "cell_type": "code",
   "execution_count": 167,
   "id": "fc5ef4bd-196a-4b46-b49e-dd3dd123c641",
   "metadata": {},
   "outputs": [
    {
     "data": {
      "text/html": [
       "<div>\n",
       "<style scoped>\n",
       "    .dataframe tbody tr th:only-of-type {\n",
       "        vertical-align: middle;\n",
       "    }\n",
       "\n",
       "    .dataframe tbody tr th {\n",
       "        vertical-align: top;\n",
       "    }\n",
       "\n",
       "    .dataframe thead th {\n",
       "        text-align: right;\n",
       "    }\n",
       "</style>\n",
       "<table border=\"1\" class=\"dataframe\">\n",
       "  <thead>\n",
       "    <tr style=\"text-align: right;\">\n",
       "      <th></th>\n",
       "      <th>Name</th>\n",
       "      <th>Marks</th>\n",
       "      <th>Gender</th>\n",
       "      <th>city</th>\n",
       "    </tr>\n",
       "  </thead>\n",
       "  <tbody>\n",
       "    <tr>\n",
       "      <th>0</th>\n",
       "      <td>Priyang</td>\n",
       "      <td>98</td>\n",
       "      <td>Female</td>\n",
       "      <td>Mumbai</td>\n",
       "    </tr>\n",
       "    <tr>\n",
       "      <th>1</th>\n",
       "      <td>Aadhya</td>\n",
       "      <td>89</td>\n",
       "      <td>Female</td>\n",
       "      <td>Delhi</td>\n",
       "    </tr>\n",
       "    <tr>\n",
       "      <th>2</th>\n",
       "      <td>Krisha</td>\n",
       "      <td>99</td>\n",
       "      <td>Female</td>\n",
       "      <td>Bangalore</td>\n",
       "    </tr>\n",
       "    <tr>\n",
       "      <th>3</th>\n",
       "      <td>Vedant</td>\n",
       "      <td>87</td>\n",
       "      <td>Male</td>\n",
       "      <td>Chennai</td>\n",
       "    </tr>\n",
       "  </tbody>\n",
       "</table>\n",
       "</div>"
      ],
      "text/plain": [
       "      Name  Marks  Gender       city\n",
       "0  Priyang     98  Female     Mumbai\n",
       "1   Aadhya     89  Female      Delhi\n",
       "2   Krisha     99  Female  Bangalore\n",
       "3   Vedant     87    Male    Chennai"
      ]
     },
     "execution_count": 167,
     "metadata": {},
     "output_type": "execute_result"
    }
   ],
   "source": [
    "# Creating a DataFrame\n",
    "dict1 ={'Name':['Priyang','Aadhya','Krisha','Vedant'],\n",
    "        'Marks':[98,89,99,87],\n",
    "        'Gender':['Female','Female','Female','Male'],\n",
    "        'city':['Mumbai','Delhi','Bangalore','Chennai']\n",
    "}\n",
    "df1=pd.DataFrame(dict1)\n",
    "df1"
   ]
  },
  {
   "cell_type": "code",
   "execution_count": 168,
   "id": "a9e0686b-ff0f-4630-9af7-baba7b6319a8",
   "metadata": {},
   "outputs": [],
   "source": [
    "#Reading and Writing Data\n",
    "df2 = pd.read_csv('Pandas/Pandas_tutorial/pokemon_data.csv')"
   ]
  },
  {
   "cell_type": "code",
   "execution_count": 169,
   "id": "be525ba4-564c-434d-88a0-8ec91ce12de8",
   "metadata": {},
   "outputs": [
    {
     "data": {
      "text/html": [
       "<div>\n",
       "<style scoped>\n",
       "    .dataframe tbody tr th:only-of-type {\n",
       "        vertical-align: middle;\n",
       "    }\n",
       "\n",
       "    .dataframe tbody tr th {\n",
       "        vertical-align: top;\n",
       "    }\n",
       "\n",
       "    .dataframe thead th {\n",
       "        text-align: right;\n",
       "    }\n",
       "</style>\n",
       "<table border=\"1\" class=\"dataframe\">\n",
       "  <thead>\n",
       "    <tr style=\"text-align: right;\">\n",
       "      <th></th>\n",
       "      <th>#</th>\n",
       "      <th>Name</th>\n",
       "      <th>Type 1</th>\n",
       "      <th>Type 2</th>\n",
       "      <th>HP</th>\n",
       "      <th>Attack</th>\n",
       "      <th>Defense</th>\n",
       "      <th>Sp. Atk</th>\n",
       "      <th>Sp. Def</th>\n",
       "      <th>Speed</th>\n",
       "      <th>Generation</th>\n",
       "      <th>Legendary</th>\n",
       "    </tr>\n",
       "  </thead>\n",
       "  <tbody>\n",
       "    <tr>\n",
       "      <th>0</th>\n",
       "      <td>1</td>\n",
       "      <td>Bulbasaur</td>\n",
       "      <td>Grass</td>\n",
       "      <td>Poison</td>\n",
       "      <td>45</td>\n",
       "      <td>49</td>\n",
       "      <td>49</td>\n",
       "      <td>65</td>\n",
       "      <td>65</td>\n",
       "      <td>45</td>\n",
       "      <td>1</td>\n",
       "      <td>False</td>\n",
       "    </tr>\n",
       "    <tr>\n",
       "      <th>1</th>\n",
       "      <td>2</td>\n",
       "      <td>Ivysaur</td>\n",
       "      <td>Grass</td>\n",
       "      <td>Poison</td>\n",
       "      <td>60</td>\n",
       "      <td>62</td>\n",
       "      <td>63</td>\n",
       "      <td>80</td>\n",
       "      <td>80</td>\n",
       "      <td>60</td>\n",
       "      <td>1</td>\n",
       "      <td>False</td>\n",
       "    </tr>\n",
       "    <tr>\n",
       "      <th>2</th>\n",
       "      <td>3</td>\n",
       "      <td>Venusaur</td>\n",
       "      <td>Grass</td>\n",
       "      <td>Poison</td>\n",
       "      <td>80</td>\n",
       "      <td>82</td>\n",
       "      <td>83</td>\n",
       "      <td>100</td>\n",
       "      <td>100</td>\n",
       "      <td>80</td>\n",
       "      <td>1</td>\n",
       "      <td>False</td>\n",
       "    </tr>\n",
       "    <tr>\n",
       "      <th>3</th>\n",
       "      <td>3</td>\n",
       "      <td>VenusaurMega Venusaur</td>\n",
       "      <td>Grass</td>\n",
       "      <td>Poison</td>\n",
       "      <td>80</td>\n",
       "      <td>100</td>\n",
       "      <td>123</td>\n",
       "      <td>122</td>\n",
       "      <td>120</td>\n",
       "      <td>80</td>\n",
       "      <td>1</td>\n",
       "      <td>False</td>\n",
       "    </tr>\n",
       "    <tr>\n",
       "      <th>4</th>\n",
       "      <td>4</td>\n",
       "      <td>Charmander</td>\n",
       "      <td>Fire</td>\n",
       "      <td>NaN</td>\n",
       "      <td>39</td>\n",
       "      <td>52</td>\n",
       "      <td>43</td>\n",
       "      <td>60</td>\n",
       "      <td>50</td>\n",
       "      <td>65</td>\n",
       "      <td>1</td>\n",
       "      <td>False</td>\n",
       "    </tr>\n",
       "    <tr>\n",
       "      <th>...</th>\n",
       "      <td>...</td>\n",
       "      <td>...</td>\n",
       "      <td>...</td>\n",
       "      <td>...</td>\n",
       "      <td>...</td>\n",
       "      <td>...</td>\n",
       "      <td>...</td>\n",
       "      <td>...</td>\n",
       "      <td>...</td>\n",
       "      <td>...</td>\n",
       "      <td>...</td>\n",
       "      <td>...</td>\n",
       "    </tr>\n",
       "    <tr>\n",
       "      <th>795</th>\n",
       "      <td>719</td>\n",
       "      <td>Diancie</td>\n",
       "      <td>Rock</td>\n",
       "      <td>Fairy</td>\n",
       "      <td>50</td>\n",
       "      <td>100</td>\n",
       "      <td>150</td>\n",
       "      <td>100</td>\n",
       "      <td>150</td>\n",
       "      <td>50</td>\n",
       "      <td>6</td>\n",
       "      <td>True</td>\n",
       "    </tr>\n",
       "    <tr>\n",
       "      <th>796</th>\n",
       "      <td>719</td>\n",
       "      <td>DiancieMega Diancie</td>\n",
       "      <td>Rock</td>\n",
       "      <td>Fairy</td>\n",
       "      <td>50</td>\n",
       "      <td>160</td>\n",
       "      <td>110</td>\n",
       "      <td>160</td>\n",
       "      <td>110</td>\n",
       "      <td>110</td>\n",
       "      <td>6</td>\n",
       "      <td>True</td>\n",
       "    </tr>\n",
       "    <tr>\n",
       "      <th>797</th>\n",
       "      <td>720</td>\n",
       "      <td>HoopaHoopa Confined</td>\n",
       "      <td>Psychic</td>\n",
       "      <td>Ghost</td>\n",
       "      <td>80</td>\n",
       "      <td>110</td>\n",
       "      <td>60</td>\n",
       "      <td>150</td>\n",
       "      <td>130</td>\n",
       "      <td>70</td>\n",
       "      <td>6</td>\n",
       "      <td>True</td>\n",
       "    </tr>\n",
       "    <tr>\n",
       "      <th>798</th>\n",
       "      <td>720</td>\n",
       "      <td>HoopaHoopa Unbound</td>\n",
       "      <td>Psychic</td>\n",
       "      <td>Dark</td>\n",
       "      <td>80</td>\n",
       "      <td>160</td>\n",
       "      <td>60</td>\n",
       "      <td>170</td>\n",
       "      <td>130</td>\n",
       "      <td>80</td>\n",
       "      <td>6</td>\n",
       "      <td>True</td>\n",
       "    </tr>\n",
       "    <tr>\n",
       "      <th>799</th>\n",
       "      <td>721</td>\n",
       "      <td>Volcanion</td>\n",
       "      <td>Fire</td>\n",
       "      <td>Water</td>\n",
       "      <td>80</td>\n",
       "      <td>110</td>\n",
       "      <td>120</td>\n",
       "      <td>130</td>\n",
       "      <td>90</td>\n",
       "      <td>70</td>\n",
       "      <td>6</td>\n",
       "      <td>True</td>\n",
       "    </tr>\n",
       "  </tbody>\n",
       "</table>\n",
       "<p>800 rows × 12 columns</p>\n",
       "</div>"
      ],
      "text/plain": [
       "       #                   Name   Type 1  Type 2  HP  Attack  Defense  \\\n",
       "0      1              Bulbasaur    Grass  Poison  45      49       49   \n",
       "1      2                Ivysaur    Grass  Poison  60      62       63   \n",
       "2      3               Venusaur    Grass  Poison  80      82       83   \n",
       "3      3  VenusaurMega Venusaur    Grass  Poison  80     100      123   \n",
       "4      4             Charmander     Fire     NaN  39      52       43   \n",
       "..   ...                    ...      ...     ...  ..     ...      ...   \n",
       "795  719                Diancie     Rock   Fairy  50     100      150   \n",
       "796  719    DiancieMega Diancie     Rock   Fairy  50     160      110   \n",
       "797  720    HoopaHoopa Confined  Psychic   Ghost  80     110       60   \n",
       "798  720     HoopaHoopa Unbound  Psychic    Dark  80     160       60   \n",
       "799  721              Volcanion     Fire   Water  80     110      120   \n",
       "\n",
       "     Sp. Atk  Sp. Def  Speed  Generation  Legendary  \n",
       "0         65       65     45           1      False  \n",
       "1         80       80     60           1      False  \n",
       "2        100      100     80           1      False  \n",
       "3        122      120     80           1      False  \n",
       "4         60       50     65           1      False  \n",
       "..       ...      ...    ...         ...        ...  \n",
       "795      100      150     50           6       True  \n",
       "796      160      110    110           6       True  \n",
       "797      150      130     70           6       True  \n",
       "798      170      130     80           6       True  \n",
       "799      130       90     70           6       True  \n",
       "\n",
       "[800 rows x 12 columns]"
      ]
     },
     "execution_count": 169,
     "metadata": {},
     "output_type": "execute_result"
    }
   ],
   "source": [
    "df2"
   ]
  },
  {
   "cell_type": "code",
   "execution_count": 170,
   "id": "07a4a807-a702-463f-b3d6-845451a6a875",
   "metadata": {
    "scrolled": true
   },
   "outputs": [
    {
     "name": "stdout",
     "output_type": "stream",
     "text": [
      "       #                       Name    Type 1    Type 2   HP  Attack  Defense  Sp. Atk  Sp. Def  Speed  Generation  Legendary\n",
      "0      1                  Bulbasaur     Grass    Poison   45      49       49       65       65     45           1      False\n",
      "1      2                    Ivysaur     Grass    Poison   60      62       63       80       80     60           1      False\n",
      "2      3                   Venusaur     Grass    Poison   80      82       83      100      100     80           1      False\n",
      "3      3      VenusaurMega Venusaur     Grass    Poison   80     100      123      122      120     80           1      False\n",
      "4      4                 Charmander      Fire       NaN   39      52       43       60       50     65           1      False\n",
      "5      5                 Charmeleon      Fire       NaN   58      64       58       80       65     80           1      False\n",
      "6      6                  Charizard      Fire    Flying   78      84       78      109       85    100           1      False\n",
      "7      6  CharizardMega Charizard X      Fire    Dragon   78     130      111      130       85    100           1      False\n",
      "8      6  CharizardMega Charizard Y      Fire    Flying   78     104       78      159      115    100           1      False\n",
      "9      7                   Squirtle     Water       NaN   44      48       65       50       64     43           1      False\n",
      "10     8                  Wartortle     Water       NaN   59      63       80       65       80     58           1      False\n",
      "11     9                  Blastoise     Water       NaN   79      83      100       85      105     78           1      False\n",
      "12     9    BlastoiseMega Blastoise     Water       NaN   79     103      120      135      115     78           1      False\n",
      "13    10                   Caterpie       Bug       NaN   45      30       35       20       20     45           1      False\n",
      "14    11                    Metapod       Bug       NaN   50      20       55       25       25     30           1      False\n",
      "15    12                 Butterfree       Bug    Flying   60      45       50       90       80     70           1      False\n",
      "16    13                     Weedle       Bug    Poison   40      35       30       20       20     50           1      False\n",
      "17    14                     Kakuna       Bug    Poison   45      25       50       25       25     35           1      False\n",
      "18    15                   Beedrill       Bug    Poison   65      90       40       45       80     75           1      False\n",
      "19    15      BeedrillMega Beedrill       Bug    Poison   65     150       40       15       80    145           1      False\n",
      "20    16                     Pidgey    Normal    Flying   40      45       40       35       35     56           1      False\n",
      "21    17                  Pidgeotto    Normal    Flying   63      60       55       50       50     71           1      False\n",
      "22    18                    Pidgeot    Normal    Flying   83      80       75       70       70    101           1      False\n",
      "23    18        PidgeotMega Pidgeot    Normal    Flying   83      80       80      135       80    121           1      False\n",
      "24    19                    Rattata    Normal       NaN   30      56       35       25       35     72           1      False\n",
      "25    20                   Raticate    Normal       NaN   55      81       60       50       70     97           1      False\n",
      "26    21                    Spearow    Normal    Flying   40      60       30       31       31     70           1      False\n",
      "27    22                     Fearow    Normal    Flying   65      90       65       61       61    100           1      False\n",
      "28    23                      Ekans    Poison       NaN   35      60       44       40       54     55           1      False\n",
      "29    24                      Arbok    Poison       NaN   60      85       69       65       79     80           1      False\n",
      "30    25                    Pikachu  Electric       NaN   35      55       40       50       50     90           1      False\n",
      "31    26                     Raichu  Electric       NaN   60      90       55       90       80    110           1      False\n",
      "32    27                  Sandshrew    Ground       NaN   50      75       85       20       30     40           1      False\n",
      "33    28                  Sandslash    Ground       NaN   75     100      110       45       55     65           1      False\n",
      "34    29           Nidoran (Female)    Poison       NaN   55      47       52       40       40     41           1      False\n",
      "35    30                   Nidorina    Poison       NaN   70      62       67       55       55     56           1      False\n",
      "36    31                  Nidoqueen    Poison    Ground   90      92       87       75       85     76           1      False\n",
      "37    32             Nidoran (Male)    Poison       NaN   46      57       40       40       40     50           1      False\n",
      "38    33                   Nidorino    Poison       NaN   61      72       57       55       55     65           1      False\n",
      "39    34                   Nidoking    Poison    Ground   81     102       77       85       75     85           1      False\n",
      "40    35                   Clefairy     Fairy       NaN   70      45       48       60       65     35           1      False\n",
      "41    36                   Clefable     Fairy       NaN   95      70       73       95       90     60           1      False\n",
      "42    37                     Vulpix      Fire       NaN   38      41       40       50       65     65           1      False\n",
      "43    38                  Ninetales      Fire       NaN   73      76       75       81      100    100           1      False\n",
      "44    39                 Jigglypuff    Normal     Fairy  115      45       20       45       25     20           1      False\n",
      "45    40                 Wigglytuff    Normal     Fairy  140      70       45       85       50     45           1      False\n",
      "46    41                      Zubat    Poison    Flying   40      45       35       30       40     55           1      False\n",
      "47    42                     Golbat    Poison    Flying   75      80       70       65       75     90           1      False\n",
      "48    43                     Oddish     Grass    Poison   45      50       55       75       65     30           1      False\n",
      "49    44                      Gloom     Grass    Poison   60      65       70       85       75     40           1      False\n",
      "50    45                  Vileplume     Grass    Poison   75      80       85      110       90     50           1      False\n",
      "51    46                      Paras       Bug     Grass   35      70       55       45       55     25           1      False\n",
      "52    47                   Parasect       Bug     Grass   60      95       80       60       80     30           1      False\n",
      "53    48                    Venonat       Bug    Poison   60      55       50       40       55     45           1      False\n",
      "54    49                   Venomoth       Bug    Poison   70      65       60       90       75     90           1      False\n",
      "55    50                    Diglett    Ground       NaN   10      55       25       35       45     95           1      False\n",
      "56    51                    Dugtrio    Ground       NaN   35      80       50       50       70    120           1      False\n",
      "57    52                     Meowth    Normal       NaN   40      45       35       40       40     90           1      False\n",
      "58    53                    Persian    Normal       NaN   65      70       60       65       65    115           1      False\n",
      "59    54                    Psyduck     Water       NaN   50      52       48       65       50     55           1      False\n",
      "60    55                    Golduck     Water       NaN   80      82       78       95       80     85           1      False\n",
      "61    56                     Mankey  Fighting       NaN   40      80       35       35       45     70           1      False\n",
      "62    57                   Primeape  Fighting       NaN   65     105       60       60       70     95           1      False\n",
      "63    58                  Growlithe      Fire       NaN   55      70       45       70       50     60           1      False\n",
      "64    59                   Arcanine      Fire       NaN   90     110       80      100       80     95           1      False\n",
      "65    60                    Poliwag     Water       NaN   40      50       40       40       40     90           1      False\n",
      "66    61                  Poliwhirl     Water       NaN   65      65       65       50       50     90           1      False\n",
      "67    62                  Poliwrath     Water  Fighting   90      95       95       70       90     70           1      False\n",
      "68    63                       Abra   Psychic       NaN   25      20       15      105       55     90           1      False\n",
      "69    64                    Kadabra   Psychic       NaN   40      35       30      120       70    105           1      False\n",
      "70    65                   Alakazam   Psychic       NaN   55      50       45      135       95    120           1      False\n",
      "71    65      AlakazamMega Alakazam   Psychic       NaN   55      50       65      175       95    150           1      False\n",
      "72    66                     Machop  Fighting       NaN   70      80       50       35       35     35           1      False\n",
      "73    67                    Machoke  Fighting       NaN   80     100       70       50       60     45           1      False\n",
      "74    68                    Machamp  Fighting       NaN   90     130       80       65       85     55           1      False\n",
      "75    69                 Bellsprout     Grass    Poison   50      75       35       70       30     40           1      False\n",
      "76    70                 Weepinbell     Grass    Poison   65      90       50       85       45     55           1      False\n",
      "77    71                 Victreebel     Grass    Poison   80     105       65      100       70     70           1      False\n",
      "78    72                  Tentacool     Water    Poison   40      40       35       50      100     70           1      False\n",
      "79    73                 Tentacruel     Water    Poison   80      70       65       80      120    100           1      False\n",
      "80    74                    Geodude      Rock    Ground   40      80      100       30       30     20           1      False\n",
      "81    75                   Graveler      Rock    Ground   55      95      115       45       45     35           1      False\n",
      "82    76                      Golem      Rock    Ground   80     120      130       55       65     45           1      False\n",
      "83    77                     Ponyta      Fire       NaN   50      85       55       65       65     90           1      False\n",
      "84    78                   Rapidash      Fire       NaN   65     100       70       80       80    105           1      False\n",
      "85    79                   Slowpoke     Water   Psychic   90      65       65       40       40     15           1      False\n",
      "86    80                    Slowbro     Water   Psychic   95      75      110      100       80     30           1      False\n",
      "87    80        SlowbroMega Slowbro     Water   Psychic   95      75      180      130       80     30           1      False\n",
      "88    81                  Magnemite  Electric     Steel   25      35       70       95       55     45           1      False\n",
      "89    82                   Magneton  Electric     Steel   50      60       95      120       70     70           1      False\n",
      "90    83                 Farfetch'd    Normal    Flying   52      65       55       58       62     60           1      False\n",
      "91    84                      Doduo    Normal    Flying   35      85       45       35       35     75           1      False\n",
      "92    85                     Dodrio    Normal    Flying   60     110       70       60       60    100           1      False\n",
      "93    86                       Seel     Water       NaN   65      45       55       45       70     45           1      False\n",
      "94    87                    Dewgong     Water       Ice   90      70       80       70       95     70           1      False\n",
      "95    88                     Grimer    Poison       NaN   80      80       50       40       50     25           1      False\n",
      "96    89                        Muk    Poison       NaN  105     105       75       65      100     50           1      False\n",
      "97    90                   Shellder     Water       NaN   30      65      100       45       25     40           1      False\n",
      "98    91                   Cloyster     Water       Ice   50      95      180       85       45     70           1      False\n",
      "99    92                     Gastly     Ghost    Poison   30      35       30      100       35     80           1      False\n",
      "100   93                    Haunter     Ghost    Poison   45      50       45      115       55     95           1      False\n",
      "101   94                     Gengar     Ghost    Poison   60      65       60      130       75    110           1      False\n",
      "102   94          GengarMega Gengar     Ghost    Poison   60      65       80      170       95    130           1      False\n",
      "103   95                       Onix      Rock    Ground   35      45      160       30       45     70           1      False\n",
      "104   96                    Drowzee   Psychic       NaN   60      48       45       43       90     42           1      False\n",
      "105   97                      Hypno   Psychic       NaN   85      73       70       73      115     67           1      False\n",
      "106   98                     Krabby     Water       NaN   30     105       90       25       25     50           1      False\n",
      "107   99                    Kingler     Water       NaN   55     130      115       50       50     75           1      False\n",
      "108  100                    Voltorb  Electric       NaN   40      30       50       55       55    100           1      False\n",
      "109  101                  Electrode  Electric       NaN   60      50       70       80       80    140           1      False\n",
      "110  102                  Exeggcute     Grass   Psychic   60      40       80       60       45     40           1      False\n",
      "111  103                  Exeggutor     Grass   Psychic   95      95       85      125       65     55           1      False\n",
      "112  104                     Cubone    Ground       NaN   50      50       95       40       50     35           1      False\n",
      "113  105                    Marowak    Ground       NaN   60      80      110       50       80     45           1      False\n",
      "114  106                  Hitmonlee  Fighting       NaN   50     120       53       35      110     87           1      False\n",
      "115  107                 Hitmonchan  Fighting       NaN   50     105       79       35      110     76           1      False\n",
      "116  108                  Lickitung    Normal       NaN   90      55       75       60       75     30           1      False\n",
      "117  109                    Koffing    Poison       NaN   40      65       95       60       45     35           1      False\n",
      "118  110                    Weezing    Poison       NaN   65      90      120       85       70     60           1      False\n",
      "119  111                    Rhyhorn    Ground      Rock   80      85       95       30       30     25           1      False\n",
      "120  112                     Rhydon    Ground      Rock  105     130      120       45       45     40           1      False\n",
      "121  113                    Chansey    Normal       NaN  250       5        5       35      105     50           1      False\n",
      "122  114                    Tangela     Grass       NaN   65      55      115      100       40     60           1      False\n",
      "123  115                 Kangaskhan    Normal       NaN  105      95       80       40       80     90           1      False\n",
      "124  115  KangaskhanMega Kangaskhan    Normal       NaN  105     125      100       60      100    100           1      False\n",
      "125  116                     Horsea     Water       NaN   30      40       70       70       25     60           1      False\n",
      "126  117                     Seadra     Water       NaN   55      65       95       95       45     85           1      False\n",
      "127  118                    Goldeen     Water       NaN   45      67       60       35       50     63           1      False\n",
      "128  119                    Seaking     Water       NaN   80      92       65       65       80     68           1      False\n",
      "129  120                     Staryu     Water       NaN   30      45       55       70       55     85           1      False\n",
      "130  121                    Starmie     Water   Psychic   60      75       85      100       85    115           1      False\n",
      "131  122                   Mr. Mime   Psychic     Fairy   40      45       65      100      120     90           1      False\n",
      "132  123                    Scyther       Bug    Flying   70     110       80       55       80    105           1      False\n",
      "133  124                       Jynx       Ice   Psychic   65      50       35      115       95     95           1      False\n",
      "134  125                 Electabuzz  Electric       NaN   65      83       57       95       85    105           1      False\n",
      "135  126                     Magmar      Fire       NaN   65      95       57      100       85     93           1      False\n",
      "136  127                     Pinsir       Bug       NaN   65     125      100       55       70     85           1      False\n",
      "137  127          PinsirMega Pinsir       Bug    Flying   65     155      120       65       90    105           1      False\n",
      "138  128                     Tauros    Normal       NaN   75     100       95       40       70    110           1      False\n",
      "139  129                   Magikarp     Water       NaN   20      10       55       15       20     80           1      False\n",
      "140  130                   Gyarados     Water    Flying   95     125       79       60      100     81           1      False\n",
      "141  130      GyaradosMega Gyarados     Water      Dark   95     155      109       70      130     81           1      False\n",
      "142  131                     Lapras     Water       Ice  130      85       80       85       95     60           1      False\n",
      "143  132                      Ditto    Normal       NaN   48      48       48       48       48     48           1      False\n",
      "144  133                      Eevee    Normal       NaN   55      55       50       45       65     55           1      False\n",
      "145  134                   Vaporeon     Water       NaN  130      65       60      110       95     65           1      False\n",
      "146  135                    Jolteon  Electric       NaN   65      65       60      110       95    130           1      False\n",
      "147  136                    Flareon      Fire       NaN   65     130       60       95      110     65           1      False\n",
      "148  137                    Porygon    Normal       NaN   65      60       70       85       75     40           1      False\n",
      "149  138                    Omanyte      Rock     Water   35      40      100       90       55     35           1      False\n",
      "150  139                    Omastar      Rock     Water   70      60      125      115       70     55           1      False\n",
      "151  140                     Kabuto      Rock     Water   30      80       90       55       45     55           1      False\n",
      "152  141                   Kabutops      Rock     Water   60     115      105       65       70     80           1      False\n",
      "153  142                 Aerodactyl      Rock    Flying   80     105       65       60       75    130           1      False\n",
      "154  142  AerodactylMega Aerodactyl      Rock    Flying   80     135       85       70       95    150           1      False\n",
      "155  143                    Snorlax    Normal       NaN  160     110       65       65      110     30           1      False\n",
      "156  144                   Articuno       Ice    Flying   90      85      100       95      125     85           1       True\n",
      "157  145                     Zapdos  Electric    Flying   90      90       85      125       90    100           1       True\n",
      "158  146                    Moltres      Fire    Flying   90     100       90      125       85     90           1       True\n",
      "159  147                    Dratini    Dragon       NaN   41      64       45       50       50     50           1      False\n",
      "160  148                  Dragonair    Dragon       NaN   61      84       65       70       70     70           1      False\n",
      "161  149                  Dragonite    Dragon    Flying   91     134       95      100      100     80           1      False\n",
      "162  150                     Mewtwo   Psychic       NaN  106     110       90      154       90    130           1       True\n",
      "163  150        MewtwoMega Mewtwo X   Psychic  Fighting  106     190      100      154      100    130           1       True\n",
      "164  150        MewtwoMega Mewtwo Y   Psychic       NaN  106     150       70      194      120    140           1       True\n",
      "165  151                        Mew   Psychic       NaN  100     100      100      100      100    100           1      False\n",
      "166  152                  Chikorita     Grass       NaN   45      49       65       49       65     45           2      False\n",
      "167  153                    Bayleef     Grass       NaN   60      62       80       63       80     60           2      False\n",
      "168  154                   Meganium     Grass       NaN   80      82      100       83      100     80           2      False\n",
      "169  155                  Cyndaquil      Fire       NaN   39      52       43       60       50     65           2      False\n",
      "170  156                    Quilava      Fire       NaN   58      64       58       80       65     80           2      False\n",
      "171  157                 Typhlosion      Fire       NaN   78      84       78      109       85    100           2      False\n",
      "172  158                   Totodile     Water       NaN   50      65       64       44       48     43           2      False\n",
      "173  159                   Croconaw     Water       NaN   65      80       80       59       63     58           2      False\n",
      "174  160                 Feraligatr     Water       NaN   85     105      100       79       83     78           2      False\n",
      "175  161                    Sentret    Normal       NaN   35      46       34       35       45     20           2      False\n",
      "176  162                     Furret    Normal       NaN   85      76       64       45       55     90           2      False\n",
      "177  163                   Hoothoot    Normal    Flying   60      30       30       36       56     50           2      False\n",
      "178  164                    Noctowl    Normal    Flying  100      50       50       76       96     70           2      False\n",
      "179  165                     Ledyba       Bug    Flying   40      20       30       40       80     55           2      False\n",
      "180  166                     Ledian       Bug    Flying   55      35       50       55      110     85           2      False\n",
      "181  167                   Spinarak       Bug    Poison   40      60       40       40       40     30           2      False\n",
      "182  168                    Ariados       Bug    Poison   70      90       70       60       60     40           2      False\n",
      "183  169                     Crobat    Poison    Flying   85      90       80       70       80    130           2      False\n",
      "184  170                   Chinchou     Water  Electric   75      38       38       56       56     67           2      False\n",
      "185  171                    Lanturn     Water  Electric  125      58       58       76       76     67           2      False\n",
      "186  172                      Pichu  Electric       NaN   20      40       15       35       35     60           2      False\n",
      "187  173                     Cleffa     Fairy       NaN   50      25       28       45       55     15           2      False\n",
      "188  174                  Igglybuff    Normal     Fairy   90      30       15       40       20     15           2      False\n",
      "189  175                     Togepi     Fairy       NaN   35      20       65       40       65     20           2      False\n",
      "190  176                    Togetic     Fairy    Flying   55      40       85       80      105     40           2      False\n",
      "191  177                       Natu   Psychic    Flying   40      50       45       70       45     70           2      False\n",
      "192  178                       Xatu   Psychic    Flying   65      75       70       95       70     95           2      False\n",
      "193  179                     Mareep  Electric       NaN   55      40       40       65       45     35           2      False\n",
      "194  180                    Flaaffy  Electric       NaN   70      55       55       80       60     45           2      False\n",
      "195  181                   Ampharos  Electric       NaN   90      75       85      115       90     55           2      False\n",
      "196  181      AmpharosMega Ampharos  Electric    Dragon   90      95      105      165      110     45           2      False\n",
      "197  182                  Bellossom     Grass       NaN   75      80       95       90      100     50           2      False\n",
      "198  183                     Marill     Water     Fairy   70      20       50       20       50     40           2      False\n",
      "199  184                  Azumarill     Water     Fairy  100      50       80       60       80     50           2      False\n",
      "200  185                  Sudowoodo      Rock       NaN   70     100      115       30       65     30           2      False\n",
      "201  186                   Politoed     Water       NaN   90      75       75       90      100     70           2      False\n",
      "202  187                     Hoppip     Grass    Flying   35      35       40       35       55     50           2      False\n",
      "203  188                   Skiploom     Grass    Flying   55      45       50       45       65     80           2      False\n",
      "204  189                   Jumpluff     Grass    Flying   75      55       70       55       95    110           2      False\n",
      "205  190                      Aipom    Normal       NaN   55      70       55       40       55     85           2      False\n",
      "206  191                    Sunkern     Grass       NaN   30      30       30       30       30     30           2      False\n",
      "207  192                   Sunflora     Grass       NaN   75      75       55      105       85     30           2      False\n",
      "208  193                      Yanma       Bug    Flying   65      65       45       75       45     95           2      False\n",
      "209  194                     Wooper     Water    Ground   55      45       45       25       25     15           2      False\n",
      "210  195                   Quagsire     Water    Ground   95      85       85       65       65     35           2      False\n",
      "211  196                     Espeon   Psychic       NaN   65      65       60      130       95    110           2      False\n",
      "212  197                    Umbreon      Dark       NaN   95      65      110       60      130     65           2      False\n",
      "213  198                    Murkrow      Dark    Flying   60      85       42       85       42     91           2      False\n",
      "214  199                   Slowking     Water   Psychic   95      75       80      100      110     30           2      False\n",
      "215  200                 Misdreavus     Ghost       NaN   60      60       60       85       85     85           2      False\n",
      "216  201                      Unown   Psychic       NaN   48      72       48       72       48     48           2      False\n",
      "217  202                  Wobbuffet   Psychic       NaN  190      33       58       33       58     33           2      False\n",
      "218  203                  Girafarig    Normal   Psychic   70      80       65       90       65     85           2      False\n",
      "219  204                     Pineco       Bug       NaN   50      65       90       35       35     15           2      False\n",
      "220  205                 Forretress       Bug     Steel   75      90      140       60       60     40           2      False\n",
      "221  206                  Dunsparce    Normal       NaN  100      70       70       65       65     45           2      False\n",
      "222  207                     Gligar    Ground    Flying   65      75      105       35       65     85           2      False\n",
      "223  208                    Steelix     Steel    Ground   75      85      200       55       65     30           2      False\n",
      "224  208        SteelixMega Steelix     Steel    Ground   75     125      230       55       95     30           2      False\n",
      "225  209                   Snubbull     Fairy       NaN   60      80       50       40       40     30           2      False\n",
      "226  210                   Granbull     Fairy       NaN   90     120       75       60       60     45           2      False\n",
      "227  211                   Qwilfish     Water    Poison   65      95       75       55       55     85           2      False\n",
      "228  212                     Scizor       Bug     Steel   70     130      100       55       80     65           2      False\n",
      "229  212          ScizorMega Scizor       Bug     Steel   70     150      140       65      100     75           2      False\n",
      "230  213                    Shuckle       Bug      Rock   20      10      230       10      230      5           2      False\n",
      "231  214                  Heracross       Bug  Fighting   80     125       75       40       95     85           2      False\n",
      "232  214    HeracrossMega Heracross       Bug  Fighting   80     185      115       40      105     75           2      False\n",
      "233  215                    Sneasel      Dark       Ice   55      95       55       35       75    115           2      False\n",
      "234  216                  Teddiursa    Normal       NaN   60      80       50       50       50     40           2      False\n",
      "235  217                   Ursaring    Normal       NaN   90     130       75       75       75     55           2      False\n",
      "236  218                     Slugma      Fire       NaN   40      40       40       70       40     20           2      False\n",
      "237  219                   Magcargo      Fire      Rock   50      50      120       80       80     30           2      False\n",
      "238  220                     Swinub       Ice    Ground   50      50       40       30       30     50           2      False\n",
      "239  221                  Piloswine       Ice    Ground  100     100       80       60       60     50           2      False\n",
      "240  222                    Corsola     Water      Rock   55      55       85       65       85     35           2      False\n",
      "241  223                   Remoraid     Water       NaN   35      65       35       65       35     65           2      False\n",
      "242  224                  Octillery     Water       NaN   75     105       75      105       75     45           2      False\n",
      "243  225                   Delibird       Ice    Flying   45      55       45       65       45     75           2      False\n",
      "244  226                    Mantine     Water    Flying   65      40       70       80      140     70           2      False\n",
      "245  227                   Skarmory     Steel    Flying   65      80      140       40       70     70           2      False\n",
      "246  228                   Houndour      Dark      Fire   45      60       30       80       50     65           2      False\n",
      "247  229                   Houndoom      Dark      Fire   75      90       50      110       80     95           2      False\n",
      "248  229      HoundoomMega Houndoom      Dark      Fire   75      90       90      140       90    115           2      False\n",
      "249  230                    Kingdra     Water    Dragon   75      95       95       95       95     85           2      False\n",
      "250  231                     Phanpy    Ground       NaN   90      60       60       40       40     40           2      False\n",
      "251  232                    Donphan    Ground       NaN   90     120      120       60       60     50           2      False\n",
      "252  233                   Porygon2    Normal       NaN   85      80       90      105       95     60           2      False\n",
      "253  234                   Stantler    Normal       NaN   73      95       62       85       65     85           2      False\n",
      "254  235                   Smeargle    Normal       NaN   55      20       35       20       45     75           2      False\n",
      "255  236                    Tyrogue  Fighting       NaN   35      35       35       35       35     35           2      False\n",
      "256  237                  Hitmontop  Fighting       NaN   50      95       95       35      110     70           2      False\n",
      "257  238                   Smoochum       Ice   Psychic   45      30       15       85       65     65           2      False\n",
      "258  239                     Elekid  Electric       NaN   45      63       37       65       55     95           2      False\n",
      "259  240                      Magby      Fire       NaN   45      75       37       70       55     83           2      False\n",
      "260  241                    Miltank    Normal       NaN   95      80      105       40       70    100           2      False\n",
      "261  242                    Blissey    Normal       NaN  255      10       10       75      135     55           2      False\n",
      "262  243                     Raikou  Electric       NaN   90      85       75      115      100    115           2       True\n",
      "263  244                      Entei      Fire       NaN  115     115       85       90       75    100           2       True\n",
      "264  245                    Suicune     Water       NaN  100      75      115       90      115     85           2       True\n",
      "265  246                   Larvitar      Rock    Ground   50      64       50       45       50     41           2      False\n",
      "266  247                    Pupitar      Rock    Ground   70      84       70       65       70     51           2      False\n",
      "267  248                  Tyranitar      Rock      Dark  100     134      110       95      100     61           2      False\n",
      "268  248    TyranitarMega Tyranitar      Rock      Dark  100     164      150       95      120     71           2      False\n",
      "269  249                      Lugia   Psychic    Flying  106      90      130       90      154    110           2       True\n",
      "270  250                      Ho-oh      Fire    Flying  106     130       90      110      154     90           2       True\n",
      "271  251                     Celebi   Psychic     Grass  100     100      100      100      100    100           2      False\n",
      "272  252                    Treecko     Grass       NaN   40      45       35       65       55     70           3      False\n",
      "273  253                    Grovyle     Grass       NaN   50      65       45       85       65     95           3      False\n",
      "274  254                   Sceptile     Grass       NaN   70      85       65      105       85    120           3      False\n",
      "275  254      SceptileMega Sceptile     Grass    Dragon   70     110       75      145       85    145           3      False\n",
      "276  255                    Torchic      Fire       NaN   45      60       40       70       50     45           3      False\n",
      "277  256                  Combusken      Fire  Fighting   60      85       60       85       60     55           3      False\n",
      "278  257                   Blaziken      Fire  Fighting   80     120       70      110       70     80           3      False\n",
      "279  257      BlazikenMega Blaziken      Fire  Fighting   80     160       80      130       80    100           3      False\n",
      "280  258                     Mudkip     Water       NaN   50      70       50       50       50     40           3      False\n",
      "281  259                  Marshtomp     Water    Ground   70      85       70       60       70     50           3      False\n",
      "282  260                   Swampert     Water    Ground  100     110       90       85       90     60           3      False\n",
      "283  260      SwampertMega Swampert     Water    Ground  100     150      110       95      110     70           3      False\n",
      "284  261                  Poochyena      Dark       NaN   35      55       35       30       30     35           3      False\n",
      "285  262                  Mightyena      Dark       NaN   70      90       70       60       60     70           3      False\n",
      "286  263                  Zigzagoon    Normal       NaN   38      30       41       30       41     60           3      False\n",
      "287  264                    Linoone    Normal       NaN   78      70       61       50       61    100           3      False\n",
      "288  265                    Wurmple       Bug       NaN   45      45       35       20       30     20           3      False\n",
      "289  266                    Silcoon       Bug       NaN   50      35       55       25       25     15           3      False\n",
      "290  267                  Beautifly       Bug    Flying   60      70       50      100       50     65           3      False\n",
      "291  268                    Cascoon       Bug       NaN   50      35       55       25       25     15           3      False\n",
      "292  269                     Dustox       Bug    Poison   60      50       70       50       90     65           3      False\n",
      "293  270                      Lotad     Water     Grass   40      30       30       40       50     30           3      False\n",
      "294  271                     Lombre     Water     Grass   60      50       50       60       70     50           3      False\n",
      "295  272                   Ludicolo     Water     Grass   80      70       70       90      100     70           3      False\n",
      "296  273                     Seedot     Grass       NaN   40      40       50       30       30     30           3      False\n",
      "297  274                    Nuzleaf     Grass      Dark   70      70       40       60       40     60           3      False\n",
      "298  275                    Shiftry     Grass      Dark   90     100       60       90       60     80           3      False\n",
      "299  276                    Taillow    Normal    Flying   40      55       30       30       30     85           3      False\n",
      "300  277                    Swellow    Normal    Flying   60      85       60       50       50    125           3      False\n",
      "301  278                    Wingull     Water    Flying   40      30       30       55       30     85           3      False\n",
      "302  279                   Pelipper     Water    Flying   60      50      100       85       70     65           3      False\n",
      "303  280                      Ralts   Psychic     Fairy   28      25       25       45       35     40           3      False\n",
      "304  281                     Kirlia   Psychic     Fairy   38      35       35       65       55     50           3      False\n",
      "305  282                  Gardevoir   Psychic     Fairy   68      65       65      125      115     80           3      False\n",
      "306  282    GardevoirMega Gardevoir   Psychic     Fairy   68      85       65      165      135    100           3      False\n",
      "307  283                    Surskit       Bug     Water   40      30       32       50       52     65           3      False\n",
      "308  284                 Masquerain       Bug    Flying   70      60       62       80       82     60           3      False\n",
      "309  285                  Shroomish     Grass       NaN   60      40       60       40       60     35           3      False\n",
      "310  286                    Breloom     Grass  Fighting   60     130       80       60       60     70           3      False\n",
      "311  287                    Slakoth    Normal       NaN   60      60       60       35       35     30           3      False\n",
      "312  288                   Vigoroth    Normal       NaN   80      80       80       55       55     90           3      False\n",
      "313  289                    Slaking    Normal       NaN  150     160      100       95       65    100           3      False\n",
      "314  290                    Nincada       Bug    Ground   31      45       90       30       30     40           3      False\n",
      "315  291                    Ninjask       Bug    Flying   61      90       45       50       50    160           3      False\n",
      "316  292                   Shedinja       Bug     Ghost    1      90       45       30       30     40           3      False\n",
      "317  293                    Whismur    Normal       NaN   64      51       23       51       23     28           3      False\n",
      "318  294                    Loudred    Normal       NaN   84      71       43       71       43     48           3      False\n",
      "319  295                    Exploud    Normal       NaN  104      91       63       91       73     68           3      False\n",
      "320  296                   Makuhita  Fighting       NaN   72      60       30       20       30     25           3      False\n",
      "321  297                   Hariyama  Fighting       NaN  144     120       60       40       60     50           3      False\n",
      "322  298                    Azurill    Normal     Fairy   50      20       40       20       40     20           3      False\n",
      "323  299                   Nosepass      Rock       NaN   30      45      135       45       90     30           3      False\n",
      "324  300                     Skitty    Normal       NaN   50      45       45       35       35     50           3      False\n",
      "325  301                   Delcatty    Normal       NaN   70      65       65       55       55     70           3      False\n",
      "326  302                    Sableye      Dark     Ghost   50      75       75       65       65     50           3      False\n",
      "327  302        SableyeMega Sableye      Dark     Ghost   50      85      125       85      115     20           3      False\n",
      "328  303                     Mawile     Steel     Fairy   50      85       85       55       55     50           3      False\n",
      "329  303          MawileMega Mawile     Steel     Fairy   50     105      125       55       95     50           3      False\n",
      "330  304                       Aron     Steel      Rock   50      70      100       40       40     30           3      False\n",
      "331  305                     Lairon     Steel      Rock   60      90      140       50       50     40           3      False\n",
      "332  306                     Aggron     Steel      Rock   70     110      180       60       60     50           3      False\n",
      "333  306          AggronMega Aggron     Steel       NaN   70     140      230       60       80     50           3      False\n",
      "334  307                   Meditite  Fighting   Psychic   30      40       55       40       55     60           3      False\n",
      "335  308                   Medicham  Fighting   Psychic   60      60       75       60       75     80           3      False\n",
      "336  308      MedichamMega Medicham  Fighting   Psychic   60     100       85       80       85    100           3      False\n",
      "337  309                  Electrike  Electric       NaN   40      45       40       65       40     65           3      False\n",
      "338  310                  Manectric  Electric       NaN   70      75       60      105       60    105           3      False\n",
      "339  310    ManectricMega Manectric  Electric       NaN   70      75       80      135       80    135           3      False\n",
      "340  311                     Plusle  Electric       NaN   60      50       40       85       75     95           3      False\n",
      "341  312                      Minun  Electric       NaN   60      40       50       75       85     95           3      False\n",
      "342  313                    Volbeat       Bug       NaN   65      73       55       47       75     85           3      False\n",
      "343  314                   Illumise       Bug       NaN   65      47       55       73       75     85           3      False\n",
      "344  315                    Roselia     Grass    Poison   50      60       45      100       80     65           3      False\n",
      "345  316                     Gulpin    Poison       NaN   70      43       53       43       53     40           3      False\n",
      "346  317                     Swalot    Poison       NaN  100      73       83       73       83     55           3      False\n",
      "347  318                   Carvanha     Water      Dark   45      90       20       65       20     65           3      False\n",
      "348  319                   Sharpedo     Water      Dark   70     120       40       95       40     95           3      False\n",
      "349  319      SharpedoMega Sharpedo     Water      Dark   70     140       70      110       65    105           3      False\n",
      "350  320                    Wailmer     Water       NaN  130      70       35       70       35     60           3      False\n",
      "351  321                    Wailord     Water       NaN  170      90       45       90       45     60           3      False\n",
      "352  322                      Numel      Fire    Ground   60      60       40       65       45     35           3      False\n",
      "353  323                   Camerupt      Fire    Ground   70     100       70      105       75     40           3      False\n",
      "354  323      CameruptMega Camerupt      Fire    Ground   70     120      100      145      105     20           3      False\n",
      "355  324                    Torkoal      Fire       NaN   70      85      140       85       70     20           3      False\n",
      "356  325                     Spoink   Psychic       NaN   60      25       35       70       80     60           3      False\n",
      "357  326                    Grumpig   Psychic       NaN   80      45       65       90      110     80           3      False\n",
      "358  327                     Spinda    Normal       NaN   60      60       60       60       60     60           3      False\n",
      "359  328                   Trapinch    Ground       NaN   45     100       45       45       45     10           3      False\n",
      "360  329                    Vibrava    Ground    Dragon   50      70       50       50       50     70           3      False\n",
      "361  330                     Flygon    Ground    Dragon   80     100       80       80       80    100           3      False\n",
      "362  331                     Cacnea     Grass       NaN   50      85       40       85       40     35           3      False\n",
      "363  332                   Cacturne     Grass      Dark   70     115       60      115       60     55           3      False\n",
      "364  333                     Swablu    Normal    Flying   45      40       60       40       75     50           3      False\n",
      "365  334                    Altaria    Dragon    Flying   75      70       90       70      105     80           3      False\n",
      "366  334        AltariaMega Altaria    Dragon     Fairy   75     110      110      110      105     80           3      False\n",
      "367  335                   Zangoose    Normal       NaN   73     115       60       60       60     90           3      False\n",
      "368  336                    Seviper    Poison       NaN   73     100       60      100       60     65           3      False\n",
      "369  337                   Lunatone      Rock   Psychic   70      55       65       95       85     70           3      False\n",
      "370  338                    Solrock      Rock   Psychic   70      95       85       55       65     70           3      False\n",
      "371  339                   Barboach     Water    Ground   50      48       43       46       41     60           3      False\n",
      "372  340                   Whiscash     Water    Ground  110      78       73       76       71     60           3      False\n",
      "373  341                   Corphish     Water       NaN   43      80       65       50       35     35           3      False\n",
      "374  342                  Crawdaunt     Water      Dark   63     120       85       90       55     55           3      False\n",
      "375  343                     Baltoy    Ground   Psychic   40      40       55       40       70     55           3      False\n",
      "376  344                    Claydol    Ground   Psychic   60      70      105       70      120     75           3      False\n",
      "377  345                     Lileep      Rock     Grass   66      41       77       61       87     23           3      False\n",
      "378  346                    Cradily      Rock     Grass   86      81       97       81      107     43           3      False\n",
      "379  347                    Anorith      Rock       Bug   45      95       50       40       50     75           3      False\n",
      "380  348                    Armaldo      Rock       Bug   75     125      100       70       80     45           3      False\n",
      "381  349                     Feebas     Water       NaN   20      15       20       10       55     80           3      False\n",
      "382  350                    Milotic     Water       NaN   95      60       79      100      125     81           3      False\n",
      "383  351                   Castform    Normal       NaN   70      70       70       70       70     70           3      False\n",
      "384  352                    Kecleon    Normal       NaN   60      90       70       60      120     40           3      False\n",
      "385  353                    Shuppet     Ghost       NaN   44      75       35       63       33     45           3      False\n",
      "386  354                    Banette     Ghost       NaN   64     115       65       83       63     65           3      False\n",
      "387  354        BanetteMega Banette     Ghost       NaN   64     165       75       93       83     75           3      False\n",
      "388  355                    Duskull     Ghost       NaN   20      40       90       30       90     25           3      False\n",
      "389  356                   Dusclops     Ghost       NaN   40      70      130       60      130     25           3      False\n",
      "390  357                    Tropius     Grass    Flying   99      68       83       72       87     51           3      False\n",
      "391  358                   Chimecho   Psychic       NaN   65      50       70       95       80     65           3      False\n",
      "392  359                      Absol      Dark       NaN   65     130       60       75       60     75           3      False\n",
      "393  359            AbsolMega Absol      Dark       NaN   65     150       60      115       60    115           3      False\n",
      "394  360                     Wynaut   Psychic       NaN   95      23       48       23       48     23           3      False\n",
      "395  361                    Snorunt       Ice       NaN   50      50       50       50       50     50           3      False\n",
      "396  362                     Glalie       Ice       NaN   80      80       80       80       80     80           3      False\n",
      "397  362          GlalieMega Glalie       Ice       NaN   80     120       80      120       80    100           3      False\n",
      "398  363                     Spheal       Ice     Water   70      40       50       55       50     25           3      False\n",
      "399  364                     Sealeo       Ice     Water   90      60       70       75       70     45           3      False\n",
      "400  365                    Walrein       Ice     Water  110      80       90       95       90     65           3      False\n",
      "401  366                   Clamperl     Water       NaN   35      64       85       74       55     32           3      False\n",
      "402  367                    Huntail     Water       NaN   55     104      105       94       75     52           3      False\n",
      "403  368                   Gorebyss     Water       NaN   55      84      105      114       75     52           3      False\n",
      "404  369                  Relicanth     Water      Rock  100      90      130       45       65     55           3      False\n",
      "405  370                    Luvdisc     Water       NaN   43      30       55       40       65     97           3      False\n",
      "406  371                      Bagon    Dragon       NaN   45      75       60       40       30     50           3      False\n",
      "407  372                    Shelgon    Dragon       NaN   65      95      100       60       50     50           3      False\n",
      "408  373                  Salamence    Dragon    Flying   95     135       80      110       80    100           3      False\n",
      "409  373    SalamenceMega Salamence    Dragon    Flying   95     145      130      120       90    120           3      False\n",
      "410  374                     Beldum     Steel   Psychic   40      55       80       35       60     30           3      False\n",
      "411  375                     Metang     Steel   Psychic   60      75      100       55       80     50           3      False\n",
      "412  376                  Metagross     Steel   Psychic   80     135      130       95       90     70           3      False\n",
      "413  376    MetagrossMega Metagross     Steel   Psychic   80     145      150      105      110    110           3      False\n",
      "414  377                   Regirock      Rock       NaN   80     100      200       50      100     50           3       True\n",
      "415  378                     Regice       Ice       NaN   80      50      100      100      200     50           3       True\n",
      "416  379                  Registeel     Steel       NaN   80      75      150       75      150     50           3       True\n",
      "417  380                     Latias    Dragon   Psychic   80      80       90      110      130    110           3       True\n",
      "418  380          LatiasMega Latias    Dragon   Psychic   80     100      120      140      150    110           3       True\n",
      "419  381                     Latios    Dragon   Psychic   80      90       80      130      110    110           3       True\n",
      "420  381          LatiosMega Latios    Dragon   Psychic   80     130      100      160      120    110           3       True\n",
      "421  382                     Kyogre     Water       NaN  100     100       90      150      140     90           3       True\n",
      "422  382        KyogrePrimal Kyogre     Water       NaN  100     150       90      180      160     90           3       True\n",
      "423  383                    Groudon    Ground       NaN  100     150      140      100       90     90           3       True\n",
      "424  383      GroudonPrimal Groudon    Ground      Fire  100     180      160      150       90     90           3       True\n",
      "425  384                   Rayquaza    Dragon    Flying  105     150       90      150       90     95           3       True\n",
      "426  384      RayquazaMega Rayquaza    Dragon    Flying  105     180      100      180      100    115           3       True\n",
      "427  385                    Jirachi     Steel   Psychic  100     100      100      100      100    100           3       True\n",
      "428  386         DeoxysNormal Forme   Psychic       NaN   50     150       50      150       50    150           3       True\n",
      "429  386         DeoxysAttack Forme   Psychic       NaN   50     180       20      180       20    150           3       True\n",
      "430  386        DeoxysDefense Forme   Psychic       NaN   50      70      160       70      160     90           3       True\n",
      "431  386          DeoxysSpeed Forme   Psychic       NaN   50      95       90       95       90    180           3       True\n",
      "432  387                    Turtwig     Grass       NaN   55      68       64       45       55     31           4      False\n",
      "433  388                     Grotle     Grass       NaN   75      89       85       55       65     36           4      False\n",
      "434  389                   Torterra     Grass    Ground   95     109      105       75       85     56           4      False\n",
      "435  390                   Chimchar      Fire       NaN   44      58       44       58       44     61           4      False\n",
      "436  391                   Monferno      Fire  Fighting   64      78       52       78       52     81           4      False\n",
      "437  392                  Infernape      Fire  Fighting   76     104       71      104       71    108           4      False\n",
      "438  393                     Piplup     Water       NaN   53      51       53       61       56     40           4      False\n",
      "439  394                   Prinplup     Water       NaN   64      66       68       81       76     50           4      False\n",
      "440  395                   Empoleon     Water     Steel   84      86       88      111      101     60           4      False\n",
      "441  396                     Starly    Normal    Flying   40      55       30       30       30     60           4      False\n",
      "442  397                   Staravia    Normal    Flying   55      75       50       40       40     80           4      False\n",
      "443  398                  Staraptor    Normal    Flying   85     120       70       50       60    100           4      False\n",
      "444  399                     Bidoof    Normal       NaN   59      45       40       35       40     31           4      False\n",
      "445  400                    Bibarel    Normal     Water   79      85       60       55       60     71           4      False\n",
      "446  401                  Kricketot       Bug       NaN   37      25       41       25       41     25           4      False\n",
      "447  402                 Kricketune       Bug       NaN   77      85       51       55       51     65           4      False\n",
      "448  403                      Shinx  Electric       NaN   45      65       34       40       34     45           4      False\n",
      "449  404                      Luxio  Electric       NaN   60      85       49       60       49     60           4      False\n",
      "450  405                     Luxray  Electric       NaN   80     120       79       95       79     70           4      False\n",
      "451  406                      Budew     Grass    Poison   40      30       35       50       70     55           4      False\n",
      "452  407                   Roserade     Grass    Poison   60      70       65      125      105     90           4      False\n",
      "453  408                   Cranidos      Rock       NaN   67     125       40       30       30     58           4      False\n",
      "454  409                  Rampardos      Rock       NaN   97     165       60       65       50     58           4      False\n",
      "455  410                   Shieldon      Rock     Steel   30      42      118       42       88     30           4      False\n",
      "456  411                  Bastiodon      Rock     Steel   60      52      168       47      138     30           4      False\n",
      "457  412                      Burmy       Bug       NaN   40      29       45       29       45     36           4      False\n",
      "458  413        WormadamPlant Cloak       Bug     Grass   60      59       85       79      105     36           4      False\n",
      "459  413        WormadamSandy Cloak       Bug    Ground   60      79      105       59       85     36           4      False\n",
      "460  413        WormadamTrash Cloak       Bug     Steel   60      69       95       69       95     36           4      False\n",
      "461  414                     Mothim       Bug    Flying   70      94       50       94       50     66           4      False\n",
      "462  415                     Combee       Bug    Flying   30      30       42       30       42     70           4      False\n",
      "463  416                  Vespiquen       Bug    Flying   70      80      102       80      102     40           4      False\n",
      "464  417                  Pachirisu  Electric       NaN   60      45       70       45       90     95           4      False\n",
      "465  418                     Buizel     Water       NaN   55      65       35       60       30     85           4      False\n",
      "466  419                   Floatzel     Water       NaN   85     105       55       85       50    115           4      False\n",
      "467  420                    Cherubi     Grass       NaN   45      35       45       62       53     35           4      False\n",
      "468  421                    Cherrim     Grass       NaN   70      60       70       87       78     85           4      False\n",
      "469  422                    Shellos     Water       NaN   76      48       48       57       62     34           4      False\n",
      "470  423                  Gastrodon     Water    Ground  111      83       68       92       82     39           4      False\n",
      "471  424                    Ambipom    Normal       NaN   75     100       66       60       66    115           4      False\n",
      "472  425                   Drifloon     Ghost    Flying   90      50       34       60       44     70           4      False\n",
      "473  426                   Drifblim     Ghost    Flying  150      80       44       90       54     80           4      False\n",
      "474  427                    Buneary    Normal       NaN   55      66       44       44       56     85           4      False\n",
      "475  428                    Lopunny    Normal       NaN   65      76       84       54       96    105           4      False\n",
      "476  428        LopunnyMega Lopunny    Normal  Fighting   65     136       94       54       96    135           4      False\n",
      "477  429                  Mismagius     Ghost       NaN   60      60       60      105      105    105           4      False\n",
      "478  430                  Honchkrow      Dark    Flying  100     125       52      105       52     71           4      False\n",
      "479  431                    Glameow    Normal       NaN   49      55       42       42       37     85           4      False\n",
      "480  432                    Purugly    Normal       NaN   71      82       64       64       59    112           4      False\n",
      "481  433                  Chingling   Psychic       NaN   45      30       50       65       50     45           4      False\n",
      "482  434                     Stunky    Poison      Dark   63      63       47       41       41     74           4      False\n",
      "483  435                   Skuntank    Poison      Dark  103      93       67       71       61     84           4      False\n",
      "484  436                    Bronzor     Steel   Psychic   57      24       86       24       86     23           4      False\n",
      "485  437                   Bronzong     Steel   Psychic   67      89      116       79      116     33           4      False\n",
      "486  438                     Bonsly      Rock       NaN   50      80       95       10       45     10           4      False\n",
      "487  439                   Mime Jr.   Psychic     Fairy   20      25       45       70       90     60           4      False\n",
      "488  440                    Happiny    Normal       NaN  100       5        5       15       65     30           4      False\n",
      "489  441                     Chatot    Normal    Flying   76      65       45       92       42     91           4      False\n",
      "490  442                  Spiritomb     Ghost      Dark   50      92      108       92      108     35           4      False\n",
      "491  443                      Gible    Dragon    Ground   58      70       45       40       45     42           4      False\n",
      "492  444                     Gabite    Dragon    Ground   68      90       65       50       55     82           4      False\n",
      "493  445                   Garchomp    Dragon    Ground  108     130       95       80       85    102           4      False\n",
      "494  445      GarchompMega Garchomp    Dragon    Ground  108     170      115      120       95     92           4      False\n",
      "495  446                   Munchlax    Normal       NaN  135      85       40       40       85      5           4      False\n",
      "496  447                      Riolu  Fighting       NaN   40      70       40       35       40     60           4      False\n",
      "497  448                    Lucario  Fighting     Steel   70     110       70      115       70     90           4      False\n",
      "498  448        LucarioMega Lucario  Fighting     Steel   70     145       88      140       70    112           4      False\n",
      "499  449                 Hippopotas    Ground       NaN   68      72       78       38       42     32           4      False\n",
      "500  450                  Hippowdon    Ground       NaN  108     112      118       68       72     47           4      False\n",
      "501  451                    Skorupi    Poison       Bug   40      50       90       30       55     65           4      False\n",
      "502  452                    Drapion    Poison      Dark   70      90      110       60       75     95           4      False\n",
      "503  453                   Croagunk    Poison  Fighting   48      61       40       61       40     50           4      False\n",
      "504  454                  Toxicroak    Poison  Fighting   83     106       65       86       65     85           4      False\n",
      "505  455                  Carnivine     Grass       NaN   74     100       72       90       72     46           4      False\n",
      "506  456                    Finneon     Water       NaN   49      49       56       49       61     66           4      False\n",
      "507  457                   Lumineon     Water       NaN   69      69       76       69       86     91           4      False\n",
      "508  458                    Mantyke     Water    Flying   45      20       50       60      120     50           4      False\n",
      "509  459                     Snover     Grass       Ice   60      62       50       62       60     40           4      False\n",
      "510  460                  Abomasnow     Grass       Ice   90      92       75       92       85     60           4      False\n",
      "511  460    AbomasnowMega Abomasnow     Grass       Ice   90     132      105      132      105     30           4      False\n",
      "512  461                    Weavile      Dark       Ice   70     120       65       45       85    125           4      False\n",
      "513  462                  Magnezone  Electric     Steel   70      70      115      130       90     60           4      False\n",
      "514  463                 Lickilicky    Normal       NaN  110      85       95       80       95     50           4      False\n",
      "515  464                  Rhyperior    Ground      Rock  115     140      130       55       55     40           4      False\n",
      "516  465                  Tangrowth     Grass       NaN  100     100      125      110       50     50           4      False\n",
      "517  466                 Electivire  Electric       NaN   75     123       67       95       85     95           4      False\n",
      "518  467                  Magmortar      Fire       NaN   75      95       67      125       95     83           4      False\n",
      "519  468                   Togekiss     Fairy    Flying   85      50       95      120      115     80           4      False\n",
      "520  469                    Yanmega       Bug    Flying   86      76       86      116       56     95           4      False\n",
      "521  470                    Leafeon     Grass       NaN   65     110      130       60       65     95           4      False\n",
      "522  471                    Glaceon       Ice       NaN   65      60      110      130       95     65           4      False\n",
      "523  472                    Gliscor    Ground    Flying   75      95      125       45       75     95           4      False\n",
      "524  473                  Mamoswine       Ice    Ground  110     130       80       70       60     80           4      False\n",
      "525  474                  Porygon-Z    Normal       NaN   85      80       70      135       75     90           4      False\n",
      "526  475                    Gallade   Psychic  Fighting   68     125       65       65      115     80           4      False\n",
      "527  475        GalladeMega Gallade   Psychic  Fighting   68     165       95       65      115    110           4      False\n",
      "528  476                  Probopass      Rock     Steel   60      55      145       75      150     40           4      False\n",
      "529  477                   Dusknoir     Ghost       NaN   45     100      135       65      135     45           4      False\n",
      "530  478                   Froslass       Ice     Ghost   70      80       70       80       70    110           4      False\n",
      "531  479                      Rotom  Electric     Ghost   50      50       77       95       77     91           4      False\n",
      "532  479            RotomHeat Rotom  Electric      Fire   50      65      107      105      107     86           4      False\n",
      "533  479            RotomWash Rotom  Electric     Water   50      65      107      105      107     86           4      False\n",
      "534  479           RotomFrost Rotom  Electric       Ice   50      65      107      105      107     86           4      False\n",
      "535  479             RotomFan Rotom  Electric    Flying   50      65      107      105      107     86           4      False\n",
      "536  479             RotomMow Rotom  Electric     Grass   50      65      107      105      107     86           4      False\n",
      "537  480                       Uxie   Psychic       NaN   75      75      130       75      130     95           4       True\n",
      "538  481                    Mesprit   Psychic       NaN   80     105      105      105      105     80           4       True\n",
      "539  482                      Azelf   Psychic       NaN   75     125       70      125       70    115           4       True\n",
      "540  483                     Dialga     Steel    Dragon  100     120      120      150      100     90           4       True\n",
      "541  484                     Palkia     Water    Dragon   90     120      100      150      120    100           4       True\n",
      "542  485                    Heatran      Fire     Steel   91      90      106      130      106     77           4       True\n",
      "543  486                  Regigigas    Normal       NaN  110     160      110       80      110    100           4       True\n",
      "544  487      GiratinaAltered Forme     Ghost    Dragon  150     100      120      100      120     90           4       True\n",
      "545  487       GiratinaOrigin Forme     Ghost    Dragon  150     120      100      120      100     90           4       True\n",
      "546  488                  Cresselia   Psychic       NaN  120      70      120       75      130     85           4      False\n",
      "547  489                     Phione     Water       NaN   80      80       80       80       80     80           4      False\n",
      "548  490                    Manaphy     Water       NaN  100     100      100      100      100    100           4      False\n",
      "549  491                    Darkrai      Dark       NaN   70      90       90      135       90    125           4       True\n",
      "550  492          ShayminLand Forme     Grass       NaN  100     100      100      100      100    100           4       True\n",
      "551  492           ShayminSky Forme     Grass    Flying  100     103       75      120       75    127           4       True\n",
      "552  493                     Arceus    Normal       NaN  120     120      120      120      120    120           4       True\n",
      "553  494                    Victini   Psychic      Fire  100     100      100      100      100    100           5       True\n",
      "554  495                      Snivy     Grass       NaN   45      45       55       45       55     63           5      False\n",
      "555  496                    Servine     Grass       NaN   60      60       75       60       75     83           5      False\n",
      "556  497                  Serperior     Grass       NaN   75      75       95       75       95    113           5      False\n",
      "557  498                      Tepig      Fire       NaN   65      63       45       45       45     45           5      False\n",
      "558  499                    Pignite      Fire  Fighting   90      93       55       70       55     55           5      False\n",
      "559  500                     Emboar      Fire  Fighting  110     123       65      100       65     65           5      False\n",
      "560  501                   Oshawott     Water       NaN   55      55       45       63       45     45           5      False\n",
      "561  502                     Dewott     Water       NaN   75      75       60       83       60     60           5      False\n",
      "562  503                   Samurott     Water       NaN   95     100       85      108       70     70           5      False\n",
      "563  504                     Patrat    Normal       NaN   45      55       39       35       39     42           5      False\n",
      "564  505                    Watchog    Normal       NaN   60      85       69       60       69     77           5      False\n",
      "565  506                   Lillipup    Normal       NaN   45      60       45       25       45     55           5      False\n",
      "566  507                    Herdier    Normal       NaN   65      80       65       35       65     60           5      False\n",
      "567  508                  Stoutland    Normal       NaN   85     110       90       45       90     80           5      False\n",
      "568  509                   Purrloin      Dark       NaN   41      50       37       50       37     66           5      False\n",
      "569  510                    Liepard      Dark       NaN   64      88       50       88       50    106           5      False\n",
      "570  511                    Pansage     Grass       NaN   50      53       48       53       48     64           5      False\n",
      "571  512                   Simisage     Grass       NaN   75      98       63       98       63    101           5      False\n",
      "572  513                    Pansear      Fire       NaN   50      53       48       53       48     64           5      False\n",
      "573  514                   Simisear      Fire       NaN   75      98       63       98       63    101           5      False\n",
      "574  515                    Panpour     Water       NaN   50      53       48       53       48     64           5      False\n",
      "575  516                   Simipour     Water       NaN   75      98       63       98       63    101           5      False\n",
      "576  517                      Munna   Psychic       NaN   76      25       45       67       55     24           5      False\n",
      "577  518                   Musharna   Psychic       NaN  116      55       85      107       95     29           5      False\n",
      "578  519                     Pidove    Normal    Flying   50      55       50       36       30     43           5      False\n",
      "579  520                  Tranquill    Normal    Flying   62      77       62       50       42     65           5      False\n",
      "580  521                   Unfezant    Normal    Flying   80     115       80       65       55     93           5      False\n",
      "581  522                    Blitzle  Electric       NaN   45      60       32       50       32     76           5      False\n",
      "582  523                  Zebstrika  Electric       NaN   75     100       63       80       63    116           5      False\n",
      "583  524                 Roggenrola      Rock       NaN   55      75       85       25       25     15           5      False\n",
      "584  525                    Boldore      Rock       NaN   70     105      105       50       40     20           5      False\n",
      "585  526                   Gigalith      Rock       NaN   85     135      130       60       80     25           5      False\n",
      "586  527                     Woobat   Psychic    Flying   55      45       43       55       43     72           5      False\n",
      "587  528                    Swoobat   Psychic    Flying   67      57       55       77       55    114           5      False\n",
      "588  529                    Drilbur    Ground       NaN   60      85       40       30       45     68           5      False\n",
      "589  530                  Excadrill    Ground     Steel  110     135       60       50       65     88           5      False\n",
      "590  531                     Audino    Normal       NaN  103      60       86       60       86     50           5      False\n",
      "591  531          AudinoMega Audino    Normal     Fairy  103      60      126       80      126     50           5      False\n",
      "592  532                    Timburr  Fighting       NaN   75      80       55       25       35     35           5      False\n",
      "593  533                    Gurdurr  Fighting       NaN   85     105       85       40       50     40           5      False\n",
      "594  534                 Conkeldurr  Fighting       NaN  105     140       95       55       65     45           5      False\n",
      "595  535                    Tympole     Water       NaN   50      50       40       50       40     64           5      False\n",
      "596  536                  Palpitoad     Water    Ground   75      65       55       65       55     69           5      False\n",
      "597  537                 Seismitoad     Water    Ground  105      95       75       85       75     74           5      False\n",
      "598  538                      Throh  Fighting       NaN  120     100       85       30       85     45           5      False\n",
      "599  539                       Sawk  Fighting       NaN   75     125       75       30       75     85           5      False\n",
      "600  540                   Sewaddle       Bug     Grass   45      53       70       40       60     42           5      False\n",
      "601  541                   Swadloon       Bug     Grass   55      63       90       50       80     42           5      False\n",
      "602  542                   Leavanny       Bug     Grass   75     103       80       70       80     92           5      False\n",
      "603  543                   Venipede       Bug    Poison   30      45       59       30       39     57           5      False\n",
      "604  544                 Whirlipede       Bug    Poison   40      55       99       40       79     47           5      False\n",
      "605  545                  Scolipede       Bug    Poison   60     100       89       55       69    112           5      False\n",
      "606  546                   Cottonee     Grass     Fairy   40      27       60       37       50     66           5      False\n",
      "607  547                 Whimsicott     Grass     Fairy   60      67       85       77       75    116           5      False\n",
      "608  548                    Petilil     Grass       NaN   45      35       50       70       50     30           5      False\n",
      "609  549                  Lilligant     Grass       NaN   70      60       75      110       75     90           5      False\n",
      "610  550                   Basculin     Water       NaN   70      92       65       80       55     98           5      False\n",
      "611  551                    Sandile    Ground      Dark   50      72       35       35       35     65           5      False\n",
      "612  552                   Krokorok    Ground      Dark   60      82       45       45       45     74           5      False\n",
      "613  553                 Krookodile    Ground      Dark   95     117       80       65       70     92           5      False\n",
      "614  554                   Darumaka      Fire       NaN   70      90       45       15       45     50           5      False\n",
      "615  555    DarmanitanStandard Mode      Fire       NaN  105     140       55       30       55     95           5      False\n",
      "616  555         DarmanitanZen Mode      Fire   Psychic  105      30      105      140      105     55           5      False\n",
      "617  556                   Maractus     Grass       NaN   75      86       67      106       67     60           5      False\n",
      "618  557                    Dwebble       Bug      Rock   50      65       85       35       35     55           5      False\n",
      "619  558                    Crustle       Bug      Rock   70      95      125       65       75     45           5      False\n",
      "620  559                    Scraggy      Dark  Fighting   50      75       70       35       70     48           5      False\n",
      "621  560                    Scrafty      Dark  Fighting   65      90      115       45      115     58           5      False\n",
      "622  561                   Sigilyph   Psychic    Flying   72      58       80      103       80     97           5      False\n",
      "623  562                     Yamask     Ghost       NaN   38      30       85       55       65     30           5      False\n",
      "624  563                 Cofagrigus     Ghost       NaN   58      50      145       95      105     30           5      False\n",
      "625  564                   Tirtouga     Water      Rock   54      78      103       53       45     22           5      False\n",
      "626  565                 Carracosta     Water      Rock   74     108      133       83       65     32           5      False\n",
      "627  566                     Archen      Rock    Flying   55     112       45       74       45     70           5      False\n",
      "628  567                   Archeops      Rock    Flying   75     140       65      112       65    110           5      False\n",
      "629  568                   Trubbish    Poison       NaN   50      50       62       40       62     65           5      False\n",
      "630  569                   Garbodor    Poison       NaN   80      95       82       60       82     75           5      False\n",
      "631  570                      Zorua      Dark       NaN   40      65       40       80       40     65           5      False\n",
      "632  571                    Zoroark      Dark       NaN   60     105       60      120       60    105           5      False\n",
      "633  572                   Minccino    Normal       NaN   55      50       40       40       40     75           5      False\n",
      "634  573                   Cinccino    Normal       NaN   75      95       60       65       60    115           5      False\n",
      "635  574                    Gothita   Psychic       NaN   45      30       50       55       65     45           5      False\n",
      "636  575                  Gothorita   Psychic       NaN   60      45       70       75       85     55           5      False\n",
      "637  576                 Gothitelle   Psychic       NaN   70      55       95       95      110     65           5      False\n",
      "638  577                    Solosis   Psychic       NaN   45      30       40      105       50     20           5      False\n",
      "639  578                    Duosion   Psychic       NaN   65      40       50      125       60     30           5      False\n",
      "640  579                  Reuniclus   Psychic       NaN  110      65       75      125       85     30           5      False\n",
      "641  580                   Ducklett     Water    Flying   62      44       50       44       50     55           5      False\n",
      "642  581                     Swanna     Water    Flying   75      87       63       87       63     98           5      False\n",
      "643  582                  Vanillite       Ice       NaN   36      50       50       65       60     44           5      False\n",
      "644  583                  Vanillish       Ice       NaN   51      65       65       80       75     59           5      False\n",
      "645  584                  Vanilluxe       Ice       NaN   71      95       85      110       95     79           5      False\n",
      "646  585                   Deerling    Normal     Grass   60      60       50       40       50     75           5      False\n",
      "647  586                   Sawsbuck    Normal     Grass   80     100       70       60       70     95           5      False\n",
      "648  587                     Emolga  Electric    Flying   55      75       60       75       60    103           5      False\n",
      "649  588                 Karrablast       Bug       NaN   50      75       45       40       45     60           5      False\n",
      "650  589                 Escavalier       Bug     Steel   70     135      105       60      105     20           5      False\n",
      "651  590                    Foongus     Grass    Poison   69      55       45       55       55     15           5      False\n",
      "652  591                  Amoonguss     Grass    Poison  114      85       70       85       80     30           5      False\n",
      "653  592                   Frillish     Water     Ghost   55      40       50       65       85     40           5      False\n",
      "654  593                  Jellicent     Water     Ghost  100      60       70       85      105     60           5      False\n",
      "655  594                  Alomomola     Water       NaN  165      75       80       40       45     65           5      False\n",
      "656  595                     Joltik       Bug  Electric   50      47       50       57       50     65           5      False\n",
      "657  596                 Galvantula       Bug  Electric   70      77       60       97       60    108           5      False\n",
      "658  597                  Ferroseed     Grass     Steel   44      50       91       24       86     10           5      False\n",
      "659  598                 Ferrothorn     Grass     Steel   74      94      131       54      116     20           5      False\n",
      "660  599                      Klink     Steel       NaN   40      55       70       45       60     30           5      False\n",
      "661  600                      Klang     Steel       NaN   60      80       95       70       85     50           5      False\n",
      "662  601                  Klinklang     Steel       NaN   60     100      115       70       85     90           5      False\n",
      "663  602                     Tynamo  Electric       NaN   35      55       40       45       40     60           5      False\n",
      "664  603                  Eelektrik  Electric       NaN   65      85       70       75       70     40           5      False\n",
      "665  604                 Eelektross  Electric       NaN   85     115       80      105       80     50           5      False\n",
      "666  605                     Elgyem   Psychic       NaN   55      55       55       85       55     30           5      False\n",
      "667  606                   Beheeyem   Psychic       NaN   75      75       75      125       95     40           5      False\n",
      "668  607                    Litwick     Ghost      Fire   50      30       55       65       55     20           5      False\n",
      "669  608                    Lampent     Ghost      Fire   60      40       60       95       60     55           5      False\n",
      "670  609                 Chandelure     Ghost      Fire   60      55       90      145       90     80           5      False\n",
      "671  610                       Axew    Dragon       NaN   46      87       60       30       40     57           5      False\n",
      "672  611                    Fraxure    Dragon       NaN   66     117       70       40       50     67           5      False\n",
      "673  612                    Haxorus    Dragon       NaN   76     147       90       60       70     97           5      False\n",
      "674  613                    Cubchoo       Ice       NaN   55      70       40       60       40     40           5      False\n",
      "675  614                    Beartic       Ice       NaN   95     110       80       70       80     50           5      False\n",
      "676  615                  Cryogonal       Ice       NaN   70      50       30       95      135    105           5      False\n",
      "677  616                    Shelmet       Bug       NaN   50      40       85       40       65     25           5      False\n",
      "678  617                   Accelgor       Bug       NaN   80      70       40      100       60    145           5      False\n",
      "679  618                   Stunfisk    Ground  Electric  109      66       84       81       99     32           5      False\n",
      "680  619                    Mienfoo  Fighting       NaN   45      85       50       55       50     65           5      False\n",
      "681  620                   Mienshao  Fighting       NaN   65     125       60       95       60    105           5      False\n",
      "682  621                  Druddigon    Dragon       NaN   77     120       90       60       90     48           5      False\n",
      "683  622                     Golett    Ground     Ghost   59      74       50       35       50     35           5      False\n",
      "684  623                     Golurk    Ground     Ghost   89     124       80       55       80     55           5      False\n",
      "685  624                   Pawniard      Dark     Steel   45      85       70       40       40     60           5      False\n",
      "686  625                    Bisharp      Dark     Steel   65     125      100       60       70     70           5      False\n",
      "687  626                 Bouffalant    Normal       NaN   95     110       95       40       95     55           5      False\n",
      "688  627                    Rufflet    Normal    Flying   70      83       50       37       50     60           5      False\n",
      "689  628                   Braviary    Normal    Flying  100     123       75       57       75     80           5      False\n",
      "690  629                    Vullaby      Dark    Flying   70      55       75       45       65     60           5      False\n",
      "691  630                  Mandibuzz      Dark    Flying  110      65      105       55       95     80           5      False\n",
      "692  631                    Heatmor      Fire       NaN   85      97       66      105       66     65           5      False\n",
      "693  632                     Durant       Bug     Steel   58     109      112       48       48    109           5      False\n",
      "694  633                      Deino      Dark    Dragon   52      65       50       45       50     38           5      False\n",
      "695  634                   Zweilous      Dark    Dragon   72      85       70       65       70     58           5      False\n",
      "696  635                  Hydreigon      Dark    Dragon   92     105       90      125       90     98           5      False\n",
      "697  636                   Larvesta       Bug      Fire   55      85       55       50       55     60           5      False\n",
      "698  637                  Volcarona       Bug      Fire   85      60       65      135      105    100           5      False\n",
      "699  638                   Cobalion     Steel  Fighting   91      90      129       90       72    108           5       True\n",
      "700  639                  Terrakion      Rock  Fighting   91     129       90       72       90    108           5       True\n",
      "701  640                   Virizion     Grass  Fighting   91      90       72       90      129    108           5       True\n",
      "702  641    TornadusIncarnate Forme    Flying       NaN   79     115       70      125       80    111           5       True\n",
      "703  641      TornadusTherian Forme    Flying       NaN   79     100       80      110       90    121           5       True\n",
      "704  642   ThundurusIncarnate Forme  Electric    Flying   79     115       70      125       80    111           5       True\n",
      "705  642     ThundurusTherian Forme  Electric    Flying   79     105       70      145       80    101           5       True\n",
      "706  643                   Reshiram    Dragon      Fire  100     120      100      150      120     90           5       True\n",
      "707  644                     Zekrom    Dragon  Electric  100     150      120      120      100     90           5       True\n",
      "708  645    LandorusIncarnate Forme    Ground    Flying   89     125       90      115       80    101           5       True\n",
      "709  645      LandorusTherian Forme    Ground    Flying   89     145       90      105       80     91           5       True\n",
      "710  646                     Kyurem    Dragon       Ice  125     130       90      130       90     95           5       True\n",
      "711  646         KyuremBlack Kyurem    Dragon       Ice  125     170      100      120       90     95           5       True\n",
      "712  646         KyuremWhite Kyurem    Dragon       Ice  125     120       90      170      100     95           5       True\n",
      "713  647       KeldeoOrdinary Forme     Water  Fighting   91      72       90      129       90    108           5      False\n",
      "714  647       KeldeoResolute Forme     Water  Fighting   91      72       90      129       90    108           5      False\n",
      "715  648         MeloettaAria Forme    Normal   Psychic  100      77       77      128      128     90           5      False\n",
      "716  648    MeloettaPirouette Forme    Normal  Fighting  100     128       90       77       77    128           5      False\n",
      "717  649                   Genesect       Bug     Steel   71     120       95      120       95     99           5      False\n",
      "718  650                    Chespin     Grass       NaN   56      61       65       48       45     38           6      False\n",
      "719  651                  Quilladin     Grass       NaN   61      78       95       56       58     57           6      False\n",
      "720  652                 Chesnaught     Grass  Fighting   88     107      122       74       75     64           6      False\n",
      "721  653                   Fennekin      Fire       NaN   40      45       40       62       60     60           6      False\n",
      "722  654                    Braixen      Fire       NaN   59      59       58       90       70     73           6      False\n",
      "723  655                    Delphox      Fire   Psychic   75      69       72      114      100    104           6      False\n",
      "724  656                    Froakie     Water       NaN   41      56       40       62       44     71           6      False\n",
      "725  657                  Frogadier     Water       NaN   54      63       52       83       56     97           6      False\n",
      "726  658                   Greninja     Water      Dark   72      95       67      103       71    122           6      False\n",
      "727  659                   Bunnelby    Normal       NaN   38      36       38       32       36     57           6      False\n",
      "728  660                  Diggersby    Normal    Ground   85      56       77       50       77     78           6      False\n",
      "729  661                 Fletchling    Normal    Flying   45      50       43       40       38     62           6      False\n",
      "730  662                Fletchinder      Fire    Flying   62      73       55       56       52     84           6      False\n",
      "731  663                 Talonflame      Fire    Flying   78      81       71       74       69    126           6      False\n",
      "732  664                 Scatterbug       Bug       NaN   38      35       40       27       25     35           6      False\n",
      "733  665                     Spewpa       Bug       NaN   45      22       60       27       30     29           6      False\n",
      "734  666                   Vivillon       Bug    Flying   80      52       50       90       50     89           6      False\n",
      "735  667                     Litleo      Fire    Normal   62      50       58       73       54     72           6      False\n",
      "736  668                     Pyroar      Fire    Normal   86      68       72      109       66    106           6      False\n",
      "737  669                    Flabébé     Fairy       NaN   44      38       39       61       79     42           6      False\n",
      "738  670                    Floette     Fairy       NaN   54      45       47       75       98     52           6      False\n",
      "739  671                    Florges     Fairy       NaN   78      65       68      112      154     75           6      False\n",
      "740  672                     Skiddo     Grass       NaN   66      65       48       62       57     52           6      False\n",
      "741  673                     Gogoat     Grass       NaN  123     100       62       97       81     68           6      False\n",
      "742  674                    Pancham  Fighting       NaN   67      82       62       46       48     43           6      False\n",
      "743  675                    Pangoro  Fighting      Dark   95     124       78       69       71     58           6      False\n",
      "744  676                    Furfrou    Normal       NaN   75      80       60       65       90    102           6      False\n",
      "745  677                     Espurr   Psychic       NaN   62      48       54       63       60     68           6      False\n",
      "746  678               MeowsticMale   Psychic       NaN   74      48       76       83       81    104           6      False\n",
      "747  678             MeowsticFemale   Psychic       NaN   74      48       76       83       81    104           6      False\n",
      "748  679                    Honedge     Steel     Ghost   45      80      100       35       37     28           6      False\n",
      "749  680                   Doublade     Steel     Ghost   59     110      150       45       49     35           6      False\n",
      "750  681       AegislashBlade Forme     Steel     Ghost   60     150       50      150       50     60           6      False\n",
      "751  681      AegislashShield Forme     Steel     Ghost   60      50      150       50      150     60           6      False\n",
      "752  682                   Spritzee     Fairy       NaN   78      52       60       63       65     23           6      False\n",
      "753  683                 Aromatisse     Fairy       NaN  101      72       72       99       89     29           6      False\n",
      "754  684                    Swirlix     Fairy       NaN   62      48       66       59       57     49           6      False\n",
      "755  685                   Slurpuff     Fairy       NaN   82      80       86       85       75     72           6      False\n",
      "756  686                      Inkay      Dark   Psychic   53      54       53       37       46     45           6      False\n",
      "757  687                    Malamar      Dark   Psychic   86      92       88       68       75     73           6      False\n",
      "758  688                    Binacle      Rock     Water   42      52       67       39       56     50           6      False\n",
      "759  689                 Barbaracle      Rock     Water   72     105      115       54       86     68           6      False\n",
      "760  690                     Skrelp    Poison     Water   50      60       60       60       60     30           6      False\n",
      "761  691                   Dragalge    Poison    Dragon   65      75       90       97      123     44           6      False\n",
      "762  692                  Clauncher     Water       NaN   50      53       62       58       63     44           6      False\n",
      "763  693                  Clawitzer     Water       NaN   71      73       88      120       89     59           6      False\n",
      "764  694                 Helioptile  Electric    Normal   44      38       33       61       43     70           6      False\n",
      "765  695                  Heliolisk  Electric    Normal   62      55       52      109       94    109           6      False\n",
      "766  696                     Tyrunt      Rock    Dragon   58      89       77       45       45     48           6      False\n",
      "767  697                  Tyrantrum      Rock    Dragon   82     121      119       69       59     71           6      False\n",
      "768  698                     Amaura      Rock       Ice   77      59       50       67       63     46           6      False\n",
      "769  699                    Aurorus      Rock       Ice  123      77       72       99       92     58           6      False\n",
      "770  700                    Sylveon     Fairy       NaN   95      65       65      110      130     60           6      False\n",
      "771  701                   Hawlucha  Fighting    Flying   78      92       75       74       63    118           6      False\n",
      "772  702                    Dedenne  Electric     Fairy   67      58       57       81       67    101           6      False\n",
      "773  703                    Carbink      Rock     Fairy   50      50      150       50      150     50           6      False\n",
      "774  704                      Goomy    Dragon       NaN   45      50       35       55       75     40           6      False\n",
      "775  705                    Sliggoo    Dragon       NaN   68      75       53       83      113     60           6      False\n",
      "776  706                     Goodra    Dragon       NaN   90     100       70      110      150     80           6      False\n",
      "777  707                     Klefki     Steel     Fairy   57      80       91       80       87     75           6      False\n",
      "778  708                   Phantump     Ghost     Grass   43      70       48       50       60     38           6      False\n",
      "779  709                  Trevenant     Ghost     Grass   85     110       76       65       82     56           6      False\n",
      "780  710      PumpkabooAverage Size     Ghost     Grass   49      66       70       44       55     51           6      False\n",
      "781  710        PumpkabooSmall Size     Ghost     Grass   44      66       70       44       55     56           6      False\n",
      "782  710        PumpkabooLarge Size     Ghost     Grass   54      66       70       44       55     46           6      False\n",
      "783  710        PumpkabooSuper Size     Ghost     Grass   59      66       70       44       55     41           6      False\n",
      "784  711      GourgeistAverage Size     Ghost     Grass   65      90      122       58       75     84           6      False\n",
      "785  711        GourgeistSmall Size     Ghost     Grass   55      85      122       58       75     99           6      False\n",
      "786  711        GourgeistLarge Size     Ghost     Grass   75      95      122       58       75     69           6      False\n",
      "787  711        GourgeistSuper Size     Ghost     Grass   85     100      122       58       75     54           6      False\n",
      "788  712                   Bergmite       Ice       NaN   55      69       85       32       35     28           6      False\n",
      "789  713                    Avalugg       Ice       NaN   95     117      184       44       46     28           6      False\n",
      "790  714                     Noibat    Flying    Dragon   40      30       35       45       40     55           6      False\n",
      "791  715                    Noivern    Flying    Dragon   85      70       80       97       80    123           6      False\n",
      "792  716                    Xerneas     Fairy       NaN  126     131       95      131       98     99           6       True\n",
      "793  717                    Yveltal      Dark    Flying  126     131       95      131       98     99           6       True\n",
      "794  718           Zygarde50% Forme    Dragon    Ground  108     100      121       81       95     95           6       True\n",
      "795  719                    Diancie      Rock     Fairy   50     100      150      100      150     50           6       True\n",
      "796  719        DiancieMega Diancie      Rock     Fairy   50     160      110      160      110    110           6       True\n",
      "797  720        HoopaHoopa Confined   Psychic     Ghost   80     110       60      150      130     70           6       True\n",
      "798  720         HoopaHoopa Unbound   Psychic      Dark   80     160       60      170      130     80           6       True\n",
      "799  721                  Volcanion      Fire     Water   80     110      120      130       90     70           6       True\n"
     ]
    }
   ],
   "source": [
    "print(df2.to_string()) #use to_string() to print the entire DataFrame."
   ]
  },
  {
   "cell_type": "code",
   "execution_count": 171,
   "id": "e27bb592-9a20-4f3e-8c69-ddc13e0d1451",
   "metadata": {},
   "outputs": [
    {
     "name": "stdout",
     "output_type": "stream",
     "text": [
      "   #                   Name Type 1  Type 2  HP  Attack  Defense  Sp. Atk  \\\n",
      "0  1              Bulbasaur  Grass  Poison  45      49       49       65   \n",
      "1  2                Ivysaur  Grass  Poison  60      62       63       80   \n",
      "2  3               Venusaur  Grass  Poison  80      82       83      100   \n",
      "3  3  VenusaurMega Venusaur  Grass  Poison  80     100      123      122   \n",
      "4  4             Charmander   Fire     NaN  39      52       43       60   \n",
      "\n",
      "   Sp. Def  Speed  Generation  Legendary  \n",
      "0       65     45           1      False  \n",
      "1       80     60           1      False  \n",
      "2      100     80           1      False  \n",
      "3      120     80           1      False  \n",
      "4       50     65           1      False  \n"
     ]
    }
   ],
   "source": [
    "#remove index number\n",
    "df2.to_csv('data_index_false.csv',index=False)\n",
    "print(df2.head(5))"
   ]
  },
  {
   "cell_type": "markdown",
   "id": "f889e050-4bc3-4dec-b7d0-9ff9f477b6c1",
   "metadata": {},
   "source": [
    "# Data Exploration"
   ]
  },
  {
   "cell_type": "code",
   "execution_count": 2,
   "id": "c72708d6-d71d-468a-bc7a-ac0a461fe0ab",
   "metadata": {},
   "outputs": [
    {
     "data": {
      "text/html": [
       "<div>\n",
       "<style scoped>\n",
       "    .dataframe tbody tr th:only-of-type {\n",
       "        vertical-align: middle;\n",
       "    }\n",
       "\n",
       "    .dataframe tbody tr th {\n",
       "        vertical-align: top;\n",
       "    }\n",
       "\n",
       "    .dataframe thead th {\n",
       "        text-align: right;\n",
       "    }\n",
       "</style>\n",
       "<table border=\"1\" class=\"dataframe\">\n",
       "  <thead>\n",
       "    <tr style=\"text-align: right;\">\n",
       "      <th></th>\n",
       "      <th>Duration</th>\n",
       "      <th>Pulse</th>\n",
       "      <th>Maxpulse</th>\n",
       "      <th>Calories</th>\n",
       "    </tr>\n",
       "  </thead>\n",
       "  <tbody>\n",
       "    <tr>\n",
       "      <th>0</th>\n",
       "      <td>60</td>\n",
       "      <td>110</td>\n",
       "      <td>130</td>\n",
       "      <td>409.1</td>\n",
       "    </tr>\n",
       "    <tr>\n",
       "      <th>1</th>\n",
       "      <td>60</td>\n",
       "      <td>117</td>\n",
       "      <td>145</td>\n",
       "      <td>479.0</td>\n",
       "    </tr>\n",
       "    <tr>\n",
       "      <th>2</th>\n",
       "      <td>60</td>\n",
       "      <td>103</td>\n",
       "      <td>135</td>\n",
       "      <td>340.0</td>\n",
       "    </tr>\n",
       "    <tr>\n",
       "      <th>3</th>\n",
       "      <td>45</td>\n",
       "      <td>109</td>\n",
       "      <td>175</td>\n",
       "      <td>282.4</td>\n",
       "    </tr>\n",
       "    <tr>\n",
       "      <th>4</th>\n",
       "      <td>45</td>\n",
       "      <td>117</td>\n",
       "      <td>148</td>\n",
       "      <td>406.0</td>\n",
       "    </tr>\n",
       "  </tbody>\n",
       "</table>\n",
       "</div>"
      ],
      "text/plain": [
       "   Duration  Pulse  Maxpulse  Calories\n",
       "0        60    110       130     409.1\n",
       "1        60    117       145     479.0\n",
       "2        60    103       135     340.0\n",
       "3        45    109       175     282.4\n",
       "4        45    117       148     406.0"
      ]
     },
     "execution_count": 2,
     "metadata": {},
     "output_type": "execute_result"
    }
   ],
   "source": [
    "import pandas as pd\n",
    "df2 = pd.read_csv('data.csv')\n",
    "df2.head(5)"
   ]
  },
  {
   "cell_type": "code",
   "execution_count": 3,
   "id": "6faffcb1-a596-4404-9d44-90056856895c",
   "metadata": {},
   "outputs": [
    {
     "data": {
      "text/html": [
       "<div>\n",
       "<style scoped>\n",
       "    .dataframe tbody tr th:only-of-type {\n",
       "        vertical-align: middle;\n",
       "    }\n",
       "\n",
       "    .dataframe tbody tr th {\n",
       "        vertical-align: top;\n",
       "    }\n",
       "\n",
       "    .dataframe thead th {\n",
       "        text-align: right;\n",
       "    }\n",
       "</style>\n",
       "<table border=\"1\" class=\"dataframe\">\n",
       "  <thead>\n",
       "    <tr style=\"text-align: right;\">\n",
       "      <th></th>\n",
       "      <th>Duration</th>\n",
       "      <th>Pulse</th>\n",
       "      <th>Maxpulse</th>\n",
       "      <th>Calories</th>\n",
       "    </tr>\n",
       "  </thead>\n",
       "  <tbody>\n",
       "    <tr>\n",
       "      <th>167</th>\n",
       "      <td>75</td>\n",
       "      <td>120</td>\n",
       "      <td>150</td>\n",
       "      <td>320.4</td>\n",
       "    </tr>\n",
       "    <tr>\n",
       "      <th>168</th>\n",
       "      <td>75</td>\n",
       "      <td>125</td>\n",
       "      <td>150</td>\n",
       "      <td>330.4</td>\n",
       "    </tr>\n",
       "  </tbody>\n",
       "</table>\n",
       "</div>"
      ],
      "text/plain": [
       "     Duration  Pulse  Maxpulse  Calories\n",
       "167        75    120       150     320.4\n",
       "168        75    125       150     330.4"
      ]
     },
     "execution_count": 3,
     "metadata": {},
     "output_type": "execute_result"
    }
   ],
   "source": [
    "df2.tail(2)"
   ]
  },
  {
   "cell_type": "code",
   "execution_count": 4,
   "id": "16c4eb67-200f-420d-952b-f9b65edfe398",
   "metadata": {},
   "outputs": [
    {
     "data": {
      "text/html": [
       "<div>\n",
       "<style scoped>\n",
       "    .dataframe tbody tr th:only-of-type {\n",
       "        vertical-align: middle;\n",
       "    }\n",
       "\n",
       "    .dataframe tbody tr th {\n",
       "        vertical-align: top;\n",
       "    }\n",
       "\n",
       "    .dataframe thead th {\n",
       "        text-align: right;\n",
       "    }\n",
       "</style>\n",
       "<table border=\"1\" class=\"dataframe\">\n",
       "  <thead>\n",
       "    <tr style=\"text-align: right;\">\n",
       "      <th></th>\n",
       "      <th>Duration</th>\n",
       "      <th>Pulse</th>\n",
       "      <th>Maxpulse</th>\n",
       "      <th>Calories</th>\n",
       "    </tr>\n",
       "  </thead>\n",
       "  <tbody>\n",
       "    <tr>\n",
       "      <th>count</th>\n",
       "      <td>169.000000</td>\n",
       "      <td>169.000000</td>\n",
       "      <td>169.000000</td>\n",
       "      <td>164.000000</td>\n",
       "    </tr>\n",
       "    <tr>\n",
       "      <th>mean</th>\n",
       "      <td>63.846154</td>\n",
       "      <td>107.461538</td>\n",
       "      <td>134.047337</td>\n",
       "      <td>375.790244</td>\n",
       "    </tr>\n",
       "    <tr>\n",
       "      <th>std</th>\n",
       "      <td>42.299949</td>\n",
       "      <td>14.510259</td>\n",
       "      <td>16.450434</td>\n",
       "      <td>266.379919</td>\n",
       "    </tr>\n",
       "    <tr>\n",
       "      <th>min</th>\n",
       "      <td>15.000000</td>\n",
       "      <td>80.000000</td>\n",
       "      <td>100.000000</td>\n",
       "      <td>50.300000</td>\n",
       "    </tr>\n",
       "    <tr>\n",
       "      <th>25%</th>\n",
       "      <td>45.000000</td>\n",
       "      <td>100.000000</td>\n",
       "      <td>124.000000</td>\n",
       "      <td>250.925000</td>\n",
       "    </tr>\n",
       "    <tr>\n",
       "      <th>50%</th>\n",
       "      <td>60.000000</td>\n",
       "      <td>105.000000</td>\n",
       "      <td>131.000000</td>\n",
       "      <td>318.600000</td>\n",
       "    </tr>\n",
       "    <tr>\n",
       "      <th>75%</th>\n",
       "      <td>60.000000</td>\n",
       "      <td>111.000000</td>\n",
       "      <td>141.000000</td>\n",
       "      <td>387.600000</td>\n",
       "    </tr>\n",
       "    <tr>\n",
       "      <th>max</th>\n",
       "      <td>300.000000</td>\n",
       "      <td>159.000000</td>\n",
       "      <td>184.000000</td>\n",
       "      <td>1860.400000</td>\n",
       "    </tr>\n",
       "  </tbody>\n",
       "</table>\n",
       "</div>"
      ],
      "text/plain": [
       "         Duration       Pulse    Maxpulse     Calories\n",
       "count  169.000000  169.000000  169.000000   164.000000\n",
       "mean    63.846154  107.461538  134.047337   375.790244\n",
       "std     42.299949   14.510259   16.450434   266.379919\n",
       "min     15.000000   80.000000  100.000000    50.300000\n",
       "25%     45.000000  100.000000  124.000000   250.925000\n",
       "50%     60.000000  105.000000  131.000000   318.600000\n",
       "75%     60.000000  111.000000  141.000000   387.600000\n",
       "max    300.000000  159.000000  184.000000  1860.400000"
      ]
     },
     "execution_count": 4,
     "metadata": {},
     "output_type": "execute_result"
    }
   ],
   "source": [
    "df2.describe()"
   ]
  },
  {
   "cell_type": "code",
   "execution_count": 6,
   "id": "297e3e3a-e743-4288-8d48-37d16e3c4600",
   "metadata": {},
   "outputs": [
    {
     "name": "stdout",
     "output_type": "stream",
     "text": [
      "<class 'pandas.core.frame.DataFrame'>\n",
      "RangeIndex: 169 entries, 0 to 168\n",
      "Data columns (total 4 columns):\n",
      " #   Column    Non-Null Count  Dtype  \n",
      "---  ------    --------------  -----  \n",
      " 0   Duration  169 non-null    int64  \n",
      " 1   Pulse     169 non-null    int64  \n",
      " 2   Maxpulse  169 non-null    int64  \n",
      " 3   Calories  164 non-null    float64\n",
      "dtypes: float64(1), int64(3)\n",
      "memory usage: 5.4 KB\n"
     ]
    }
   ],
   "source": [
    "df2.info()"
   ]
  },
  {
   "cell_type": "markdown",
   "id": "2256f4e5-366e-4df8-84b3-b2a861972b0a",
   "metadata": {},
   "source": [
    "# Data Selection and Filtering"
   ]
  },
  {
   "cell_type": "code",
   "execution_count": 7,
   "id": "b40fb202-7148-461c-8c35-546c96a65cea",
   "metadata": {},
   "outputs": [
    {
     "data": {
      "text/plain": [
       "0      110\n",
       "1      117\n",
       "2      103\n",
       "3      109\n",
       "4      117\n",
       "      ... \n",
       "164    105\n",
       "165    110\n",
       "166    115\n",
       "167    120\n",
       "168    125\n",
       "Name: Pulse, Length: 169, dtype: int64"
      ]
     },
     "execution_count": 7,
     "metadata": {},
     "output_type": "execute_result"
    }
   ],
   "source": [
    "df2['Pulse']"
   ]
  },
  {
   "cell_type": "code",
   "execution_count": 8,
   "id": "c3b4d150-918c-4d15-a1a3-0b10e4cbc5f7",
   "metadata": {},
   "outputs": [
    {
     "data": {
      "text/plain": [
       "110"
      ]
     },
     "execution_count": 8,
     "metadata": {},
     "output_type": "execute_result"
    }
   ],
   "source": [
    "df2['Pulse'][0]"
   ]
  },
  {
   "cell_type": "code",
   "execution_count": 40,
   "id": "b2f2e0c3-3ad2-41fe-bbef-d484118eb57c",
   "metadata": {},
   "outputs": [
    {
     "data": {
      "text/html": [
       "<div>\n",
       "<style scoped>\n",
       "    .dataframe tbody tr th:only-of-type {\n",
       "        vertical-align: middle;\n",
       "    }\n",
       "\n",
       "    .dataframe tbody tr th {\n",
       "        vertical-align: top;\n",
       "    }\n",
       "\n",
       "    .dataframe thead th {\n",
       "        text-align: right;\n",
       "    }\n",
       "</style>\n",
       "<table border=\"1\" class=\"dataframe\">\n",
       "  <thead>\n",
       "    <tr style=\"text-align: right;\">\n",
       "      <th></th>\n",
       "      <th>Pulse</th>\n",
       "      <th>Calories</th>\n",
       "    </tr>\n",
       "  </thead>\n",
       "  <tbody>\n",
       "    <tr>\n",
       "      <th>0</th>\n",
       "      <td>110</td>\n",
       "      <td>409.1</td>\n",
       "    </tr>\n",
       "    <tr>\n",
       "      <th>1</th>\n",
       "      <td>117</td>\n",
       "      <td>479.0</td>\n",
       "    </tr>\n",
       "    <tr>\n",
       "      <th>2</th>\n",
       "      <td>103</td>\n",
       "      <td>340.0</td>\n",
       "    </tr>\n",
       "  </tbody>\n",
       "</table>\n",
       "</div>"
      ],
      "text/plain": [
       "   Pulse  Calories\n",
       "0    110     409.1\n",
       "1    117     479.0\n",
       "2    103     340.0"
      ]
     },
     "execution_count": 40,
     "metadata": {},
     "output_type": "execute_result"
    }
   ],
   "source": [
    "df2.at[0, 'Pulse'] = 123 #Use .at[] when you need to access or update a single cell efficiently.\n",
    "\n",
    "#Use .loc[] when you want to access or update a subset of rows/columns, or when working with slices, filters, or conditions.\n",
    "df2.loc[0, 'Pulse'] = 123\n",
    "df.loc[0:2, ['Pulse', 'Calories']] "
   ]
  },
  {
   "cell_type": "code",
   "execution_count": 10,
   "id": "3ceca9f0-bfa9-4c87-9537-beca462437aa",
   "metadata": {},
   "outputs": [
    {
     "name": "stdout",
     "output_type": "stream",
     "text": [
      "     Duration  Pulse  Maxpulse  Calories\n",
      "0          60    123       130     409.1\n",
      "1          60    117       145     479.0\n",
      "2          60    103       135     340.0\n",
      "3          45    109       175     282.4\n",
      "4          45    117       148     406.0\n",
      "..        ...    ...       ...       ...\n",
      "164        60    105       140     290.8\n",
      "165        60    110       145     300.0\n",
      "166        60    115       145     310.2\n",
      "167        75    120       150     320.4\n",
      "168        75    125       150     330.4\n",
      "\n",
      "[141 rows x 4 columns]\n"
     ]
    }
   ],
   "source": [
    "# Filtering rows where Age > 30\n",
    "filtered_df = df2[df2['Duration'] > 30]\n",
    "print(filtered_df)"
   ]
  },
  {
   "cell_type": "code",
   "execution_count": 11,
   "id": "c21ba995-edd5-4298-9a2a-de2b52484dcc",
   "metadata": {},
   "outputs": [],
   "source": [
    "df2.to_csv('data_change.csv')"
   ]
  },
  {
   "cell_type": "markdown",
   "id": "3c3957e0-e207-417c-a925-d50bfb25f915",
   "metadata": {},
   "source": [
    "# Cleaning Data"
   ]
  },
  {
   "cell_type": "code",
   "execution_count": 13,
   "id": "b9ea86dd-d4dc-4869-9a21-714e27396755",
   "metadata": {},
   "outputs": [
    {
     "name": "stdout",
     "output_type": "stream",
     "text": [
      "    Duration          Date  Pulse  Maxpulse  Calories\n",
      "0         60  '2020/12/01'    110       130     409.1\n",
      "1         60  '2020/12/02'    117       145     479.0\n",
      "2         60  '2020/12/03'    103       135     340.0\n",
      "3         45  '2020/12/04'    109       175     282.4\n",
      "4         45  '2020/12/05'    117       148     406.0\n",
      "5         60  '2020/12/06'    102       127     300.0\n",
      "6         60  '2020/12/07'    110       136     374.0\n",
      "7        450  '2020/12/08'    104       134     253.3\n",
      "8         30  '2020/12/09'    109       133     195.1\n",
      "9         60  '2020/12/10'     98       124     269.0\n",
      "10        60  '2020/12/11'    103       147     329.3\n",
      "11        60  '2020/12/12'    100       120     250.7\n",
      "12        60  '2020/12/12'    100       120     250.7\n",
      "13        60  '2020/12/13'    106       128     345.3\n",
      "14        60  '2020/12/14'    104       132     379.3\n",
      "15        60  '2020/12/15'     98       123     275.0\n",
      "16        60  '2020/12/16'     98       120     215.2\n",
      "17        60  '2020/12/17'    100       120     300.0\n",
      "19        60  '2020/12/19'    103       123     323.0\n",
      "20        45  '2020/12/20'     97       125     243.0\n",
      "21        60  '2020/12/21'    108       131     364.2\n",
      "23        60  '2020/12/23'    130       101     300.0\n",
      "24        45  '2020/12/24'    105       132     246.0\n",
      "25        60  '2020/12/25'    102       126     334.5\n",
      "26        60      20201226    100       120     250.0\n",
      "27        60  '2020/12/27'     92       118     241.0\n",
      "29        60  '2020/12/29'    100       132     280.0\n",
      "30        60  '2020/12/30'    102       129     380.3\n",
      "31        60  '2020/12/31'     92       115     243.0\n"
     ]
    }
   ],
   "source": [
    "#Return a new Data Frame with no empty cells:\n",
    "df = pd.read_csv('Pandas/Pandas_basic/dirtydata.csv')\n",
    "\n",
    "new_df = df.dropna()\n",
    "\n",
    "print(new_df.to_string())"
   ]
  },
  {
   "cell_type": "code",
   "execution_count": 14,
   "id": "2b5a8b5a-8976-4f09-8c11-2fae4995f4a2",
   "metadata": {},
   "outputs": [
    {
     "name": "stdout",
     "output_type": "stream",
     "text": [
      "    Duration          Date  Pulse  Maxpulse  Calories\n",
      "0         60  '2020/12/01'    110       130     409.1\n",
      "1         60  '2020/12/02'    117       145     479.0\n",
      "2         60  '2020/12/03'    103       135     340.0\n",
      "3         45  '2020/12/04'    109       175     282.4\n",
      "4         45  '2020/12/05'    117       148     406.0\n",
      "5         60  '2020/12/06'    102       127     300.0\n",
      "6         60  '2020/12/07'    110       136     374.0\n",
      "7        450  '2020/12/08'    104       134     253.3\n",
      "8         30  '2020/12/09'    109       133     195.1\n",
      "9         60  '2020/12/10'     98       124     269.0\n",
      "10        60  '2020/12/11'    103       147     329.3\n",
      "11        60  '2020/12/12'    100       120     250.7\n",
      "12        60  '2020/12/12'    100       120     250.7\n",
      "13        60  '2020/12/13'    106       128     345.3\n",
      "14        60  '2020/12/14'    104       132     379.3\n",
      "15        60  '2020/12/15'     98       123     275.0\n",
      "16        60  '2020/12/16'     98       120     215.2\n",
      "17        60  '2020/12/17'    100       120     300.0\n",
      "19        60  '2020/12/19'    103       123     323.0\n",
      "20        45  '2020/12/20'     97       125     243.0\n",
      "21        60  '2020/12/21'    108       131     364.2\n",
      "23        60  '2020/12/23'    130       101     300.0\n",
      "24        45  '2020/12/24'    105       132     246.0\n",
      "25        60  '2020/12/25'    102       126     334.5\n",
      "26        60      20201226    100       120     250.0\n",
      "27        60  '2020/12/27'     92       118     241.0\n",
      "29        60  '2020/12/29'    100       132     280.0\n",
      "30        60  '2020/12/30'    102       129     380.3\n",
      "31        60  '2020/12/31'     92       115     243.0\n"
     ]
    }
   ],
   "source": [
    "#Remove all rows with NULL values:\n",
    "df.dropna(inplace = True)\n",
    "\n",
    "print(df.to_string())"
   ]
  },
  {
   "cell_type": "code",
   "execution_count": 15,
   "id": "c44f47ef-b4b6-4429-a651-3718eda7d498",
   "metadata": {},
   "outputs": [
    {
     "data": {
      "text/html": [
       "<div>\n",
       "<style scoped>\n",
       "    .dataframe tbody tr th:only-of-type {\n",
       "        vertical-align: middle;\n",
       "    }\n",
       "\n",
       "    .dataframe tbody tr th {\n",
       "        vertical-align: top;\n",
       "    }\n",
       "\n",
       "    .dataframe thead th {\n",
       "        text-align: right;\n",
       "    }\n",
       "</style>\n",
       "<table border=\"1\" class=\"dataframe\">\n",
       "  <thead>\n",
       "    <tr style=\"text-align: right;\">\n",
       "      <th></th>\n",
       "      <th>Duration</th>\n",
       "      <th>Date</th>\n",
       "      <th>Pulse</th>\n",
       "      <th>Maxpulse</th>\n",
       "      <th>Calories</th>\n",
       "    </tr>\n",
       "  </thead>\n",
       "  <tbody>\n",
       "    <tr>\n",
       "      <th>0</th>\n",
       "      <td>60</td>\n",
       "      <td>'2020/12/01'</td>\n",
       "      <td>110</td>\n",
       "      <td>130</td>\n",
       "      <td>409.1</td>\n",
       "    </tr>\n",
       "    <tr>\n",
       "      <th>1</th>\n",
       "      <td>60</td>\n",
       "      <td>'2020/12/02'</td>\n",
       "      <td>117</td>\n",
       "      <td>145</td>\n",
       "      <td>479.0</td>\n",
       "    </tr>\n",
       "    <tr>\n",
       "      <th>2</th>\n",
       "      <td>60</td>\n",
       "      <td>'2020/12/03'</td>\n",
       "      <td>103</td>\n",
       "      <td>135</td>\n",
       "      <td>340.0</td>\n",
       "    </tr>\n",
       "    <tr>\n",
       "      <th>3</th>\n",
       "      <td>45</td>\n",
       "      <td>'2020/12/04'</td>\n",
       "      <td>109</td>\n",
       "      <td>175</td>\n",
       "      <td>282.4</td>\n",
       "    </tr>\n",
       "    <tr>\n",
       "      <th>4</th>\n",
       "      <td>45</td>\n",
       "      <td>'2020/12/05'</td>\n",
       "      <td>117</td>\n",
       "      <td>148</td>\n",
       "      <td>406.0</td>\n",
       "    </tr>\n",
       "    <tr>\n",
       "      <th>5</th>\n",
       "      <td>60</td>\n",
       "      <td>'2020/12/06'</td>\n",
       "      <td>102</td>\n",
       "      <td>127</td>\n",
       "      <td>300.0</td>\n",
       "    </tr>\n",
       "    <tr>\n",
       "      <th>6</th>\n",
       "      <td>60</td>\n",
       "      <td>'2020/12/07'</td>\n",
       "      <td>110</td>\n",
       "      <td>136</td>\n",
       "      <td>374.0</td>\n",
       "    </tr>\n",
       "    <tr>\n",
       "      <th>7</th>\n",
       "      <td>450</td>\n",
       "      <td>'2020/12/08'</td>\n",
       "      <td>104</td>\n",
       "      <td>134</td>\n",
       "      <td>253.3</td>\n",
       "    </tr>\n",
       "    <tr>\n",
       "      <th>8</th>\n",
       "      <td>30</td>\n",
       "      <td>'2020/12/09'</td>\n",
       "      <td>109</td>\n",
       "      <td>133</td>\n",
       "      <td>195.1</td>\n",
       "    </tr>\n",
       "    <tr>\n",
       "      <th>9</th>\n",
       "      <td>60</td>\n",
       "      <td>'2020/12/10'</td>\n",
       "      <td>98</td>\n",
       "      <td>124</td>\n",
       "      <td>269.0</td>\n",
       "    </tr>\n",
       "    <tr>\n",
       "      <th>10</th>\n",
       "      <td>60</td>\n",
       "      <td>'2020/12/11'</td>\n",
       "      <td>103</td>\n",
       "      <td>147</td>\n",
       "      <td>329.3</td>\n",
       "    </tr>\n",
       "    <tr>\n",
       "      <th>11</th>\n",
       "      <td>60</td>\n",
       "      <td>'2020/12/12'</td>\n",
       "      <td>100</td>\n",
       "      <td>120</td>\n",
       "      <td>250.7</td>\n",
       "    </tr>\n",
       "    <tr>\n",
       "      <th>12</th>\n",
       "      <td>60</td>\n",
       "      <td>'2020/12/12'</td>\n",
       "      <td>100</td>\n",
       "      <td>120</td>\n",
       "      <td>250.7</td>\n",
       "    </tr>\n",
       "    <tr>\n",
       "      <th>13</th>\n",
       "      <td>60</td>\n",
       "      <td>'2020/12/13'</td>\n",
       "      <td>106</td>\n",
       "      <td>128</td>\n",
       "      <td>345.3</td>\n",
       "    </tr>\n",
       "    <tr>\n",
       "      <th>14</th>\n",
       "      <td>60</td>\n",
       "      <td>'2020/12/14'</td>\n",
       "      <td>104</td>\n",
       "      <td>132</td>\n",
       "      <td>379.3</td>\n",
       "    </tr>\n",
       "    <tr>\n",
       "      <th>15</th>\n",
       "      <td>60</td>\n",
       "      <td>'2020/12/15'</td>\n",
       "      <td>98</td>\n",
       "      <td>123</td>\n",
       "      <td>275.0</td>\n",
       "    </tr>\n",
       "    <tr>\n",
       "      <th>16</th>\n",
       "      <td>60</td>\n",
       "      <td>'2020/12/16'</td>\n",
       "      <td>98</td>\n",
       "      <td>120</td>\n",
       "      <td>215.2</td>\n",
       "    </tr>\n",
       "    <tr>\n",
       "      <th>17</th>\n",
       "      <td>60</td>\n",
       "      <td>'2020/12/17'</td>\n",
       "      <td>100</td>\n",
       "      <td>120</td>\n",
       "      <td>300.0</td>\n",
       "    </tr>\n",
       "    <tr>\n",
       "      <th>19</th>\n",
       "      <td>60</td>\n",
       "      <td>'2020/12/19'</td>\n",
       "      <td>103</td>\n",
       "      <td>123</td>\n",
       "      <td>323.0</td>\n",
       "    </tr>\n",
       "    <tr>\n",
       "      <th>20</th>\n",
       "      <td>45</td>\n",
       "      <td>'2020/12/20'</td>\n",
       "      <td>97</td>\n",
       "      <td>125</td>\n",
       "      <td>243.0</td>\n",
       "    </tr>\n",
       "    <tr>\n",
       "      <th>21</th>\n",
       "      <td>60</td>\n",
       "      <td>'2020/12/21'</td>\n",
       "      <td>108</td>\n",
       "      <td>131</td>\n",
       "      <td>364.2</td>\n",
       "    </tr>\n",
       "    <tr>\n",
       "      <th>23</th>\n",
       "      <td>60</td>\n",
       "      <td>'2020/12/23'</td>\n",
       "      <td>130</td>\n",
       "      <td>101</td>\n",
       "      <td>300.0</td>\n",
       "    </tr>\n",
       "    <tr>\n",
       "      <th>24</th>\n",
       "      <td>45</td>\n",
       "      <td>'2020/12/24'</td>\n",
       "      <td>105</td>\n",
       "      <td>132</td>\n",
       "      <td>246.0</td>\n",
       "    </tr>\n",
       "    <tr>\n",
       "      <th>25</th>\n",
       "      <td>60</td>\n",
       "      <td>'2020/12/25'</td>\n",
       "      <td>102</td>\n",
       "      <td>126</td>\n",
       "      <td>334.5</td>\n",
       "    </tr>\n",
       "    <tr>\n",
       "      <th>26</th>\n",
       "      <td>60</td>\n",
       "      <td>20201226</td>\n",
       "      <td>100</td>\n",
       "      <td>120</td>\n",
       "      <td>250.0</td>\n",
       "    </tr>\n",
       "    <tr>\n",
       "      <th>27</th>\n",
       "      <td>60</td>\n",
       "      <td>'2020/12/27'</td>\n",
       "      <td>92</td>\n",
       "      <td>118</td>\n",
       "      <td>241.0</td>\n",
       "    </tr>\n",
       "    <tr>\n",
       "      <th>29</th>\n",
       "      <td>60</td>\n",
       "      <td>'2020/12/29'</td>\n",
       "      <td>100</td>\n",
       "      <td>132</td>\n",
       "      <td>280.0</td>\n",
       "    </tr>\n",
       "    <tr>\n",
       "      <th>30</th>\n",
       "      <td>60</td>\n",
       "      <td>'2020/12/30'</td>\n",
       "      <td>102</td>\n",
       "      <td>129</td>\n",
       "      <td>380.3</td>\n",
       "    </tr>\n",
       "    <tr>\n",
       "      <th>31</th>\n",
       "      <td>60</td>\n",
       "      <td>'2020/12/31'</td>\n",
       "      <td>92</td>\n",
       "      <td>115</td>\n",
       "      <td>243.0</td>\n",
       "    </tr>\n",
       "  </tbody>\n",
       "</table>\n",
       "</div>"
      ],
      "text/plain": [
       "    Duration          Date  Pulse  Maxpulse  Calories\n",
       "0         60  '2020/12/01'    110       130     409.1\n",
       "1         60  '2020/12/02'    117       145     479.0\n",
       "2         60  '2020/12/03'    103       135     340.0\n",
       "3         45  '2020/12/04'    109       175     282.4\n",
       "4         45  '2020/12/05'    117       148     406.0\n",
       "5         60  '2020/12/06'    102       127     300.0\n",
       "6         60  '2020/12/07'    110       136     374.0\n",
       "7        450  '2020/12/08'    104       134     253.3\n",
       "8         30  '2020/12/09'    109       133     195.1\n",
       "9         60  '2020/12/10'     98       124     269.0\n",
       "10        60  '2020/12/11'    103       147     329.3\n",
       "11        60  '2020/12/12'    100       120     250.7\n",
       "12        60  '2020/12/12'    100       120     250.7\n",
       "13        60  '2020/12/13'    106       128     345.3\n",
       "14        60  '2020/12/14'    104       132     379.3\n",
       "15        60  '2020/12/15'     98       123     275.0\n",
       "16        60  '2020/12/16'     98       120     215.2\n",
       "17        60  '2020/12/17'    100       120     300.0\n",
       "19        60  '2020/12/19'    103       123     323.0\n",
       "20        45  '2020/12/20'     97       125     243.0\n",
       "21        60  '2020/12/21'    108       131     364.2\n",
       "23        60  '2020/12/23'    130       101     300.0\n",
       "24        45  '2020/12/24'    105       132     246.0\n",
       "25        60  '2020/12/25'    102       126     334.5\n",
       "26        60      20201226    100       120     250.0\n",
       "27        60  '2020/12/27'     92       118     241.0\n",
       "29        60  '2020/12/29'    100       132     280.0\n",
       "30        60  '2020/12/30'    102       129     380.3\n",
       "31        60  '2020/12/31'     92       115     243.0"
      ]
     },
     "execution_count": 15,
     "metadata": {},
     "output_type": "execute_result"
    }
   ],
   "source": [
    "#Replace Empty Values #Replace NULL values with the number 130:\n",
    "df.fillna(130, inplace = True)\n",
    "df"
   ]
  },
  {
   "cell_type": "code",
   "execution_count": 34,
   "id": "02f0a2f9-93c8-4449-8709-92d0be63b973",
   "metadata": {},
   "outputs": [],
   "source": [
    "#Replace Only For Specified Columns\n",
    "df.fillna({\"Calories\": 130}, inplace=True)"
   ]
  },
  {
   "cell_type": "code",
   "execution_count": 35,
   "id": "70cb702c-0c5d-45ac-8673-069dfd435a5f",
   "metadata": {},
   "outputs": [],
   "source": [
    "#Replace Using Mean, Median, or Mode\n",
    "x = df[\"Calories\"].mean()\n",
    "df[\"Calories\"] = df[\"Calories\"].fillna(x)"
   ]
  },
  {
   "cell_type": "code",
   "execution_count": 36,
   "id": "3aa50252-22ed-4989-adcc-9ce2c328cf14",
   "metadata": {},
   "outputs": [],
   "source": [
    "x = df[\"Calories\"].median()\n",
    "df.fillna({\"Calories\": x}, inplace=True)"
   ]
  },
  {
   "cell_type": "code",
   "execution_count": 37,
   "id": "851cca05-7a76-45ee-87e5-086f9bee1eda",
   "metadata": {},
   "outputs": [],
   "source": [
    "x = df[\"Calories\"].mode()[0]\n",
    "df[\"Calories\"] = df[\"Calories\"].fillna(x)"
   ]
  },
  {
   "cell_type": "code",
   "execution_count": 20,
   "id": "ddfb4ae7-43b8-46b5-b468-3583e7d06de4",
   "metadata": {},
   "outputs": [],
   "source": [
    "#Cleaning Data of Wrong Format\n",
    "\n",
    "df['Date'] = pd.to_datetime(df['Date'],format='mixed')"
   ]
  },
  {
   "cell_type": "code",
   "execution_count": 21,
   "id": "b3939197-5b01-46e2-9707-e4f6940113e3",
   "metadata": {},
   "outputs": [
    {
     "data": {
      "text/html": [
       "<div>\n",
       "<style scoped>\n",
       "    .dataframe tbody tr th:only-of-type {\n",
       "        vertical-align: middle;\n",
       "    }\n",
       "\n",
       "    .dataframe tbody tr th {\n",
       "        vertical-align: top;\n",
       "    }\n",
       "\n",
       "    .dataframe thead th {\n",
       "        text-align: right;\n",
       "    }\n",
       "</style>\n",
       "<table border=\"1\" class=\"dataframe\">\n",
       "  <thead>\n",
       "    <tr style=\"text-align: right;\">\n",
       "      <th></th>\n",
       "      <th>Duration</th>\n",
       "      <th>Date</th>\n",
       "      <th>Pulse</th>\n",
       "      <th>Maxpulse</th>\n",
       "      <th>Calories</th>\n",
       "    </tr>\n",
       "  </thead>\n",
       "  <tbody>\n",
       "    <tr>\n",
       "      <th>0</th>\n",
       "      <td>60</td>\n",
       "      <td>2020-12-01</td>\n",
       "      <td>110</td>\n",
       "      <td>130</td>\n",
       "      <td>409.1</td>\n",
       "    </tr>\n",
       "    <tr>\n",
       "      <th>1</th>\n",
       "      <td>60</td>\n",
       "      <td>2020-12-02</td>\n",
       "      <td>117</td>\n",
       "      <td>145</td>\n",
       "      <td>479.0</td>\n",
       "    </tr>\n",
       "    <tr>\n",
       "      <th>2</th>\n",
       "      <td>60</td>\n",
       "      <td>2020-12-03</td>\n",
       "      <td>103</td>\n",
       "      <td>135</td>\n",
       "      <td>340.0</td>\n",
       "    </tr>\n",
       "    <tr>\n",
       "      <th>3</th>\n",
       "      <td>45</td>\n",
       "      <td>2020-12-04</td>\n",
       "      <td>109</td>\n",
       "      <td>175</td>\n",
       "      <td>282.4</td>\n",
       "    </tr>\n",
       "    <tr>\n",
       "      <th>4</th>\n",
       "      <td>45</td>\n",
       "      <td>2020-12-05</td>\n",
       "      <td>117</td>\n",
       "      <td>148</td>\n",
       "      <td>406.0</td>\n",
       "    </tr>\n",
       "    <tr>\n",
       "      <th>5</th>\n",
       "      <td>60</td>\n",
       "      <td>2020-12-06</td>\n",
       "      <td>102</td>\n",
       "      <td>127</td>\n",
       "      <td>300.0</td>\n",
       "    </tr>\n",
       "    <tr>\n",
       "      <th>6</th>\n",
       "      <td>60</td>\n",
       "      <td>2020-12-07</td>\n",
       "      <td>110</td>\n",
       "      <td>136</td>\n",
       "      <td>374.0</td>\n",
       "    </tr>\n",
       "    <tr>\n",
       "      <th>7</th>\n",
       "      <td>450</td>\n",
       "      <td>2020-12-08</td>\n",
       "      <td>104</td>\n",
       "      <td>134</td>\n",
       "      <td>253.3</td>\n",
       "    </tr>\n",
       "    <tr>\n",
       "      <th>8</th>\n",
       "      <td>30</td>\n",
       "      <td>2020-12-09</td>\n",
       "      <td>109</td>\n",
       "      <td>133</td>\n",
       "      <td>195.1</td>\n",
       "    </tr>\n",
       "    <tr>\n",
       "      <th>9</th>\n",
       "      <td>60</td>\n",
       "      <td>2020-12-10</td>\n",
       "      <td>98</td>\n",
       "      <td>124</td>\n",
       "      <td>269.0</td>\n",
       "    </tr>\n",
       "    <tr>\n",
       "      <th>10</th>\n",
       "      <td>60</td>\n",
       "      <td>2020-12-11</td>\n",
       "      <td>103</td>\n",
       "      <td>147</td>\n",
       "      <td>329.3</td>\n",
       "    </tr>\n",
       "    <tr>\n",
       "      <th>11</th>\n",
       "      <td>60</td>\n",
       "      <td>2020-12-12</td>\n",
       "      <td>100</td>\n",
       "      <td>120</td>\n",
       "      <td>250.7</td>\n",
       "    </tr>\n",
       "    <tr>\n",
       "      <th>12</th>\n",
       "      <td>60</td>\n",
       "      <td>2020-12-12</td>\n",
       "      <td>100</td>\n",
       "      <td>120</td>\n",
       "      <td>250.7</td>\n",
       "    </tr>\n",
       "    <tr>\n",
       "      <th>13</th>\n",
       "      <td>60</td>\n",
       "      <td>2020-12-13</td>\n",
       "      <td>106</td>\n",
       "      <td>128</td>\n",
       "      <td>345.3</td>\n",
       "    </tr>\n",
       "    <tr>\n",
       "      <th>14</th>\n",
       "      <td>60</td>\n",
       "      <td>2020-12-14</td>\n",
       "      <td>104</td>\n",
       "      <td>132</td>\n",
       "      <td>379.3</td>\n",
       "    </tr>\n",
       "    <tr>\n",
       "      <th>15</th>\n",
       "      <td>60</td>\n",
       "      <td>2020-12-15</td>\n",
       "      <td>98</td>\n",
       "      <td>123</td>\n",
       "      <td>275.0</td>\n",
       "    </tr>\n",
       "    <tr>\n",
       "      <th>16</th>\n",
       "      <td>60</td>\n",
       "      <td>2020-12-16</td>\n",
       "      <td>98</td>\n",
       "      <td>120</td>\n",
       "      <td>215.2</td>\n",
       "    </tr>\n",
       "    <tr>\n",
       "      <th>17</th>\n",
       "      <td>60</td>\n",
       "      <td>2020-12-17</td>\n",
       "      <td>100</td>\n",
       "      <td>120</td>\n",
       "      <td>300.0</td>\n",
       "    </tr>\n",
       "    <tr>\n",
       "      <th>19</th>\n",
       "      <td>60</td>\n",
       "      <td>2020-12-19</td>\n",
       "      <td>103</td>\n",
       "      <td>123</td>\n",
       "      <td>323.0</td>\n",
       "    </tr>\n",
       "    <tr>\n",
       "      <th>20</th>\n",
       "      <td>45</td>\n",
       "      <td>2020-12-20</td>\n",
       "      <td>97</td>\n",
       "      <td>125</td>\n",
       "      <td>243.0</td>\n",
       "    </tr>\n",
       "    <tr>\n",
       "      <th>21</th>\n",
       "      <td>60</td>\n",
       "      <td>2020-12-21</td>\n",
       "      <td>108</td>\n",
       "      <td>131</td>\n",
       "      <td>364.2</td>\n",
       "    </tr>\n",
       "    <tr>\n",
       "      <th>23</th>\n",
       "      <td>60</td>\n",
       "      <td>2020-12-23</td>\n",
       "      <td>130</td>\n",
       "      <td>101</td>\n",
       "      <td>300.0</td>\n",
       "    </tr>\n",
       "    <tr>\n",
       "      <th>24</th>\n",
       "      <td>45</td>\n",
       "      <td>2020-12-24</td>\n",
       "      <td>105</td>\n",
       "      <td>132</td>\n",
       "      <td>246.0</td>\n",
       "    </tr>\n",
       "    <tr>\n",
       "      <th>25</th>\n",
       "      <td>60</td>\n",
       "      <td>2020-12-25</td>\n",
       "      <td>102</td>\n",
       "      <td>126</td>\n",
       "      <td>334.5</td>\n",
       "    </tr>\n",
       "    <tr>\n",
       "      <th>26</th>\n",
       "      <td>60</td>\n",
       "      <td>2020-12-26</td>\n",
       "      <td>100</td>\n",
       "      <td>120</td>\n",
       "      <td>250.0</td>\n",
       "    </tr>\n",
       "    <tr>\n",
       "      <th>27</th>\n",
       "      <td>60</td>\n",
       "      <td>2020-12-27</td>\n",
       "      <td>92</td>\n",
       "      <td>118</td>\n",
       "      <td>241.0</td>\n",
       "    </tr>\n",
       "    <tr>\n",
       "      <th>29</th>\n",
       "      <td>60</td>\n",
       "      <td>2020-12-29</td>\n",
       "      <td>100</td>\n",
       "      <td>132</td>\n",
       "      <td>280.0</td>\n",
       "    </tr>\n",
       "    <tr>\n",
       "      <th>30</th>\n",
       "      <td>60</td>\n",
       "      <td>2020-12-30</td>\n",
       "      <td>102</td>\n",
       "      <td>129</td>\n",
       "      <td>380.3</td>\n",
       "    </tr>\n",
       "    <tr>\n",
       "      <th>31</th>\n",
       "      <td>60</td>\n",
       "      <td>2020-12-31</td>\n",
       "      <td>92</td>\n",
       "      <td>115</td>\n",
       "      <td>243.0</td>\n",
       "    </tr>\n",
       "  </tbody>\n",
       "</table>\n",
       "</div>"
      ],
      "text/plain": [
       "    Duration       Date  Pulse  Maxpulse  Calories\n",
       "0         60 2020-12-01    110       130     409.1\n",
       "1         60 2020-12-02    117       145     479.0\n",
       "2         60 2020-12-03    103       135     340.0\n",
       "3         45 2020-12-04    109       175     282.4\n",
       "4         45 2020-12-05    117       148     406.0\n",
       "5         60 2020-12-06    102       127     300.0\n",
       "6         60 2020-12-07    110       136     374.0\n",
       "7        450 2020-12-08    104       134     253.3\n",
       "8         30 2020-12-09    109       133     195.1\n",
       "9         60 2020-12-10     98       124     269.0\n",
       "10        60 2020-12-11    103       147     329.3\n",
       "11        60 2020-12-12    100       120     250.7\n",
       "12        60 2020-12-12    100       120     250.7\n",
       "13        60 2020-12-13    106       128     345.3\n",
       "14        60 2020-12-14    104       132     379.3\n",
       "15        60 2020-12-15     98       123     275.0\n",
       "16        60 2020-12-16     98       120     215.2\n",
       "17        60 2020-12-17    100       120     300.0\n",
       "19        60 2020-12-19    103       123     323.0\n",
       "20        45 2020-12-20     97       125     243.0\n",
       "21        60 2020-12-21    108       131     364.2\n",
       "23        60 2020-12-23    130       101     300.0\n",
       "24        45 2020-12-24    105       132     246.0\n",
       "25        60 2020-12-25    102       126     334.5\n",
       "26        60 2020-12-26    100       120     250.0\n",
       "27        60 2020-12-27     92       118     241.0\n",
       "29        60 2020-12-29    100       132     280.0\n",
       "30        60 2020-12-30    102       129     380.3\n",
       "31        60 2020-12-31     92       115     243.0"
      ]
     },
     "execution_count": 21,
     "metadata": {},
     "output_type": "execute_result"
    }
   ],
   "source": [
    "df\n"
   ]
  },
  {
   "cell_type": "code",
   "execution_count": 22,
   "id": "b12798cb-204f-4a35-9035-884b08738e30",
   "metadata": {},
   "outputs": [],
   "source": [
    "#Remove rows with a NULL value in the \"Date\" column:\n",
    "df.dropna(subset=['Date'], inplace = True)"
   ]
  },
  {
   "cell_type": "code",
   "execution_count": 23,
   "id": "62e2c54a-149c-4256-b4a7-fe36a80ed0ec",
   "metadata": {},
   "outputs": [],
   "source": [
    "# fix wrong values by replace them with something else.\n",
    "df.loc[7, 'Duration'] = 45 #the value should be \"45\" instead of \"450"
   ]
  },
  {
   "cell_type": "code",
   "execution_count": 24,
   "id": "ba37aa12-ffb9-4348-9c42-e9cddd50a43c",
   "metadata": {},
   "outputs": [
    {
     "data": {
      "text/html": [
       "<div>\n",
       "<style scoped>\n",
       "    .dataframe tbody tr th:only-of-type {\n",
       "        vertical-align: middle;\n",
       "    }\n",
       "\n",
       "    .dataframe tbody tr th {\n",
       "        vertical-align: top;\n",
       "    }\n",
       "\n",
       "    .dataframe thead th {\n",
       "        text-align: right;\n",
       "    }\n",
       "</style>\n",
       "<table border=\"1\" class=\"dataframe\">\n",
       "  <thead>\n",
       "    <tr style=\"text-align: right;\">\n",
       "      <th></th>\n",
       "      <th>Duration</th>\n",
       "      <th>Date</th>\n",
       "      <th>Pulse</th>\n",
       "      <th>Maxpulse</th>\n",
       "      <th>Calories</th>\n",
       "    </tr>\n",
       "  </thead>\n",
       "  <tbody>\n",
       "    <tr>\n",
       "      <th>0</th>\n",
       "      <td>60</td>\n",
       "      <td>2020-12-01</td>\n",
       "      <td>110</td>\n",
       "      <td>130</td>\n",
       "      <td>409.1</td>\n",
       "    </tr>\n",
       "    <tr>\n",
       "      <th>1</th>\n",
       "      <td>60</td>\n",
       "      <td>2020-12-02</td>\n",
       "      <td>117</td>\n",
       "      <td>145</td>\n",
       "      <td>479.0</td>\n",
       "    </tr>\n",
       "    <tr>\n",
       "      <th>2</th>\n",
       "      <td>60</td>\n",
       "      <td>2020-12-03</td>\n",
       "      <td>103</td>\n",
       "      <td>135</td>\n",
       "      <td>340.0</td>\n",
       "    </tr>\n",
       "    <tr>\n",
       "      <th>3</th>\n",
       "      <td>45</td>\n",
       "      <td>2020-12-04</td>\n",
       "      <td>109</td>\n",
       "      <td>175</td>\n",
       "      <td>282.4</td>\n",
       "    </tr>\n",
       "    <tr>\n",
       "      <th>4</th>\n",
       "      <td>45</td>\n",
       "      <td>2020-12-05</td>\n",
       "      <td>117</td>\n",
       "      <td>148</td>\n",
       "      <td>406.0</td>\n",
       "    </tr>\n",
       "    <tr>\n",
       "      <th>5</th>\n",
       "      <td>60</td>\n",
       "      <td>2020-12-06</td>\n",
       "      <td>102</td>\n",
       "      <td>127</td>\n",
       "      <td>300.0</td>\n",
       "    </tr>\n",
       "    <tr>\n",
       "      <th>6</th>\n",
       "      <td>60</td>\n",
       "      <td>2020-12-07</td>\n",
       "      <td>110</td>\n",
       "      <td>136</td>\n",
       "      <td>374.0</td>\n",
       "    </tr>\n",
       "    <tr>\n",
       "      <th>7</th>\n",
       "      <td>45</td>\n",
       "      <td>2020-12-08</td>\n",
       "      <td>104</td>\n",
       "      <td>134</td>\n",
       "      <td>253.3</td>\n",
       "    </tr>\n",
       "    <tr>\n",
       "      <th>8</th>\n",
       "      <td>30</td>\n",
       "      <td>2020-12-09</td>\n",
       "      <td>109</td>\n",
       "      <td>133</td>\n",
       "      <td>195.1</td>\n",
       "    </tr>\n",
       "    <tr>\n",
       "      <th>9</th>\n",
       "      <td>60</td>\n",
       "      <td>2020-12-10</td>\n",
       "      <td>98</td>\n",
       "      <td>124</td>\n",
       "      <td>269.0</td>\n",
       "    </tr>\n",
       "    <tr>\n",
       "      <th>10</th>\n",
       "      <td>60</td>\n",
       "      <td>2020-12-11</td>\n",
       "      <td>103</td>\n",
       "      <td>147</td>\n",
       "      <td>329.3</td>\n",
       "    </tr>\n",
       "    <tr>\n",
       "      <th>11</th>\n",
       "      <td>60</td>\n",
       "      <td>2020-12-12</td>\n",
       "      <td>100</td>\n",
       "      <td>120</td>\n",
       "      <td>250.7</td>\n",
       "    </tr>\n",
       "    <tr>\n",
       "      <th>12</th>\n",
       "      <td>60</td>\n",
       "      <td>2020-12-12</td>\n",
       "      <td>100</td>\n",
       "      <td>120</td>\n",
       "      <td>250.7</td>\n",
       "    </tr>\n",
       "    <tr>\n",
       "      <th>13</th>\n",
       "      <td>60</td>\n",
       "      <td>2020-12-13</td>\n",
       "      <td>106</td>\n",
       "      <td>128</td>\n",
       "      <td>345.3</td>\n",
       "    </tr>\n",
       "    <tr>\n",
       "      <th>14</th>\n",
       "      <td>60</td>\n",
       "      <td>2020-12-14</td>\n",
       "      <td>104</td>\n",
       "      <td>132</td>\n",
       "      <td>379.3</td>\n",
       "    </tr>\n",
       "    <tr>\n",
       "      <th>15</th>\n",
       "      <td>60</td>\n",
       "      <td>2020-12-15</td>\n",
       "      <td>98</td>\n",
       "      <td>123</td>\n",
       "      <td>275.0</td>\n",
       "    </tr>\n",
       "    <tr>\n",
       "      <th>16</th>\n",
       "      <td>60</td>\n",
       "      <td>2020-12-16</td>\n",
       "      <td>98</td>\n",
       "      <td>120</td>\n",
       "      <td>215.2</td>\n",
       "    </tr>\n",
       "    <tr>\n",
       "      <th>17</th>\n",
       "      <td>60</td>\n",
       "      <td>2020-12-17</td>\n",
       "      <td>100</td>\n",
       "      <td>120</td>\n",
       "      <td>300.0</td>\n",
       "    </tr>\n",
       "    <tr>\n",
       "      <th>19</th>\n",
       "      <td>60</td>\n",
       "      <td>2020-12-19</td>\n",
       "      <td>103</td>\n",
       "      <td>123</td>\n",
       "      <td>323.0</td>\n",
       "    </tr>\n",
       "    <tr>\n",
       "      <th>20</th>\n",
       "      <td>45</td>\n",
       "      <td>2020-12-20</td>\n",
       "      <td>97</td>\n",
       "      <td>125</td>\n",
       "      <td>243.0</td>\n",
       "    </tr>\n",
       "    <tr>\n",
       "      <th>21</th>\n",
       "      <td>60</td>\n",
       "      <td>2020-12-21</td>\n",
       "      <td>108</td>\n",
       "      <td>131</td>\n",
       "      <td>364.2</td>\n",
       "    </tr>\n",
       "    <tr>\n",
       "      <th>23</th>\n",
       "      <td>60</td>\n",
       "      <td>2020-12-23</td>\n",
       "      <td>130</td>\n",
       "      <td>101</td>\n",
       "      <td>300.0</td>\n",
       "    </tr>\n",
       "    <tr>\n",
       "      <th>24</th>\n",
       "      <td>45</td>\n",
       "      <td>2020-12-24</td>\n",
       "      <td>105</td>\n",
       "      <td>132</td>\n",
       "      <td>246.0</td>\n",
       "    </tr>\n",
       "    <tr>\n",
       "      <th>25</th>\n",
       "      <td>60</td>\n",
       "      <td>2020-12-25</td>\n",
       "      <td>102</td>\n",
       "      <td>126</td>\n",
       "      <td>334.5</td>\n",
       "    </tr>\n",
       "    <tr>\n",
       "      <th>26</th>\n",
       "      <td>60</td>\n",
       "      <td>2020-12-26</td>\n",
       "      <td>100</td>\n",
       "      <td>120</td>\n",
       "      <td>250.0</td>\n",
       "    </tr>\n",
       "    <tr>\n",
       "      <th>27</th>\n",
       "      <td>60</td>\n",
       "      <td>2020-12-27</td>\n",
       "      <td>92</td>\n",
       "      <td>118</td>\n",
       "      <td>241.0</td>\n",
       "    </tr>\n",
       "    <tr>\n",
       "      <th>29</th>\n",
       "      <td>60</td>\n",
       "      <td>2020-12-29</td>\n",
       "      <td>100</td>\n",
       "      <td>132</td>\n",
       "      <td>280.0</td>\n",
       "    </tr>\n",
       "    <tr>\n",
       "      <th>30</th>\n",
       "      <td>60</td>\n",
       "      <td>2020-12-30</td>\n",
       "      <td>102</td>\n",
       "      <td>129</td>\n",
       "      <td>380.3</td>\n",
       "    </tr>\n",
       "    <tr>\n",
       "      <th>31</th>\n",
       "      <td>60</td>\n",
       "      <td>2020-12-31</td>\n",
       "      <td>92</td>\n",
       "      <td>115</td>\n",
       "      <td>243.0</td>\n",
       "    </tr>\n",
       "  </tbody>\n",
       "</table>\n",
       "</div>"
      ],
      "text/plain": [
       "    Duration       Date  Pulse  Maxpulse  Calories\n",
       "0         60 2020-12-01    110       130     409.1\n",
       "1         60 2020-12-02    117       145     479.0\n",
       "2         60 2020-12-03    103       135     340.0\n",
       "3         45 2020-12-04    109       175     282.4\n",
       "4         45 2020-12-05    117       148     406.0\n",
       "5         60 2020-12-06    102       127     300.0\n",
       "6         60 2020-12-07    110       136     374.0\n",
       "7         45 2020-12-08    104       134     253.3\n",
       "8         30 2020-12-09    109       133     195.1\n",
       "9         60 2020-12-10     98       124     269.0\n",
       "10        60 2020-12-11    103       147     329.3\n",
       "11        60 2020-12-12    100       120     250.7\n",
       "12        60 2020-12-12    100       120     250.7\n",
       "13        60 2020-12-13    106       128     345.3\n",
       "14        60 2020-12-14    104       132     379.3\n",
       "15        60 2020-12-15     98       123     275.0\n",
       "16        60 2020-12-16     98       120     215.2\n",
       "17        60 2020-12-17    100       120     300.0\n",
       "19        60 2020-12-19    103       123     323.0\n",
       "20        45 2020-12-20     97       125     243.0\n",
       "21        60 2020-12-21    108       131     364.2\n",
       "23        60 2020-12-23    130       101     300.0\n",
       "24        45 2020-12-24    105       132     246.0\n",
       "25        60 2020-12-25    102       126     334.5\n",
       "26        60 2020-12-26    100       120     250.0\n",
       "27        60 2020-12-27     92       118     241.0\n",
       "29        60 2020-12-29    100       132     280.0\n",
       "30        60 2020-12-30    102       129     380.3\n",
       "31        60 2020-12-31     92       115     243.0"
      ]
     },
     "execution_count": 24,
     "metadata": {},
     "output_type": "execute_result"
    }
   ],
   "source": [
    "df"
   ]
  },
  {
   "cell_type": "code",
   "execution_count": 25,
   "id": "65d88007-f767-486c-b8ee-9efe5193b8ac",
   "metadata": {},
   "outputs": [],
   "source": [
    "#Loop through all values in the \"Duration\" column.\n",
    "#If the value is higher than 120, set it to 120:\n",
    "for x in df.index:\n",
    "  if df.loc[x, \"Duration\"] > 120:\n",
    "    df.loc[x, \"Duration\"] = 120"
   ]
  },
  {
   "cell_type": "code",
   "execution_count": 26,
   "id": "f63400f6-2852-4c06-a3f6-82d3bdb2783e",
   "metadata": {},
   "outputs": [],
   "source": [
    "#Delete rows where \"Duration\" is higher than 120:\n",
    "for x in df.index:\n",
    "  if df.loc[x, \"Duration\"] > 120:\n",
    "    df.drop(x, inplace = True)"
   ]
  },
  {
   "cell_type": "code",
   "execution_count": 27,
   "id": "b860ace0-7c43-4fc3-baf9-618f25685021",
   "metadata": {},
   "outputs": [
    {
     "name": "stdout",
     "output_type": "stream",
     "text": [
      "0     False\n",
      "1     False\n",
      "2     False\n",
      "3     False\n",
      "4     False\n",
      "5     False\n",
      "6     False\n",
      "7     False\n",
      "8     False\n",
      "9     False\n",
      "10    False\n",
      "11    False\n",
      "12     True\n",
      "13    False\n",
      "14    False\n",
      "15    False\n",
      "16    False\n",
      "17    False\n",
      "19    False\n",
      "20    False\n",
      "21    False\n",
      "23    False\n",
      "24    False\n",
      "25    False\n",
      "26    False\n",
      "27    False\n",
      "29    False\n",
      "30    False\n",
      "31    False\n",
      "dtype: bool\n"
     ]
    }
   ],
   "source": [
    "#Removing Duplicates\n",
    "print(df.duplicated())"
   ]
  },
  {
   "cell_type": "code",
   "execution_count": 28,
   "id": "21ab5a49-199d-478e-9a1b-d659dbcaa783",
   "metadata": {},
   "outputs": [],
   "source": [
    "df.drop_duplicates(inplace = True)"
   ]
  },
  {
   "cell_type": "code",
   "execution_count": 29,
   "id": "da17ad64-981b-4c4a-9ee8-9afda7d58176",
   "metadata": {},
   "outputs": [
    {
     "data": {
      "text/html": [
       "<div>\n",
       "<style scoped>\n",
       "    .dataframe tbody tr th:only-of-type {\n",
       "        vertical-align: middle;\n",
       "    }\n",
       "\n",
       "    .dataframe tbody tr th {\n",
       "        vertical-align: top;\n",
       "    }\n",
       "\n",
       "    .dataframe thead th {\n",
       "        text-align: right;\n",
       "    }\n",
       "</style>\n",
       "<table border=\"1\" class=\"dataframe\">\n",
       "  <thead>\n",
       "    <tr style=\"text-align: right;\">\n",
       "      <th></th>\n",
       "      <th>Duration</th>\n",
       "      <th>Date</th>\n",
       "      <th>Pulse</th>\n",
       "      <th>Maxpulse</th>\n",
       "      <th>Calories</th>\n",
       "    </tr>\n",
       "  </thead>\n",
       "  <tbody>\n",
       "    <tr>\n",
       "      <th>0</th>\n",
       "      <td>60</td>\n",
       "      <td>2020-12-01</td>\n",
       "      <td>110</td>\n",
       "      <td>130</td>\n",
       "      <td>409.1</td>\n",
       "    </tr>\n",
       "    <tr>\n",
       "      <th>1</th>\n",
       "      <td>60</td>\n",
       "      <td>2020-12-02</td>\n",
       "      <td>117</td>\n",
       "      <td>145</td>\n",
       "      <td>479.0</td>\n",
       "    </tr>\n",
       "    <tr>\n",
       "      <th>2</th>\n",
       "      <td>60</td>\n",
       "      <td>2020-12-03</td>\n",
       "      <td>103</td>\n",
       "      <td>135</td>\n",
       "      <td>340.0</td>\n",
       "    </tr>\n",
       "    <tr>\n",
       "      <th>3</th>\n",
       "      <td>45</td>\n",
       "      <td>2020-12-04</td>\n",
       "      <td>109</td>\n",
       "      <td>175</td>\n",
       "      <td>282.4</td>\n",
       "    </tr>\n",
       "    <tr>\n",
       "      <th>4</th>\n",
       "      <td>45</td>\n",
       "      <td>2020-12-05</td>\n",
       "      <td>117</td>\n",
       "      <td>148</td>\n",
       "      <td>406.0</td>\n",
       "    </tr>\n",
       "    <tr>\n",
       "      <th>5</th>\n",
       "      <td>60</td>\n",
       "      <td>2020-12-06</td>\n",
       "      <td>102</td>\n",
       "      <td>127</td>\n",
       "      <td>300.0</td>\n",
       "    </tr>\n",
       "    <tr>\n",
       "      <th>6</th>\n",
       "      <td>60</td>\n",
       "      <td>2020-12-07</td>\n",
       "      <td>110</td>\n",
       "      <td>136</td>\n",
       "      <td>374.0</td>\n",
       "    </tr>\n",
       "    <tr>\n",
       "      <th>7</th>\n",
       "      <td>45</td>\n",
       "      <td>2020-12-08</td>\n",
       "      <td>104</td>\n",
       "      <td>134</td>\n",
       "      <td>253.3</td>\n",
       "    </tr>\n",
       "    <tr>\n",
       "      <th>8</th>\n",
       "      <td>30</td>\n",
       "      <td>2020-12-09</td>\n",
       "      <td>109</td>\n",
       "      <td>133</td>\n",
       "      <td>195.1</td>\n",
       "    </tr>\n",
       "    <tr>\n",
       "      <th>9</th>\n",
       "      <td>60</td>\n",
       "      <td>2020-12-10</td>\n",
       "      <td>98</td>\n",
       "      <td>124</td>\n",
       "      <td>269.0</td>\n",
       "    </tr>\n",
       "    <tr>\n",
       "      <th>10</th>\n",
       "      <td>60</td>\n",
       "      <td>2020-12-11</td>\n",
       "      <td>103</td>\n",
       "      <td>147</td>\n",
       "      <td>329.3</td>\n",
       "    </tr>\n",
       "    <tr>\n",
       "      <th>11</th>\n",
       "      <td>60</td>\n",
       "      <td>2020-12-12</td>\n",
       "      <td>100</td>\n",
       "      <td>120</td>\n",
       "      <td>250.7</td>\n",
       "    </tr>\n",
       "    <tr>\n",
       "      <th>13</th>\n",
       "      <td>60</td>\n",
       "      <td>2020-12-13</td>\n",
       "      <td>106</td>\n",
       "      <td>128</td>\n",
       "      <td>345.3</td>\n",
       "    </tr>\n",
       "    <tr>\n",
       "      <th>14</th>\n",
       "      <td>60</td>\n",
       "      <td>2020-12-14</td>\n",
       "      <td>104</td>\n",
       "      <td>132</td>\n",
       "      <td>379.3</td>\n",
       "    </tr>\n",
       "    <tr>\n",
       "      <th>15</th>\n",
       "      <td>60</td>\n",
       "      <td>2020-12-15</td>\n",
       "      <td>98</td>\n",
       "      <td>123</td>\n",
       "      <td>275.0</td>\n",
       "    </tr>\n",
       "    <tr>\n",
       "      <th>16</th>\n",
       "      <td>60</td>\n",
       "      <td>2020-12-16</td>\n",
       "      <td>98</td>\n",
       "      <td>120</td>\n",
       "      <td>215.2</td>\n",
       "    </tr>\n",
       "    <tr>\n",
       "      <th>17</th>\n",
       "      <td>60</td>\n",
       "      <td>2020-12-17</td>\n",
       "      <td>100</td>\n",
       "      <td>120</td>\n",
       "      <td>300.0</td>\n",
       "    </tr>\n",
       "    <tr>\n",
       "      <th>19</th>\n",
       "      <td>60</td>\n",
       "      <td>2020-12-19</td>\n",
       "      <td>103</td>\n",
       "      <td>123</td>\n",
       "      <td>323.0</td>\n",
       "    </tr>\n",
       "    <tr>\n",
       "      <th>20</th>\n",
       "      <td>45</td>\n",
       "      <td>2020-12-20</td>\n",
       "      <td>97</td>\n",
       "      <td>125</td>\n",
       "      <td>243.0</td>\n",
       "    </tr>\n",
       "    <tr>\n",
       "      <th>21</th>\n",
       "      <td>60</td>\n",
       "      <td>2020-12-21</td>\n",
       "      <td>108</td>\n",
       "      <td>131</td>\n",
       "      <td>364.2</td>\n",
       "    </tr>\n",
       "    <tr>\n",
       "      <th>23</th>\n",
       "      <td>60</td>\n",
       "      <td>2020-12-23</td>\n",
       "      <td>130</td>\n",
       "      <td>101</td>\n",
       "      <td>300.0</td>\n",
       "    </tr>\n",
       "    <tr>\n",
       "      <th>24</th>\n",
       "      <td>45</td>\n",
       "      <td>2020-12-24</td>\n",
       "      <td>105</td>\n",
       "      <td>132</td>\n",
       "      <td>246.0</td>\n",
       "    </tr>\n",
       "    <tr>\n",
       "      <th>25</th>\n",
       "      <td>60</td>\n",
       "      <td>2020-12-25</td>\n",
       "      <td>102</td>\n",
       "      <td>126</td>\n",
       "      <td>334.5</td>\n",
       "    </tr>\n",
       "    <tr>\n",
       "      <th>26</th>\n",
       "      <td>60</td>\n",
       "      <td>2020-12-26</td>\n",
       "      <td>100</td>\n",
       "      <td>120</td>\n",
       "      <td>250.0</td>\n",
       "    </tr>\n",
       "    <tr>\n",
       "      <th>27</th>\n",
       "      <td>60</td>\n",
       "      <td>2020-12-27</td>\n",
       "      <td>92</td>\n",
       "      <td>118</td>\n",
       "      <td>241.0</td>\n",
       "    </tr>\n",
       "    <tr>\n",
       "      <th>29</th>\n",
       "      <td>60</td>\n",
       "      <td>2020-12-29</td>\n",
       "      <td>100</td>\n",
       "      <td>132</td>\n",
       "      <td>280.0</td>\n",
       "    </tr>\n",
       "    <tr>\n",
       "      <th>30</th>\n",
       "      <td>60</td>\n",
       "      <td>2020-12-30</td>\n",
       "      <td>102</td>\n",
       "      <td>129</td>\n",
       "      <td>380.3</td>\n",
       "    </tr>\n",
       "    <tr>\n",
       "      <th>31</th>\n",
       "      <td>60</td>\n",
       "      <td>2020-12-31</td>\n",
       "      <td>92</td>\n",
       "      <td>115</td>\n",
       "      <td>243.0</td>\n",
       "    </tr>\n",
       "  </tbody>\n",
       "</table>\n",
       "</div>"
      ],
      "text/plain": [
       "    Duration       Date  Pulse  Maxpulse  Calories\n",
       "0         60 2020-12-01    110       130     409.1\n",
       "1         60 2020-12-02    117       145     479.0\n",
       "2         60 2020-12-03    103       135     340.0\n",
       "3         45 2020-12-04    109       175     282.4\n",
       "4         45 2020-12-05    117       148     406.0\n",
       "5         60 2020-12-06    102       127     300.0\n",
       "6         60 2020-12-07    110       136     374.0\n",
       "7         45 2020-12-08    104       134     253.3\n",
       "8         30 2020-12-09    109       133     195.1\n",
       "9         60 2020-12-10     98       124     269.0\n",
       "10        60 2020-12-11    103       147     329.3\n",
       "11        60 2020-12-12    100       120     250.7\n",
       "13        60 2020-12-13    106       128     345.3\n",
       "14        60 2020-12-14    104       132     379.3\n",
       "15        60 2020-12-15     98       123     275.0\n",
       "16        60 2020-12-16     98       120     215.2\n",
       "17        60 2020-12-17    100       120     300.0\n",
       "19        60 2020-12-19    103       123     323.0\n",
       "20        45 2020-12-20     97       125     243.0\n",
       "21        60 2020-12-21    108       131     364.2\n",
       "23        60 2020-12-23    130       101     300.0\n",
       "24        45 2020-12-24    105       132     246.0\n",
       "25        60 2020-12-25    102       126     334.5\n",
       "26        60 2020-12-26    100       120     250.0\n",
       "27        60 2020-12-27     92       118     241.0\n",
       "29        60 2020-12-29    100       132     280.0\n",
       "30        60 2020-12-30    102       129     380.3\n",
       "31        60 2020-12-31     92       115     243.0"
      ]
     },
     "execution_count": 29,
     "metadata": {},
     "output_type": "execute_result"
    }
   ],
   "source": [
    "df"
   ]
  },
  {
   "cell_type": "markdown",
   "id": "71b2ff38-a9d6-483f-8601-a3efcf9c886d",
   "metadata": {},
   "source": [
    "# Advanced Functionality"
   ]
  },
  {
   "cell_type": "code",
   "execution_count": 30,
   "id": "aaf0c0fc-222a-4d51-afc5-67eb05f90e2f",
   "metadata": {},
   "outputs": [
    {
     "name": "stdout",
     "output_type": "stream",
     "text": [
      "   ID   Name  Age\n",
      "0   1  Alice   25\n",
      "1   2    Bob   30\n"
     ]
    }
   ],
   "source": [
    "# Merging DataFrames\n",
    "df1 = pd.DataFrame({'ID': [1, 2, 3], 'Name': ['Alice', 'Bob', 'Charlie']})\n",
    "df2 = pd.DataFrame({'ID': [1, 2, 4], 'Age': [25, 30, 40]})\n",
    "merged_df = pd.merge(df1, df2, on='ID', how='inner')\n",
    "print(merged_df)"
   ]
  },
  {
   "cell_type": "code",
   "execution_count": 5,
   "id": "f6a285cf-0852-4d5d-bd11-92ec3a4c2822",
   "metadata": {
    "scrolled": true
   },
   "outputs": [
    {
     "data": {
      "text/html": [
       "<div>\n",
       "<style scoped>\n",
       "    .dataframe tbody tr th:only-of-type {\n",
       "        vertical-align: middle;\n",
       "    }\n",
       "\n",
       "    .dataframe tbody tr th {\n",
       "        vertical-align: top;\n",
       "    }\n",
       "\n",
       "    .dataframe thead th {\n",
       "        text-align: right;\n",
       "    }\n",
       "</style>\n",
       "<table border=\"1\" class=\"dataframe\">\n",
       "  <thead>\n",
       "    <tr style=\"text-align: right;\">\n",
       "      <th></th>\n",
       "      <th>value</th>\n",
       "      <th>variable</th>\n",
       "      <th>date</th>\n",
       "    </tr>\n",
       "  </thead>\n",
       "  <tbody>\n",
       "    <tr>\n",
       "      <th>0</th>\n",
       "      <td>0</td>\n",
       "      <td>A</td>\n",
       "      <td>2020-01-03</td>\n",
       "    </tr>\n",
       "    <tr>\n",
       "      <th>1</th>\n",
       "      <td>1</td>\n",
       "      <td>A</td>\n",
       "      <td>2020-01-04</td>\n",
       "    </tr>\n",
       "    <tr>\n",
       "      <th>2</th>\n",
       "      <td>2</td>\n",
       "      <td>A</td>\n",
       "      <td>2020-01-05</td>\n",
       "    </tr>\n",
       "    <tr>\n",
       "      <th>3</th>\n",
       "      <td>3</td>\n",
       "      <td>B</td>\n",
       "      <td>2020-01-03</td>\n",
       "    </tr>\n",
       "    <tr>\n",
       "      <th>4</th>\n",
       "      <td>4</td>\n",
       "      <td>B</td>\n",
       "      <td>2020-01-04</td>\n",
       "    </tr>\n",
       "    <tr>\n",
       "      <th>5</th>\n",
       "      <td>5</td>\n",
       "      <td>B</td>\n",
       "      <td>2020-01-05</td>\n",
       "    </tr>\n",
       "    <tr>\n",
       "      <th>6</th>\n",
       "      <td>6</td>\n",
       "      <td>C</td>\n",
       "      <td>2020-01-03</td>\n",
       "    </tr>\n",
       "    <tr>\n",
       "      <th>7</th>\n",
       "      <td>7</td>\n",
       "      <td>C</td>\n",
       "      <td>2020-01-04</td>\n",
       "    </tr>\n",
       "    <tr>\n",
       "      <th>8</th>\n",
       "      <td>8</td>\n",
       "      <td>C</td>\n",
       "      <td>2020-01-05</td>\n",
       "    </tr>\n",
       "    <tr>\n",
       "      <th>9</th>\n",
       "      <td>9</td>\n",
       "      <td>D</td>\n",
       "      <td>2020-01-03</td>\n",
       "    </tr>\n",
       "    <tr>\n",
       "      <th>10</th>\n",
       "      <td>10</td>\n",
       "      <td>D</td>\n",
       "      <td>2020-01-04</td>\n",
       "    </tr>\n",
       "    <tr>\n",
       "      <th>11</th>\n",
       "      <td>11</td>\n",
       "      <td>D</td>\n",
       "      <td>2020-01-05</td>\n",
       "    </tr>\n",
       "  </tbody>\n",
       "</table>\n",
       "</div>"
      ],
      "text/plain": [
       "    value variable       date\n",
       "0       0        A 2020-01-03\n",
       "1       1        A 2020-01-04\n",
       "2       2        A 2020-01-05\n",
       "3       3        B 2020-01-03\n",
       "4       4        B 2020-01-04\n",
       "5       5        B 2020-01-05\n",
       "6       6        C 2020-01-03\n",
       "7       7        C 2020-01-04\n",
       "8       8        C 2020-01-05\n",
       "9       9        D 2020-01-03\n",
       "10     10        D 2020-01-04\n",
       "11     11        D 2020-01-05"
      ]
     },
     "execution_count": 5,
     "metadata": {},
     "output_type": "execute_result"
    }
   ],
   "source": [
    "# Creating a pivot table\n",
    "import pandas as pd\n",
    "data = {\"value\": range(12),\n",
    "       \"variable\": [\"A\"] * 3 + [\"B\"] * 3 + [\"C\"] * 3 + [\"D\"] * 3,\n",
    "    \"date\": pd.to_datetime([\"2020-01-03\", \"2020-01-04\", \"2020-01-05\"] * 4) }\n",
    "    \n",
    "df = pd.DataFrame(data)\n",
    "df"
   ]
  },
  {
   "cell_type": "code",
   "execution_count": 6,
   "id": "81dc9554-d5ca-4bfd-b469-5ae023dbc301",
   "metadata": {},
   "outputs": [
    {
     "data": {
      "text/html": [
       "<div>\n",
       "<style scoped>\n",
       "    .dataframe tbody tr th:only-of-type {\n",
       "        vertical-align: middle;\n",
       "    }\n",
       "\n",
       "    .dataframe tbody tr th {\n",
       "        vertical-align: top;\n",
       "    }\n",
       "\n",
       "    .dataframe thead th {\n",
       "        text-align: right;\n",
       "    }\n",
       "</style>\n",
       "<table border=\"1\" class=\"dataframe\">\n",
       "  <thead>\n",
       "    <tr style=\"text-align: right;\">\n",
       "      <th>variable</th>\n",
       "      <th>A</th>\n",
       "      <th>B</th>\n",
       "      <th>C</th>\n",
       "      <th>D</th>\n",
       "    </tr>\n",
       "    <tr>\n",
       "      <th>date</th>\n",
       "      <th></th>\n",
       "      <th></th>\n",
       "      <th></th>\n",
       "      <th></th>\n",
       "    </tr>\n",
       "  </thead>\n",
       "  <tbody>\n",
       "    <tr>\n",
       "      <th>2020-01-03</th>\n",
       "      <td>0</td>\n",
       "      <td>3</td>\n",
       "      <td>6</td>\n",
       "      <td>9</td>\n",
       "    </tr>\n",
       "    <tr>\n",
       "      <th>2020-01-04</th>\n",
       "      <td>1</td>\n",
       "      <td>4</td>\n",
       "      <td>7</td>\n",
       "      <td>10</td>\n",
       "    </tr>\n",
       "    <tr>\n",
       "      <th>2020-01-05</th>\n",
       "      <td>2</td>\n",
       "      <td>5</td>\n",
       "      <td>8</td>\n",
       "      <td>11</td>\n",
       "    </tr>\n",
       "  </tbody>\n",
       "</table>\n",
       "</div>"
      ],
      "text/plain": [
       "variable    A  B  C   D\n",
       "date                   \n",
       "2020-01-03  0  3  6   9\n",
       "2020-01-04  1  4  7  10\n",
       "2020-01-05  2  5  8  11"
      ]
     },
     "execution_count": 6,
     "metadata": {},
     "output_type": "execute_result"
    }
   ],
   "source": [
    "pivoted = df.pivot(index=\"date\", columns=\"variable\", values=\"value\")\n",
    "\n",
    "pivoted"
   ]
  },
  {
   "cell_type": "code",
   "execution_count": 32,
   "id": "112c0d4d-d736-42fa-9fd9-537564b9e8e2",
   "metadata": {},
   "outputs": [
    {
     "name": "stdout",
     "output_type": "stream",
     "text": [
      "Age  25  30  40\n",
      "ID             \n",
      "1     1   0   0\n",
      "2     0   1   0\n",
      "4     0   0   1\n"
     ]
    }
   ],
   "source": [
    "# Creating a crosstab\n",
    "crosstab = pd.crosstab(df2['ID'], df2['Age'])\n",
    "print(crosstab)"
   ]
  },
  {
   "cell_type": "markdown",
   "id": "22008d52-cba3-47d5-80cd-bf0ba9e4da8c",
   "metadata": {},
   "source": [
    "# Data Correlations\n",
    "- # Perfect Correlation: \"Duration\" and \"Duration\" got a 1.000000 correlation\n",
    "- # Good Correlation: \"Duration\" and \"Calories\" got a 0.922721 correlation\n",
    "- # Bad Correlation: \"Duration\" and \"Maxpulse\" got a 0.009403 correlation"
   ]
  },
  {
   "cell_type": "code",
   "execution_count": 33,
   "id": "8791c9c7-46ad-4c87-b67e-d92556d0fa7e",
   "metadata": {},
   "outputs": [
    {
     "data": {
      "text/html": [
       "<div>\n",
       "<style scoped>\n",
       "    .dataframe tbody tr th:only-of-type {\n",
       "        vertical-align: middle;\n",
       "    }\n",
       "\n",
       "    .dataframe tbody tr th {\n",
       "        vertical-align: top;\n",
       "    }\n",
       "\n",
       "    .dataframe thead th {\n",
       "        text-align: right;\n",
       "    }\n",
       "</style>\n",
       "<table border=\"1\" class=\"dataframe\">\n",
       "  <thead>\n",
       "    <tr style=\"text-align: right;\">\n",
       "      <th></th>\n",
       "      <th>Duration</th>\n",
       "      <th>Date</th>\n",
       "      <th>Pulse</th>\n",
       "      <th>Maxpulse</th>\n",
       "      <th>Calories</th>\n",
       "    </tr>\n",
       "  </thead>\n",
       "  <tbody>\n",
       "    <tr>\n",
       "      <th>Duration</th>\n",
       "      <td>1.000000</td>\n",
       "      <td>0.217700</td>\n",
       "      <td>-0.183526</td>\n",
       "      <td>-0.391753</td>\n",
       "      <td>0.350969</td>\n",
       "    </tr>\n",
       "    <tr>\n",
       "      <th>Date</th>\n",
       "      <td>0.217700</td>\n",
       "      <td>1.000000</td>\n",
       "      <td>-0.380088</td>\n",
       "      <td>-0.549973</td>\n",
       "      <td>-0.368101</td>\n",
       "    </tr>\n",
       "    <tr>\n",
       "      <th>Pulse</th>\n",
       "      <td>-0.183526</td>\n",
       "      <td>-0.380088</td>\n",
       "      <td>1.000000</td>\n",
       "      <td>0.200177</td>\n",
       "      <td>0.503243</td>\n",
       "    </tr>\n",
       "    <tr>\n",
       "      <th>Maxpulse</th>\n",
       "      <td>-0.391753</td>\n",
       "      <td>-0.549973</td>\n",
       "      <td>0.200177</td>\n",
       "      <td>1.000000</td>\n",
       "      <td>0.338515</td>\n",
       "    </tr>\n",
       "    <tr>\n",
       "      <th>Calories</th>\n",
       "      <td>0.350969</td>\n",
       "      <td>-0.368101</td>\n",
       "      <td>0.503243</td>\n",
       "      <td>0.338515</td>\n",
       "      <td>1.000000</td>\n",
       "    </tr>\n",
       "  </tbody>\n",
       "</table>\n",
       "</div>"
      ],
      "text/plain": [
       "          Duration      Date     Pulse  Maxpulse  Calories\n",
       "Duration  1.000000  0.217700 -0.183526 -0.391753  0.350969\n",
       "Date      0.217700  1.000000 -0.380088 -0.549973 -0.368101\n",
       "Pulse    -0.183526 -0.380088  1.000000  0.200177  0.503243\n",
       "Maxpulse -0.391753 -0.549973  0.200177  1.000000  0.338515\n",
       "Calories  0.350969 -0.368101  0.503243  0.338515  1.000000"
      ]
     },
     "execution_count": 33,
     "metadata": {},
     "output_type": "execute_result"
    }
   ],
   "source": [
    "df.corr()"
   ]
  },
  {
   "cell_type": "code",
   "execution_count": 41,
   "id": "54d3f561-ea34-41d6-9220-4dc19720f654",
   "metadata": {},
   "outputs": [],
   "source": [
    "#Concatenating DataFrames\n",
    "# Concatenate two DataFrames row-wise\n",
    "df_concatenated = pd.concat([df1, df2], axis=0)\n",
    "\n",
    "# Concatenate two DataFrames column-wise\n",
    "df_concatenated_cols = pd.concat([df1, df2], axis=1)"
   ]
  },
  {
   "cell_type": "code",
   "execution_count": 44,
   "id": "ecda2d22-ab81-4d7c-a0ef-d81697d5d0df",
   "metadata": {},
   "outputs": [
    {
     "data": {
      "text/html": [
       "<div>\n",
       "<style scoped>\n",
       "    .dataframe tbody tr th:only-of-type {\n",
       "        vertical-align: middle;\n",
       "    }\n",
       "\n",
       "    .dataframe tbody tr th {\n",
       "        vertical-align: top;\n",
       "    }\n",
       "\n",
       "    .dataframe thead th {\n",
       "        text-align: right;\n",
       "    }\n",
       "</style>\n",
       "<table border=\"1\" class=\"dataframe\">\n",
       "  <thead>\n",
       "    <tr style=\"text-align: right;\">\n",
       "      <th></th>\n",
       "      <th>EmployeeID</th>\n",
       "      <th>Name</th>\n",
       "      <th>Salary</th>\n",
       "    </tr>\n",
       "  </thead>\n",
       "  <tbody>\n",
       "    <tr>\n",
       "      <th>0</th>\n",
       "      <td>101</td>\n",
       "      <td>John</td>\n",
       "      <td>60000</td>\n",
       "    </tr>\n",
       "    <tr>\n",
       "      <th>1</th>\n",
       "      <td>102</td>\n",
       "      <td>Jane</td>\n",
       "      <td>65000</td>\n",
       "    </tr>\n",
       "    <tr>\n",
       "      <th>2</th>\n",
       "      <td>103</td>\n",
       "      <td>Mike</td>\n",
       "      <td>70000</td>\n",
       "    </tr>\n",
       "  </tbody>\n",
       "</table>\n",
       "</div>"
      ],
      "text/plain": [
       "   EmployeeID  Name  Salary\n",
       "0         101  John   60000\n",
       "1         102  Jane   65000\n",
       "2         103  Mike   70000"
      ]
     },
     "execution_count": 44,
     "metadata": {},
     "output_type": "execute_result"
    }
   ],
   "source": [
    "data = {'EmployeeID': [101, 102, 103],\n",
    "        'Name': ['John', 'Jane', 'Mike'],\n",
    "        'Salary': [60000, 65000, 70000]}\n",
    "df = pd.DataFrame(data)\n",
    "df"
   ]
  },
  {
   "cell_type": "code",
   "execution_count": 45,
   "id": "5e76088e-3496-47a5-99b8-e3f61b33bdea",
   "metadata": {},
   "outputs": [],
   "source": [
    "# Create a new column 'NetSalary' by applying a custom function\n",
    "def calculate_net_salary(salary):\n",
    "    return salary * 0.8  # Deduct 20% for tax\n",
    "\n",
    "df['NetSalary'] = df['Salary'].apply(calculate_net_salary)"
   ]
  },
  {
   "cell_type": "code",
   "execution_count": 46,
   "id": "4fb0b0b0-5d96-43f5-ac09-7c68597e22bd",
   "metadata": {},
   "outputs": [
    {
     "data": {
      "text/html": [
       "<div>\n",
       "<style scoped>\n",
       "    .dataframe tbody tr th:only-of-type {\n",
       "        vertical-align: middle;\n",
       "    }\n",
       "\n",
       "    .dataframe tbody tr th {\n",
       "        vertical-align: top;\n",
       "    }\n",
       "\n",
       "    .dataframe thead th {\n",
       "        text-align: right;\n",
       "    }\n",
       "</style>\n",
       "<table border=\"1\" class=\"dataframe\">\n",
       "  <thead>\n",
       "    <tr style=\"text-align: right;\">\n",
       "      <th></th>\n",
       "      <th>EmployeeID</th>\n",
       "      <th>Name</th>\n",
       "      <th>Salary</th>\n",
       "      <th>NetSalary</th>\n",
       "    </tr>\n",
       "  </thead>\n",
       "  <tbody>\n",
       "    <tr>\n",
       "      <th>0</th>\n",
       "      <td>101</td>\n",
       "      <td>John</td>\n",
       "      <td>60000</td>\n",
       "      <td>48000.0</td>\n",
       "    </tr>\n",
       "    <tr>\n",
       "      <th>1</th>\n",
       "      <td>102</td>\n",
       "      <td>Jane</td>\n",
       "      <td>65000</td>\n",
       "      <td>52000.0</td>\n",
       "    </tr>\n",
       "    <tr>\n",
       "      <th>2</th>\n",
       "      <td>103</td>\n",
       "      <td>Mike</td>\n",
       "      <td>70000</td>\n",
       "      <td>56000.0</td>\n",
       "    </tr>\n",
       "  </tbody>\n",
       "</table>\n",
       "</div>"
      ],
      "text/plain": [
       "   EmployeeID  Name  Salary  NetSalary\n",
       "0         101  John   60000    48000.0\n",
       "1         102  Jane   65000    52000.0\n",
       "2         103  Mike   70000    56000.0"
      ]
     },
     "execution_count": 46,
     "metadata": {},
     "output_type": "execute_result"
    }
   ],
   "source": [
    "df"
   ]
  },
  {
   "cell_type": "markdown",
   "id": "79aaaac7-fd94-4823-8c91-303ac4b475d4",
   "metadata": {},
   "source": [
    "# File Handling\n",
    "Python provides built-in functions for reading and writing files. You can open a file using the open() function, and then read or write data to it."
   ]
  },
  {
   "cell_type": "code",
   "execution_count": 1,
   "id": "3825d8fa-a384-4859-94f3-d08cca383c9f",
   "metadata": {},
   "outputs": [],
   "source": [
    "with open(\"output.txt\", \"w\") as file:\n",
    "    file.write(\"This is a sample output.\")\n"
   ]
  },
  {
   "cell_type": "code",
   "execution_count": 2,
   "id": "c37f290f-36e0-4034-ac35-acaa67445708",
   "metadata": {},
   "outputs": [
    {
     "name": "stdout",
     "output_type": "stream",
     "text": [
      "This is a sample output.\n"
     ]
    }
   ],
   "source": [
    "with open(\"output.txt\", \"r\") as file:\n",
    "    content = file.read()\n",
    "    print(content)"
   ]
  },
  {
   "cell_type": "markdown",
   "id": "2a48a054-ef39-48f1-bf73-a8a78a86d809",
   "metadata": {},
   "source": [
    "# Exception Handling\n",
    "Errors can occur during the execution of a program. To handle these errors gracefully, Python provides exception handling using the try-except block."
   ]
  },
  {
   "cell_type": "code",
   "execution_count": 3,
   "id": "c3268a17-f396-4844-a436-94dca491fc5c",
   "metadata": {},
   "outputs": [
    {
     "name": "stdout",
     "output_type": "stream",
     "text": [
      "Error: Division by zero is not allowed.\n"
     ]
    }
   ],
   "source": [
    "try:\n",
    "    result = 10 / 0\n",
    "except ZeroDivisionError:\n",
    "    print(\"Error: Division by zero is not allowed.\")\n"
   ]
  },
  {
   "cell_type": "markdown",
   "id": "8c112b67-5318-4381-ba53-7fb2bad76be8",
   "metadata": {},
   "source": [
    "# Modules and Packages\n",
    "Python's functionality can be extended by using modules and packages. A module is a file containing Python code, while a package is a collection of modules.\n",
    "\n",
    "You can import built-in or third-party modules to use additional functionality in your code."
   ]
  },
  {
   "cell_type": "code",
   "execution_count": 4,
   "id": "018998c8-fd52-45a1-8434-dc07bcfeba81",
   "metadata": {},
   "outputs": [
    {
     "name": "stdout",
     "output_type": "stream",
     "text": [
      "4.0\n"
     ]
    }
   ],
   "source": [
    "import math\n",
    "print(math.sqrt(16))"
   ]
  },
  {
   "cell_type": "markdown",
   "id": "b808836b-d9f3-4494-bf63-4d662934a9e2",
   "metadata": {},
   "source": [
    "# Object-Oriented Programming (OOP)\n",
    "Python supports object-oriented programming (OOP), which allows you to define classes and create objects. Classes are blueprints for objects, and objects are instances of classes."
   ]
  },
  {
   "cell_type": "code",
   "execution_count": 5,
   "id": "bb9a2123-d3fb-44b6-bb64-1be0da4f700a",
   "metadata": {},
   "outputs": [
    {
     "name": "stdout",
     "output_type": "stream",
     "text": [
      "Toyota Camry is driving.\n"
     ]
    }
   ],
   "source": [
    "class Car:\n",
    "    def __init__(self, brand, model):\n",
    "        self.brand = brand\n",
    "        self.model = model\n",
    "\n",
    "    def drive(self):\n",
    "        return f\"{self.brand} {self.model} is driving.\"\n",
    "\n",
    "car1 = Car(\"Toyota\", \"Camry\")\n",
    "print(car1.drive())"
   ]
  },
  {
   "cell_type": "code",
   "execution_count": null,
   "id": "a696d316-038d-41f8-900a-af60b4c4422f",
   "metadata": {},
   "outputs": [],
   "source": []
  }
 ],
 "metadata": {
  "kernelspec": {
   "display_name": "Python 3 (ipykernel)",
   "language": "python",
   "name": "python3"
  },
  "language_info": {
   "codemirror_mode": {
    "name": "ipython",
    "version": 3
   },
   "file_extension": ".py",
   "mimetype": "text/x-python",
   "name": "python",
   "nbconvert_exporter": "python",
   "pygments_lexer": "ipython3",
   "version": "3.12.4"
  }
 },
 "nbformat": 4,
 "nbformat_minor": 5
}
